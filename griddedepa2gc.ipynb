{
 "cells": [
  {
   "cell_type": "markdown",
   "metadata": {
    "colab_type": "text",
    "id": "view-in-github"
   },
   "source": [
    "<a href=\"https://colab.research.google.com/gist/lfreese/e08b5ac6bff6bf3d0e1e1745027830ce/griddedepa2gc.ipynb\" target=\"_parent\"><img src=\"https://colab.research.google.com/assets/colab-badge.svg\" alt=\"Open In Colab\"/></a>"
   ]
  },
  {
   "cell_type": "markdown",
   "metadata": {
    "colab_type": "text",
    "id": "qzwWgO6ZziaV"
   },
   "source": [
    "# Preparation of GEOS-Chem Emissions from CMAQ\n",
    "\n",
    "    author: Barron H. Henderson\n",
    "    contributors: Adding names pending approval...\n",
    "    date: 2020-06-04"
   ]
  },
  {
   "cell_type": "markdown",
   "metadata": {
    "colab_type": "text",
    "id": "VV247ZkdD8Bt"
   },
   "source": [
    "# Overview\n",
    "\n",
    "This notebook takes SMOKE outputs, which are CMAQ-ready emissions and converts them for use in GEOS-Chem. The tutorial uses \"gridded reports\", which contain annual data.  To make this operational, you instead repeat the process for each month.\n",
    "\n",
    "Steps:\n",
    "1. install libraries\n",
    "2. Download data from EPA\n",
    "3. Regrid and convert to fluxes in GEOS-Chem format\n"
   ]
  },
  {
   "cell_type": "markdown",
   "metadata": {
    "colab_type": "text",
    "id": "VDSlg8w_Ewdb"
   },
   "source": [
    "# Install Libraries\n",
    "\n",
    "System Package | Use                   | Python Package | Use\n",
    "---------------|-----------------------| ---------------|---------\n",
    "libgeos-dev    | Geospatial processing | basemap        | Mapping\n",
    "cdo            | Conservative regrid   | PseudoNetCDF   | IOAPI-like support\n",
    "\n",
    "\n",
    "* Run the next three cells"
   ]
  },
  {
   "cell_type": "code",
   "execution_count": 1,
   "metadata": {
    "colab": {
     "base_uri": "https://localhost:8080/",
     "height": 119
    },
    "colab_type": "code",
    "id": "ElmhzTgy-gkq",
    "outputId": "20c02b0d-a81b-46a3-b5ed-9e94e0e08f4b"
   },
   "outputs": [
    {
     "name": "stdout",
     "output_type": "stream",
     "text": [
      "Selecting previously unselected package libgeos-dev.\n",
      "(Reading database ... 144328 files and directories currently installed.)\n",
      "Preparing to unpack .../libgeos-dev_3.6.2-1build2_amd64.deb ...\n",
      "Unpacking libgeos-dev (3.6.2-1build2) ...\n",
      "Setting up libgeos-dev (3.6.2-1build2) ...\n",
      "Processing triggers for man-db (2.8.3-2ubuntu0.1) ...\n"
     ]
    }
   ],
   "source": [
    "!apt-get install -qq libgeos-dev"
   ]
  },
  {
   "cell_type": "code",
   "execution_count": 2,
   "metadata": {
    "colab": {},
    "colab_type": "code",
    "id": "LWquiKTbO__O"
   },
   "outputs": [],
   "source": [
    "%%capture\n",
    "!apt-get install -qq cdo"
   ]
  },
  {
   "cell_type": "code",
   "execution_count": 3,
   "metadata": {
    "colab": {
     "base_uri": "https://localhost:8080/",
     "height": 136
    },
    "colab_type": "code",
    "id": "0j1nE809Njeh",
    "outputId": "e31904f7-2fe6-41ba-8271-dc1629f27b00"
   },
   "outputs": [
    {
     "name": "stdout",
     "output_type": "stream",
     "text": [
      "\u001b[K     | 207.3MB 334kB/s\n",
      "\u001b[K     |████████████████████████████████| 10.9MB 390kB/s \n",
      "\u001b[K     |████████████████████████████████| 225kB 48.7MB/s \n",
      "\u001b[?25h  Building wheel for basemap (setup.py) ... \u001b[?25l\u001b[?25hdone\n",
      "  Building wheel for pyshp (setup.py) ... \u001b[?25l\u001b[?25hdone\n",
      "\u001b[K     - 2.0MB 11.6MB/s\n",
      "\u001b[?25h  Building wheel for PseudoNetCDF (setup.py) ... \u001b[?25l\u001b[?25hdone\n"
     ]
    }
   ],
   "source": [
    "!pip install -q https://github.com/matplotlib/basemap/archive/master.zip\n",
    "!pip install -q https://github.com/barronh/pseudonetcdf/archive/master.zip"
   ]
  },
  {
   "cell_type": "markdown",
   "metadata": {
    "colab_type": "text",
    "id": "0chvO9-vPUHE"
   },
   "source": [
    "# Restart the Runtime\n",
    "\n",
    "  * choose the \"Runtime\" menu, and\n",
    "  * then \"Restart Runtime\"\n"
   ]
  },
  {
   "cell_type": "markdown",
   "metadata": {
    "colab_type": "text",
    "id": "0SmuRVgqFZcO"
   },
   "source": [
    "# Import Libraries and Set Earth Radius\n",
    "\n",
    "* Importing necessary libraries\n",
    "* Setting IOAPI earth radius to WRF radius"
   ]
  },
  {
   "cell_type": "code",
   "execution_count": 64,
   "metadata": {
    "colab": {},
    "colab_type": "code",
    "id": "kl-61F1W-377"
   },
   "outputs": [],
   "source": [
    "import os\n",
    "import numpy as np\n",
    "import matplotlib.pyplot as plt\n",
    "import matplotlib.colors as mc\n",
    "import PseudoNetCDF as pnc\n",
    "from calendar import monthrange\n",
    "os.environ['IOAPI_ISPH'] = '6370000.'"
   ]
  },
  {
   "cell_type": "markdown",
   "metadata": {
    "colab_type": "text",
    "id": "Dq6Qqn85qQw1"
   },
   "source": [
    "# Download Files from EPA's newftp\n",
    "\n",
    "* Downloading inline and gridded anthropogenic emissions\n",
    "* Downloading biogenic and non-US sectors separately\n",
    "\n",
    "Note: if failing, remove `-q` to see errros."
   ]
  },
  {
   "cell_type": "code",
   "execution_count": 260,
   "metadata": {
    "colab": {},
    "colab_type": "code",
    "id": "H0ZQZMm7nxK_"
   },
   "outputs": [],
   "source": [
    "# sectors = ['emln_all', 'mrggrid_withbeis_withrwc', 'emln_ptfire', 'emln_ptagfire', 'emln_ptfire_othna', 'beis']\n",
    "# urltmpl = \"ftp://newftp.epa.gov/Air/emismod/2016/v1/gridded/annual_netCDF/2016fh_16j_%s_12US1_annual.ncf\"\n",
    "areaonly_sectors = sectors = [\n",
    "  'afdust_adj', 'ag', 'airports',\n",
    "  'nonpt', 'nonroad', 'np_oilgas', 'onroad', 'onroad_ca_adj', 'rail', 'rwc', # domestic\n",
    "]\n",
    "intl_sectors = [\n",
    "  'onroad_can', 'onroad_mex', 'othafdust_adj', 'othar', 'othptdust_adj', # other countries (Can/Mex)\n",
    "]\n",
    "\n",
    "natural_sectors = [\n",
    "  'ocean_cl2', 'beis',\n",
    "  'emln_ptagfire', 'emln_ptfire', 'emln_ptfire_othna' # fires include some anthro\n",
    "]\n",
    "merged_sectors = [\n",
    "  'mrggrid_nobeis_norwc', # sum of areaonly_sectors and allinln - partinln sectors\n",
    "]\n",
    "\n",
    "ptonly_sectors = ['emln_cmv_c1c2_12', 'emln_cmv_c3_12', 'emln_othpt', 'emln_ptegu']\n",
    "\n",
    "allinln_sectors = [\n",
    "  'emln_pt_oilgas_allinln',\n",
    "  'emln_ptnonipm_allinln',\n",
    "]\n",
    "\n",
    "partinln_sectors = [\n",
    "  'emln_pt_oilgas',\n",
    "  'emln_ptnonipm',\n",
    "]\n",
    "\n",
    "download_sectors = areaonly_sectors + ptonly_sectors + allinln_sectors + partinln_sectors + merged_sectors + intl_sectors + natural_sectors\n",
    "\n",
    "# Not including natural because it would duplicate\n",
    "# GEOS-Chem MEGAN, ocean, and fires\n",
    "# Should cmv_c1_c2 be in? cmv_c3?\n",
    "# airports?\n",
    "include_sectors = areaonly_sectors + ptonly_sectors + allinln_sectors + intl_sectors\n",
    "\n",
    "months = ['08']\n"
   ]
  },
  {
   "cell_type": "code",
   "execution_count": 261,
   "metadata": {
    "colab": {},
    "colab_type": "code",
    "id": "z71HWNjazTFJ"
   },
   "outputs": [],
   "source": [
    "filetmpl = \"2016fh_16j_%s_12US1_month_%s.ncf\"\n",
    "urltmpl = \"ftp://newftp.epa.gov/Air/emismod/2016/v1/gridded/monthly_netCDF/\" + filetmpl\n",
    "urls = []\n",
    "for month in months:\n",
    "  for sector in download_sectors:\n",
    "    urls.append(urltmpl % (sector, month))\n"
   ]
  },
  {
   "cell_type": "code",
   "execution_count": 262,
   "metadata": {
    "colab": {
     "base_uri": "https://localhost:8080/",
     "height": 530
    },
    "colab_type": "code",
    "id": "fn944Ew0-a2x",
    "outputId": "0bf58312-13f4-4b92-8186-f6b7635686da"
   },
   "outputs": [
    {
     "name": "stdout",
     "output_type": "stream",
     "text": [
      "ftp://newftp.epa.gov/Air/emismod/2016/v1/gridded/monthly_netCDF/2016fh_16j_afdust_adj_12US1_month_08.ncf\n",
      "ftp://newftp.epa.gov/Air/emismod/2016/v1/gridded/monthly_netCDF/2016fh_16j_ag_12US1_month_08.ncf\n",
      "ftp://newftp.epa.gov/Air/emismod/2016/v1/gridded/monthly_netCDF/2016fh_16j_airports_12US1_month_08.ncf\n",
      "ftp://newftp.epa.gov/Air/emismod/2016/v1/gridded/monthly_netCDF/2016fh_16j_nonpt_12US1_month_08.ncf\n",
      "ftp://newftp.epa.gov/Air/emismod/2016/v1/gridded/monthly_netCDF/2016fh_16j_nonroad_12US1_month_08.ncf\n",
      "ftp://newftp.epa.gov/Air/emismod/2016/v1/gridded/monthly_netCDF/2016fh_16j_np_oilgas_12US1_month_08.ncf\n",
      "ftp://newftp.epa.gov/Air/emismod/2016/v1/gridded/monthly_netCDF/2016fh_16j_onroad_12US1_month_08.ncf\n",
      "ftp://newftp.epa.gov/Air/emismod/2016/v1/gridded/monthly_netCDF/2016fh_16j_onroad_ca_adj_12US1_month_08.ncf\n",
      "ftp://newftp.epa.gov/Air/emismod/2016/v1/gridded/monthly_netCDF/2016fh_16j_rail_12US1_month_08.ncf\n",
      "ftp://newftp.epa.gov/Air/emismod/2016/v1/gridded/monthly_netCDF/2016fh_16j_rwc_12US1_month_08.ncf\n",
      "ftp://newftp.epa.gov/Air/emismod/2016/v1/gridded/monthly_netCDF/2016fh_16j_emln_cmv_c1c2_12_12US1_month_08.ncf\n",
      "ftp://newftp.epa.gov/Air/emismod/2016/v1/gridded/monthly_netCDF/2016fh_16j_emln_cmv_c3_12_12US1_month_08.ncf\n",
      "ftp://newftp.epa.gov/Air/emismod/2016/v1/gridded/monthly_netCDF/2016fh_16j_emln_othpt_12US1_month_08.ncf\n",
      "ftp://newftp.epa.gov/Air/emismod/2016/v1/gridded/monthly_netCDF/2016fh_16j_emln_ptegu_12US1_month_08.ncf\n",
      "ftp://newftp.epa.gov/Air/emismod/2016/v1/gridded/monthly_netCDF/2016fh_16j_emln_pt_oilgas_allinln_12US1_month_08.ncf\n",
      "ftp://newftp.epa.gov/Air/emismod/2016/v1/gridded/monthly_netCDF/2016fh_16j_emln_ptnonipm_allinln_12US1_month_08.ncf\n",
      "ftp://newftp.epa.gov/Air/emismod/2016/v1/gridded/monthly_netCDF/2016fh_16j_emln_pt_oilgas_12US1_month_08.ncf\n",
      "ftp://newftp.epa.gov/Air/emismod/2016/v1/gridded/monthly_netCDF/2016fh_16j_emln_ptnonipm_12US1_month_08.ncf\n",
      "ftp://newftp.epa.gov/Air/emismod/2016/v1/gridded/monthly_netCDF/2016fh_16j_mrggrid_nobeis_norwc_12US1_month_08.ncf\n",
      "ftp://newftp.epa.gov/Air/emismod/2016/v1/gridded/monthly_netCDF/2016fh_16j_onroad_can_12US1_month_08.ncf\n",
      "ftp://newftp.epa.gov/Air/emismod/2016/v1/gridded/monthly_netCDF/2016fh_16j_onroad_mex_12US1_month_08.ncf\n",
      "ftp://newftp.epa.gov/Air/emismod/2016/v1/gridded/monthly_netCDF/2016fh_16j_othafdust_adj_12US1_month_08.ncf\n",
      "ftp://newftp.epa.gov/Air/emismod/2016/v1/gridded/monthly_netCDF/2016fh_16j_othar_12US1_month_08.ncf\n",
      "ftp://newftp.epa.gov/Air/emismod/2016/v1/gridded/monthly_netCDF/2016fh_16j_othptdust_adj_12US1_month_08.ncf\n",
      "ftp://newftp.epa.gov/Air/emismod/2016/v1/gridded/monthly_netCDF/2016fh_16j_ocean_cl2_12US1_month_08.ncf\n",
      "ftp://newftp.epa.gov/Air/emismod/2016/v1/gridded/monthly_netCDF/2016fh_16j_beis_12US1_month_08.ncf\n",
      "ftp://newftp.epa.gov/Air/emismod/2016/v1/gridded/monthly_netCDF/2016fh_16j_emln_ptagfire_12US1_month_08.ncf\n",
      "ftp://newftp.epa.gov/Air/emismod/2016/v1/gridded/monthly_netCDF/2016fh_16j_emln_ptfire_12US1_month_08.ncf\n",
      "ftp://newftp.epa.gov/Air/emismod/2016/v1/gridded/monthly_netCDF/2016fh_16j_emln_ptfire_othna_12US1_month_08.ncf\n"
     ]
    }
   ],
   "source": [
    "for url in urls:\n",
    "  print(url)\n",
    "  !wget --continue -q {url}\n",
    "\n",
    "!wget --continue -q ftp://newftp.epa.gov/aqmg/global/gadm/gadm36_12US1.IOAPI.nc"
   ]
  },
  {
   "cell_type": "markdown",
   "metadata": {
    "colab_type": "text",
    "id": "8NeI4GVOqkOf"
   },
   "source": [
    "# Opening Files For Reading And Plotting\n"
   ]
  },
  {
   "cell_type": "code",
   "execution_count": 263,
   "metadata": {
    "colab": {},
    "colab_type": "code",
    "id": "7DcJLFVr-vSE"
   },
   "outputs": [],
   "source": [
    "month = '08'\n",
    "smokepaths = {\n",
    "    sector: filetmpl % (sector, month)\n",
    "    for sector in include_sectors + natural_sectors\n",
    "}\n",
    "smokefiles = {\n",
    "    sector: pnc.pncopen(path, format='ioapi', mode='r')\n",
    "    for sector, path in smokepaths.items()\n",
    "}\n",
    "\n",
    "reffile = smokefiles[include_sectors[0]]"
   ]
  },
  {
   "cell_type": "markdown",
   "metadata": {
    "colab_type": "text",
    "id": "fcexxSxJs14S"
   },
   "source": [
    "# Store Grid Parameters for Later Use\n",
    "\n",
    "* Regridding requires knowing about the grid structure\n",
    "* We are pulling all the metadata, so that we can use what we need.\n"
   ]
  },
  {
   "cell_type": "code",
   "execution_count": 264,
   "metadata": {
    "colab": {},
    "colab_type": "code",
    "id": "vFfLw8KWsxuw"
   },
   "outputs": [],
   "source": [
    "gridproperties = reffile.getncatts()\n",
    "exec('nominalarea = XCELL * YCELL', None, gridproperties)\n",
    "exec('false_easting = -XORIG', None, gridproperties)\n",
    "exec('false_northing = -YORIG', None, gridproperties)\n",
    "exec('gridsize = NCOLS * NROWS', None, gridproperties)"
   ]
  },
  {
   "cell_type": "markdown",
   "metadata": {
    "colab_type": "text",
    "id": "0f1ZOMCrqqgC"
   },
   "source": [
    "# Creating Custom Merge files\n",
    "\n",
    "* Disabling warnings\n",
    "  * warns that  variables missing in the right hand file\n",
    "  * and are simply copied from the first file.\n",
    "* We don't need to see that."
   ]
  },
  {
   "cell_type": "code",
   "execution_count": 265,
   "metadata": {
    "colab": {},
    "colab_type": "code",
    "id": "wpd_Rst6zLGG"
   },
   "outputs": [],
   "source": [
    "def combine(f1, f2):\n",
    "  \"\"\"\n",
    "  Arguments\n",
    "  ---------\n",
    "  f1 : netcdf-like object\n",
    "    left-hand side of combine\n",
    "  f2 : netcdf-like object\n",
    "    right-hand side of combine\n",
    "\n",
    "  Returns\n",
    "  -------\n",
    "  outf : netcdf-like object\n",
    "    has all variables from f2 added to f1. If a variable is in f2 but\n",
    "    not f1, it is added\n",
    "  \n",
    "  Notes\n",
    "  -----\n",
    "  Warnings are about variables in f1 that are not in f2, so they are ignored\n",
    "  \"\"\"\n",
    "  import warnings\n",
    "  warnings.filterwarnings('ignore')\n",
    "\n",
    "  outf = f1 + f2\n",
    "  for k, v in f2.variables.items():\n",
    "      if k not in outf.variables:\n",
    "          outf.copyVariable(v, key=k)\n",
    "  warnings.resetwarnings()\n",
    "  return outf\n",
    "\n",
    "def merge(files):\n",
    "  \"\"\"\n",
    "  Arguments\n",
    "  ---------\n",
    "  files : iterable of netcdf-like files\n",
    "    files to be combined\n",
    "\n",
    "  Returns\n",
    "  -------\n",
    "  outf : netcdf-like object\n",
    "    has all mass from all variables in all files\n",
    "  \"\"\"\n",
    "  outf = files[0].copy()\n",
    "  for othf in files[1:]:\n",
    "    outf = combine(outf, othf)\n",
    "    \n",
    "  return outf\n",
    "\n",
    "def merge_from_dict(source, keys, outpath):\n",
    "  \"\"\"\n",
    "  Arguments\n",
    "  ---------\n",
    "  source : dictionary\n",
    "    contains netcdf-like variables keyed by sector\n",
    "  keys : iterable\n",
    "    keys to use to get netcdf-like variables for merging\n",
    "  outpath : str\n",
    "    save the merged file to disk\n",
    "  \n",
    "  Returns\n",
    "  -------\n",
    "  None\n",
    "  \"\"\"\n",
    "  if os.path.exists(outpath):\n",
    "    os.remove(outpath)\n",
    "  outf = merge([source[k] for k in keys])\n",
    "  history = getattr(outf, 'HISTORY', '')\n",
    "  history += '; ' + ' + '.join(keys)\n",
    "  setattr(outf, 'HISTORY', history)\n",
    "  ondisk = outf.save(outpath, verbose=0);\n",
    "  ondisk.close()"
   ]
  },
  {
   "cell_type": "code",
   "execution_count": 266,
   "metadata": {
    "colab": {},
    "colab_type": "code",
    "id": "I9mlJdyDtNsa"
   },
   "outputs": [],
   "source": [
    "outpath = filetmpl % ('merge_areaonly', month)\n",
    "merge_from_dict(smokefiles, areaonly_sectors, outpath)\n",
    "\n",
    "outpath = filetmpl % ('merge_point', month)\n",
    "merge_from_dict(smokefiles, allinln_sectors + ptonly_sectors, outpath)\n",
    "\n",
    "outpath = filetmpl % ('merge_intl', month)\n",
    "merge_from_dict(smokefiles, intl_sectors, outpath)\n",
    "\n",
    "outpath = filetmpl % ('merge_natural', month)\n",
    "merge_from_dict(smokefiles, natural_sectors, outpath)\n",
    "\n",
    "mergedfiles = {\n",
    "    sector: pnc.pncopen(filetmpl % (sector, month), format='ioapi', mode='r')\n",
    "    for sector in ['merge_areaonly', 'merge_point', 'merge_intl', 'merge_natural']\n",
    "}\n",
    "outpath = filetmpl % ('merge', month)\n",
    "merge_from_dict(mergedfiles, ['merge_areaonly', 'merge_point', 'merge_intl'], outpath)\n",
    "mergedfiles['merge'] = pnc.pncopen(outpath, format='ioapi', mode='r')"
   ]
  },
  {
   "cell_type": "markdown",
   "metadata": {
    "colab_type": "text",
    "id": "BKywerEXq7P0"
   },
   "source": [
    "# Create a Database of Sums\n",
    "\n",
    "This will be used later for checking regridded data"
   ]
  },
  {
   "cell_type": "code",
   "execution_count": 267,
   "metadata": {
    "colab": {},
    "colab_type": "code",
    "id": "bE_Jh5TA0Nta"
   },
   "outputs": [],
   "source": [
    "originalNOXrate = {\n",
    "  sector: smokefiles[sector].variables['NOX'][:].sum()\n",
    "  for sector in include_sectors if 'NOX' in smokefiles[sector].variables\n",
    "}\n",
    "mergedNOXrate = {\n",
    "    k: v.variables['NOX'][:].sum() for k, v in mergedfiles.items()\n",
    "}"
   ]
  },
  {
   "cell_type": "code",
   "execution_count": 268,
   "metadata": {
    "colab": {
     "base_uri": "https://localhost:8080/",
     "height": 306
    },
    "colab_type": "code",
    "id": "Ij9ZpPv21FsO",
    "outputId": "1f516385-7c0e-4f22-f798-5aa0590e0847"
   },
   "outputs": [
    {
     "data": {
      "text/plain": [
       "{'airports': 16801.838,\n",
       " 'emln_cmv_c1c2_12': 20355.652,\n",
       " 'emln_cmv_c3_12': 61641.29,\n",
       " 'emln_othpt': 87545.99,\n",
       " 'emln_pt_oilgas_allinln': 32895.438,\n",
       " 'emln_ptegu': 136017.4,\n",
       " 'emln_ptnonipm_allinln': 79826.625,\n",
       " 'nonpt': 31842.916,\n",
       " 'nonroad': 121249.56,\n",
       " 'np_oilgas': 47454.734,\n",
       " 'onroad': 291634.28,\n",
       " 'onroad_ca_adj': 21302.682,\n",
       " 'onroad_can': 35416.215,\n",
       " 'onroad_mex': 36881.625,\n",
       " 'othar': 54307.406,\n",
       " 'rail': 49838.945,\n",
       " 'rwc': 349.8343}"
      ]
     },
     "execution_count": 268,
     "metadata": {
      "tags": []
     },
     "output_type": "execute_result"
    }
   ],
   "source": [
    "originalNOXrate"
   ]
  },
  {
   "cell_type": "code",
   "execution_count": 269,
   "metadata": {
    "colab": {
     "base_uri": "https://localhost:8080/",
     "height": 71
    },
    "colab_type": "code",
    "id": "1lFjQ2ga1R-a",
    "outputId": "079bf0d3-6d0f-4b36-b160-9be81b4785c7"
   },
   "outputs": [
    {
     "name": "stdout",
     "output_type": "stream",
     "text": [
      "1125362.4417114258\n",
      "{'merge_areaonly': 580474.8, 'merge_point': 418282.3, 'merge_intl': 126605.24, 'merge_natural': 253408.78, 'merge': 1125362.5}\n"
     ]
    }
   ],
   "source": [
    "print(sum(originalNOXrate.values()))\n",
    "print(mergedNOXrate)"
   ]
  },
  {
   "cell_type": "markdown",
   "metadata": {
    "colab_type": "text",
    "id": "9suM1m0XNmXR"
   },
   "source": [
    "# Needs work!\n",
    "\n",
    "* Download reference report for comparison\n",
    "* It is not clear to me what is in this report\n",
    "  * anthro - yes.\n",
    "  * fires - yes?\n",
    "  * beis - no?"
   ]
  },
  {
   "cell_type": "code",
   "execution_count": 270,
   "metadata": {
    "colab": {
     "base_uri": "https://localhost:8080/",
     "height": 224
    },
    "colab_type": "code",
    "id": "dK1hKyZLLjQn",
    "outputId": "93353b00-6cb8-40bf-dbd6-20fe9f893654"
   },
   "outputs": [
    {
     "name": "stdout",
     "output_type": "stream",
     "text": [
      "--2020-06-22 21:20:08--  ftp://newftp.epa.gov/Air/emismod/2016/v1/reports/2016fh_county_monthly_report_22jan2020_v0.csv\n",
      "           => ‘2016fh_county_monthly_report_22jan2020_v0.csv’\n",
      "Resolving newftp.epa.gov (newftp.epa.gov)... 134.67.100.58, 2620:0:b12:49:134:67:100:58\n",
      "Connecting to newftp.epa.gov (newftp.epa.gov)|134.67.100.58|:21... connected.\n",
      "Logging in as anonymous ... Logged in!\n",
      "==> SYST ... done.    ==> PWD ... done.\n",
      "==> TYPE I ... done.  ==> CWD (1) /Air/emismod/2016/v1/reports ... done.\n",
      "==> SIZE 2016fh_county_monthly_report_22jan2020_v0.csv ... 98218688\n",
      "File has already been retrieved.\n",
      "2020-06-22 21:20:09 (0.00 B/s) - ‘2016fh_county_monthly_report_22jan2020_v0.csv’ saved [98218688]\n",
      "\n"
     ]
    }
   ],
   "source": [
    "!wget --continue ftp://newftp.epa.gov/Air/emismod/2016/v1/reports/2016fh_county_monthly_report_22jan2020_v0.csv"
   ]
  },
  {
   "cell_type": "code",
   "execution_count": 271,
   "metadata": {
    "colab": {},
    "colab_type": "code",
    "id": "FCX0izbINMn0"
   },
   "outputs": [],
   "source": [
    "import pandas as pd\n",
    "\n",
    "monthlycounty = pd.read_csv('2016fh_county_monthly_report_22jan2020_v0.csv', comment='#')\n"
   ]
  },
  {
   "cell_type": "code",
   "execution_count": 272,
   "metadata": {
    "colab": {
     "base_uri": "https://localhost:8080/",
     "height": 359
    },
    "colab_type": "code",
    "id": "zYhi5tmpNJQK",
    "outputId": "bb56615d-19f5-439c-efd9-58da09fd13c7"
   },
   "outputs": [
    {
     "data": {
      "text/html": [
       "<div>\n",
       "<style scoped>\n",
       "    .dataframe tbody tr th:only-of-type {\n",
       "        vertical-align: middle;\n",
       "    }\n",
       "\n",
       "    .dataframe tbody tr th {\n",
       "        vertical-align: top;\n",
       "    }\n",
       "\n",
       "    .dataframe thead th {\n",
       "        text-align: right;\n",
       "    }\n",
       "</style>\n",
       "<table border=\"1\" class=\"dataframe\">\n",
       "  <thead>\n",
       "    <tr style=\"text-align: right;\">\n",
       "      <th></th>\n",
       "      <th></th>\n",
       "      <th>ann_value</th>\n",
       "      <th>jul_value</th>\n",
       "    </tr>\n",
       "    <tr>\n",
       "      <th>country_cd</th>\n",
       "      <th>poll</th>\n",
       "      <th></th>\n",
       "      <th></th>\n",
       "    </tr>\n",
       "  </thead>\n",
       "  <tbody>\n",
       "    <tr>\n",
       "      <th rowspan=\"9\" valign=\"top\">US</th>\n",
       "      <th>CO</th>\n",
       "      <td>60350951.0</td>\n",
       "      <td>6311617.0</td>\n",
       "    </tr>\n",
       "    <tr>\n",
       "      <th>NH3</th>\n",
       "      <td>4004601.0</td>\n",
       "      <td>547181.0</td>\n",
       "    </tr>\n",
       "    <tr>\n",
       "      <th>NOX</th>\n",
       "      <td>11443144.0</td>\n",
       "      <td>1045510.0</td>\n",
       "    </tr>\n",
       "    <tr>\n",
       "      <th>PEC</th>\n",
       "      <td>245710.0</td>\n",
       "      <td>20358.0</td>\n",
       "    </tr>\n",
       "    <tr>\n",
       "      <th>PM10</th>\n",
       "      <td>10598181.0</td>\n",
       "      <td>1069510.0</td>\n",
       "    </tr>\n",
       "    <tr>\n",
       "      <th>PM2_5</th>\n",
       "      <td>3747590.0</td>\n",
       "      <td>323393.0</td>\n",
       "    </tr>\n",
       "    <tr>\n",
       "      <th>POC</th>\n",
       "      <td>1181114.0</td>\n",
       "      <td>89986.0</td>\n",
       "    </tr>\n",
       "    <tr>\n",
       "      <th>SO2</th>\n",
       "      <td>2782370.0</td>\n",
       "      <td>268363.0</td>\n",
       "    </tr>\n",
       "    <tr>\n",
       "      <th>VOC_INV</th>\n",
       "      <td>56433602.0</td>\n",
       "      <td>9954090.0</td>\n",
       "    </tr>\n",
       "  </tbody>\n",
       "</table>\n",
       "</div>"
      ],
      "text/plain": [
       "                     ann_value  jul_value\n",
       "country_cd poll                          \n",
       "US         CO       60350951.0  6311617.0\n",
       "           NH3       4004601.0   547181.0\n",
       "           NOX      11443144.0  1045510.0\n",
       "           PEC        245710.0    20358.0\n",
       "           PM10     10598181.0  1069510.0\n",
       "           PM2_5     3747590.0   323393.0\n",
       "           POC       1181114.0    89986.0\n",
       "           SO2       2782370.0   268363.0\n",
       "           VOC_INV  56433602.0  9954090.0"
      ]
     },
     "execution_count": 272,
     "metadata": {
      "tags": []
     },
     "output_type": "execute_result"
    }
   ],
   "source": [
    "monthlytotal = monthlycounty.groupby(['country_cd', 'poll']).sum().filter(['ann_value', 'jul_value']).round(0)\n",
    "monthlytotal"
   ]
  },
  {
   "cell_type": "code",
   "execution_count": 273,
   "metadata": {
    "colab": {
     "base_uri": "https://localhost:8080/",
     "height": 34
    },
    "colab_type": "code",
    "id": "1Pbj6CUYNsI0",
    "outputId": "384fce54-c887-46a0-9da4-593898ecabdf"
   },
   "outputs": [
    {
     "data": {
      "text/plain": [
       "(1024789.7, 0.9801816218878825)"
      ]
     },
     "execution_count": 273,
     "metadata": {
      "tags": []
     },
     "output_type": "execute_result"
    }
   ],
   "source": [
    "reportmatchNOX = mergedNOXrate['merge'] - mergedNOXrate['merge_intl'] + smokefiles['emln_ptfire'].variables['NOX'][:].sum() + smokefiles['emln_ptagfire'].variables['NOX'][:].sum()\n",
    "reportmatchNOX, reportmatchNOX / monthlytotal.loc[('US', 'NOX'), 'jul_value']"
   ]
  },
  {
   "cell_type": "markdown",
   "metadata": {
    "colab_type": "text",
    "id": "K-oZWpzGrk4g"
   },
   "source": [
    "# Create Spatial Plots\n",
    "\n",
    "* Showing several aggregates on top\n",
    "* Components shown on bottom"
   ]
  },
  {
   "cell_type": "code",
   "execution_count": 274,
   "metadata": {
    "colab": {
     "base_uri": "https://localhost:8080/",
     "height": 404
    },
    "colab_type": "code",
    "id": "XCGdWVTf-xAr",
    "outputId": "5bebec70-4c92-47ee-8e9c-c737965ea6b2"
   },
   "outputs": [
    {
     "data": {
      "image/png": "[encoded data removed]",
      "text/plain": [
       "<Figure size 720x432 with 7 Axes>"
      ]
     },
     "metadata": {
      "needs_background": "light",
      "tags": []
     },
     "output_type": "display_data"
    }
   ],
   "source": [
    "key = 'NOX'\n",
    "norm = mc.LogNorm(vmin=1e-1, vmax=1e3)\n",
    "fig, axx = plt.subplots(2, 3, gridspec_kw=dict(hspace=.05, wspace=0.025), figsize=(10, 6))\n",
    "cax = fig.add_axes([0.1, 0.05, .8, .025])\n",
    "plotopt = dict(norm=norm)\n",
    "cbaropt = dict(label='{} tons/year'.format(key), cax=cax, orientation='horizontal')\n",
    "plt.sca(axx[0, 0])\n",
    "mergedfiles['merge'].plot(key, plot_kw=plotopt, cbar_kw=cbaropt).set_xlabel('Total')\n",
    "plt.sca(axx[0, 1])\n",
    "mergedfiles['merge_point'].plot(key, plot_kw=plotopt, cbar_kw=cbaropt).set_xlabel('Point')\n",
    "plt.sca(axx[0, 2])\n",
    "mergedfiles['merge_areaonly'].plot(key, plot_kw=plotopt, cbar_kw=cbaropt).set_xlabel('Area')\n",
    "plt.sca(axx[1, 0])\n",
    "mergedfiles['merge_natural'].plot(key, plot_kw=plotopt, cbar_kw=cbaropt).set_xlabel('Natural')\n",
    "plt.sca(axx[1, 1])\n",
    "mergedfiles['merge_intl'].plot(key, plot_kw=plotopt, cbar_kw=cbaropt).set_xlabel('International')\n",
    "axx[1, 2].set_visible(False)"
   ]
  },
  {
   "cell_type": "markdown",
   "metadata": {
    "colab_type": "text",
    "id": "uZMwQ_gertnc"
   },
   "source": [
    "# Prepare for Regridding By Defining Grids\n",
    "\n",
    "* EPA12US1.grid defines a Lambert Conic Conformal grid\n",
    "* latlon.grid defines a regional latitude/longitude grid\n",
    "* z.grid defines the first layer of GEOS-Chem's hybrid coordinate\n"
   ]
  },
  {
   "cell_type": "code",
   "execution_count": 275,
   "metadata": {
    "colab": {},
    "colab_type": "code",
    "id": "eEN_yLrq3HE_"
   },
   "outputs": [],
   "source": [
    "lccpath = 'EPA12US1.grid'\n",
    "llpath = 'latlon.grid'\n",
    "with open(lccpath, mode='w') as gf:\n",
    "  gf.write(\"\"\"gridtype = projection\n",
    "gridsize = {gridsize}\n",
    "xsize = {NCOLS}\n",
    "ysize = {NROWS}\n",
    "xinc = {XCELL}\n",
    "yinc = {YCELL}\n",
    "xname = x\n",
    "yname = y\n",
    "grid_mapping_name = lambert_conformal_conic\n",
    "latitude_of_projection_origin = {YCENT}\n",
    "longitude_of_projection_origin = {XCENT}\n",
    "longitude_of_central_meridian = {XCENT}\n",
    "standard_parallel = {P_ALP}, {P_BET}\n",
    "earth_radius = 6370000.\n",
    "semi_major_axis = 6370000.\n",
    "semi_minor_axis = 6370000.\n",
    "false_easting = {false_easting}\n",
    "false_northing = {false_northing}\n",
    "\"\"\".format(**gridproperties))\n",
    "  \n",
    "with open(llpath, mode='w') as gf:\n",
    "  gf.write(\"\"\"gridtype  = lonlat\n",
    "gridsize  = 340000\n",
    "datatype  = float\n",
    "xsize     = 850\n",
    "ysize     = 400\n",
    "xname     = lon\n",
    "xlongname = \"longitude\"\n",
    "xunits    = \"degrees_east\"\n",
    "yname     = lat\n",
    "ylongname = \"latitude\"\n",
    "yunits    = \"degrees_north\"\n",
    "xfirst    = -135\n",
    "xinc      = 0.1\n",
    "yfirst    = 20\n",
    "yinc      = 0.1\n",
    "\"\"\")\n",
    "  \n",
    "with open('z1.grid', mode='w') as gf:\n",
    "  gf.write(\"\"\"zaxistype = hybrid\n",
    "size = 1\n",
    "vctsize = 4\n",
    "levels = 1\n",
    "vct = 0.000000e+00 6.436264e+01 1.000000e+00 7.706375e-01\n",
    "\"\"\")"
   ]
  },
  {
   "cell_type": "markdown",
   "metadata": {
    "colab_type": "text",
    "id": "g3F2s1bEsIlT"
   },
   "source": [
    "# Initialize the CDO Library and Prepare Command\n",
    "\n",
    "* Initialization is easy\n",
    "* You may get a warning  \n"
   ]
  },
  {
   "cell_type": "code",
   "execution_count": 276,
   "metadata": {
    "colab": {},
    "colab_type": "code",
    "id": "39kAqvk62oxb"
   },
   "outputs": [],
   "source": [
    "from cdo import Cdo\n",
    "cdo = Cdo()"
   ]
  },
  {
   "cell_type": "markdown",
   "metadata": {
    "colab_type": "text",
    "id": "_QcDtGMCVjep"
   },
   "source": [
    "# Now Configure the CDO Command\n",
    "\n",
    "cmd has 5 parts (run and described in bottom-to-top order)\n",
    "\n",
    "* Set the vertical axis,\n",
    "* rename TSTEP axis to time, remove TFLAG, set the time\n",
    "* convert from tons/year to tons/s, tons/m2/s, then kg/m2/s\n",
    "* Set units to mass fluxes\n",
    "* Set grid to LCC and Regrid to the lon/lat grid\n"
   ]
  },
  {
   "cell_type": "code",
   "execution_count": 277,
   "metadata": {
    "colab": {},
    "colab_type": "code",
    "id": "tWMuUfln4i4t"
   },
   "outputs": [],
   "source": [
    "cmdtmpl = (\n",
    "    '-remapycon,{llpath} -setgrid,{lccpath} ' + # assign LCC grid and regrid\n",
    "    '-setattribute,NOX@units=kgNO2/m2/s -setattribute,NO@units=kgNO2/m2/s -setattribute,units=kg/m2/s ' + # fix units\n",
    "    '-mulc,{unitconversion} -divc,{nominalarea} -divc,{seconds} ' + # convert tons/year to kg/m2/s\n",
    "    '-setreftime,1970-01-01,00:00:00,hours -settaxis,2016-01-01,00:00:00 -delname,TFLAG -chname,TSTEP,time ' + # fix time properties\n",
    "    '-setzaxis,z1.grid -chname,LAY,levels {inpath}' # fix dimensions\n",
    ")"
   ]
  },
  {
   "cell_type": "markdown",
   "metadata": {
    "colab_type": "text",
    "id": "r-QvfeOr1_gb"
   },
   "source": [
    "# Regrid Each file\n",
    "\n",
    "* Using cmd described above and applying 0 to missing values\n",
    "* Output\n",
    "  * NetCDF4\n",
    "  * grid chunking\n",
    "  * level 1 compressions\n"
   ]
  },
  {
   "cell_type": "code",
   "execution_count": 278,
   "metadata": {
    "colab": {
     "base_uri": "https://localhost:8080/",
     "height": 476
    },
    "colab_type": "code",
    "id": "YqP-0PnF-PuM",
    "outputId": "57cc8313-465e-465a-b762-622c52c29791"
   },
   "outputs": [
    {
     "name": "stdout",
     "output_type": "stream",
     "text": [
      "output/2016fh_16j_afdust_adj_0pt1degree_month_08.ncf.done\n",
      "output/2016fh_16j_ag_0pt1degree_month_08.ncf.done\n",
      "output/2016fh_16j_airports_0pt1degree_month_08.ncf.done\n",
      "output/2016fh_16j_nonpt_0pt1degree_month_08.ncf.done\n",
      "output/2016fh_16j_nonroad_0pt1degree_month_08.ncf.done\n",
      "output/2016fh_16j_np_oilgas_0pt1degree_month_08.ncf.done\n",
      "output/2016fh_16j_onroad_0pt1degree_month_08.ncf.done\n",
      "output/2016fh_16j_onroad_ca_adj_0pt1degree_month_08.ncf.done\n",
      "output/2016fh_16j_rail_0pt1degree_month_08.ncf.done\n",
      "output/2016fh_16j_rwc_0pt1degree_month_08.ncf.done\n",
      "output/2016fh_16j_emln_cmv_c1c2_12_0pt1degree_month_08.ncf.done\n",
      "output/2016fh_16j_emln_cmv_c3_12_0pt1degree_month_08.ncf.done\n",
      "output/2016fh_16j_emln_othpt_0pt1degree_month_08.ncf.done\n",
      "output/2016fh_16j_emln_ptegu_0pt1degree_month_08.ncf.done\n",
      "output/2016fh_16j_emln_pt_oilgas_allinln_0pt1degree_month_08.ncf.done\n",
      "output/2016fh_16j_emln_ptnonipm_allinln_0pt1degree_month_08.ncf.done\n",
      "output/2016fh_16j_onroad_can_0pt1degree_month_08.ncf.done\n",
      "output/2016fh_16j_onroad_mex_0pt1degree_month_08.ncf.done\n",
      "output/2016fh_16j_othafdust_adj_0pt1degree_month_08.ncf.done\n",
      "output/2016fh_16j_othar_0pt1degree_month_08.ncf.done\n",
      "output/2016fh_16j_othptdust_adj_0pt1degree_month_08.ncf.done\n",
      "output/2016fh_16j_merge_areaonly_0pt1degree_month_08.ncf.done\n",
      "output/2016fh_16j_merge_point_0pt1degree_month_08.ncf.done\n",
      "output/2016fh_16j_merge_intl_0pt1degree_month_08.ncf.done\n",
      "output/2016fh_16j_merge_natural_0pt1degree_month_08.ncf.done\n",
      "output/2016fh_16j_merge_0pt1degree_month_08.ncf.done\n",
      "Success: all complete\n"
     ]
    }
   ],
   "source": [
    "remakeall = False\n",
    "fileopts = '-O -f nc4 -k grid -z zip_1'\n",
    "os.makedirs('output', exist_ok=True)\n",
    "options = dict(\n",
    "  llpath=llpath, lccpath=lccpath, nominalarea=gridproperties['nominalarea'],\n",
    "  unitconversion=907.185\n",
    ")\n",
    "\n",
    "cdo_sectors = include_sectors + list(mergedfiles)\n",
    "\n",
    "for sector in cdo_sectors:\n",
    "  inpath = filetmpl % (sector, month)\n",
    "  outpath = 'output/' + inpath.replace('12US1', '0pt1degree')\n",
    "  if os.path.exists(outpath) and not remakeall:\n",
    "    print('Keeping cached:', outpath)\n",
    "    continue\n",
    "  else:\n",
    "    print(outpath, end='', flush=True)\n",
    "  f = pnc.pncopen(inpath, format='ioapi')\n",
    "  sdate = f.getTimes()[0]\n",
    "  ndays = monthrange(sdate.year, sdate.month)[1]\n",
    "  options['seconds'] = ndays * 24 * 3600\n",
    "  !rm -f {outpath}\n",
    "  cmd= cmdtmpl.format(inpath=inpath, **options)\n",
    "  cdo.setmisstoc(0, input=cmd, output=outpath, options=fileopts)\n",
    "  print('.done', flush=True)\n",
    "print('Success: all complete')"
   ]
  },
  {
   "cell_type": "markdown",
   "metadata": {
    "colab_type": "text",
    "id": "zczbWkvL2kPk"
   },
   "source": [
    "# Check Mass Conservation\n",
    "\n",
    "* Calculate the Mass from Regridded Fluxes\n",
    "* Get the Area of the New Grid\n",
    "* Convert to mass comparable to CMAQ\n",
    "  * Multiply the area by the fluxes\n",
    "  * Convert per second rates to per year\n",
    "  * Convert kg to short tons\n",
    "\n"
   ]
  },
  {
   "cell_type": "code",
   "execution_count": 279,
   "metadata": {
    "colab": {},
    "colab_type": "code",
    "id": "1DyOyhL8Mdgx"
   },
   "outputs": [],
   "source": [
    "areaf = cdo.gridarea(llpath, input='-remapnn,%s -stdatm,0' % llpath, options='-f nc4', returnCdf=True)\n",
    "area = areaf.variables['cell_area'][:]"
   ]
  },
  {
   "cell_type": "code",
   "execution_count": 280,
   "metadata": {
    "colab": {},
    "colab_type": "code",
    "id": "rjUT-LNvNz2U"
   },
   "outputs": [],
   "source": [
    "hemco2dfiles = {\n",
    "  sector: pnc.pncopen('output/' + filetmpl.replace('12US1', '0pt1degree') % (sector, month), format='netcdf', mode='r')\n",
    "  for sector in include_sectors\n",
    "}\n",
    "\n",
    "hemco2dmergedfiles = {\n",
    "  sector: pnc.pncopen('output/' + filetmpl.replace('12US1', '0pt1degree') % (sector, month), format='netcdf', mode='r')\n",
    "  for sector in list(mergedfiles)\n",
    "}\n",
    "hemco2dNOXrate = {}\n",
    "for sector in include_sectors:\n",
    "  sfile = hemco2dfiles[sector]\n",
    "  if 'NOX' not in sfile.variables:\n",
    "    continue\n",
    "  sdate =  sfile.getTimes()[0]\n",
    "  ndays = monthrange(sdate.year, sdate.month)[1]\n",
    "  nox = (sfile.variables['NOX'][:].sum((0, 1)) * area).sum() * ndays * 24 * 3600 * 0.00110231\n",
    "  hemco2dNOXrate[sector] = nox\n",
    "\n",
    "hemco2dmergedNOXrate = {}\n",
    "for sector in list(mergedfiles):\n",
    "  sfile = hemco2dmergedfiles[sector]\n",
    "  if 'NOX' not in sfile.variables:\n",
    "    continue\n",
    "  sdate =  sfile.getTimes()[0]\n",
    "  ndays = monthrange(sdate.year, sdate.month)[1]\n",
    "  nox = (sfile.variables['NOX'][:].sum((0, 1)) * area).sum() * ndays * 24 * 3600 * 0.00110231\n",
    "  hemco2dmergedNOXrate[sector] = nox\n"
   ]
  },
  {
   "cell_type": "code",
   "execution_count": 281,
   "metadata": {
    "colab": {
     "base_uri": "https://localhost:8080/",
     "height": 170
    },
    "colab_type": "code",
    "id": "sxXj7k0wCPVv",
    "outputId": "9704d130-183a-44ba-c4a7-ed69b6c04b6b"
   },
   "outputs": [
    {
     "name": "stdout",
     "output_type": "stream",
     "text": [
      "ORIG 1125362.5\n",
      "HEMCO2D 1121542.4877536888\n",
      "HEMCO2D 1121542.4882075365\n",
      "ORIG/HEMCO2D 0.9966055273333604\n"
     ]
    },
    {
     "data": {
      "text/plain": [
       "{'merge': 1121542.4869326097,\n",
       " 'merge_areaonly': 582157.8416614836,\n",
       " 'merge_intl': 123777.06478523479,\n",
       " 'merge_natural': 252774.8314258596,\n",
       " 'merge_point': 415607.581760818}"
      ]
     },
     "execution_count": 281,
     "metadata": {
      "tags": []
     },
     "output_type": "execute_result"
    }
   ],
   "source": [
    "hemco2dNOXrate\n",
    "hemco2dtotal = sum(hemco2dNOXrate.values())\n",
    "hemco2dmergedtotal = (hemco2dmergedNOXrate['merge_areaonly'] + hemco2dmergedNOXrate['merge_point'] + hemco2dmergedNOXrate['merge_intl'])\n",
    "print('ORIG', mergedNOXrate['merge'])\n",
    "print('HEMCO2D', hemco2dtotal)\n",
    "print('HEMCO2D', hemco2dmergedtotal)\n",
    "print('ORIG/HEMCO2D', hemco2dtotal / mergedNOXrate['merge'])\n",
    "hemco2dmergedNOXrate"
   ]
  },
  {
   "cell_type": "code",
   "execution_count": 282,
   "metadata": {
    "colab": {
     "base_uri": "https://localhost:8080/",
     "height": 918
    },
    "colab_type": "code",
    "id": "6ax525RlTDdS",
    "outputId": "1a779733-a7b0-4417-d839-0b3ab68258d0"
   },
   "outputs": [
    {
     "name": "stdout",
     "output_type": "stream",
     "text": [
      "airports: NOX sum=198757.2\n",
      "nonpt: NOX sum=377468\n",
      "nonroad: NOX sum=1434619\n",
      "np_oilgas: NOX sum=561744.1\n",
      "onroad: NOX sum=3452283\n",
      "onroad_ca_adj: NOX sum=253179.9\n",
      "rail: NOX sum=591027\n",
      "rwc: NOX sum=4139.904\n",
      "emln_cmv_c1c2_12: NOX sum=239142.1\n",
      "emln_cmv_c3_12: NOX sum=720973.3\n",
      "emln_othpt: NOX sum=1001893\n",
      "emln_ptegu: NOX sum=1612157\n",
      "emln_pt_oilgas_allinln: NOX sum=388357.1\n",
      "emln_ptnonipm_allinln: NOX sum=944328.2\n",
      "onroad_can: NOX sum=410345.6\n",
      "onroad_mex: NOX sum=424908\n",
      "othar: NOX sum=626114.4\n",
      "ag: ISOP sum=958.9598\n",
      "airports: ISOP sum=1.408277\n",
      "nonpt: ISOP sum=217.6594\n",
      "nonroad: ISOP sum=2137.425\n",
      "np_oilgas: ISOP sum=1.142131\n",
      "onroad: ISOP sum=1033.049\n",
      "onroad_ca_adj: ISOP sum=59.3442\n",
      "rail: ISOP sum=49.25654\n",
      "rwc: ISOP sum=122.5423\n",
      "emln_cmv_c1c2_12: ISOP sum=89.60066\n",
      "emln_cmv_c3_12: ISOP sum=386.0085\n",
      "emln_othpt: ISOP sum=181.1257\n",
      "emln_ptegu: ISOP sum=1.532864\n",
      "emln_pt_oilgas_allinln: ISOP sum=5.557787\n",
      "emln_ptnonipm_allinln: ISOP sum=713.8114\n",
      "onroad_can: ISOP sum=33.73562\n",
      "onroad_mex: ISOP sum=82.7006\n",
      "othar: ISOP sum=275.8586\n",
      "ag: TERP sum=6277.702\n",
      "airports: TERP sum=0\n",
      "nonpt: TERP sum=43811.52\n",
      "nonroad: TERP sum=22.23713\n",
      "np_oilgas: TERP sum=0\n",
      "onroad: TERP sum=156.2599\n",
      "onroad_ca_adj: TERP sum=10.07416\n",
      "rail: TERP sum=38.25496\n",
      "rwc: TERP sum=0\n",
      "emln_cmv_c1c2_12: TERP sum=0\n",
      "emln_cmv_c3_12: TERP sum=0\n",
      "emln_othpt: TERP sum=5411.23\n",
      "emln_ptegu: TERP sum=31.76042\n",
      "emln_pt_oilgas_allinln: TERP sum=11.20366\n",
      "emln_ptnonipm_allinln: TERP sum=36190.52\n",
      "onroad_can: TERP sum=24.65738\n",
      "onroad_mex: TERP sum=5.185933\n",
      "othar: TERP sum=17317.76\n"
     ]
    }
   ],
   "source": [
    "for key in 'NOX APIN BPIN ISOP SESQ TERP'.split():\n",
    "  for sector in include_sectors:\n",
    "    sfile = hemco2dfiles[sector]\n",
    "    if key not in sfile.variables:\n",
    "        continue\n",
    "    vals = sfile.variables[key][:]\n",
    "    print('{}: {} sum={:.7g}'.format(sector, key, (vals * area).sum() * 3600 * 24 * 366 * 0.00110231))\n"
   ]
  },
  {
   "cell_type": "markdown",
   "metadata": {
    "colab_type": "text",
    "id": "KQXkU3m9EzUM"
   },
   "source": [
    "# Plot Results\n",
    "\n",
    "* Always good to take a look at NOX\n",
    "* Showing 2D results"
   ]
  },
  {
   "cell_type": "code",
   "execution_count": 283,
   "metadata": {
    "colab": {
     "base_uri": "https://localhost:8080/",
     "height": 393
    },
    "colab_type": "code",
    "id": "vAcfidVKEztQ",
    "outputId": "07b7b8f8-2582-48ff-a40b-0a28a4b8757e"
   },
   "outputs": [
    {
     "name": "stderr",
     "output_type": "stream",
     "text": [
      "**PNC:/usr/local/lib/python3.6/dist-packages/PseudoNetCDF/pncwarn.py:24:UserWarning:\n",
      "  Bounds is an approximation assuming lon variable is cell centers\n",
      "**PNC:/usr/local/lib/python3.6/dist-packages/PseudoNetCDF/pncwarn.py:24:UserWarning:\n",
      "  Bounds is an approximation assuming lat variable is cell centers\n"
     ]
    },
    {
     "data": {
      "image/png": "[encoded data removed]",
      "text/plain": [
       "<Figure size 432x288 with 5 Axes>"
      ]
     },
     "metadata": {
      "needs_background": "light",
      "tags": []
     },
     "output_type": "display_data"
    }
   ],
   "source": [
    "spc = 'NOX'\n",
    "fig, axx = plt.subplots(2, 2, gridspec_kw=dict(bottom=0.15))\n",
    "cax = fig.add_axes([.1, .05, .8, .025])\n",
    "plotopts=dict(norm=mc.LogNorm())\n",
    "cbaropts = dict(cax=cax, orientation='horizontal')\n",
    "plt.sca(axx[0, 0])\n",
    "hemco2dmergedfiles['merge'].plot(spc, plottype='lon-lat', plot_kw=plotopts, cbar_kw=cbaropts)\n",
    "axx[0, 0].set_ylabel(\"total\")\n",
    "plt.sca(axx[1, 0])\n",
    "hemco2dmergedfiles['merge_areaonly'].plot(spc, plottype='lon-lat', plot_kw=plotopts, cbar_kw=cbaropts)\n",
    "axx[1, 0].set_ylabel('Gridded')\n",
    "plt.sca(axx[1, 1])\n",
    "hemco2dmergedfiles['merge_point'].plot(spc, plottype='lon-lat', plot_kw=plotopts, cbar_kw=cbaropts)\n",
    "axx[1, 1].set_ylabel('emln')\n",
    "axx[1, 1].yaxis.set_label_position(\"right\")\n",
    "plt.sca(axx[0, 1])\n",
    "hemco2dmergedfiles['merge_intl'].plot(spc, plottype='lon-lat', plot_kw=plotopts, cbar_kw=cbaropts)\n",
    "axx[0, 1].set_ylabel('intl')\n",
    "axx[0, 1].yaxis.set_label_position(\"right\")\n"
   ]
  },
  {
   "cell_type": "markdown",
   "metadata": {
    "colab_type": "text",
    "id": "eN4HL49xwQAc"
   },
   "source": []
  },
  {
   "cell_type": "code",
   "execution_count": 284,
   "metadata": {
    "colab": {},
    "colab_type": "code",
    "id": "oHzI-Ba9wQX1"
   },
   "outputs": [],
   "source": [
    "import pandas as pd\n",
    "import io\n",
    "\n",
    "vertical_allocation = pd.read_csv(io.StringIO(\"\"\"L,bottom_m,top_m,othpt,ptegu,ptnonipm,pt_oilgas,ptfire,cmv_c3\n",
    "1,-6,123,0.806067059,0.027331187,0.751204553,0.918700528,0.11976381,0.537538889\n",
    "2,123,254,0.087955253,0.12260809,0.144224191,0.059678397,0.098297847,0.338982929\n",
    "3,254,387,0.053252808,0.192017292,0.052822078,0.013323237,0.08277491,0.123478182\n",
    "4,387,521,0.025605531,0.212736741,0.023840537,0.003978944,0.074659995,0\n",
    "5,521,657,0.011408677,0.167549199,0.011000364,0.001724366,0.077561337,0\n",
    "6,657,795,0.005787852,0.110491495,0.005661267,0.001038275,0.073349589,0\n",
    "7,795,934,0.003758579,0.063653198,0.003165207,0.000633395,0.066694526,0\n",
    "8,934,1075,0.002673887,0.036979211,0.00197344,0.000387233,0.061845442,0\n",
    "9,1075,1218,0.001675656,0.022844579,0.001300664,0.000243355,0.058324971,0\n",
    "10,1218,1363,0.000670159,0.013909341,0.000861865,0.000122994,0.053902287,0\n",
    "11,1363,1510,0.000357644,0.008781226,0.000621856,6.48583E-05,0.044774262,0\n",
    "12,1510,1659,0.00022693,0.006647819,0.00052355,4.04985E-05,0.041122289,0\n",
    "13,1659,1860,0.000159139,0.004305749,0.000466642,2.12041E-05,0.0306914,0\n",
    "14,1860,2118,0.000152154,0.003380562,0.000680222,1.75333E-05,0.031529605,0\n",
    "15,2118,2382,0.000113674,0.001827346,0.000612964,1.03278E-05,0.02551535,0\n",
    "16,2382,2654,8.79442E-05,0.000957313,0.000260885,5.76406E-06,0.020748307,0\n",
    "17,2654,2932,3.14778E-05,0.000523901,0.000311535,3.23215E-06,0.014366484,0\n",
    "18,2932,3219,1.29957E-05,0.000381747,0.000231719,2.27428E-06,0.010906613,0\n",
    "19,3219,3665,1.37334E-06,0.000409744,0.000115745,1.78044E-06,0.009224629,0\n",
    "20,3665,4132,3.15633E-07,0.000340645,4.19637E-05,6.00909E-07,0.003409241,0\n",
    "21,4132,4623,3.71912E-07,0.00026689,1.84353E-05,4.14262E-07,0.00014894,0\n",
    "22,4623,5142,4.01952E-07,0.000231509,1.03385E-05,3.73296E-07,0.000125351,0\n",
    "23,5142,5692,1.17457E-07,0.000225471,9.11318E-06,3.01765E-07,8.76892E-05,0\n",
    "24,5692,6277,0,0.000310076,9.82452E-06,1.13299E-07,3.24343E-05,0\n",
    "25,6277,6905,0,0.000327088,1.07925E-05,0,3.0049E-05,0\n",
    "26,6905,7582,0,0.000260516,1.2311E-05,0,2.85539E-05,0\n",
    "27,7582,8320,0,0.000130502,4.58591E-06,0,2.08973E-05,0\n",
    "28,8320,9409,0,0.000119402,2.72213E-06,0,3.26732E-05,0\n",
    "29,9409,10504,0,0.000106184,6.30588E-07,0,1.74394E-05,0\n",
    "30,10504,11578,0,9.07766E-05,0,0,1.30783E-05,0\n",
    "31,11578,12633,0,0.000117164,0,0,0,0\n",
    "32,12633,13674,0,0.000122616,0,0,0,0\n",
    "33,13674,14706,0,1.54213E-05,0,0,0,0\n",
    "34,14706,15731,0,0,0,0,0,0\n",
    "35,15731,16753,0,0,0,0,0,0\n",
    "36,16753,17773,0,0,0,0,0,0\n",
    "37,17773,19855,0,0,0,0,0,0\n",
    "38,19855,22004,0,0,0,0,0,0\n",
    "39,22004,24240,0,0,0,0,0,0\n",
    "40,24240,26596,0,0,0,0,0,0\n",
    "41,26596,31716,0,0,0,0,0,0\n",
    "42,31716,37574,0,0,0,0,0,0\n",
    "43,37574,44286,0,0,0,0,0,0\n",
    "44,44286,51788,0,0,0,0,0,0\n",
    "45,51788,59924,0,0,0,0,0,0\n",
    "46,59924,68392,0,0,0,0,0,0\n",
    "47,68392,80581,0,0,0,0,0,0\n",
    "\"\"\")).set_index(['L'])\n",
    "\n",
    "nl = 11\n",
    "vertical_allocation_layers = vertical_allocation.loc[1:nl]\n",
    "vertical_allocation_layer_fraction = vertical_allocation_layers / vertical_allocation_layers.sum()"
   ]
  },
  {
   "cell_type": "markdown",
   "metadata": {
    "colab_type": "text",
    "id": "dySKYzxyIt71"
   },
   "source": [
    "# Add Vertical Allocation\n",
    "\n",
    "* Oversimplifying vertical allocation\n",
    "  * all emln emissions based on energy sector from a single report\n",
    "  * Simpson D., Fagerli, H., Jonson, J. E., Tsyro, S., Wind, P., and Tuovinen, J.: \"Transboundary Acidification, Eutrophication, and Ground Level Ozone in Europe - Part I: Unified EMEP Model Description”, EMEP Status Report 2003, The  Norwegian Meteorological Institute, Oslo, 25 Norway, 2003.\n",
    "* Manually fixing meta data\n",
    "  * (hyai, hybi, and lev)\n",
    "  * renaming dimensions to ilev"
   ]
  },
  {
   "cell_type": "code",
   "execution_count": 285,
   "metadata": {
    "colab": {
     "base_uri": "https://localhost:8080/",
     "height": 632
    },
    "colab_type": "code",
    "id": "lntssEqM59Ee",
    "outputId": "cb965c4a-0d5f-4991-ac7e-f7f292c7e58f"
   },
   "outputs": [
    {
     "name": "stdout",
     "output_type": "stream",
     "text": [
      "emln_cmv_c1c2_12 [0.53753889 0.33898293 0.12347818 0.         0.         0.\n",
      " 0.         0.         0.         0.         0.        ]\n",
      "emln_cmv_c1c2_12 3 [0.53753889 0.33898293 0.12347818]\n",
      "Start. output/2016fh_16j_emln_cmv_c1c2_12_0pt1degree_3D_month_08.ncf"
     ]
    },
    {
     "name": "stderr",
     "output_type": "stream",
     "text": [
      "<string>:6: DeprecationWarning: `np.alen` is deprecated, use `len` instead\n"
     ]
    },
    {
     "name": "stdout",
     "output_type": "stream",
     "text": [
      ".Complete\n",
      "emln_cmv_c3_12 [0.53753889 0.33898293 0.12347818 0.         0.         0.\n",
      " 0.         0.         0.         0.         0.        ]\n",
      "emln_cmv_c3_12 3 [0.53753889 0.33898293 0.12347818]\n",
      "Start. output/2016fh_16j_emln_cmv_c3_12_0pt1degree_3D_month_08.ncf.Complete\n",
      "emln_othpt [8.06701849e-01 8.80245191e-02 5.32947454e-02 2.56256957e-02\n",
      " 1.14176615e-02 5.79241002e-03 3.76153894e-03 2.67599273e-03\n",
      " 1.67697560e-03 6.70686760e-04 3.57925650e-04]\n",
      "emln_othpt 11 [8.06701849e-01 8.80245191e-02 5.32947454e-02 2.56256957e-02\n",
      " 1.14176615e-02 5.79241002e-03 3.76153894e-03 2.67599273e-03\n",
      " 1.67697560e-03 6.70686760e-04 3.57925650e-04]\n",
      "Start. output/2016fh_16j_emln_othpt_0pt1degree_3D_month_08.ncf.Complete\n",
      "emln_ptegu [0.02792026 0.12525068 0.19615588 0.21732189 0.17116042 0.11287294\n",
      " 0.06502513 0.03777623 0.02333695 0.01420913 0.00897049]\n",
      "emln_ptegu 11 [0.02792026 0.12525068 0.19615588 0.21732189 0.17116042 0.11287294\n",
      " 0.06502513 0.03777623 0.02333695 0.01420913 0.00897049]\n",
      "Start. output/2016fh_16j_emln_ptegu_0pt1degree_3D_month_08.ncf.Complete\n",
      "emln_pt_oilgas_allinln [9.18796467e-01 5.96846291e-02 1.33246283e-02 3.97935952e-03\n",
      " 1.72454607e-03 1.03838343e-03 6.33461145e-04 3.87273438e-04\n",
      " 2.43380413e-04 1.23006844e-04 6.48650731e-05]\n",
      "emln_pt_oilgas_allinln 11 [9.18796467e-01 5.96846291e-02 1.33246283e-02 3.97935952e-03\n",
      " 1.72454607e-03 1.03838343e-03 6.33461145e-04 3.87273438e-04\n",
      " 2.43380413e-04 1.23006844e-04 6.48650731e-05]\n",
      "Start. output/2016fh_16j_emln_pt_oilgas_allinln_0pt1degree_3D_month_08.ncf.Complete\n",
      "emln_ptnonipm_allinln [7.53709868e-01 1.44705188e-01 5.29982430e-02 2.39200467e-02\n",
      " 1.10370509e-02 5.68014769e-03 3.17576317e-03 1.98002155e-03\n",
      " 1.30500180e-03 8.64739375e-04 6.23929929e-04]\n",
      "emln_ptnonipm_allinln 11 [7.53709868e-01 1.44705188e-01 5.29982430e-02 2.39200467e-02\n",
      " 1.10370509e-02 5.68014769e-03 3.17576317e-03 1.98002155e-03\n",
      " 1.30500180e-03 8.64739375e-04 6.23929929e-04]\n",
      "Start. output/2016fh_16j_emln_ptnonipm_allinln_0pt1degree_3D_month_08.ncf.Complete\n"
     ]
    }
   ],
   "source": [
    "import gc\n",
    "\n",
    "\n",
    "sector2verticalallocation = {\n",
    "  'emln_cmv_c1c2_12': 'cmv_c3',\n",
    "  'emln_cmv_c3_12': 'cmv_c3',\n",
    "  'emln_othpt': 'othpt',\n",
    "  'emln_pt_oilgas_allinln': 'pt_oilgas',\n",
    "  'emln_ptegu': 'ptegu',\n",
    "  'emln_ptnonipm_allinln': 'ptnonipm'\n",
    "}\n",
    "\n",
    "for sector in ptonly_sectors + allinln_sectors:\n",
    "  gc.collect()\n",
    "  inpath = 'output/' + (filetmpl % (sector, month)).replace('12US1', '0pt1degree')\n",
    "  outpath = inpath.replace('0pt1degree', '0pt1degree_3D')\n",
    "  origlayerfractions = vertical_allocation_layer_fraction[sector2verticalallocation[sector]].values\n",
    "  nl = (origlayerfractions == 0).argmax()\n",
    "  if nl == 0:\n",
    "    nl = len(origlayerfractions)\n",
    "  layerfractions = origlayerfractions[:nl]\n",
    "  layerfractions /= layerfractions.sum()\n",
    "  print(sector, origlayerfractions)\n",
    "  print(sector, nl, layerfractions)\n",
    "  print('Start.', outpath, end='')\n",
    "  !rm -f {outpath}\n",
    "  emln2df = pnc.pncopen(inpath, format='netcdf')\n",
    "  emln3df = emln2df.sliceDimensions(lev=[0] * nl).sliceDimensions(nhym=[0] * nl).sliceDimensions(nhyi=[0] * (nl + 1))\n",
    "  for key, var in emln3df.variables.items():\n",
    "    if 'lev' in var.dimensions:\n",
    "      newshape = tuple([(slice(None) if dk == 'lev' else None) for dk in var.dimensions])\n",
    "      var[:] = var[:] * layerfractions[newshape]\n",
    "\n",
    "  hyai = emln3df.variables['hyai'][:] = [\n",
    "    0.000000e+00, 4.804826e-02, 6.593752e+00, 1.313480e+01, 1.961311e+01, 2.609201e+01,\n",
    "    3.257081e+01, 3.898201e+01, 4.533901e+01, 5.169611e+01, 5.805321e+01, 6.436264e+01\n",
    "  ][:nl+1]\n",
    "  hybi = emln3df.variables['hybi'][:] = [\n",
    "    1.000000e+00, 9.849520e-01, 9.634060e-01, 9.418650e-01, 9.203870e-01, 8.989080e-01,\n",
    "    8.774290e-01, 8.560180e-01, 8.346609e-01, 8.133039e-01, 7.919469e-01, 7.706375e-01\n",
    "  ][:nl+1]\n",
    "  emln3df.variables['hybm'][:] = np.convolve([.5, .5], hybi, mode='valid')\n",
    "  emln3df.variables['hyam'][:] = np.convolve([.5, .5], hyai, mode='valid')\n",
    "  emln3df.variables['lev'][:] = np.arange(nl, dtype='i') + 1\n",
    "  outnc = emln3df.save(outpath, verbose=0)\n",
    "  outnc.close()\n",
    "  print('.Complete')"
   ]
  },
  {
   "cell_type": "markdown",
   "metadata": {
    "colab_type": "text",
    "id": "smeOloTaWAmR"
   },
   "source": [
    "# Now Do a Mass Conservation Check\n",
    "\n",
    "* Open the 3d file\n",
    "* Open the reference file\n",
    "* Sum the values and compare"
   ]
  },
  {
   "cell_type": "code",
   "execution_count": 291,
   "metadata": {
    "colab": {
     "base_uri": "https://localhost:8080/",
     "height": 1000
    },
    "colab_type": "code",
    "id": "F7CE-N006BGr",
    "outputId": "fbde230c-2cd5-4ae8-d43c-70e5b249a12d"
   },
   "outputs": [
    {
     "name": "stdout",
     "output_type": "stream",
     "text": [
      "output/2016fh_16j_emln_cmv_c1c2_12_0pt1degree_month_01.ncf\n",
      "emln    1 lev NOX 4.7244960e-08 sum kgNO2/m2/s\n",
      "emln3d  3 lev NOX 4.7244953e-08 sum kgNO2/m2/s\n",
      "Within numerical precission True\n",
      "output/2016fh_16j_emln_cmv_c1c2_12_0pt1degree_month_02.ncf\n",
      "emln    1 lev NOX 5.5669542e-08 sum kgNO2/m2/s\n",
      "emln3d  3 lev NOX 5.5669549e-08 sum kgNO2/m2/s\n",
      "Within numerical precission True\n",
      "output/2016fh_16j_emln_cmv_c1c2_12_0pt1degree_month_03.ncf\n",
      "emln    1 lev NOX 5.5620237e-08 sum kgNO2/m2/s\n",
      "emln3d  3 lev NOX 5.5620234e-08 sum kgNO2/m2/s\n",
      "Within numerical precission True\n",
      "output/2016fh_16j_emln_cmv_c1c2_12_0pt1degree_month_04.ncf\n",
      "emln    1 lev NOX 5.9835529e-08 sum kgNO2/m2/s\n",
      "emln3d  3 lev NOX 5.9835543e-08 sum kgNO2/m2/s\n",
      "Within numerical precission True\n",
      "output/2016fh_16j_emln_cmv_c1c2_12_0pt1degree_month_05.ncf\n",
      "emln    1 lev NOX 6.5473522e-08 sum kgNO2/m2/s\n",
      "emln3d  3 lev NOX 6.5473522e-08 sum kgNO2/m2/s\n",
      "Within numerical precission True\n",
      "output/2016fh_16j_emln_cmv_c1c2_12_0pt1degree_month_06.ncf\n",
      "emln    1 lev NOX 6.8352207e-08 sum kgNO2/m2/s\n",
      "emln3d  3 lev NOX 6.8352222e-08 sum kgNO2/m2/s\n",
      "Within numerical precission True\n",
      "output/2016fh_16j_emln_cmv_c1c2_12_0pt1degree_month_07.ncf\n",
      "emln    1 lev NOX 6.9509369e-08 sum kgNO2/m2/s\n",
      "emln3d  3 lev NOX 6.9509348e-08 sum kgNO2/m2/s\n",
      "Within numerical precission True\n",
      "output/2016fh_16j_emln_cmv_c1c2_12_0pt1degree_month_08.ncf\n",
      "emln    1 lev NOX 7.0053694e-08 sum kgNO2/m2/s\n",
      "emln3d  3 lev NOX 7.0053687e-08 sum kgNO2/m2/s\n",
      "Within numerical precission True\n",
      "output/2016fh_16j_emln_cmv_c3_12_0pt1degree_month_01.ncf\n",
      "emln    1 lev NOX 1.7869674e-07 sum kgNO2/m2/s\n",
      "emln3d  3 lev NOX 1.7869668e-07 sum kgNO2/m2/s\n",
      "Within numerical precission True\n",
      "output/2016fh_16j_emln_cmv_c3_12_0pt1degree_month_02.ncf\n",
      "emln    1 lev NOX 1.8860929e-07 sum kgNO2/m2/s\n",
      "emln3d  3 lev NOX 1.8860933e-07 sum kgNO2/m2/s\n",
      "Within numerical precission True\n",
      "output/2016fh_16j_emln_cmv_c3_12_0pt1degree_month_03.ncf\n",
      "emln    1 lev NOX 1.8618803e-07 sum kgNO2/m2/s\n",
      "emln3d  3 lev NOX 1.8618809e-07 sum kgNO2/m2/s\n",
      "Within numerical precission True\n",
      "output/2016fh_16j_emln_cmv_c3_12_0pt1degree_month_04.ncf\n",
      "emln    1 lev NOX 1.9616910e-07 sum kgNO2/m2/s\n",
      "emln3d  3 lev NOX 1.9616904e-07 sum kgNO2/m2/s\n",
      "Within numerical precission True\n",
      "output/2016fh_16j_emln_cmv_c3_12_0pt1degree_month_05.ncf\n",
      "emln    1 lev NOX 2.0099853e-07 sum kgNO2/m2/s\n",
      "emln3d  3 lev NOX 2.0099856e-07 sum kgNO2/m2/s\n",
      "Within numerical precission True\n",
      "output/2016fh_16j_emln_cmv_c3_12_0pt1degree_month_06.ncf\n",
      "emln    1 lev NOX 1.9901864e-07 sum kgNO2/m2/s\n",
      "emln3d  3 lev NOX 1.9901860e-07 sum kgNO2/m2/s\n",
      "Within numerical precission True\n",
      "output/2016fh_16j_emln_cmv_c3_12_0pt1degree_month_07.ncf\n",
      "emln    1 lev NOX 2.0444864e-07 sum kgNO2/m2/s\n",
      "emln3d  3 lev NOX 2.0444861e-07 sum kgNO2/m2/s\n",
      "Within numerical precission True\n",
      "output/2016fh_16j_emln_cmv_c3_12_0pt1degree_month_08.ncf\n",
      "emln    1 lev NOX 2.0384989e-07 sum kgNO2/m2/s\n",
      "emln3d  3 lev NOX 2.0384991e-07 sum kgNO2/m2/s\n",
      "Within numerical precission True\n",
      "output/2016fh_16j_emln_othpt_0pt1degree_month_01.ncf\n",
      "emln    1 lev NOX 3.3114873e-07 sum kgNO2/m2/s\n",
      "emln3d 11 lev NOX 3.3114864e-07 sum kgNO2/m2/s\n",
      "Within numerical precission True\n",
      "output/2016fh_16j_emln_othpt_0pt1degree_month_02.ncf\n",
      "emln    1 lev NOX 3.3954839e-07 sum kgNO2/m2/s\n",
      "emln3d 11 lev NOX 3.3954836e-07 sum kgNO2/m2/s\n",
      "Within numerical precission True\n",
      "output/2016fh_16j_emln_othpt_0pt1degree_month_03.ncf\n",
      "emln    1 lev NOX 3.2714019e-07 sum kgNO2/m2/s\n",
      "emln3d 11 lev NOX 3.2714024e-07 sum kgNO2/m2/s\n",
      "Within numerical precission True\n",
      "output/2016fh_16j_emln_othpt_0pt1degree_month_04.ncf\n",
      "emln    1 lev NOX 3.2541496e-07 sum kgNO2/m2/s\n",
      "emln3d 11 lev NOX 3.2541487e-07 sum kgNO2/m2/s\n",
      "Within numerical precission True\n",
      "output/2016fh_16j_emln_othpt_0pt1degree_month_05.ncf\n",
      "emln    1 lev NOX 3.1895877e-07 sum kgNO2/m2/s\n",
      "emln3d 11 lev NOX 3.1895880e-07 sum kgNO2/m2/s\n",
      "Within numerical precission True\n",
      "output/2016fh_16j_emln_othpt_0pt1degree_month_06.ncf\n",
      "emln    1 lev NOX 3.2998210e-07 sum kgNO2/m2/s\n",
      "emln3d 11 lev NOX 3.2998193e-07 sum kgNO2/m2/s\n",
      "Within numerical precission True\n",
      "output/2016fh_16j_emln_othpt_0pt1degree_month_07.ncf\n",
      "emln    1 lev NOX 3.2821086e-07 sum kgNO2/m2/s\n",
      "emln3d 11 lev NOX 3.2821094e-07 sum kgNO2/m2/s\n",
      "Within numerical precission True\n",
      "output/2016fh_16j_emln_othpt_0pt1degree_month_08.ncf\n",
      "emln    1 lev NOX 3.3080255e-07 sum kgNO2/m2/s\n",
      "emln3d 11 lev NOX 3.3080244e-07 sum kgNO2/m2/s\n",
      "Within numerical precission True\n",
      "output/2016fh_16j_emln_pt_oilgas_allinln_0pt1degree_month_01.ncf\n",
      "emln    1 lev NOX 1.1136395e-07 sum kgNO2/m2/s\n",
      "emln3d 11 lev NOX 1.1136395e-07 sum kgNO2/m2/s\n",
      "Within numerical precission True\n",
      "output/2016fh_16j_emln_pt_oilgas_allinln_0pt1degree_month_02.ncf\n",
      "emln    1 lev NOX 1.1136976e-07 sum kgNO2/m2/s\n",
      "emln3d 11 lev NOX 1.1136976e-07 sum kgNO2/m2/s\n",
      "Within numerical precission True\n",
      "output/2016fh_16j_emln_pt_oilgas_allinln_0pt1degree_month_03.ncf\n",
      "emln    1 lev NOX 1.1163749e-07 sum kgNO2/m2/s\n",
      "emln3d 11 lev NOX 1.1163751e-07 sum kgNO2/m2/s\n",
      "Within numerical precission True\n",
      "output/2016fh_16j_emln_pt_oilgas_allinln_0pt1degree_month_04.ncf\n",
      "emln    1 lev NOX 1.1163883e-07 sum kgNO2/m2/s\n",
      "emln3d 11 lev NOX 1.1163885e-07 sum kgNO2/m2/s\n",
      "Within numerical precission True\n",
      "output/2016fh_16j_emln_pt_oilgas_allinln_0pt1degree_month_05.ncf\n",
      "emln    1 lev NOX 1.1163324e-07 sum kgNO2/m2/s\n",
      "emln3d 11 lev NOX 1.1163326e-07 sum kgNO2/m2/s\n",
      "Within numerical precission True\n",
      "output/2016fh_16j_emln_pt_oilgas_allinln_0pt1degree_month_06.ncf\n",
      "emln    1 lev NOX 1.1134829e-07 sum kgNO2/m2/s\n",
      "emln3d 11 lev NOX 1.1134831e-07 sum kgNO2/m2/s\n",
      "Within numerical precission True\n",
      "output/2016fh_16j_emln_pt_oilgas_allinln_0pt1degree_month_07.ncf\n",
      "emln    1 lev NOX 1.1133872e-07 sum kgNO2/m2/s\n",
      "emln3d 11 lev NOX 1.1133876e-07 sum kgNO2/m2/s\n",
      "Within numerical precission True\n",
      "output/2016fh_16j_emln_pt_oilgas_allinln_0pt1degree_month_08.ncf\n",
      "emln    1 lev NOX 1.1134829e-07 sum kgNO2/m2/s\n",
      "emln3d 11 lev NOX 1.1134829e-07 sum kgNO2/m2/s\n",
      "Within numerical precission True\n",
      "output/2016fh_16j_emln_ptegu_0pt1degree_month_01.ncf\n",
      "emln    1 lev NOX 4.2783057e-07 sum kgNO2/m2/s\n",
      "emln3d 11 lev NOX 4.2783060e-07 sum kgNO2/m2/s\n",
      "Within numerical precission True\n",
      "output/2016fh_16j_emln_ptegu_0pt1degree_month_02.ncf\n",
      "emln    1 lev NOX 3.8539613e-07 sum kgNO2/m2/s\n",
      "emln3d 11 lev NOX 3.8539622e-07 sum kgNO2/m2/s\n",
      "Within numerical precission True\n",
      "output/2016fh_16j_emln_ptegu_0pt1degree_month_03.ncf\n",
      "emln    1 lev NOX 3.0061392e-07 sum kgNO2/m2/s\n",
      "emln3d 11 lev NOX 3.0061383e-07 sum kgNO2/m2/s\n",
      "Within numerical precission True\n",
      "output/2016fh_16j_emln_ptegu_0pt1degree_month_04.ncf\n",
      "emln    1 lev NOX 2.9206709e-07 sum kgNO2/m2/s\n",
      "emln3d 11 lev NOX 2.9206689e-07 sum kgNO2/m2/s\n",
      "Within numerical precission True\n",
      "output/2016fh_16j_emln_ptegu_0pt1degree_month_05.ncf\n",
      "emln    1 lev NOX 3.0397968e-07 sum kgNO2/m2/s\n",
      "emln3d 11 lev NOX 3.0397962e-07 sum kgNO2/m2/s\n",
      "Within numerical precission True\n",
      "output/2016fh_16j_emln_ptegu_0pt1degree_month_06.ncf\n",
      "emln    1 lev NOX 4.1655946e-07 sum kgNO2/m2/s\n",
      "emln3d 11 lev NOX 4.1655952e-07 sum kgNO2/m2/s\n",
      "Within numerical precission True\n",
      "output/2016fh_16j_emln_ptegu_0pt1degree_month_07.ncf\n",
      "emln    1 lev NOX 4.9024976e-07 sum kgNO2/m2/s\n",
      "emln3d 11 lev NOX 4.9024970e-07 sum kgNO2/m2/s\n",
      "Within numerical precission True\n",
      "output/2016fh_16j_emln_ptegu_0pt1degree_month_08.ncf\n",
      "emln    1 lev NOX 4.7579775e-07 sum kgNO2/m2/s\n",
      "emln3d 11 lev NOX 4.7579786e-07 sum kgNO2/m2/s\n",
      "Within numerical precission True\n",
      "output/2016fh_16j_emln_ptnonipm_allinln_0pt1degree_month_01.ncf\n",
      "emln    1 lev NOX 2.7841497e-07 sum kgNO2/m2/s\n",
      "emln3d 11 lev NOX 2.7841494e-07 sum kgNO2/m2/s\n",
      "Within numerical precission True\n",
      "output/2016fh_16j_emln_ptnonipm_allinln_0pt1degree_month_02.ncf\n",
      "emln    1 lev NOX 2.7852639e-07 sum kgNO2/m2/s\n",
      "emln3d 11 lev NOX 2.7852616e-07 sum kgNO2/m2/s\n",
      "Within numerical precission True\n",
      "output/2016fh_16j_emln_ptnonipm_allinln_0pt1degree_month_03.ncf\n",
      "emln    1 lev NOX 2.7653485e-07 sum kgNO2/m2/s\n",
      "emln3d 11 lev NOX 2.7653493e-07 sum kgNO2/m2/s\n",
      "Within numerical precission True\n",
      "output/2016fh_16j_emln_ptnonipm_allinln_0pt1degree_month_04.ncf\n",
      "emln    1 lev NOX 2.7657853e-07 sum kgNO2/m2/s\n",
      "emln3d 11 lev NOX 2.7657853e-07 sum kgNO2/m2/s\n",
      "Within numerical precission True\n",
      "output/2016fh_16j_emln_ptnonipm_allinln_0pt1degree_month_05.ncf\n",
      "emln    1 lev NOX 2.7646584e-07 sum kgNO2/m2/s\n",
      "emln3d 11 lev NOX 2.7646550e-07 sum kgNO2/m2/s\n",
      "Within numerical precission True\n",
      "output/2016fh_16j_emln_ptnonipm_allinln_0pt1degree_month_06.ncf\n",
      "emln    1 lev NOX 2.7852704e-07 sum kgNO2/m2/s\n",
      "emln3d 11 lev NOX 2.7852693e-07 sum kgNO2/m2/s\n",
      "Within numerical precission True\n",
      "output/2016fh_16j_emln_ptnonipm_allinln_0pt1degree_month_07.ncf\n",
      "emln    1 lev NOX 2.7838192e-07 sum kgNO2/m2/s\n",
      "emln3d 11 lev NOX 2.7838166e-07 sum kgNO2/m2/s\n",
      "Within numerical precission True\n",
      "output/2016fh_16j_emln_ptnonipm_allinln_0pt1degree_month_08.ncf\n",
      "emln    1 lev NOX 2.7852948e-07 sum kgNO2/m2/s\n",
      "emln3d 11 lev NOX 2.7852951e-07 sum kgNO2/m2/s\n",
      "Within numerical precission True\n"
     ]
    }
   ],
   "source": [
    "from glob import glob\n",
    "\n",
    "emln3dpaths = sorted(glob('output/*_3D_*.ncf'))\n",
    "for inpath in emln3dpaths:\n",
    "  refpath = inpath.replace('_3D', '')\n",
    "  f3d = pnc.pncopen(inpath)\n",
    "  fref = pnc.pncopen(refpath)\n",
    "  print(refpath)\n",
    "  print('emln   {:2d} lev NOX {:.7e} sum kgNO2/m2/s'.format(len(fref.dimensions['lev']), fref.variables['NOX'][:].sum()))\n",
    "  print('emln3d {:2d} lev NOX {:.7e} sum kgNO2/m2/s'.format(len(f3d.dimensions['lev']), f3d.variables['NOX'][:].sum()))\n",
    "  print('Within numerical precission', np.allclose(fref.variables['NOX'][:, 0], f3d.variables['NOX'][:].sum(1)))"
   ]
  },
  {
   "cell_type": "markdown",
   "metadata": {
    "colab_type": "text",
    "id": "qE8oeR0KWKXm"
   },
   "source": [
    "# Configure Translation from CMAQ to GEOS-Chem\n",
    "\n",
    "* Translation is not always 1:1\n",
    "* Apply scaling factors\n",
    "  * Diurnal scale factors (25, 26)\n",
    "  * Day of week (210-222)\n",
    "  * Split OC/EC (70-73)\n",
    "  * Convert NO kgNO2/m2/s to kgNO/m2/s (115)"
   ]
  },
  {
   "cell_type": "code",
   "execution_count": 287,
   "metadata": {
    "colab": {},
    "colab_type": "code",
    "id": "rdB02KnUwKbN"
   },
   "outputs": [],
   "source": [
    "cq2gc = {\n",
    "    'ACET': [['ACET', '26/213/1007']],\n",
    "    'ALD2': [['ALD2', '26/213/1007']],\n",
    "    'ALDX': [['RCHO', '26/213/1007']],\n",
    "    'ACROLEIN': [['MACR', '26/213//1007']],\n",
    "    'BENZ': [['BENZ', '26/213/1007']],\n",
    "    'ECH4': [['CH4', '1007']],\n",
    "    'CL': [['Cl', '1007']],\n",
    "    'CL2': [['Cl2', '1007']],\n",
    "    'CLO': [['ClO', '1007']],\n",
    "    'CLNO2': [['ClNO2', '1007']],\n",
    "    'CLNO3': [['ClNO3', '1007']],\n",
    "    'CO': [['CO', '26/211/1007']],\n",
    "    'ETOH': [['EOH', '26/213/1007']],\n",
    "    'ETHA': [['C2H6', '26/217/1007']],\n",
    "    'ETH': [['C2H4', '26/213/1007']],\n",
    "    'FACD': [['HCOOH', '26/213/1007']],\n",
    "    'FORM': [['CH2O', '26/213/1007']],\n",
    "    'GLY': [['GLYX', '26/214/1007']], # Following MEK\n",
    "    'GLYD': [['GLYC', '26/214/1007']], # Following MEK\n",
    "    'HCL': [['HCl', '1007']],\n",
    "    'HOCL': [['HOCl', '1007']],\n",
    "    'HONO': [['HNO2', '25/210/1007']],\n",
    "    'HPLD': [['HPALD', '26/214/1007']], # Following MEK\n",
    "    'IOLE': [['PRPE', '26/215/1007']],\n",
    "    'KET': [['MEK', '26/214/1007']],\n",
    "    'MEPX': [['MP', '26/213/1007']], # Following MEOH\n",
    "    'MEOH': [['MOH', '26/213/1007']],\n",
    "    'NH3': [['NH3', '26/213/1007']],\n",
    "    'NO': [['NO', '115/25/210/1007']],\n",
    "    'NO2': [['NO2', '25/210/1007']],\n",
    "    'OLE': [['PRPE', '26/215/1007']],\n",
    "    'PACD': [['MAP', '26/213/1007']], # Following MEOH\n",
    "    'PAR': [['ALK4', '26/212/1007']],\n",
    "    'PNA': [['HNO4', '26/213/1007']], # Following MEOH\n",
    "    'PRPA': [['C3H8', '26/216/1007']],\n",
    "    'SO2': [['SO2', '26/218/1007']],\n",
    "    'SULF': [['SO4', '26/218/1007']],\n",
    "    'TOL': [['TOLU', '26/213/1007']],\n",
    "    'PEC': [['BCPI', '26/221/1007/70'], ['BCPO', '26/221/256/1007/71']],\n",
    "    'PFE': [['pFe', '26/219/1007']],\n",
    "    'POC': [['OCPI', '26/222/1007/72'], ['OCPO', '26/222/257/1007/73']],\n",
    "    'PNH4': [['NH4', '26/218/1007']], # need to confirm this\n",
    "    'PNO3': [['NIT', '26/218/1007']], # need to confirm this\n",
    "    'PSO4': [['SO4', '26/219/1007']],\n",
    "    'XYLMN': [['XYLE', '26/213/1007']],\n",
    "}\n",
    "# Ignore special species\n",
    "exec('ALD2_PRIMARY = FORM_PRIMARY = NH3_FERT = []', None, cq2gc)\n",
    "# ignore inventory meta variables\n",
    "exec('HFLUX = VOC_INV = VOC_BEIS = CO2_INV = N2O_INV = CH4_INV = []', None, cq2gc)\n",
    "# Ignore duplicative species\n",
    "# TOLU in TOL\n",
    "# NOX = NO + NO2 + HONO\n",
    "# CH4 in ECH4\n",
    "exec('CH4 = TOLU = NOX = []', None, cq2gc)\n",
    "# Ignore APIN, BPIN, and SESQ - they were from BEIS\n",
    "# and were removed\n",
    "exec('APIN = BPIN = SESQ = []', None, cq2gc)\n",
    "# ISOP and TERP are mostly biogenic, so igoring remainder\n",
    "exec('ISOP = TERP = []', None, cq2gc)\n",
    "# Ignore species GC doesn't have\n",
    "exec('BUTADIENE13 = ETHY = NAPH = []', None, cq2gc)\n",
    "# unreactive and nonvolatile are not used\n",
    "exec('UNK = UNR = NVOL = NR = []', None, cq2gc)\n",
    "# Ignore unused particulate species\n",
    "exec('SOAALK = PAL = PCA = PCL = PFE = PH2O = PK = PSI = PTI = []', None, cq2gc)\n",
    "exec('PM2_5 = PMC = PMG = PMN = PMOTHR = PNCOM = P = PCA = PCL = PFE = PH2O = PK = []', None, cq2gc)"
   ]
  },
  {
   "cell_type": "markdown",
   "metadata": {
    "colab_type": "text",
    "id": "4h095y251TYm"
   },
   "source": [
    "# Choose paths to use in HEMCO\n",
    "\n",
    "* hemco3d files take precedence\n",
    "* hemco2d are the default\n",
    "* Must have one or the other"
   ]
  },
  {
   "cell_type": "code",
   "execution_count": 288,
   "metadata": {
    "colab": {},
    "colab_type": "code",
    "id": "9qupO6ha09S_"
   },
   "outputs": [],
   "source": [
    "hcpaths = []\n",
    "for sector in include_sectors:\n",
    "  smokepath = filetmpl % (sector, month)\n",
    "  hemco2dpath = 'output/' + smokepath.replace('12US1', '0pt1degree')\n",
    "  hemco3dpath = hemco2dpath.replace('0pt1degree', '0pt1degree_3D')\n",
    "  if os.path.exists(hemco3dpath):\n",
    "    hcpaths.append(hemco3dpath)\n",
    "  elif os.path.exists(hemco2dpath):\n",
    "    hcpaths.append(hemco2dpath)\n",
    "  else:\n",
    "    raise KeyError('Could not find regridded: ' + hemco2dpath)\n"
   ]
  },
  {
   "cell_type": "markdown",
   "metadata": {
    "colab_type": "text",
    "id": "2UWdbBbK1b71"
   },
   "source": [
    "# Write HEMCO_Config.rc\n",
    "\n",
    "* Create a HEMCO_Config.rc that reads all included files\n",
    "* Only needed to be made once and editted to use $MM instead of 01..12\n"
   ]
  },
  {
   "cell_type": "code",
   "execution_count": 289,
   "metadata": {
    "colab": {
     "base_uri": "https://localhost:8080/",
     "height": 428
    },
    "colab_type": "code",
    "id": "DMKAuJGDkEy8",
    "outputId": "d6103159-5c5d-4cb1-dbc8-341dcfe8eb43"
   },
   "outputs": [
    {
     "name": "stdout",
     "output_type": "stream",
     "text": [
      "output/2016fh_16j_afdust_adj_0pt1degree_month_08.ncf\n",
      "output/2016fh_16j_ag_0pt1degree_month_08.ncf\n",
      "output/2016fh_16j_airports_0pt1degree_month_08.ncf\n",
      "output/2016fh_16j_nonpt_0pt1degree_month_08.ncf\n",
      "output/2016fh_16j_nonroad_0pt1degree_month_08.ncf\n",
      "output/2016fh_16j_np_oilgas_0pt1degree_month_08.ncf\n",
      "output/2016fh_16j_onroad_0pt1degree_month_08.ncf\n",
      "output/2016fh_16j_onroad_ca_adj_0pt1degree_month_08.ncf\n",
      "output/2016fh_16j_rail_0pt1degree_month_08.ncf\n",
      "output/2016fh_16j_rwc_0pt1degree_month_08.ncf\n",
      "output/2016fh_16j_emln_cmv_c1c2_12_0pt1degree_3D_month_08.ncf\n",
      "output/2016fh_16j_emln_cmv_c3_12_0pt1degree_3D_month_08.ncf\n",
      "output/2016fh_16j_emln_othpt_0pt1degree_3D_month_08.ncf\n",
      "output/2016fh_16j_emln_ptegu_0pt1degree_3D_month_08.ncf\n",
      "output/2016fh_16j_emln_pt_oilgas_allinln_0pt1degree_3D_month_08.ncf\n",
      "output/2016fh_16j_emln_ptnonipm_allinln_0pt1degree_3D_month_08.ncf\n",
      "output/2016fh_16j_onroad_can_0pt1degree_month_08.ncf\n",
      "output/2016fh_16j_onroad_mex_0pt1degree_month_08.ncf\n",
      "output/2016fh_16j_othafdust_adj_0pt1degree_month_08.ncf\n",
      "output/2016fh_16j_othar_0pt1degree_month_08.ncf\n",
      "output/2016fh_16j_othptdust_adj_0pt1degree_month_08.ncf\n",
      "Ignored ['ALD2_PRIMARY', 'BUTADIENE13', 'CH4', 'CH4_INV', 'CO2_INV', 'ETHY', 'FORM_PRIMARY', 'ISOP', 'N2O_INV', 'NAPH', 'NH3_FERT', 'NOX', 'NVOL', 'PAL', 'PCA', 'PCL', 'PFE', 'PH2O', 'PK', 'PM2_5', 'PMC', 'PMG', 'PMN', 'PMOTHR', 'PNCOM', 'PSI', 'PTI', 'SOAALK', 'TERP', 'UNK', 'UNR', 'VOC_INV']\n",
      "Defaults ['hyam', 'hybm']\n"
     ]
    }
   ],
   "source": [
    "def changepathtopattern(path):\n",
    "  return path.replace('month_' + month, 'month_$MM')\n",
    "\n",
    "defaults = set()\n",
    "ignores = set()\n",
    "with open('output/EPA_Config.rc', 'w') as hcf:\n",
    "  hcf.write('(((EPA2016_MONMEAN\\n')\n",
    "  for hcpath in hcpaths:\n",
    "    print(hcpath, end='', flush=True)\n",
    "    hcfile = pnc.pncopen(hcpath, format='netcdf')\n",
    "    hcpath = changepathtopattern(hcpath)\n",
    "    for cqkey, v in hcfile.variables.items():\n",
    "      if cqkey in hcfile.dimensions or cqkey in ('hyai', 'hybi'):\n",
    "        continue\n",
    "      elif cqkey in ('TOLU',):\n",
    "        warn('TOLU mass is duplicated by TOL')\n",
    "      if cqkey in cq2gc:\n",
    "        gctrans = cq2gc.get(cqkey)\n",
    "        if len(gctrans) == 0:\n",
    "          ignores.add(cqkey)\n",
    "      else:\n",
    "        defaults.add(cqkey)\n",
    "        gctrans = [[cqkey, '1007']]\n",
    "      for gckey, scale in gctrans:\n",
    "        opts = dict(\n",
    "            unit=v.units.strip(),\n",
    "            gckey=gckey,\n",
    "            cqkey=cqkey,\n",
    "            sector=hcpath.split('_')[2],\n",
    "            path='{HCROOT}/NEI2016fh/' + hcpath,\n",
    "            scale=scale,\n",
    "            cat='1',\n",
    "            hier=50\n",
    "        )\n",
    "        hcf.write('0 EPA16_{sector}_{cqkey}_{gckey} {path}  {cqkey}       2016-2016/1-12/1-31/1-24 C xyz  {unit}  {gckey}   {scale}     {cat} {hier}\\n'.format(**opts))\n",
    "    print()\n",
    "  hcf.write(')))EPA2016_MONMEAN\\n')\n",
    "print('Ignored', sorted(ignores))\n",
    "print('Defaults', sorted(defaults))"
   ]
  },
  {
   "cell_type": "markdown",
   "metadata": {
    "colab_type": "text",
    "id": "LYpjXX9C1sGI"
   },
   "source": [
    "# Review the HEMCO file"
   ]
  },
  {
   "cell_type": "code",
   "execution_count": 290,
   "metadata": {
    "colab": {
     "base_uri": "https://localhost:8080/",
     "height": 71
    },
    "colab_type": "code",
    "id": "MAbrOz9GRISo",
    "outputId": "c249b8b7-aa64-4e9c-bf89-3a5f451094e8"
   },
   "outputs": [
    {
     "name": "stderr",
     "output_type": "stream",
     "text": [
      "/usr/local/lib/python3.6/dist-packages/ipykernel/zmqshell.py:342: ResourceWarning: unclosed file <_io.TextIOWrapper name='output/EPA_Config.rc' mode='r' encoding='UTF-8'>\n",
      "  cont = open(arg_s).read()\n"
     ]
    }
   ],
   "source": [
    "less output/EPA_Config.rc"
   ]
  },
  {
   "cell_type": "markdown",
   "metadata": {
    "colab_type": "text",
    "id": "LaTjFrubKSQJ"
   },
   "source": [
    "# Summary\n",
    "\n",
    "You've created 3 important in the output folder.\n",
    "1. A 3D emln file with no fires.\n",
    "2. A 2D gridded file with no beis\n",
    "3. A HEMCO_Config.rc file\n",
    "\n",
    "The are two additional files that are just references:\n",
    "1. tot_nobeis_nofire is a refernce fo the expected total\n",
    "2. emln_nofire (non-3D)\n",
    "\n",
    "Download the output directory"
   ]
  },
  {
   "cell_type": "code",
   "execution_count": 292,
   "metadata": {
    "colab": {
     "base_uri": "https://localhost:8080/",
     "height": 1000
    },
    "colab_type": "code",
    "id": "gWL4u3C6NLbA",
    "outputId": "2eab201a-0f9e-4f0c-f3f7-345c133db890"
   },
   "outputs": [
    {
     "name": "stdout",
     "output_type": "stream",
     "text": [
      "updating: content/output/ (stored 0%)\n",
      "updating: content/output/2016fh_16j_emln_pt_oilgas_allinln_0pt1degree_month_02.ncf (deflated 14%)\n",
      "updating: content/output/2016fh_16j_merge_areaonly_0pt1degree_month_07.ncf (deflated 3%)\n",
      "updating: content/output/2016fh_16j_emln_pt_oilgas_allinln_0pt1degree_3D_month_07.ncf (deflated 97%)\n",
      "updating: content/output/2016fh_16j_emln_cmv_c3_12_0pt1degree_3D_month_07.ncf (deflated 91%)\n",
      "updating: content/output/2016fh_16j_emln_ptnonipm_allinln_0pt1degree_3D_month_07.ncf (deflated 93%)\n",
      "updating: content/output/2016fh_16j_emln_cmv_c3_12_0pt1degree_3D_month_02.ncf (deflated 92%)\n",
      "updating: content/output/2016fh_16j_np_oilgas_0pt1degree_month_01.ncf (deflated 13%)\n",
      "updating: content/output/2016fh_16j_nonroad_0pt1degree_month_07.ncf (deflated 3%)\n",
      "updating: content/output/2016fh_16j_nonpt_0pt1degree_month_07.ncf (deflated 3%)\n",
      "updating: content/output/2016fh_16j_othptdust_adj_0pt1degree_month_07.ncf (deflated 11%)\n",
      "updating: content/output/2016fh_16j_emln_othpt_0pt1degree_3D_month_01.ncf (deflated 96%)\n",
      "updating: content/output/2016fh_16j_onroad_0pt1degree_month_07.ncf (deflated 3%)\n",
      "updating: content/output/2016fh_16j_ag_0pt1degree_month_07.ncf (deflated 4%)\n",
      "updating: content/output/2016fh_16j_np_oilgas_0pt1degree_month_03.ncf (deflated 13%)\n",
      "updating: content/output/2016fh_16j_rwc_0pt1degree_month_07.ncf (deflated 4%)\n",
      "updating: content/output/2016fh_16j_emln_cmv_c3_12_0pt1degree_month_02.ncf (deflated 5%)\n",
      "updating: content/output/2016fh_16j_othar_0pt1degree_month_03.ncf (deflated 4%)\n",
      "updating: content/output/2016fh_16j_emln_cmv_c3_12_0pt1degree_month_07.ncf (deflated 5%)\n",
      "updating: content/output/2016fh_16j_merge_natural_0pt1degree_month_03.ncf (deflated 3%)\n",
      "updating: content/output/2016fh_16j_afdust_adj_0pt1degree_month_03.ncf (deflated 3%)\n",
      "updating: content/output/2016fh_16j_afdust_adj_0pt1degree_month_02.ncf (deflated 3%)\n",
      "updating: content/output/2016fh_16j_merge_natural_0pt1degree_month_02.ncf (deflated 3%)\n",
      "updating: content/output/2016fh_16j_rail_0pt1degree_month_03.ncf (deflated 5%)\n",
      "updating: content/output/2016fh_16j_emln_ptegu_0pt1degree_month_03.ncf (deflated 22%)\n",
      "updating: content/output/2016fh_16j_nonpt_0pt1degree_month_02.ncf (deflated 3%)\n",
      "updating: content/output/2016fh_16j_onroad_mex_0pt1degree_month_02.ncf (deflated 22%)\n",
      "updating: content/output/2016fh_16j_merge_intl_0pt1degree_month_03.ncf (deflated 4%)\n",
      "updating: content/output/2016fh_16j_rwc_0pt1degree_month_02.ncf (deflated 4%)\n",
      "updating: content/output/2016fh_16j_othptdust_adj_0pt1degree_month_01.ncf (deflated 38%)\n",
      "updating: content/output/2016fh_16j_emln_cmv_c3_12_0pt1degree_3D_month_03.ncf (deflated 92%)\n",
      "updating: content/output/2016fh_16j_emln_ptnonipm_allinln_0pt1degree_month_02.ncf (deflated 6%)\n",
      "updating: content/output/2016fh_16j_emln_pt_oilgas_allinln_0pt1degree_3D_month_01.ncf (deflated 97%)\n",
      "updating: content/output/2016fh_16j_onroad_can_0pt1degree_month_07.ncf (deflated 6%)\n",
      "updating: content/output/2016fh_16j_airports_0pt1degree_month_07.ncf (deflated 5%)\n",
      "updating: content/output/2016fh_16j_onroad_ca_adj_0pt1degree_month_02.ncf (deflated 33%)\n",
      "updating: content/output/2016fh_16j_emln_pt_oilgas_allinln_0pt1degree_month_07.ncf (deflated 14%)\n",
      "updating: content/output/2016fh_16j_nonroad_0pt1degree_month_03.ncf (deflated 3%)\n",
      "updating: content/output/2016fh_16j_rail_0pt1degree_month_01.ncf (deflated 5%)\n",
      "updating: content/output/2016fh_16j_emln_cmv_c1c2_12_0pt1degree_month_01.ncf (deflated 10%)\n",
      "updating: content/output/2016fh_16j_afdust_adj_0pt1degree_month_07.ncf (deflated 3%)\n",
      "updating: content/output/2016fh_16j_rail_0pt1degree_month_07.ncf (deflated 5%)\n",
      "updating: content/output/2016fh_16j_ag_0pt1degree_month_01.ncf (deflated 4%)\n",
      "updating: content/output/2016fh_16j_ag_0pt1degree_month_03.ncf (deflated 4%)\n",
      "updating: content/output/2016fh_16j_merge_intl_0pt1degree_month_01.ncf (deflated 4%)\n",
      "updating: content/output/2016fh_16j_merge_0pt1degree_month_02.ncf (deflated 1%)\n",
      "updating: content/output/2016fh_16j_emln_othpt_0pt1degree_3D_month_03.ncf (deflated 96%)\n",
      "updating: content/output/2016fh_16j_merge_natural_0pt1degree_month_07.ncf (deflated 3%)\n",
      "updating: content/output/2016fh_16j_ag_0pt1degree_month_02.ncf (deflated 4%)\n",
      "updating: content/output/2016fh_16j_emln_othpt_0pt1degree_3D_month_02.ncf (deflated 96%)\n",
      "updating: content/output/2016fh_16j_rwc_0pt1degree_month_03.ncf (deflated 4%)\n",
      "updating: content/output/2016fh_16j_np_oilgas_0pt1degree_month_07.ncf (deflated 13%)\n",
      "updating: content/output/2016fh_16j_nonroad_0pt1degree_month_01.ncf (deflated 3%)\n",
      "updating: content/output/2016fh_16j_emln_cmv_c1c2_12_0pt1degree_month_07.ncf (deflated 8%)\n",
      "updating: content/output/2016fh_16j_emln_ptegu_0pt1degree_month_07.ncf (deflated 21%)\n",
      "updating: content/output/2016fh_16j_merge_point_0pt1degree_month_07.ncf (deflated 2%)\n",
      "updating: content/output/2016fh_16j_onroad_0pt1degree_month_03.ncf (deflated 3%)\n",
      "updating: content/output/2016fh_16j_emln_ptegu_0pt1degree_3D_month_03.ncf (deflated 99%)\n",
      "updating: content/output/2016fh_16j_emln_othpt_0pt1degree_month_01.ncf (deflated 11%)\n",
      "updating: content/output/2016fh_16j_airports_0pt1degree_month_02.ncf (deflated 5%)\n",
      "updating: content/output/2016fh_16j_merge_areaonly_0pt1degree_month_02.ncf (deflated 3%)\n",
      "updating: content/output/2016fh_16j_merge_intl_0pt1degree_month_02.ncf (deflated 4%)\n",
      "updating: content/output/2016fh_16j_merge_point_0pt1degree_month_02.ncf (deflated 2%)\n",
      "updating: content/output/2016fh_16j_emln_ptnonipm_allinln_0pt1degree_month_07.ncf (deflated 6%)\n",
      "updating: content/output/2016fh_16j_emln_ptegu_0pt1degree_month_02.ncf (deflated 22%)\n",
      "updating: content/output/2016fh_16j_merge_natural_0pt1degree_month_01.ncf (deflated 3%)\n",
      "updating: content/output/2016fh_16j_emln_pt_oilgas_allinln_0pt1degree_month_01.ncf (deflated 14%)\n",
      "updating: content/output/2016fh_16j_merge_point_0pt1degree_month_01.ncf (deflated 2%)\n",
      "updating: content/output/2016fh_16j_rail_0pt1degree_month_02.ncf (deflated 5%)\n",
      "updating: content/output/2016fh_16j_emln_cmv_c3_12_0pt1degree_month_03.ncf (deflated 5%)\n",
      "updating: content/output/2016fh_16j_airports_0pt1degree_month_03.ncf (deflated 5%)\n",
      "updating: content/output/2016fh_16j_emln_pt_oilgas_allinln_0pt1degree_3D_month_03.ncf (deflated 97%)\n",
      "updating: content/output/2016fh_16j_emln_pt_oilgas_allinln_0pt1degree_3D_month_02.ncf (deflated 97%)\n",
      "updating: content/output/2016fh_16j_emln_othpt_0pt1degree_month_03.ncf (deflated 10%)\n",
      "updating: content/output/2016fh_16j_rwc_0pt1degree_month_01.ncf (deflated 4%)\n",
      "updating: content/output/2016fh_16j_emln_ptnonipm_allinln_0pt1degree_3D_month_03.ncf (deflated 93%)\n",
      "updating: content/output/2016fh_16j_onroad_can_0pt1degree_month_02.ncf (deflated 6%)\n",
      "updating: content/output/2016fh_16j_merge_0pt1degree_month_07.ncf (deflated 1%)\n",
      "updating: content/output/2016fh_16j_emln_othpt_0pt1degree_month_07.ncf (deflated 10%)\n",
      "updating: content/output/2016fh_16j_emln_cmv_c3_12_0pt1degree_month_01.ncf (deflated 5%)\n",
      "updating: content/output/2016fh_16j_othafdust_adj_0pt1degree_month_02.ncf (deflated 15%)\n",
      "updating: content/output/2016fh_16j_merge_intl_0pt1degree_month_07.ncf (deflated 4%)\n",
      "updating: content/output/2016fh_16j_emln_othpt_0pt1degree_month_02.ncf (deflated 11%)\n",
      "updating: content/output/2016fh_16j_emln_cmv_c3_12_0pt1degree_3D_month_01.ncf (deflated 92%)\n",
      "updating: content/output/2016fh_16j_airports_0pt1degree_month_01.ncf (deflated 5%)\n",
      "updating: content/output/2016fh_16j_merge_0pt1degree_month_03.ncf (deflated 1%)\n",
      "updating: content/output/2016fh_16j_emln_pt_oilgas_allinln_0pt1degree_month_03.ncf (deflated 14%)\n",
      "updating: content/output/2016fh_16j_othar_0pt1degree_month_02.ncf (deflated 4%)\n",
      "updating: content/output/2016fh_16j_onroad_ca_adj_0pt1degree_month_01.ncf (deflated 33%)\n",
      "updating: content/output/2016fh_16j_emln_cmv_c1c2_12_0pt1degree_3D_month_07.ncf (deflated 95%)\n",
      "updating: content/output/2016fh_16j_emln_ptegu_0pt1degree_3D_month_01.ncf (deflated 99%)\n",
      "updating: content/output/2016fh_16j_othafdust_adj_0pt1degree_month_01.ncf (deflated 18%)\n",
      "updating: content/output/2016fh_16j_othptdust_adj_0pt1degree_month_03.ncf (deflated 21%)\n",
      "updating: content/output/2016fh_16j_emln_cmv_c1c2_12_0pt1degree_3D_month_03.ncf (deflated 96%)\n",
      "updating: content/output/EPA_Config.rc (deflated 96%)\n",
      "updating: content/output/2016fh_16j_onroad_ca_adj_0pt1degree_month_03.ncf (deflated 33%)\n",
      "updating: content/output/2016fh_16j_merge_areaonly_0pt1degree_month_01.ncf (deflated 3%)\n",
      "updating: content/output/2016fh_16j_afdust_adj_0pt1degree_month_01.ncf (deflated 3%)\n",
      "updating: content/output/2016fh_16j_merge_0pt1degree_month_01.ncf (deflated 1%)\n",
      "updating: content/output/2016fh_16j_onroad_0pt1degree_month_02.ncf (deflated 3%)\n",
      "updating: content/output/2016fh_16j_onroad_0pt1degree_month_01.ncf (deflated 3%)\n",
      "updating: content/output/2016fh_16j_nonpt_0pt1degree_month_01.ncf (deflated 3%)\n",
      "updating: content/output/2016fh_16j_merge_areaonly_0pt1degree_month_03.ncf (deflated 3%)\n",
      "updating: content/output/2016fh_16j_emln_cmv_c1c2_12_0pt1degree_month_02.ncf (deflated 11%)\n",
      "updating: content/output/2016fh_16j_emln_cmv_c1c2_12_0pt1degree_3D_month_01.ncf (deflated 96%)\n",
      "updating: content/output/2016fh_16j_onroad_mex_0pt1degree_month_03.ncf (deflated 22%)\n",
      "updating: content/output/2016fh_16j_othar_0pt1degree_month_01.ncf (deflated 4%)\n",
      "updating: content/output/2016fh_16j_othar_0pt1degree_month_07.ncf (deflated 4%)\n",
      "updating: content/output/2016fh_16j_np_oilgas_0pt1degree_month_02.ncf (deflated 13%)\n",
      "updating: content/output/2016fh_16j_nonroad_0pt1degree_month_02.ncf (deflated 3%)\n",
      "updating: content/output/2016fh_16j_onroad_mex_0pt1degree_month_07.ncf (deflated 22%)\n",
      "updating: content/output/2016fh_16j_merge_point_0pt1degree_month_03.ncf (deflated 2%)\n",
      "updating: content/output/2016fh_16j_othafdust_adj_0pt1degree_month_07.ncf (deflated 5%)\n",
      "updating: content/output/2016fh_16j_emln_ptnonipm_allinln_0pt1degree_3D_month_02.ncf (deflated 93%)\n",
      "updating: content/output/2016fh_16j_onroad_ca_adj_0pt1degree_month_07.ncf (deflated 33%)\n",
      "updating: content/output/2016fh_16j_onroad_can_0pt1degree_month_01.ncf (deflated 6%)\n",
      "updating: content/output/2016fh_16j_emln_cmv_c1c2_12_0pt1degree_month_03.ncf (deflated 10%)\n",
      "updating: content/output/2016fh_16j_emln_ptegu_0pt1degree_3D_month_02.ncf (deflated 99%)\n",
      "updating: content/output/2016fh_16j_othptdust_adj_0pt1degree_month_02.ncf (deflated 29%)\n",
      "updating: content/output/2016fh_16j_onroad_mex_0pt1degree_month_01.ncf (deflated 22%)\n",
      "updating: content/output/2016fh_16j_onroad_can_0pt1degree_month_03.ncf (deflated 6%)\n",
      "updating: content/output/2016fh_16j_emln_ptnonipm_allinln_0pt1degree_3D_month_01.ncf (deflated 93%)\n",
      "updating: content/output/2016fh_16j_nonpt_0pt1degree_month_03.ncf (deflated 3%)\n",
      "updating: content/output/2016fh_16j_emln_ptegu_0pt1degree_3D_month_07.ncf (deflated 99%)\n",
      "updating: content/output/2016fh_16j_emln_ptnonipm_allinln_0pt1degree_month_03.ncf (deflated 6%)\n",
      "updating: content/output/2016fh_16j_emln_ptegu_0pt1degree_month_01.ncf (deflated 22%)\n",
      "updating: content/output/2016fh_16j_othafdust_adj_0pt1degree_month_03.ncf (deflated 8%)\n",
      "updating: content/output/2016fh_16j_emln_cmv_c1c2_12_0pt1degree_3D_month_02.ncf (deflated 96%)\n",
      "updating: content/output/2016fh_16j_emln_ptnonipm_allinln_0pt1degree_month_01.ncf (deflated 6%)\n",
      "updating: content/output/2016fh_16j_emln_othpt_0pt1degree_3D_month_07.ncf (deflated 96%)\n",
      "  adding: content/output/2016fh_16j_merge_intl_0pt1degree_month_06.ncf (deflated 4%)\n",
      "  adding: content/output/2016fh_16j_rwc_0pt1degree_month_08.ncf (deflated 4%)\n",
      "  adding: content/output/2016fh_16j_merge_natural_0pt1degree_month_06.ncf (deflated 3%)\n",
      "  adding: content/output/2016fh_16j_emln_ptnonipm_allinln_0pt1degree_3D_month_04.ncf (deflated 93%)\n",
      "  adding: content/output/2016fh_16j_emln_ptegu_0pt1degree_3D_month_06.ncf (deflated 99%)\n",
      "  adding: content/output/2016fh_16j_emln_ptegu_0pt1degree_3D_month_08.ncf (deflated 99%)\n",
      "  adding: content/output/2016fh_16j_emln_cmv_c1c2_12_0pt1degree_3D_month_08.ncf (deflated 95%)\n",
      "  adding: content/output/2016fh_16j_emln_ptegu_0pt1degree_3D_month_04.ncf (deflated 99%)\n",
      "  adding: content/output/2016fh_16j_onroad_0pt1degree_month_08.ncf (deflated 3%)\n",
      "  adding: content/output/2016fh_16j_emln_pt_oilgas_allinln_0pt1degree_month_04.ncf (deflated 14%)\n",
      "  adding: content/output/2016fh_16j_merge_natural_0pt1degree_month_04.ncf (deflated 2%)\n",
      "  adding: content/output/2016fh_16j_emln_othpt_0pt1degree_month_05.ncf (deflated 10%)\n",
      "  adding: content/output/2016fh_16j_airports_0pt1degree_month_04.ncf (deflated 5%)\n",
      "  adding: content/output/2016fh_16j_emln_ptnonipm_allinln_0pt1degree_3D_month_08.ncf (deflated 93%)\n",
      "  adding: content/output/2016fh_16j_onroad_0pt1degree_month_06.ncf (deflated 3%)\n",
      "  adding: content/output/2016fh_16j_nonroad_0pt1degree_month_08.ncf (deflated 3%)\n",
      "  adding: content/output/2016fh_16j_emln_cmv_c3_12_0pt1degree_month_05.ncf (deflated 5%)\n",
      "  adding: content/output/2016fh_16j_nonpt_0pt1degree_month_08.ncf (deflated 3%)\n",
      "  adding: content/output/2016fh_16j_merge_point_0pt1degree_month_04.ncf (deflated 2%)\n",
      "  adding: content/output/2016fh_16j_emln_othpt_0pt1degree_3D_month_06.ncf (deflated 96%)\n",
      "  adding: content/output/2016fh_16j_merge_areaonly_0pt1degree_month_06.ncf (deflated 3%)\n",
      "  adding: content/output/2016fh_16j_emln_pt_oilgas_allinln_0pt1degree_month_08.ncf (deflated 14%)\n",
      "  adding: content/output/2016fh_16j_merge_areaonly_0pt1degree_month_04.ncf (deflated 3%)\n",
      "  adding: content/output/2016fh_16j_emln_pt_oilgas_allinln_0pt1degree_month_05.ncf (deflated 14%)\n",
      "  adding: content/output/2016fh_16j_emln_ptegu_0pt1degree_3D_month_05.ncf (deflated 99%)\n",
      "  adding: content/output/2016fh_16j_onroad_0pt1degree_month_04.ncf (deflated 3%)\n",
      "  adding: content/output/2016fh_16j_emln_ptnonipm_allinln_0pt1degree_3D_month_05.ncf (deflated 93%)\n",
      "  adding: content/output/2016fh_16j_np_oilgas_0pt1degree_month_05.ncf (deflated 13%)\n",
      "  adding: content/output/2016fh_16j_merge_0pt1degree_month_05.ncf (deflated 1%)\n",
      "  adding: content/output/2016fh_16j_emln_cmv_c1c2_12_0pt1degree_month_05.ncf (deflated 9%)\n",
      "  adding: content/output/2016fh_16j_np_oilgas_0pt1degree_month_04.ncf (deflated 13%)\n",
      "  adding: content/output/2016fh_16j_emln_cmv_c3_12_0pt1degree_3D_month_08.ncf (deflated 91%)\n",
      "  adding: content/output/2016fh_16j_merge_point_0pt1degree_month_08.ncf (deflated 2%)\n",
      "  adding: content/output/2016fh_16j_emln_cmv_c3_12_0pt1degree_3D_month_04.ncf (deflated 91%)\n",
      "  adding: content/output/2016fh_16j_emln_ptnonipm_allinln_0pt1degree_month_04.ncf (deflated 6%)\n",
      "  adding: content/output/2016fh_16j_emln_cmv_c1c2_12_0pt1degree_month_04.ncf (deflated 9%)\n",
      "  adding: content/output/2016fh_16j_rwc_0pt1degree_month_04.ncf (deflated 4%)\n",
      "  adding: content/output/2016fh_16j_othafdust_adj_0pt1degree_month_08.ncf (deflated 5%)\n",
      "  adding: content/output/2016fh_16j_merge_natural_0pt1degree_month_05.ncf (deflated 3%)\n",
      "  adding: content/output/2016fh_16j_emln_othpt_0pt1degree_3D_month_04.ncf (deflated 96%)\n",
      "  adding: content/output/2016fh_16j_othar_0pt1degree_month_04.ncf (deflated 4%)\n",
      "  adding: content/output/2016fh_16j_merge_0pt1degree_month_06.ncf (deflated 1%)\n",
      "  adding: content/output/2016fh_16j_onroad_can_0pt1degree_month_08.ncf (deflated 6%)\n",
      "  adding: content/output/2016fh_16j_nonroad_0pt1degree_month_04.ncf (deflated 3%)\n",
      "  adding: content/output/2016fh_16j_nonpt_0pt1degree_month_04.ncf (deflated 3%)\n",
      "  adding: content/output/2016fh_16j_emln_cmv_c1c2_12_0pt1degree_3D_month_04.ncf (deflated 96%)\n",
      "  adding: content/output/2016fh_16j_merge_point_0pt1degree_month_06.ncf (deflated 2%)\n",
      "  adding: content/output/2016fh_16j_rail_0pt1degree_month_08.ncf (deflated 5%)\n",
      "  adding: content/output/2016fh_16j_emln_cmv_c3_12_0pt1degree_month_06.ncf (deflated 5%)\n",
      "  adding: content/output/2016fh_16j_emln_pt_oilgas_allinln_0pt1degree_3D_month_08.ncf (deflated 97%)\n",
      "  adding: content/output/2016fh_16j_rwc_0pt1degree_month_06.ncf (deflated 4%)\n",
      "  adding: content/output/2016fh_16j_airports_0pt1degree_month_08.ncf (deflated 5%)\n",
      "  adding: content/output/2016fh_16j_afdust_adj_0pt1degree_month_06.ncf (deflated 3%)\n",
      "  adding: content/output/2016fh_16j_emln_pt_oilgas_allinln_0pt1degree_3D_month_06.ncf (deflated 97%)\n",
      "  adding: content/output/2016fh_16j_onroad_ca_adj_0pt1degree_month_05.ncf (deflated 33%)\n",
      "  adding: content/output/2016fh_16j_emln_othpt_0pt1degree_month_04.ncf (deflated 10%)\n",
      "  adding: content/output/2016fh_16j_nonroad_0pt1degree_month_05.ncf (deflated 3%)\n",
      "  adding: content/output/2016fh_16j_merge_areaonly_0pt1degree_month_05.ncf (deflated 3%)\n",
      "  adding: content/output/2016fh_16j_othafdust_adj_0pt1degree_month_04.ncf (deflated 6%)\n",
      "  adding: content/output/2016fh_16j_onroad_mex_0pt1degree_month_04.ncf (deflated 22%)\n",
      "  adding: content/output/2016fh_16j_emln_cmv_c3_12_0pt1degree_3D_month_05.ncf (deflated 91%)\n",
      "  adding: content/output/2016fh_16j_np_oilgas_0pt1degree_month_08.ncf (deflated 13%)\n",
      "  adding: content/output/2016fh_16j_rwc_0pt1degree_month_05.ncf (deflated 4%)\n",
      "  adding: content/output/2016fh_16j_merge_intl_0pt1degree_month_08.ncf (deflated 4%)\n",
      "  adding: content/output/2016fh_16j_emln_cmv_c1c2_12_0pt1degree_3D_month_06.ncf (deflated 95%)\n",
      "  adding: content/output/2016fh_16j_onroad_mex_0pt1degree_month_08.ncf (deflated 22%)\n",
      "  adding: content/output/2016fh_16j_emln_pt_oilgas_allinln_0pt1degree_3D_month_04.ncf (deflated 97%)\n",
      "  adding: content/output/2016fh_16j_othar_0pt1degree_month_08.ncf (deflated 4%)\n",
      "  adding: content/output/2016fh_16j_np_oilgas_0pt1degree_month_06.ncf (deflated 13%)\n",
      "  adding: content/output/2016fh_16j_emln_cmv_c3_12_0pt1degree_month_08.ncf (deflated 5%)\n",
      "  adding: content/output/2016fh_16j_merge_intl_0pt1degree_month_04.ncf (deflated 4%)\n",
      "  adding: content/output/2016fh_16j_rail_0pt1degree_month_06.ncf (deflated 5%)\n",
      "  adding: content/output/2016fh_16j_merge_natural_0pt1degree_month_08.ncf (deflated 3%)\n",
      "  adding: content/output/2016fh_16j_afdust_adj_0pt1degree_month_08.ncf (deflated 3%)\n",
      "  adding: content/output/2016fh_16j_emln_cmv_c3_12_0pt1degree_month_04.ncf (deflated 5%)\n",
      "  adding: content/output/2016fh_16j_emln_pt_oilgas_allinln_0pt1degree_month_06.ncf (deflated 14%)\n",
      "  adding: content/output/2016fh_16j_ag_0pt1degree_month_08.ncf (deflated 4%)\n",
      "  adding: content/output/2016fh_16j_ag_0pt1degree_month_06.ncf (deflated 4%)\n",
      "  adding: content/output/2016fh_16j_onroad_mex_0pt1degree_month_06.ncf (deflated 22%)\n",
      "  adding: content/output/2016fh_16j_rail_0pt1degree_month_05.ncf (deflated 5%)\n",
      "  adding: content/output/2016fh_16j_emln_cmv_c1c2_12_0pt1degree_month_08.ncf (deflated 8%)\n",
      "  adding: content/output/2016fh_16j_othafdust_adj_0pt1degree_month_06.ncf (deflated 5%)\n",
      "  adding: content/output/2016fh_16j_onroad_mex_0pt1degree_month_05.ncf (deflated 22%)\n",
      "  adding: content/output/2016fh_16j_emln_ptnonipm_allinln_0pt1degree_month_06.ncf (deflated 6%)\n",
      "  adding: content/output/2016fh_16j_emln_othpt_0pt1degree_month_06.ncf (deflated 10%)\n",
      "  adding: content/output/2016fh_16j_othar_0pt1degree_month_06.ncf (deflated 4%)\n",
      "  adding: content/output/2016fh_16j_emln_cmv_c1c2_12_0pt1degree_month_06.ncf (deflated 9%)\n",
      "  adding: content/output/2016fh_16j_othptdust_adj_0pt1degree_month_06.ncf (deflated 10%)\n",
      "  adding: content/output/2016fh_16j_emln_cmv_c3_12_0pt1degree_3D_month_06.ncf (deflated 91%)\n",
      "  adding: content/output/2016fh_16j_emln_ptnonipm_allinln_0pt1degree_month_05.ncf (deflated 6%)\n",
      "  adding: content/output/2016fh_16j_afdust_adj_0pt1degree_month_04.ncf (deflated 3%)\n",
      "  adding: content/output/2016fh_16j_othptdust_adj_0pt1degree_month_05.ncf (deflated 10%)\n",
      "  adding: content/output/2016fh_16j_emln_othpt_0pt1degree_3D_month_05.ncf (deflated 96%)\n",
      "  adding: content/output/2016fh_16j_onroad_ca_adj_0pt1degree_month_04.ncf (deflated 33%)\n",
      "  adding: content/output/2016fh_16j_othafdust_adj_0pt1degree_month_05.ncf (deflated 5%)\n",
      "  adding: content/output/2016fh_16j_onroad_can_0pt1degree_month_05.ncf (deflated 6%)\n",
      "  adding: content/output/2016fh_16j_othptdust_adj_0pt1degree_month_08.ncf (deflated 10%)\n",
      "  adding: content/output/2016fh_16j_nonroad_0pt1degree_month_06.ncf (deflated 3%)\n",
      "  adding: content/output/2016fh_16j_merge_0pt1degree_month_08.ncf (deflated 1%)\n",
      "  adding: content/output/2016fh_16j_emln_cmv_c1c2_12_0pt1degree_3D_month_05.ncf (deflated 95%)\n",
      "  adding: content/output/2016fh_16j_emln_othpt_0pt1degree_month_08.ncf (deflated 10%)\n",
      "  adding: content/output/2016fh_16j_onroad_can_0pt1degree_month_06.ncf (deflated 6%)\n",
      "  adding: content/output/2016fh_16j_merge_intl_0pt1degree_month_05.ncf (deflated 4%)\n",
      "  adding: content/output/2016fh_16j_merge_point_0pt1degree_month_05.ncf (deflated 2%)\n",
      "  adding: content/output/2016fh_16j_emln_ptnonipm_allinln_0pt1degree_month_08.ncf (deflated 6%)\n",
      "  adding: content/output/2016fh_16j_afdust_adj_0pt1degree_month_05.ncf (deflated 3%)\n",
      "  adding: content/output/2016fh_16j_emln_pt_oilgas_allinln_0pt1degree_3D_month_05.ncf (deflated 97%)\n",
      "  adding: content/output/2016fh_16j_onroad_0pt1degree_month_05.ncf (deflated 3%)\n",
      "  adding: content/output/2016fh_16j_ag_0pt1degree_month_04.ncf (deflated 4%)\n",
      "  adding: content/output/2016fh_16j_emln_ptegu_0pt1degree_month_06.ncf (deflated 21%)\n",
      "  adding: content/output/2016fh_16j_ag_0pt1degree_month_05.ncf (deflated 4%)\n",
      "  adding: content/output/2016fh_16j_merge_0pt1degree_month_04.ncf (deflated 1%)\n",
      "  adding: content/output/2016fh_16j_othptdust_adj_0pt1degree_month_04.ncf (deflated 11%)\n",
      "  adding: content/output/2016fh_16j_emln_ptnonipm_allinln_0pt1degree_3D_month_06.ncf (deflated 93%)\n",
      "  adding: content/output/2016fh_16j_emln_ptegu_0pt1degree_month_05.ncf (deflated 22%)\n",
      "  adding: content/output/2016fh_16j_merge_areaonly_0pt1degree_month_08.ncf (deflated 3%)\n",
      "  adding: content/output/2016fh_16j_airports_0pt1degree_month_05.ncf (deflated 5%)\n",
      "  adding: content/output/2016fh_16j_onroad_can_0pt1degree_month_04.ncf (deflated 6%)\n",
      "  adding: content/output/2016fh_16j_nonpt_0pt1degree_month_05.ncf (deflated 3%)\n",
      "  adding: content/output/2016fh_16j_othar_0pt1degree_month_05.ncf (deflated 4%)\n",
      "  adding: content/output/2016fh_16j_onroad_ca_adj_0pt1degree_month_08.ncf (deflated 33%)\n",
      "  adding: content/output/2016fh_16j_emln_ptegu_0pt1degree_month_04.ncf (deflated 22%)\n",
      "  adding: content/output/2016fh_16j_emln_ptegu_0pt1degree_month_08.ncf (deflated 21%)\n",
      "  adding: content/output/2016fh_16j_rail_0pt1degree_month_04.ncf (deflated 5%)\n",
      "  adding: content/output/2016fh_16j_onroad_ca_adj_0pt1degree_month_06.ncf (deflated 33%)\n",
      "  adding: content/output/2016fh_16j_nonpt_0pt1degree_month_06.ncf (deflated 3%)\n",
      "  adding: content/output/2016fh_16j_airports_0pt1degree_month_06.ncf (deflated 5%)\n",
      "  adding: content/output/2016fh_16j_emln_othpt_0pt1degree_3D_month_08.ncf (deflated 96%)\n"
     ]
    },
    {
     "ename": "MessageError",
     "evalue": "ignored",
     "output_type": "error",
     "traceback": [
      "\u001b[0;31m---------------------------------------------------------------------------\u001b[0m",
      "\u001b[0;31mMessageError\u001b[0m                              Traceback (most recent call last)",
      "\u001b[0;32m<ipython-input-292-cde2e3daa732>\u001b[0m in \u001b[0;36m<module>\u001b[0;34m()\u001b[0m\n\u001b[1;32m      2\u001b[0m \u001b[0;34m\u001b[0m\u001b[0m\n\u001b[1;32m      3\u001b[0m \u001b[0mget_ipython\u001b[0m\u001b[0;34m(\u001b[0m\u001b[0;34m)\u001b[0m\u001b[0;34m.\u001b[0m\u001b[0msystem\u001b[0m\u001b[0;34m(\u001b[0m\u001b[0;34m'zip -r /content/output.zip /content/output/'\u001b[0m\u001b[0;34m)\u001b[0m\u001b[0;34m\u001b[0m\u001b[0;34m\u001b[0m\u001b[0m\n\u001b[0;32m----> 4\u001b[0;31m \u001b[0mfiles\u001b[0m\u001b[0;34m.\u001b[0m\u001b[0mdownload\u001b[0m\u001b[0;34m(\u001b[0m\u001b[0;34m\"/content/output.zip\"\u001b[0m\u001b[0;34m)\u001b[0m\u001b[0;34m\u001b[0m\u001b[0;34m\u001b[0m\u001b[0m\n\u001b[0m",
      "\u001b[0;32m/usr/local/lib/python3.6/dist-packages/google/colab/files.py\u001b[0m in \u001b[0;36mdownload\u001b[0;34m(filename)\u001b[0m\n\u001b[1;32m    185\u001b[0m       \u001b[0;34m'port'\u001b[0m\u001b[0;34m:\u001b[0m \u001b[0mport\u001b[0m\u001b[0;34m,\u001b[0m\u001b[0;34m\u001b[0m\u001b[0;34m\u001b[0m\u001b[0m\n\u001b[1;32m    186\u001b[0m       \u001b[0;34m'path'\u001b[0m\u001b[0;34m:\u001b[0m \u001b[0m_os\u001b[0m\u001b[0;34m.\u001b[0m\u001b[0mpath\u001b[0m\u001b[0;34m.\u001b[0m\u001b[0mabspath\u001b[0m\u001b[0;34m(\u001b[0m\u001b[0mfilename\u001b[0m\u001b[0;34m)\u001b[0m\u001b[0;34m,\u001b[0m\u001b[0;34m\u001b[0m\u001b[0;34m\u001b[0m\u001b[0m\n\u001b[0;32m--> 187\u001b[0;31m       \u001b[0;34m'name'\u001b[0m\u001b[0;34m:\u001b[0m \u001b[0m_os\u001b[0m\u001b[0;34m.\u001b[0m\u001b[0mpath\u001b[0m\u001b[0;34m.\u001b[0m\u001b[0mbasename\u001b[0m\u001b[0;34m(\u001b[0m\u001b[0mfilename\u001b[0m\u001b[0;34m)\u001b[0m\u001b[0;34m,\u001b[0m\u001b[0;34m\u001b[0m\u001b[0;34m\u001b[0m\u001b[0m\n\u001b[0m\u001b[1;32m    188\u001b[0m   })\n\u001b[1;32m    189\u001b[0m \u001b[0;34m\u001b[0m\u001b[0m\n",
      "\u001b[0;32m/usr/local/lib/python3.6/dist-packages/google/colab/output/_js.py\u001b[0m in \u001b[0;36meval_js\u001b[0;34m(script, ignore_result)\u001b[0m\n\u001b[1;32m     37\u001b[0m   \u001b[0;32mif\u001b[0m \u001b[0mignore_result\u001b[0m\u001b[0;34m:\u001b[0m\u001b[0;34m\u001b[0m\u001b[0;34m\u001b[0m\u001b[0m\n\u001b[1;32m     38\u001b[0m     \u001b[0;32mreturn\u001b[0m\u001b[0;34m\u001b[0m\u001b[0;34m\u001b[0m\u001b[0m\n\u001b[0;32m---> 39\u001b[0;31m   \u001b[0;32mreturn\u001b[0m \u001b[0m_message\u001b[0m\u001b[0;34m.\u001b[0m\u001b[0mread_reply_from_input\u001b[0m\u001b[0;34m(\u001b[0m\u001b[0mrequest_id\u001b[0m\u001b[0;34m)\u001b[0m\u001b[0;34m\u001b[0m\u001b[0;34m\u001b[0m\u001b[0m\n\u001b[0m\u001b[1;32m     40\u001b[0m \u001b[0;34m\u001b[0m\u001b[0m\n\u001b[1;32m     41\u001b[0m \u001b[0;34m\u001b[0m\u001b[0m\n",
      "\u001b[0;32m/usr/local/lib/python3.6/dist-packages/google/colab/_message.py\u001b[0m in \u001b[0;36mread_reply_from_input\u001b[0;34m(message_id, timeout_sec)\u001b[0m\n\u001b[1;32m    104\u001b[0m         reply.get('colab_msg_id') == message_id):\n\u001b[1;32m    105\u001b[0m       \u001b[0;32mif\u001b[0m \u001b[0;34m'error'\u001b[0m \u001b[0;32min\u001b[0m \u001b[0mreply\u001b[0m\u001b[0;34m:\u001b[0m\u001b[0;34m\u001b[0m\u001b[0;34m\u001b[0m\u001b[0m\n\u001b[0;32m--> 106\u001b[0;31m         \u001b[0;32mraise\u001b[0m \u001b[0mMessageError\u001b[0m\u001b[0;34m(\u001b[0m\u001b[0mreply\u001b[0m\u001b[0;34m[\u001b[0m\u001b[0;34m'error'\u001b[0m\u001b[0;34m]\u001b[0m\u001b[0;34m)\u001b[0m\u001b[0;34m\u001b[0m\u001b[0;34m\u001b[0m\u001b[0m\n\u001b[0m\u001b[1;32m    107\u001b[0m       \u001b[0;32mreturn\u001b[0m \u001b[0mreply\u001b[0m\u001b[0;34m.\u001b[0m\u001b[0mget\u001b[0m\u001b[0;34m(\u001b[0m\u001b[0;34m'data'\u001b[0m\u001b[0;34m,\u001b[0m \u001b[0;32mNone\u001b[0m\u001b[0;34m)\u001b[0m\u001b[0;34m\u001b[0m\u001b[0;34m\u001b[0m\u001b[0m\n\u001b[1;32m    108\u001b[0m \u001b[0;34m\u001b[0m\u001b[0m\n",
      "\u001b[0;31mMessageError\u001b[0m: TypeError: Failed to fetch"
     ]
    }
   ],
   "source": [
    "from google.colab import files\n",
    "\n",
    "!zip -r /content/output.zip /content/output/\n",
    "files.download(\"/content/output.zip\")\n"
   ]
  },
  {
   "cell_type": "code",
   "execution_count": null,
   "metadata": {
    "colab": {},
    "colab_type": "code",
    "id": "oGEuYWx52A8-"
   },
   "outputs": [],
   "source": []
  },
  {
   "cell_type": "code",
   "execution_count": null,
   "metadata": {
    "colab": {},
    "colab_type": "code",
    "id": "7zu6iZ_tL1ru"
   },
   "outputs": [],
   "source": []
  }
 ],
 "metadata": {
  "colab": {
   "collapsed_sections": [],
   "include_colab_link": true,
   "name": "GriddedEpa2GC.ipynb",
   "provenance": [],
   "toc_visible": true
  },
  "kernelspec": {
   "display_name": "Python 3",
   "language": "python",
   "name": "python3"
  },
  "language_info": {
   "codemirror_mode": {
    "name": "ipython",
    "version": 3
   },
   "file_extension": ".py",
   "mimetype": "text/x-python",
   "name": "python",
   "nbconvert_exporter": "python",
   "pygments_lexer": "ipython3",
   "version": "3.7.3"
  }
 },
 "nbformat": 4,
 "nbformat_minor": 4
}
