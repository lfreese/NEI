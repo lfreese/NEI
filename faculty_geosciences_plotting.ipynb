{
  "nbformat": 4,
  "nbformat_minor": 0,
  "metadata": {
    "colab": {
      "name": "faculty_geosciences_plotting.ipynb",
      "provenance": [],
      "collapsed_sections": [],
      "toc_visible": true,
      "include_colab_link": true
    },
    "kernelspec": {
      "display_name": "Python 3",
      "language": "python",
      "name": "python3"
    },
    "language_info": {
      "codemirror_mode": {
        "name": "ipython",
        "version": 3
      },
      "file_extension": ".py",
      "mimetype": "text/x-python",
      "name": "python",
      "nbconvert_exporter": "python",
      "pygments_lexer": "ipython3",
      "version": "3.7.3"
    }
  },
  "cells": [
    {
      "cell_type": "markdown",
      "metadata": {
        "id": "view-in-github",
        "colab_type": "text"
      },
      "source": [
        "<a href=\"https://colab.research.google.com/github/lfreese/NEI/blob/master/faculty_geosciences_plotting.ipynb\" target=\"_parent\"><img src=\"https://colab.research.google.com/assets/colab-badge.svg\" alt=\"Open In Colab\"/></a>"
      ]
    },
    {
      "cell_type": "markdown",
      "metadata": {
        "id": "gW2KPsOK91Xc"
      },
      "source": [
        "# Notebook to analyze Faculty in Geosciences Data\n",
        "\n",
        "All data was taken from the google drive spreadsheet where we looked at 62 different Universities and their faculty makeup"
      ]
    },
    {
      "cell_type": "markdown",
      "metadata": {
        "id": "YeAq3O0hEU5N"
      },
      "source": [
        "Shift + enter to run a cell!"
      ]
    },
    {
      "cell_type": "markdown",
      "metadata": {
        "id": "1Z0gFWY7_zvb"
      },
      "source": [
        "## Import Dependencies and Set up Notebook with Drive"
      ]
    },
    {
      "cell_type": "code",
      "metadata": {
        "id": "m-RTH4I80e-g"
      },
      "source": [
        "#import necessary authorizations for google colab\n",
        "from google.colab import auth\n",
        "auth.authenticate_user()\n",
        "import gspread\n",
        "from oauth2client.client import GoogleCredentials\n",
        "gc = gspread.authorize(GoogleCredentials.get_application_default()) #this will allow us to open URLs\n",
        "\n",
        "#when you run this cell, you will see a link pop up below. \n",
        "#Click on it and copy and paste the password it gives you into the box that appears below. \n",
        "#This authorizes the google drive to be used"
      ],
      "execution_count": null,
      "outputs": []
    },
    {
      "cell_type": "code",
      "metadata": {
        "id": "qzjNI_7828Nz"
      },
      "source": [
        "#import dependencies\n",
        "import pandas as pd #for those new to python, pandas will be what we use to make our 'dataframes' and is the easiest way to manipulate this data\n",
        "import matplotlib.pyplot as plt #matplotlib is how we plot\n",
        "import numpy as np\n",
        "from scipy.stats import pearsonr"
      ],
      "execution_count": null,
      "outputs": []
    },
    {
      "cell_type": "markdown",
      "metadata": {
        "id": "42SBz8hj_6TG"
      },
      "source": [
        "# Create Dataframe"
      ]
    },
    {
      "cell_type": "code",
      "metadata": {
        "id": "UAVDbLHw1l0M"
      },
      "source": [
        "#faculty data sheet\n",
        "url = 'https://docs.google.com/spreadsheets/d/15hTMQ6iJyZwiYT4Imb072qraBreUbsGWZOhFrqx5hIo/edit?usp=drive_web&ouid=117317098944838060110' #url of our google drive document\n",
        "wb = gc.open_by_url(url) #open our url as a workbook"
      ],
      "execution_count": null,
      "outputs": []
    },
    {
      "cell_type": "code",
      "metadata": {
        "id": "c86ZgXLm2J4P"
      },
      "source": [
        "#get data from the workbook and convert to a pandas dataframe\n",
        "sheet = wb.worksheet('Faculty Database: Finalized') #choose the sheet to import\n",
        "data = sheet.get_all_values()\n",
        "\n",
        "df = pd.DataFrame(data) #create our dataframe of the data\n",
        "df.columns = df.iloc[0] #fix some issues with the column and rows (hash this if you want to see why I do it)\n",
        "df = df.iloc[1:]\n"
      ],
      "execution_count": null,
      "outputs": []
    },
    {
      "cell_type": "code",
      "metadata": {
        "id": "-8jCTq6E-OA3"
      },
      "source": [
        "# department heads\n",
        "\n",
        "#get data from the workbook and convert to a pandas dataframe\n",
        "sheet = wb.worksheet('Department Chairs') #choose the sheet to import\n",
        "data = sheet.get_all_values()\n",
        "\n",
        "dfc = pd.DataFrame(data) #create our dataframe of the data\n",
        "dfc\n",
        "dfc.columns = dfc.iloc[0] #fix some issues with the column and rows (hash this if you want to see why I do it)\n",
        "dfc = dfc.iloc[1:]"
      ],
      "execution_count": null,
      "outputs": []
    },
    {
      "cell_type": "code",
      "metadata": {
        "id": "jPlhufN1-cll"
      },
      "source": [
        "#assign department heads\n",
        "\n",
        "for univ in dfc['University']:\n",
        "  df.loc[df['University'] == univ, 'dept_head_gender'] = dfc.loc[dfc['University'] == univ, 'Gender'].values[0]"
      ],
      "execution_count": null,
      "outputs": []
    },
    {
      "cell_type": "code",
      "metadata": {
        "id": "bu1TtzGp_Y7b"
      },
      "source": [
        "# grad students and postdocs\n",
        "\n",
        "#get data from the workbook and convert to a pandas dataframe\n",
        "sheet = wb.worksheet('grad_postdoc') #choose the sheet to import\n",
        "data = sheet.get_all_values()\n",
        "\n",
        "dfg = pd.DataFrame(data) #create our dataframe of the data\n",
        "dfg = dfg.iloc[:,1:10]\n",
        "dfg.columns = ['university','grad M 2018','grad F 2018','grad M 2017','grad F 2017',\n",
        "               'pd M 2018','pd F 2018','pd M 2017','pd F 2017']\n",
        "dfg = dfg.drop(np.arange(0,7))\n",
        "\n",
        "# Harvard, NC State, and William & Mary not included in this database"
      ],
      "execution_count": null,
      "outputs": []
    },
    {
      "cell_type": "code",
      "metadata": {
        "id": "S6kASdz5Vx6f"
      },
      "source": [
        "# grad students over all years\n",
        "\n",
        "sheet = wb.worksheet('Grad Students') #choose the sheet to import\n",
        "data = sheet.get_all_values()\n",
        "dfg_all = pd.DataFrame(data)\n",
        "dfg_all = dfg_all.T\n",
        "dfg_all = dfg_all.iloc[1:39,0:3]\n",
        "dfg_all.columns = ['Year','Male','Female']"
      ],
      "execution_count": null,
      "outputs": []
    },
    {
      "cell_type": "markdown",
      "metadata": {
        "id": "DQlyzYSH7fX3"
      },
      "source": [
        "## Modify Our Data"
      ]
    },
    {
      "cell_type": "code",
      "metadata": {
        "id": "L2evXfqNz9Dx"
      },
      "source": [
        "# remove joint appointments\n",
        "indexNames = df[(df['Other Department (if Joint Appt)'].str.contains(\"1st\"))].index\n",
        "\n",
        "df.drop(indexNames, inplace = True)\n"
      ],
      "execution_count": null,
      "outputs": []
    },
    {
      "cell_type": "code",
      "metadata": {
        "id": "GbNL9FCZzUcA"
      },
      "source": [
        "# put all columns in lowercase for consistency\n",
        "for column in df.columns:\n",
        "  df[column] = df[column].str.lower()\n",
        "dfg['university'] = dfg['university'].str.lower()"
      ],
      "execution_count": null,
      "outputs": []
    },
    {
      "cell_type": "code",
      "metadata": {
        "id": "vDZR5ruty4YW"
      },
      "source": [
        "#add public private status\n",
        "public_private = {'Arizona State':'public', \n",
        "                      'Berkeley':'public', \n",
        "                      'Brown':'private', \n",
        "                      'Caltech':'private', \n",
        "                      'CO Mines':'private',\n",
        "                      'Colorado State University':'public', \n",
        "                      'Columbia':'private', \n",
        "                      'Cornell':'private', \n",
        "                      'CU Boulder':'public',\n",
        "                      'Florida State':'public', \n",
        "                      'Georgia Tech':'public', \n",
        "                      'Harvard':'private', \n",
        "                      'Indiana U':'public',\n",
        "                      'Johns Hopkins':'private', \n",
        "                      'LSU':'public', \n",
        "                      'MIT':'private', \n",
        "                      'NC State':'public', \n",
        "                      'Ohio State University':'public',\n",
        "                      'Oregon State':'public', \n",
        "                      'Penn State':'public', \n",
        "                      'Princeton':'private', \n",
        "                      'Purdue':'public', \n",
        "                      'Rice':'private',\n",
        "                      'Rutgers':'public', \n",
        "                      'Stanford':'private', \n",
        "                      'Stony Brook U':'public', \n",
        "                      'SUNY Albany':'public', \n",
        "                      'Texas A&M':'public',\n",
        "                      'U Alaska Fairbanks':'public', \n",
        "                      'U Arizona':'public', \n",
        "                      'U Chicago':'private', \n",
        "                      'U Delaware':'public',\n",
        "                      'U Hawaii':'public', \n",
        "                      'U Houston':'public', \n",
        "                      'U Iowa':'public', \n",
        "                      'U Kansas':'public', \n",
        "                      'U Miami':'public',\n",
        "                      'U Michigan':'public', \n",
        "                      'U Minnesota Twin Cities':'public', \n",
        "                      'U Nevada Reno':'public',\n",
        "                      'U Oklahoma Norman':'public', \n",
        "                      'U Rhode Island':'public', \n",
        "                      'U South Carolina':'public',\n",
        "                      'U South Florida':'public', \n",
        "                      'U Utah':'public', \n",
        "                      'U Washington':'public', \n",
        "                      'U Wyoming':'public',\n",
        "                      'UC Davis':'public', \n",
        "                      'UCLA':'public', \n",
        "                      'UCSB':'public', \n",
        "                      'UCSC':'public', \n",
        "                      'UCSD':'public', \n",
        "                      'UIUC':'public', \n",
        "                      'UMD':'public',\n",
        "                      'UNC Chapel Hill':'public',\n",
        "                        'USC':'public', \n",
        "                        'UT':'public', \n",
        "                        'UT Dallas':'public', \n",
        "                        'UW Madison':'public',\n",
        "                      'Virginia Polytechnic':'public', \n",
        "                      'William & Mary':'public', \n",
        "                      'Yale':'private'}\n",
        "# add in the public private status of the university\n",
        "for university in public_private.keys():\n",
        "  df.loc[df['University'] == university.lower(),'private_public'] = public_private[university]\n"
      ],
      "execution_count": null,
      "outputs": []
    },
    {
      "cell_type": "code",
      "metadata": {
        "id": "nMK_iWO5y9X4"
      },
      "source": [
        "\n",
        "#create a category for earth, atmosphere, ocean, planet\n",
        "for field in ['geo','marine geology']:\n",
        "  df.loc[df['Discipline'].str.contains(field), 'EPAO'] = 'Earth'\n",
        "#for field in ['marine geology']:\n",
        "  #df.loc[df['Discipline'].str.contains(field), 'EPAO'] = 'Earth'\n",
        "for field in ['atmos']:\n",
        "  df.loc[df['Discipline'].str.contains(field), 'EPAO'] = 'Atmosphere'\n",
        "for field in ['ocean', 'marine biology']:\n",
        "  df.loc[df['Discipline'].str.contains(field), 'EPAO'] = 'Ocean'\n",
        "#for field in ['marine biology']:\n",
        "  #df.loc[df['Discipline'].str.contains(field), 'EPAO'] = 'Ocean'\n",
        "for field in ['planet']:\n",
        "  df.loc[df['Discipline'].str.contains(field), 'EPAO'] = 'Planet'"
      ],
      "execution_count": null,
      "outputs": []
    },
    {
      "cell_type": "code",
      "metadata": {
        "id": "Nw-kwdyHM2T7"
      },
      "source": [
        "#I'm unclear what all of these smaller categories are, \n",
        "#and they make the pie chart quite confusing, so I'm dropping them just for ease of showing what we can do\n",
        "#I assume we should combine all Asst. Profs (senior reserach and directors) into one category eventually?\n",
        "indexNames = df[(df['Career Stage'] == 'assistant professor (senior research)') | \n",
        "                (df['Career Stage'] == 'associate professor (senior research)')|\n",
        "                (df['Career Stage'] == 'associate professor/director')| \n",
        "                (df['Career Stage'] == '???')|\n",
        "                (df['Career Stage'] == '')|\n",
        "                (df['Career Stage'] == 'professor (senior research)')|\n",
        "                (df['Career Stage'] == 'provostial professor')|\n",
        "                (df['Gender'] == '')].index\n",
        "\n",
        "df.drop(indexNames, inplace = True)"
      ],
      "execution_count": null,
      "outputs": []
    },
    {
      "cell_type": "markdown",
      "metadata": {
        "id": "ewjQ94_PGPBD"
      },
      "source": [
        " ## Cleaning Up Data for Publication"
      ]
    },
    {
      "cell_type": "code",
      "metadata": {
        "colab": {
          "base_uri": "https://localhost:8080/"
        },
        "id": "pthnF1V4GXBy",
        "outputId": "38a48652-98d2-42d9-9c5a-867a4ff7c24d"
      },
      "source": [
        "# Compile the faculty in each subdiscipline\n",
        "import numpy as np\n",
        "# the subdisciplines: Atmospheric Chemistry, Atmospheric Dynamics, Geology, Geophysics, Paleoclimate, Geochemistry, Geobiology, Chemical Oceanography, Biological Oceanography\n",
        "# Physical Oceanography, Glaciology, Hydrology, Planetary Sciences, Climate Dynamics, GIS/Engineering, Geopolitics/Impacts, Sustainability, Resource Management\n",
        "# Geomorphology, Ecology, Paleontology , Paleobiology, Land Surface Processes, Education, Marine Geology, Paleoceanography, Ocean Acoustics. Marine Biology, History of Science\n",
        "\n",
        "atmoschem = df[df['Discipline'].str.contains(\"atmospheric chemistry\")] # find all the atmospheric chemists in the dataset\n",
        "atmosdyn = df[df['Discipline'].str.contains(\"atmospheric dynamics\")] # find all the atmospheric dynamicists in the dataset\n",
        "geology = df[df['Discipline'].str.contains(\"geology\")] # find all the geologists in the dataset\n",
        "geophysics = df[df['Discipline'].str.contains(\"geophysics\")] # find all the geophysicists in the dataset\n",
        "paleoclimate = df[df['Discipline'].str.contains(\"paleoclimate\")] # find all the paleoclimatologists in the dataset\n",
        "geochem = df[df['Discipline'].str.contains(\"geochemistry\")] # find all the geochemists in the dataset\n",
        "geobio = df[df['Discipline'].str.contains(\"geobiology\")] # find all the geobiologists in the dataset\n",
        "chemocean = df[df['Discipline'].str.contains(\"chemical oceanography\")] # find all the chemical oceanographers in the dataset\n",
        "bioocean = df[df['Discipline'].str.contains(\"biological oceanography\")] # find all the biological oceanographers in the dataset\n",
        "physocean = df[df['Discipline'].str.contains(\"physical oceanography\")] # find all the physical oceanographers in the dataset\n",
        "glaciology = df[df['Discipline'].str.contains(\"glaciology\")] # find all the glaciologists in the dataset\n",
        "planetary = df[df['Discipline'].str.contains(\"planetary\")] # find all the planetary scientists in the dataset\n",
        "geomorph = df[df['Discipline'].str.contains(\"geomorphology\")] # find all the geomorphologists in the dataset\n",
        "marinegeo = df[df['Discipline'].str.contains(\"marine geology\")] # find all the marine geologists in the dataset\n",
        "paleocean = df[df['Discipline'].str.contains(\"paleoceanography\")] # find all the paleoceanographers in the dataset\n",
        "marinebio = df[df['Discipline'].str.contains(\"marine biology\")] # find all the marine biologists in the dataset\n",
        "biogeochemistry = df[df['Discipline'].str.contains(\"biogeochemistry\")] # find all the science historians in the dataset\n",
        "\n",
        "gender_atmoschem = atmoschem.groupby(['Gender','Career Stage']).count()['Name'] # look at their genders\n",
        "gender_atmosdyn = atmosdyn.groupby(['Gender','Career Stage']).count()['Name'] # look at their genders\n",
        "gender_geology = geology.groupby(['Gender','Career Stage']).count()['Name'] # look at their genders\n",
        "gender_geophysics = geophysics.groupby(['Gender','Career Stage']).count()['Name'] # look at their genders\n",
        "gender_paleoclimate = paleoclimate.groupby(['Gender','Career Stage']).count()['Name'] # look at their genders\n",
        "gender_geochem = geochem.groupby(['Gender','Career Stage']).count()['Name'] # look at their genders\n",
        "gender_geobio = geobio.groupby(['Gender','Career Stage']).count()['Name'] # look at their genders\n",
        "gender_chemocean = chemocean.groupby(['Gender','Career Stage']).count()['Name'] # look at their genders\n",
        "gender_bioocean = bioocean.groupby(['Gender','Career Stage']).count()['Name'] # look at their genders\n",
        "gender_physocean = physocean.groupby(['Gender','Career Stage']).count()['Name'] # look at their genders\n",
        "gender_glaciology = glaciology.groupby(['Gender','Career Stage']).count()['Name'] # look at their genders\n",
        "gender_planetary = planetary.groupby(['Gender','Career Stage']).count()['Name'] # look at their genders\n",
        "gender_geomorph = geomorph.groupby(['Gender','Career Stage']).count()['Name'] # look at their genders\n",
        "gender_marinegeo = marinegeo.groupby(['Gender','Career Stage']).count()['Name'] # look at their genders\n",
        "gender_paleocean = paleocean.groupby(['Gender','Career Stage']).count()['Name'] # look at their genders\n",
        "gender_marinebio = marinebio.groupby(['Gender','Career Stage']).count()['Name'] # look at their genders\n",
        "gender_biogeochemistry = biogeochemistry.groupby(['Gender','Career Stage']).count()['Name'] # look at their genders\n",
        "\n",
        "cleaned_data = np.empty(shape=(17,7),dtype='object') \n",
        "string = ['Atmospheric Chemistry','Atmospheric Dynamics','Geology','Geophysics','Paleoclimate','Geochemistry','Geobiology','Chemical Oceanography','Biological Oceanography','Physical Oceanography','Glaciology','Planetary Science','Geomorphology','Marine Geology','Paleoceanography','Marine Biology','Biogeochemistry']\n",
        "data_collect = [gender_atmoschem,gender_atmosdyn,gender_geology,gender_geophysics,gender_paleoclimate,gender_geochem,gender_geobio,gender_chemocean,gender_bioocean,gender_physocean,gender_glaciology,gender_planetary,gender_geomorph,gender_marinegeo,gender_paleocean,gender_marinebio,gender_biogeochemistry]\n",
        "cleaned_data[0,0] = 'Subdiscipline'\n",
        "cleaned_data[0,1] = 'Female Assistant Professors'\n",
        "cleaned_data[0,2] = 'Female Associate Professors'\n",
        "cleaned_data[0,3] = 'Female Full Professors'\n",
        "cleaned_data[0,4] = 'Male Assistant Professors'\n",
        "cleaned_data[0,5] = 'Male Associate Professors'\n",
        "cleaned_data[0,6] = 'Male Full Professors'\n",
        "for i in range(16):\n",
        "  i = i+1\n",
        "  cleaned_data[i,0] = string[i]\n",
        "  data = data_collect[i]\n",
        "  if string[i]=='Marine Geology':\n",
        "    cleaned_data[i,1] = 0\n",
        "    cleaned_data[i,2] = data[0]\n",
        "    cleaned_data[i,3] = data[1]\n",
        "    cleaned_data[i,4] = data[2]\n",
        "    cleaned_data[i,5] = data[3]\n",
        "    cleaned_data[i,6] = data[4]\n",
        "  elif string[i]=='Marine Biology':\n",
        "    cleaned_data[i,1] = data[0]\n",
        "    cleaned_data[i,2] = 0\n",
        "    cleaned_data[i,3] = data[1]\n",
        "    cleaned_data[i,4] = data[2]\n",
        "    cleaned_data[i,5] = data[3]\n",
        "    cleaned_data[i,6] = data[4]\n",
        "  else:\n",
        "    cleaned_data[i,1] = data[0]\n",
        "    cleaned_data[i,2] = data[1]\n",
        "    cleaned_data[i,3] = data[2]\n",
        "    cleaned_data[i,4] = data[3]\n",
        "    cleaned_data[i,5] = data[4]\n",
        "    cleaned_data[i,6] = data[5]\n",
        "\n",
        "print(cleaned_data)\n",
        "pd.DataFrame(cleaned_data).to_csv(\"data_gender_subdiscipline_0920.csv\")"
      ],
      "execution_count": null,
      "outputs": [
        {
          "output_type": "stream",
          "text": [
            "[['Subdiscipline' 'Female Assistant Professors'\n",
            "  'Female Associate Professors' 'Female Full Professors'\n",
            "  'Male Assistant Professors' 'Male Associate Professors'\n",
            "  'Male Full Professors']\n",
            " ['Atmospheric Dynamics' 20 15 21 30 34 128]\n",
            " ['Geology' 41 27 61 47 61 256]\n",
            " ['Geophysics' 25 20 41 42 45 185]\n",
            " ['Paleoclimate' 9 8 21 14 19 42]\n",
            " ['Geochemistry' 63 43 73 45 64 251]\n",
            " ['Geobiology' 17 12 23 14 12 60]\n",
            " ['Chemical Oceanography' 15 10 15 12 12 44]\n",
            " ['Biological Oceanography' 15 15 23 16 12 63]\n",
            " ['Physical Oceanography' 10 8 18 17 19 96]\n",
            " ['Glaciology' 6 3 4 9 4 16]\n",
            " ['Planetary Science' 14 10 15 16 15 73]\n",
            " ['Geomorphology' 7 5 5 14 11 37]\n",
            " ['Marine Geology' 0 2 6 1 1 16]\n",
            " ['Paleoceanography' 5 1 8 2 7 13]\n",
            " ['Marine Biology' 3 0 4 1 1 14]\n",
            " ['Biogeochemistry' 25 26 32 17 31 96]]\n"
          ],
          "name": "stdout"
        }
      ]
    },
    {
      "cell_type": "markdown",
      "metadata": {
        "id": "fdt_kxqn7tF9"
      },
      "source": [
        "# Plots"
      ]
    },
    {
      "cell_type": "code",
      "metadata": {
        "id": "VBWuVLwNDwO0"
      },
      "source": [
        "#set colors for subdisciplines and for gender\n",
        "field_colors = {'Atmosphere':'forestgreen',\n",
        "             'Ocean': 'lightblue',\n",
        "             'Earth':'darkgoldenrod',\n",
        "             'Planets':'mediumslateblue'}\n",
        "\n",
        "prof_colors = {'assistant professor':'lightsteelblue', \n",
        "               'associate professor':'dodgerblue', \n",
        "               'professor':'darkslateblue'}\n",
        "gender_colors = {'female':'darkgreen',\n",
        "                  'male':'yellowgreen'}"
      ],
      "execution_count": null,
      "outputs": []
    },
    {
      "cell_type": "markdown",
      "metadata": {
        "id": "z6FOvEBN5_qh"
      },
      "source": [
        "# PhDs and Postdocs"
      ]
    },
    {
      "cell_type": "code",
      "metadata": {
        "id": "s4aLDlkS6EEm"
      },
      "source": [
        "percent_female_prof = []\n",
        "uni_type = []\n",
        "for u in dfg['university'].iloc[:-1]:\n",
        "  uni = df.loc[(df['University'].str.contains(u))]\n",
        "  grouped_uni = uni.groupby('Gender').count()['Name']\n",
        "  percent_female_uni = grouped_uni['f']/(grouped_uni['f']+grouped_uni['m'])\n",
        "  percent_female_prof = np.append(percent_female_prof,percent_female_uni)\n",
        "  if df.loc[(df['University'].str.contains(u)),'private_public'].iloc[0] == 'public':\n",
        "    uni_type = np.append(uni_type,0)\n",
        "  elif df.loc[(df['University'].str.contains(u)),'private_public'].iloc[0] == 'private':\n",
        "    uni_type = np.append(uni_type,1)\n",
        "  elif u == 'caltech':\n",
        "    uni_type = np.append(uni_type,1)\n",
        "percent_female_prof = np.append(percent_female_prof,0) # add UT Dallas manually, no female profs\n",
        "uni_type = np.append(uni_type,0)"
      ],
      "execution_count": null,
      "outputs": []
    },
    {
      "cell_type": "code",
      "metadata": {
        "id": "nNaSwaNuMlwc"
      },
      "source": [
        "GF17 = np.array([int(numeric_string) for numeric_string in dfg['grad F 2017']])\n",
        "GM17 = np.array([int(numeric_string) for numeric_string in dfg['grad M 2017']])\n",
        "GF18 = np.array([int(numeric_string) for numeric_string in dfg['grad F 2018']])\n",
        "GM18 = np.array([int(numeric_string) for numeric_string in dfg['grad M 2018']])\n",
        "PF17 = np.array([int(numeric_string) for numeric_string in dfg['pd F 2017']])\n",
        "PM17 = np.array([int(numeric_string) for numeric_string in dfg['pd M 2017']])\n",
        "PF18 = np.array([int(numeric_string) for numeric_string in dfg['pd F 2018']])\n",
        "PM18 = np.array([int(numeric_string) for numeric_string in dfg['pd M 2018']])"
      ],
      "execution_count": null,
      "outputs": []
    },
    {
      "cell_type": "code",
      "metadata": {
        "id": "uqVMa_21J9-H"
      },
      "source": [
        "percent_female_grad = (GF17+GF18)/(GF17+GF18+GM17+GM18)\n",
        "percent_female_pd = (PF17+PF18)/(PF17+PF18+PM17+PM18)"
      ],
      "execution_count": null,
      "outputs": []
    },
    {
      "cell_type": "code",
      "metadata": {
        "id": "HZJTmBdHPU0l",
        "colab": {
          "base_uri": "https://localhost:8080/",
          "height": 279
        },
        "outputId": "7b0d0c9f-823e-4c78-9801-7f47c7be63dd"
      },
      "source": [
        "fig, axs = plt.subplots(1,2,figsize = (8,4))\n",
        "ax = axs[0]\n",
        "a = ax.scatter(percent_female_prof[uni_type == 0],percent_female_grad[uni_type == 0],c = '#1b9e77')\n",
        "b = ax.scatter(percent_female_prof[uni_type == 1],percent_female_grad[uni_type == 1],c = '#d95f02')\n",
        "ax.legend([a,b],(('public','private')))\n",
        "ax.plot([0,0.7],[0,0.7],color = 'k')\n",
        "ax.set_xlabel('% female professors')\n",
        "ax.set_ylabel('% female graduate students')\n",
        "tmp = pearsonr(percent_female_prof,percent_female_grad)\n",
        "ax.text(0,0.67,r'R$^2$ = '+str(np.round(tmp[0],4))+', p = '+str(np.round(tmp[1],4)))\n",
        "ax = axs[1]\n",
        "a = ax.scatter(percent_female_pd[uni_type == 0],percent_female_grad[uni_type == 0],c = '#1b9e77')\n",
        "b = ax.scatter(percent_female_pd[uni_type == 1],percent_female_grad[uni_type == 1],c = '#d95f02')\n",
        "ax.plot([0,0.7],[0,0.7],color = 'k')\n",
        "ax.set_xlabel('% female postdocs')\n",
        "tmp = pearsonr(percent_female_pd,percent_female_grad)\n",
        "ax.text(0,0.67,r'R$^2$ = '+str(np.round(tmp[0],4))+', p = '+str(np.round(tmp[1],4)))\n",
        "fig.savefig('grad_postdoc_faculty_public_private.png')"
      ],
      "execution_count": null,
      "outputs": [
        {
          "output_type": "display_data",
          "data": {
            "image/png": "[encoded data removed]",
            "text/plain": [
              "<Figure size 576x288 with 2 Axes>"
            ]
          },
          "metadata": {
            "tags": [],
            "needs_background": "light"
          }
        }
      ]
    },
    {
      "cell_type": "code",
      "metadata": {
        "colab": {
          "base_uri": "https://localhost:8080/",
          "height": 279
        },
        "id": "z8mU3kB85kS6",
        "outputId": "966ff5ae-0f21-4b1d-e922-4a3da910030f"
      },
      "source": [
        "fig, axs = plt.subplots(1,1,figsize = (5,4))\n",
        "ax = axs\n",
        "a = ax.scatter(percent_female_prof[uni_type == 0],percent_female_grad[uni_type == 0],c = '#1b9e77')\n",
        "b = ax.scatter(percent_female_prof[uni_type == 1],percent_female_grad[uni_type == 1],c = '#d95f02')\n",
        "ax.legend([a,b],(('public','private')),loc = 'lower right')\n",
        "ax.plot([0.5,0.5],[0,0.7],color = 'grey',linewidth = 0.5)\n",
        "ax.plot([0,0.7],[0.5,0.5],color = 'grey',linewidth = 0.5)\n",
        "ax.plot([0,0.7],[0,0.7],color = 'k')\n",
        "ax.set_xlabel('% female professors')\n",
        "ax.set_ylabel('% female graduate students')\n",
        "tmp = pearsonr(percent_female_prof,percent_female_grad)\n",
        "ax.text(0,0.67,r'R$^2$ = '+str(np.round(tmp[0],4))+', p = '+str(np.round(tmp[1],4)))\n",
        "fig.savefig('grad_faculty_public_private.png')"
      ],
      "execution_count": null,
      "outputs": [
        {
          "output_type": "display_data",
          "data": {
            "image/png": "[encoded data removed]",
            "text/plain": [
              "<Figure size 360x288 with 1 Axes>"
            ]
          },
          "metadata": {
            "tags": [],
            "needs_background": "light"
          }
        }
      ]
    },
    {
      "cell_type": "markdown",
      "metadata": {
        "id": "SO5QCdIpMZUD"
      },
      "source": [
        "# Percent of Female Geoscience Faculty Through Time"
      ]
    },
    {
      "cell_type": "code",
      "metadata": {
        "id": "VIp5ry09NRkj",
        "colab": {
          "base_uri": "https://localhost:8080/"
        },
        "outputId": "e8355e04-14d2-4fde-f9c2-0abb0dc6e02c"
      },
      "source": [
        "# comparing our results with results from previous studies\n",
        "# 1999 Data: 22% asst prof, 14% assoc prof, 5% prof, 12.5% total (de Wet\n",
        "# 2002, Claudy 1999, Wolfe 1999)\n",
        "\n",
        "# 2002-2003 Data: 26% asst prof, 15% assoc prof, 8% prof, 13% total (Holmes\n",
        "# and O'Connell 2003)\n",
        "\n",
        "# 2008 Data: 27% asst prof, 15% assoc prof, 8% prof (Wilson 2016)\n",
        "\n",
        "# 2010 Data: 30% asst prof, 18% assoc prof, 10% prof (Wilson 2016)\n",
        "\n",
        "# 2013 Data: 32% asst prof, 21% assoc prof, 11% prof, 17% total (Wilson 2016)\n",
        "\n",
        "# 2015 Data: 36% asst prof, 24% assoc prof, 13% prof, 20% total (Glass\n",
        "# 2015)\n",
        "\n",
        "# 2020 Data: 46% asst prof, 34% assoc prof, 19% prof, 27.6% total (Us)\n",
        "\n",
        "# get rid of other career stages\n",
        "indexNames = df[(df['Career Stage'] == 'assistant professor (senior research)') | \n",
        "                (df['Career Stage'] == 'associate professor (senior research)')|\n",
        "                (df['Career Stage'] == 'associate professor/director')| \n",
        "                (df['Career Stage'] == '???')|\n",
        "                (df['Career Stage'] == '')|\n",
        "                (df['Career Stage'] == 'professor (senior research)')|\n",
        "                (df['Career Stage'] == 'provostial professor')].index\n",
        "df.drop(indexNames, inplace = True)\n",
        "\n",
        "# determine the gender breakdown\n",
        "gender_breakdown = df.groupby(['Gender','Career Stage']).count()['Name']\n",
        "gender_breakdown_total = df.groupby(['Gender']).count()['Name']\n",
        "\n",
        "gender_breakdown_total\n",
        "# display the gender breakdown\n",
        "#df.groupby(['Gender','Career Stage']).count()['Name']\n",
        "#df.groupby(['Gender']).count()['Name']"
      ],
      "execution_count": null,
      "outputs": [
        {
          "output_type": "execute_result",
          "data": {
            "text/plain": [
              "Gender\n",
              "f     688\n",
              "m    1798\n",
              "Name: Name, dtype: int64"
            ]
          },
          "metadata": {
            "tags": []
          },
          "execution_count": 96
        }
      ]
    },
    {
      "cell_type": "code",
      "metadata": {
        "id": "grD8jsDOOkiQ"
      },
      "source": [
        "# compute percent of women in each career stage in 2020\n",
        "\n",
        "percent_female_asstprof20 = (gender_breakdown[0]/(gender_breakdown[0]+gender_breakdown[3]))*100\n",
        "percent_female_assocprof20 = (gender_breakdown[1]/(gender_breakdown[1]+gender_breakdown[4]))*100\n",
        "percent_female_prof20 = (gender_breakdown[2]/(gender_breakdown[2]+gender_breakdown[5]))*100\n",
        "percent_female_total20 = (gender_breakdown_total[0])/(gender_breakdown_total[0]+gender_breakdown_total[1])*100"
      ],
      "execution_count": null,
      "outputs": []
    },
    {
      "cell_type": "code",
      "metadata": {
        "id": "dji6uQY0OZG7"
      },
      "source": [
        "# adding in the other years of data\n",
        "\n",
        "percent_female_asstprof = [22, 26, 27, 30, 32, 36, percent_female_asstprof20]\n",
        "percent_female_assocprof = [14, 15, 15, 18, 21, 24, percent_female_assocprof20]\n",
        "percent_female_prof = [5, 8, 8, 10, 11, 13, percent_female_prof20]\n",
        "\n",
        "percent_female_total = [12.5, 13, 17, 20, percent_female_total20]"
      ],
      "execution_count": null,
      "outputs": []
    },
    {
      "cell_type": "code",
      "metadata": {
        "id": "dJ7iZxvCP_Zq",
        "colab": {
          "base_uri": "https://localhost:8080/",
          "height": 279
        },
        "outputId": "fd7eca4d-08e3-4ebf-9056-860a73b752fa"
      },
      "source": [
        "# plot the percent of female geoscientists over years\n",
        "\n",
        "years = [1999, 2002, 2008, 2010, 2013, 2015, 2020]\n",
        "years_total = [1999, 2002, 2013, 2015, 2020]\n",
        "\n",
        "plt.plot(years, percent_female_asstprof,'bD-', label='Assistant Professor')\n",
        "plt.plot(years, percent_female_assocprof,'r^-', label='Associate Professor')\n",
        "plt.plot(years, percent_female_prof,'gx-', label = 'Professor')\n",
        "plt.plot(years_total, percent_female_total,'ko-', label = 'Total')\n",
        "plt.legend();\n",
        "#plt.grid()\n",
        "plt.xlabel('Year');\n",
        "plt.ylabel('Percentage of Female Faculty');\n",
        "plt.savefig('percentfemalefaculty_time.png')"
      ],
      "execution_count": null,
      "outputs": [
        {
          "output_type": "display_data",
          "data": {
            "image/png": "[encoded data removed]",
            "text/plain": [
              "<Figure size 432x288 with 1 Axes>"
            ]
          },
          "metadata": {
            "tags": [],
            "needs_background": "light"
          }
        }
      ]
    },
    {
      "cell_type": "code",
      "metadata": {
        "colab": {
          "base_uri": "https://localhost:8080/",
          "height": 300
        },
        "id": "hMdHxhccXdd2",
        "outputId": "c519a17e-52b6-4f4c-f088-288728fc725a"
      },
      "source": [
        "# plot the fractionation of female geoscientists when accounting for time to promotion\n",
        "\n",
        "from scipy.interpolate import interp1d\n",
        "\n",
        "years_sparse = [1999, 2002, 2008, 2010, 2013, 2015, 2020];\n",
        "years = list(range(1999,2021))\n",
        "\n",
        "\n",
        "f1 = interp1d(years_sparse,percent_female_asstprof);\n",
        "f2 = interp1d(years_sparse,percent_female_assocprof);\n",
        "f3 = interp1d(years_sparse,percent_female_prof);\n",
        "\n",
        "percent_asst_new = f1(years) \n",
        "percent_assoc_new = f2(years)\n",
        "percent_prof_new = f3(years)\n",
        "\n",
        "percent_gradstudents = []\n",
        "for i in range(len(dfg_all)):\n",
        "  percent_gradstudents.append(pd.to_numeric(dfg_all.loc[i+1][2])/(pd.to_numeric(dfg_all.loc[i+1][1])+pd.to_numeric(dfg_all.loc[i+1][2]))*100)\n",
        "percent_gradstudents.reverse()\n",
        "percent_gradstudents_new = percent_gradstudents[18:38]\n",
        "percent_gradstudents_new.append(0)\n",
        "percent_gradstudents_new.append(0)\n",
        "years = list(range(1981,2019))\n",
        "\n",
        "# assume 7 years to tenure, 3 years from graduating to assistant professorship\n",
        "# for the sake of 'error' we can shift everything +/- 2 years\n",
        "frac_assocprof = []\n",
        "frac_asstassoc = []\n",
        "for i in range(15): #15(0-14)\n",
        "  frac_asstassoc.append(percent_assoc_new[i+7]/percent_asst_new[i]) #7\n",
        "  frac_assocprof.append(percent_prof_new[i+7]/percent_assoc_new[i]) #7\n",
        "\n",
        "frac_gradasst = []\n",
        "for i in range(19): #19\n",
        "  frac_gradasst.append(percent_asst_new[i+3]/percent_gradstudents_new[i]) #3\n",
        "\n",
        "plt.plot(list(range(2006,2021)), frac_asstassoc,'r^-', label='Assistant to Associate Professor')\n",
        "plt.plot(list(range(2006,2021)), frac_assocprof,'gx-', label='Associate to Full Professor')\n",
        "plt.plot(list(range(2002,2021)), frac_gradasst,'bD-', label='Grad Student to Assistant Professor')\n",
        "plt.legend();\n",
        "#plt.grid()\n",
        "plt.xlabel('Year');\n",
        "plt.ylabel('Fractionation Factor');\n",
        "plt.savefig('fractionation_yearstopromotion.png')\n",
        "plt.xlim([2000, 2020])\n",
        "plt.ylim([0.5, 1.2])\n"
      ],
      "execution_count": null,
      "outputs": [
        {
          "output_type": "execute_result",
          "data": {
            "text/plain": [
              "(0.5, 1.2)"
            ]
          },
          "metadata": {
            "tags": []
          },
          "execution_count": 100
        },
        {
          "output_type": "display_data",
          "data": {
            "image/png": "[encoded data removed]",
            "text/plain": [
              "<Figure size 432x288 with 1 Axes>"
            ]
          },
          "metadata": {
            "tags": [],
            "needs_background": "light"
          }
        }
      ]
    },
    {
      "cell_type": "code",
      "metadata": {
        "colab": {
          "base_uri": "https://localhost:8080/",
          "height": 279
        },
        "id": "VNx6CMWYE4St",
        "outputId": "8beb71f4-397d-4918-8764-a0fc12157e80"
      },
      "source": [
        "# plot the fractionation of female geoscientists over years\n",
        "\n",
        "years = [1999, 2002, 2008, 2010, 2013, 2015, 2020]\n",
        "\n",
        "plt.plot(years, np.array(percent_female_assocprof)/np.array(percent_female_asstprof),'bD-', label='Assistant to Associate Professor')\n",
        "plt.plot(years, np.array(percent_female_prof)/np.array(percent_female_assocprof),'r^-', label='Associate to Full Professor')\n",
        "plt.legend();\n",
        "plt.grid()\n",
        "plt.xlabel('Year');\n",
        "plt.ylabel('Fractionation factor');\n",
        "plt.savefig('fractionation_time.png')"
      ],
      "execution_count": null,
      "outputs": [
        {
          "output_type": "display_data",
          "data": {
            "image/png": "[encoded data removed]",
            "text/plain": [
              "<Figure size 432x288 with 1 Axes>"
            ]
          },
          "metadata": {
            "tags": [],
            "needs_background": "light"
          }
        }
      ]
    },
    {
      "cell_type": "code",
      "metadata": {
        "id": "kasNv9gHWzkk"
      },
      "source": [
        "# Grad students through the years 1981-2018\n",
        "\n",
        "percent_gradstudents = []\n",
        "for i in range(len(dfg_all)):\n",
        "  percent_gradstudents.append(pd.to_numeric(dfg_all.loc[i+1][2])/(pd.to_numeric(dfg_all.loc[i+1][1])+pd.to_numeric(dfg_all.loc[i+1][2]))*100)\n",
        "\n",
        "percent_gradstudents.reverse()"
      ],
      "execution_count": null,
      "outputs": []
    },
    {
      "cell_type": "code",
      "metadata": {
        "colab": {
          "base_uri": "https://localhost:8080/",
          "height": 279
        },
        "id": "fNLQ7yxpY3aG",
        "outputId": "51967e5b-fd4a-462a-b683-467fa0bb533f"
      },
      "source": [
        "# Put grad students in with the faculty\n",
        "years = list(range(1981,2019))\n",
        "years_data = [1999, 2002, 2008, 2010, 2013, 2015, 2020]\n",
        "\n",
        "\n",
        "plt.plot(years, percent_gradstudents, 'ko-', label='Graduate Students')\n",
        "plt.plot(years_data,percent_female_asstprof,'bD-', label='Assistant Professor')\n",
        "plt.plot(years_data,percent_female_assocprof,'r^-', label='Associate Professor')\n",
        "plt.plot(years_data, percent_female_prof,'gx-', label = 'Professor')\n",
        "plt.legend();\n",
        "#plt.grid()\n",
        "plt.xlim([1999, 2020])\n",
        "plt.ylim([0, 75])\n",
        "plt.xlabel('Year');\n",
        "plt.ylabel('Percent Women');\n"
      ],
      "execution_count": null,
      "outputs": [
        {
          "output_type": "display_data",
          "data": {
            "image/png": "[encoded data removed]",
            "text/plain": [
              "<Figure size 432x288 with 1 Axes>"
            ]
          },
          "metadata": {
            "tags": [],
            "needs_background": "light"
          }
        }
      ]
    },
    {
      "cell_type": "code",
      "metadata": {
        "colab": {
          "base_uri": "https://localhost:8080/",
          "height": 279
        },
        "id": "gOVZqxuobVeF",
        "outputId": "1975eaeb-5c71-4917-95c2-c70b2dc46f27"
      },
      "source": [
        "# shift the faculty to when they were grad students\n",
        "\n",
        "# on average, assistant professors are 3 years out from their phd, associate professors are 10 years out, full professors are 20 years out\n",
        "years = list(range(1981,2019))\n",
        "years_data = [1999, 2002, 2008, 2010, 2013, 2015, 2020]\n",
        "years_asstprof = [1999-3,2002-3,2008-3,2010-3,2013-3,2015-3,2020-3]\n",
        "years_assocprof = [1999-10,2002-10,2008-10,2010-10,2013-10,2015-10,2020-10]\n",
        "years_prof = [1999-17,2002-17,2008-17,2010-17,2013-17,2015-17,2020-17]\n",
        "\n",
        "plt.plot(years, percent_gradstudents, label='Graduate Students')\n",
        "plt.plot(years_asstprof,percent_female_asstprof,'bD-', label='Assistant Professor')\n",
        "plt.plot(years_assocprof,percent_female_assocprof,'r^-', label='Associate Professor')\n",
        "plt.plot(years_prof, percent_female_prof,'gx-', label = 'Professor')\n",
        "plt.legend();\n",
        "plt.grid()\n",
        "plt.xlabel('Year');\n",
        "plt.ylabel('Percent Women');\n",
        "plt.savefig('facultygradstudents_shifted.png')"
      ],
      "execution_count": null,
      "outputs": [
        {
          "output_type": "display_data",
          "data": {
            "image/png": "[encoded data removed]",
            "text/plain": [
              "<Figure size 432x288 with 1 Axes>"
            ]
          },
          "metadata": {
            "tags": [],
            "needs_background": "light"
          }
        }
      ]
    },
    {
      "cell_type": "code",
      "metadata": {
        "id": "18QVdxPkWgWv",
        "colab": {
          "base_uri": "https://localhost:8080/",
          "height": 232
        },
        "outputId": "362e79be-45a5-4f88-a759-aa50b62f0aa9"
      },
      "source": [
        "# compute the gradient of the percent of female geoscientists over the years\n",
        "\n",
        "# check with others to see if we should be taking a gradient or just showing the difference...\n",
        "# could take the slopes \n",
        "\n",
        "gradient_asstprof = np.gradient(percent_female_asstprof)/np.gradient(years)\n",
        "gradient_assocprof = np.gradient(percent_female_assocprof)/np.gradient(years)\n",
        "gradient_prof = np.gradient(percent_female_prof)/np.gradient(years)\n",
        "gradient_total = np.gradient(percent_female_total)/np.gradient(years_total)"
      ],
      "execution_count": null,
      "outputs": [
        {
          "output_type": "error",
          "ename": "ValueError",
          "evalue": "ignored",
          "traceback": [
            "\u001b[0;31m---------------------------------------------------------------------------\u001b[0m",
            "\u001b[0;31mValueError\u001b[0m                                Traceback (most recent call last)",
            "\u001b[0;32m<ipython-input-105-2b983e600925>\u001b[0m in \u001b[0;36m<module>\u001b[0;34m()\u001b[0m\n\u001b[1;32m      4\u001b[0m \u001b[0;31m# could take the slopes\u001b[0m\u001b[0;34m\u001b[0m\u001b[0;34m\u001b[0m\u001b[0;34m\u001b[0m\u001b[0m\n\u001b[1;32m      5\u001b[0m \u001b[0;34m\u001b[0m\u001b[0m\n\u001b[0;32m----> 6\u001b[0;31m \u001b[0mgradient_asstprof\u001b[0m \u001b[0;34m=\u001b[0m \u001b[0mnp\u001b[0m\u001b[0;34m.\u001b[0m\u001b[0mgradient\u001b[0m\u001b[0;34m(\u001b[0m\u001b[0mpercent_female_asstprof\u001b[0m\u001b[0;34m)\u001b[0m\u001b[0;34m/\u001b[0m\u001b[0mnp\u001b[0m\u001b[0;34m.\u001b[0m\u001b[0mgradient\u001b[0m\u001b[0;34m(\u001b[0m\u001b[0myears\u001b[0m\u001b[0;34m)\u001b[0m\u001b[0;34m\u001b[0m\u001b[0;34m\u001b[0m\u001b[0m\n\u001b[0m\u001b[1;32m      7\u001b[0m \u001b[0mgradient_assocprof\u001b[0m \u001b[0;34m=\u001b[0m \u001b[0mnp\u001b[0m\u001b[0;34m.\u001b[0m\u001b[0mgradient\u001b[0m\u001b[0;34m(\u001b[0m\u001b[0mpercent_female_assocprof\u001b[0m\u001b[0;34m)\u001b[0m\u001b[0;34m/\u001b[0m\u001b[0mnp\u001b[0m\u001b[0;34m.\u001b[0m\u001b[0mgradient\u001b[0m\u001b[0;34m(\u001b[0m\u001b[0myears\u001b[0m\u001b[0;34m)\u001b[0m\u001b[0;34m\u001b[0m\u001b[0;34m\u001b[0m\u001b[0m\n\u001b[1;32m      8\u001b[0m \u001b[0mgradient_prof\u001b[0m \u001b[0;34m=\u001b[0m \u001b[0mnp\u001b[0m\u001b[0;34m.\u001b[0m\u001b[0mgradient\u001b[0m\u001b[0;34m(\u001b[0m\u001b[0mpercent_female_prof\u001b[0m\u001b[0;34m)\u001b[0m\u001b[0;34m/\u001b[0m\u001b[0mnp\u001b[0m\u001b[0;34m.\u001b[0m\u001b[0mgradient\u001b[0m\u001b[0;34m(\u001b[0m\u001b[0myears\u001b[0m\u001b[0;34m)\u001b[0m\u001b[0;34m\u001b[0m\u001b[0;34m\u001b[0m\u001b[0m\n",
            "\u001b[0;31mValueError\u001b[0m: operands could not be broadcast together with shapes (7,) (38,) "
          ]
        }
      ]
    },
    {
      "cell_type": "code",
      "metadata": {
        "id": "MaLQ5DlxWovj"
      },
      "source": [
        "# plot the gradient of percent of femle geoscientists over years\n",
        "\n",
        "years = [1999, 2002, 2008, 2010, 2013, 2015, 2020]\n",
        "\n",
        "plt.plot(years, gradient_asstprof,'bD-', label='Assistant Professor')\n",
        "plt.plot(years, gradient_assocprof,'r^-', label='Associate Professor')\n",
        "plt.plot(years, gradient_prof,'gx-', label = 'Professor')\n",
        "plt.plot(years_total,gradient_total,'ko-',label='Total')\n",
        "plt.legend();\n",
        "plt.grid()\n",
        "plt.xlabel('Year');\n",
        "plt.ylabel('Change in Percentage of Female Faculty');\n",
        "plt.savefig('gradient_percentfemalefaculty_time.png')"
      ],
      "execution_count": null,
      "outputs": []
    },
    {
      "cell_type": "code",
      "metadata": {
        "id": "m0it2CB_Z9Kl"
      },
      "source": [
        "# compute change in percent of female geoscientists over the years\n",
        "\n",
        "change_percent_female_asstprof = []\n",
        "change_percent_female_assocprof = []\n",
        "change_percent_female_prof = []\n",
        "change_percent_female_total = []\n",
        "for i in range(len(years)-1):\n",
        "  change_percent_female_asstprof.append((percent_female_asstprof[i+1]-percent_female_asstprof[i])/(years[i+1]-years[i]))\n",
        "  change_percent_female_assocprof.append((percent_female_assocprof[i+1]-percent_female_assocprof[i])/(years[i+1]-years[i]))\n",
        "  change_percent_female_prof.append((percent_female_prof[i+1]-percent_female_prof[i])/(years[i+1]-years[i]))\n",
        "  \n",
        "for i in range(len(years_total)-1):\n",
        "  change_percent_female_total.append((percent_female_total[i+1]-percent_female_total[i])/(years_total[i+1]-years_total[i]))\n"
      ],
      "execution_count": null,
      "outputs": []
    },
    {
      "cell_type": "code",
      "metadata": {
        "id": "1LEsBESDa1U1"
      },
      "source": [
        "# plot the change of percent of femle geoscientists over years\n",
        "\n",
        "year_range = ['1999-2002', '2002-2008', '2008-2010', '2010-2013', '2013-2015', '2015-2020']\n",
        "year_range_total = ['1999-2002','2002-2013','2013-2015','2015-2020']\n",
        "\n",
        "plt.plot(year_range, change_percent_female_asstprof,'bD-', label='Assistant Professor')\n",
        "plt.plot(year_range, change_percent_female_assocprof,'r^-', label='Associate Professor')\n",
        "plt.plot(year_range, change_percent_female_prof,'gx-', label = 'Professor')\n",
        "plt.legend();\n",
        "plt.grid()\n",
        "plt.xlabel('Year');\n",
        "plt.ylabel('Change in Percentage of Female Faculty');\n",
        "plt.savefig('change_percentfemalefaculty_time.png')\n"
      ],
      "execution_count": null,
      "outputs": []
    },
    {
      "cell_type": "code",
      "metadata": {
        "id": "QaW-JavUV3pV"
      },
      "source": [
        "plt.plot(year_range_total,change_percent_female_total,'k-',label = 'Total')\n",
        "plt.legend();\n",
        "plt.grid()\n",
        "plt.xlabel('Year');\n",
        "plt.ylabel('Change in Percentage of Female Faculty');\n",
        "\n",
        "change_percent_female_total"
      ],
      "execution_count": null,
      "outputs": []
    },
    {
      "cell_type": "markdown",
      "metadata": {
        "id": "IRtsxQMLqMg0"
      },
      "source": [
        "# Percent of Female Geoscience Faculty by Subdiscipline"
      ]
    },
    {
      "cell_type": "code",
      "metadata": {
        "id": "B1RCTrrBqSpV"
      },
      "source": [
        "# Compile the faculty in each subdiscipline\n",
        "\n",
        "# the subdisciplines: Atmospheric Chemistry, Atmospheric Dynamics, Geology, Geophysics, Paleoclimate, Geochemistry, Geobiology, Chemical Oceanography, Biological Oceanography\n",
        "# Physical Oceanography, Glaciology, Hydrology, Planetary Sciences, Climate Dynamics, GIS/Engineering, Geopolitics/Impacts, Sustainability, Resource Management\n",
        "# Geomorphology, Ecology, Paleontology , Paleobiology, Land Surface Processes, Education, Marine Geology, Paleoceanography, Ocean Acoustics. Marine Biology, History of Science\n",
        "\n",
        "atmoschem = df[df['Discipline'].str.contains(\"atmospheric chemistry\")] # find all the atmospheric chemists in the dataset\n",
        "atmosdyn = df[df['Discipline'].str.contains(\"atmospheric dynamics\")] # find all the atmospheric dynamicists in the dataset\n",
        "geology = df[df['Discipline'].str.contains(\"geology\")] # find all the geologists in the dataset\n",
        "geophysics = df[df['Discipline'].str.contains(\"geophysics\")] # find all the geophysicists in the dataset\n",
        "paleoclimate = df[df['Discipline'].str.contains(\"paleoclimate\")] # find all the paleoclimatologists in the dataset\n",
        "geochem = df[df['Discipline'].str.contains(\"geochemistry\")] # find all the geochemists in the dataset\n",
        "geobio = df[df['Discipline'].str.contains(\"geobiology\")] # find all the geobiologists in the dataset\n",
        "chemocean = df[df['Discipline'].str.contains(\"chemical oceanography\")] # find all the chemical oceanographers in the dataset\n",
        "bioocean = df[df['Discipline'].str.contains(\"biological oceanography\")] # find all the biological oceanographers in the dataset\n",
        "physocean = df[df['Discipline'].str.contains(\"physical oceanography\")] # find all the physical oceanographers in the dataset\n",
        "glaciology = df[df['Discipline'].str.contains(\"glaciology\")] # find all the glaciologists in the dataset\n",
        "hydrology = df[df['Discipline'].str.contains(\"hydrology\")] # find all the hydrologists in the dataset\n",
        "planetary = df[df['Discipline'].str.contains(\"planetary\")] # find all the planetary scientists in the dataset\n",
        "climatedyn = df[df['Discipline'].str.contains(\"climate dynamics\")] # find all the climate dynamicists in the dataset\n",
        "gisengin = df[df['Discipline'].str.contains(\"gis\")] # find all the gis/engineers in the dataset\n",
        "impacts = df[df['Discipline'].str.contains(\"impacts\")] # find all the political scientists/impacts scientists in the dataset\n",
        "sustain = df[df['Discipline'].str.contains(\"sustainability\")] # find all the sustainability scientists in the dataset\n",
        "resource = df[df['Discipline'].str.contains(\"resource management\")] # find all the resource management scientists in the dataset\n",
        "geomorph = df[df['Discipline'].str.contains(\"geomorphology\")] # find all the geomorphologists in the dataset\n",
        "ecology = df[df['Discipline'].str.contains(\"ecology\")] # find all the ecologists in the dataset\n",
        "paleontology = df[df['Discipline'].str.contains(\"paleontology\")] # find all the paleontologists in the dataset\n",
        "paleobio = df[df['Discipline'].str.contains(\"paleobiology\")] # find all the paleobiologists in the dataset\n",
        "land = df[df['Discipline'].str.contains(\"land surface\")] # find all the land surface scientists in the dataset\n",
        "education = df[df['Discipline'].str.contains(\"education\")] # find all the education scientists in the dataset\n",
        "marinegeo = df[df['Discipline'].str.contains(\"marine geology\")] # find all the marine geologists in the dataset\n",
        "paleocean = df[df['Discipline'].str.contains(\"paleoceanography\")] # find all the paleoceanographers in the dataset\n",
        "acoustics = df[df['Discipline'].str.contains(\"acoustics\")] # find all the acoustics scientists in the dataset\n",
        "marinebio = df[df['Discipline'].str.contains(\"marine biology\")] # find all the marine biologists in the dataset\n",
        "history = df[df['Discipline'].str.contains(\"history\")] # find all the science historians in the dataset\n",
        "biogeochemistry = df[df['Discipline'].str.contains(\"biogeochemistry\")] # find all the science historians in the dataset\n"
      ],
      "execution_count": null,
      "outputs": []
    },
    {
      "cell_type": "code",
      "metadata": {
        "id": "_PPWuHfNeNEl"
      },
      "source": [
        "# ignore subdisciplines with less than 10 people - only history of science\n",
        "names = ['atmospheric chemistry','atmospheric dynamics',\n",
        "         'geology','geophysics','paleoclimate','geochemistry',\n",
        "         'geobiology','chemical oceanography','biological oceanography',\n",
        "         'physical oceanography','glaciology','hydrology','planetary',\n",
        "         'climate dynamics','gisengin','impacts','sustainability',\n",
        "         'resource','geomorphology','ecology','paleontology','paleobiology',\n",
        "         'land','education','marine geology','paleoceanography','ocean acoustics',\n",
        "         'marine biology','history of science']\n",
        "size = len(names)\n",
        "num_fields = []\n",
        "num_fields_small = []\n",
        "\n",
        "i=1\n",
        "for field in [atmoschem,atmosdyn,geology,geophysics,paleoclimate,\n",
        "              geochem,geobio,chemocean,bioocean,physocean,glaciology,\n",
        "              hydrology,planetary,climatedyn,gisengin,impacts,sustain,\n",
        "              resource,geomorph,ecology,paleontology,paleobio,land,\n",
        "              education,marinegeo,paleocean,acoustics,marinebio,history]:\n",
        "  num_fields.append(field.count()['Name'])\n",
        "  if field.count()['Name'] < 10:\n",
        "    num_fields_small.append(names[i-1])\n",
        "  i=i+1\n",
        "\n"
      ],
      "execution_count": null,
      "outputs": []
    },
    {
      "cell_type": "code",
      "metadata": {
        "id": "ij4aPbCVSuwj"
      },
      "source": [
        "# Compute the percentage of women in each subdiscipline\n",
        "\n",
        "# Atmospheric Chemistry\n",
        "gender_atmoschem = atmoschem.groupby(['Gender']).count()['Name'] # look at their genders\n",
        "percent_atmoschem = gender_atmoschem[0]/(gender_atmoschem[0]+gender_atmoschem[1])*100 # compute the percentage\n",
        "\n",
        "# Atmospheric Dynamics\n",
        "gender_atmosdyn = atmosdyn.groupby(['Gender']).count()['Name'] # look at their genders\n",
        "percent_atmosdyn = gender_atmosdyn[0]/(gender_atmosdyn[0]+gender_atmosdyn[1])*100 # compute the percentage\n",
        "\n",
        "# Geology\n",
        "gender_geology = geology.groupby(['Gender']).count()['Name'] # look at their genders\n",
        "percent_geology = gender_geology[0]/(gender_geology[0]+gender_geology[1])*100 # compute the percentage\n",
        "\n",
        "# Geophysics\n",
        "gender_geophysics = geophysics.groupby(['Gender']).count()['Name'] # look at their genders\n",
        "percent_geophysics = gender_geophysics[0]/(gender_geophysics[0]+gender_geophysics[1])*100 # compute the percentage\n",
        "\n",
        "# Paleoclimate\n",
        "gender_paleoclimate = paleoclimate.groupby(['Gender']).count()['Name'] # look at their genders\n",
        "percent_paleoclimate = gender_paleoclimate[0]/(gender_paleoclimate[0]+gender_paleoclimate[1])*100 # compute the percentage\n",
        "\n",
        "# Geochemistry\n",
        "gender_geochem = geochem.groupby(['Gender']).count()['Name'] # look at their genders\n",
        "percent_geochem = gender_geochem[0]/(gender_geochem[0]+gender_geochem[1])*100 # compute the percentage\n",
        "\n",
        "# Geobiology\n",
        "gender_geobio = geobio.groupby(['Gender']).count()['Name'] # look at their genders\n",
        "percent_geobio = gender_geobio[0]/(gender_geobio[0]+gender_geobio[1])*100 # compute the percentage\n",
        "\n",
        "# Chemical Oceanography\n",
        "gender_chemocean = chemocean.groupby(['Gender']).count()['Name'] # look at their genders\n",
        "percent_chemocean = gender_chemocean[0]/(gender_chemocean[0]+gender_chemocean[1])*100 # compute the percentage\n",
        "\n",
        "# Biological Oceanography\n",
        "gender_bioocean = bioocean.groupby(['Gender']).count()['Name'] # look at their genders\n",
        "percent_bioocean = gender_bioocean[0]/(gender_bioocean[0]+gender_bioocean[1])*100 # compute the percentage\n",
        "\n",
        "# Physical Oceanography\n",
        "gender_physocean = physocean.groupby(['Gender']).count()['Name'] # look at their genders\n",
        "percent_physocean = gender_physocean[0]/(gender_physocean[0]+gender_physocean[1])*100 # compute the percentage\n",
        "\n",
        "# Glaciology\n",
        "gender_glaciology = glaciology.groupby(['Gender']).count()['Name'] # look at their genders\n",
        "percent_glaciology = gender_glaciology[0]/(gender_glaciology[0]+gender_glaciology[1])*100 # compute the percentage\n",
        "\n",
        "# Hydrology\n",
        "gender_hydrology = hydrology.groupby(['Gender']).count()['Name'] # look at their genders\n",
        "#percent_hydrology = gender_hydrology[1]/(gender_hydrology[1]+gender_hydrology[2])*100 # compute the percentage\n",
        "\n",
        "# Planetary Science\n",
        "gender_planetary = planetary.groupby(['Gender']).count()['Name'] # look at their genders\n",
        "percent_planetary = gender_planetary[0]/(gender_planetary[0]+gender_planetary[1])*100 # compute the percentage\n",
        "\n",
        "# Climate Dynamics\n",
        "gender_climdyn = climatedyn.groupby(['Gender']).count()['Name'] # look at their genders\n",
        "percent_climdyn = gender_climdyn[0]/(gender_climdyn[0]+gender_climdyn[1])*100 # compute the percentage\n",
        "\n",
        "# GIS/Engineering\n",
        "gender_gisengin = gisengin.groupby(['Gender']).count()['Name'] # look at their genders\n",
        "percent_gisengin = gender_gisengin[0]/(gender_gisengin[0]+gender_gisengin[1])*100 # compute the percentage\n",
        "\n",
        "# Impacts\n",
        "gender_impacts = impacts.groupby(['Gender']).count()['Name'] # look at their genders\n",
        "percent_impacts = gender_impacts[0]/(gender_impacts[0]+gender_impacts[1])*100 # compute the percentage\n",
        "\n",
        "# Sustainability\n",
        "gender_sustain = sustain.groupby(['Gender']).count()['Name'] # look at their genders\n",
        "percent_sustain = gender_sustain[0]/(gender_sustain[0]+gender_sustain[1])*100 # compute the percentage\n",
        "\n",
        "# Resource Management\n",
        "gender_resource = resource.groupby(['Gender']).count()['Name'] # look at their genders\n",
        "percent_resource = gender_resource[0]/(gender_resource[0]+gender_resource[1])*100 # compute the percentage\n",
        "\n",
        "# Geomorphology\n",
        "gender_geomorph = geomorph.groupby(['Gender']).count()['Name'] # look at their genders\n",
        "percent_geomorph = gender_geomorph[0]/(gender_geomorph[0]+gender_geomorph[1])*100 # compute the percentage\n",
        "\n",
        "# Ecology\n",
        "gender_ecology = ecology.groupby(['Gender']).count()['Name'] # look at their genders\n",
        "#percent_ecology = gender_ecology[1]/(gender_ecology[1]+gender_ecology[2])*100 # compute the percentage\n",
        "\n",
        "# Paleontology\n",
        "gender_paleontology = paleontology.groupby(['Gender']).count()['Name'] # look at their genders\n",
        "percent_paleontology = gender_paleontology[0]/(gender_paleontology[0]+gender_paleontology[1])*100 # compute the percentage\n",
        "\n",
        "# Paleobiology\n",
        "gender_paleobio = paleobio.groupby(['Gender']).count()['Name'] # look at their genders\n",
        "percent_paleobio = gender_paleobio[0]/(gender_paleobio[0]+gender_paleobio[1])*100 # compute the percentage\n",
        "\n",
        "# Land Surface Processes\n",
        "gender_land = land.groupby(['Gender']).count()['Name'] # look at their genders\n",
        "percent_land = gender_land[0]/(gender_land[0]+gender_land[1])*100 # compute the percentage\n",
        "\n",
        "# Education\n",
        "gender_education = education.groupby(['Gender']).count()['Name'] # look at their genders\n",
        "percent_education = gender_education[0]/(gender_education[0]+gender_education[1])*100 # compute the percentage\n",
        "\n",
        "# Marine Geology\n",
        "gender_marinegeo = marinegeo.groupby(['Gender']).count()['Name'] # look at their genders\n",
        "percent_marinegeo = gender_marinegeo[0]/(gender_marinegeo[0]+gender_marinegeo[1])*100 # compute the percentage\n",
        "\n",
        "# Paleoceanography\n",
        "gender_paleocean = paleocean.groupby(['Gender']).count()['Name'] # look at their genders\n",
        "percent_paleocean = gender_paleocean[0]/(gender_paleocean[0]+gender_paleocean[1])*100 # compute the percentage\n",
        "\n",
        "# Ocean Acoustics\n",
        "gender_acoustics = acoustics.groupby(['Gender']).count()['Name'] # look at their genders\n",
        "percent_acoustics = gender_acoustics[0]/(gender_acoustics[0]+gender_acoustics[1])*100 # compute the percentage\n",
        "\n",
        "# Marine Biology\n",
        "gender_marinebio = marinebio.groupby(['Gender']).count()['Name'] # look at their genders\n",
        "percent_marinebio = gender_marinebio[0]/(gender_marinebio[0]+gender_marinebio[1])*100 # compute the percentage\n",
        "\n",
        "# History of Science\n",
        "gender_history = history.groupby(['Gender']).count()['Name'] # look at their genders\n",
        "percent_history = gender_history[0]/(gender_history[0]+gender_history[1])*100 # compute the percentage\n",
        "\n",
        "# Biogeochemistry\n",
        "gender_biogeochemistry = biogeochemistry.groupby(['Gender']).count()['Name'] # look at their genders\n",
        "percent_biogeochemistry = gender_biogeochemistry[0]/(gender_biogeochemistry[0]+gender_biogeochemistry[1])*100 # compute the percentage\n"
      ],
      "execution_count": null,
      "outputs": []
    },
    {
      "cell_type": "code",
      "metadata": {
        "id": "b-wjnSbXBByU"
      },
      "source": [
        "# compute percentage of women in asst/assoc/prof ranks for each subdiscipline\n",
        "all_subdisc = [atmoschem,atmosdyn,geology,geophysics,geochem,paleoclimate,geobio,chemocean,bioocean,physocean,planetary,biogeochemistry,glaciology,marinegeo,geomorph,paleocean]\n",
        "\n",
        "test = planetary.groupby(['Gender','Career Stage']).count()['Name']\n",
        "print(test)"
      ],
      "execution_count": null,
      "outputs": []
    },
    {
      "cell_type": "code",
      "metadata": {
        "id": "s9NLHkX54VY2"
      },
      "source": [
        "# Compute the percentage of women in earth, atmosphere, ocean\n",
        "\n",
        "# subdisciplines not categorized: paleoclimate, hydrology, climate dynamics, gis/engineering, impacts, sustainability, resources, ecology, planeontology, paleobiology, land\n",
        "# education\n",
        "\n",
        "# of all the oceanographers, what percentage are women?\n",
        "# Oceanography: Chemical Oceanography, Biological Oceanography, Physical Oceanography, Marine Biology, Paleoceanography, Ocean Acoustics\n",
        "ocean = chemocean \n",
        "ocean = ocean.append([bioocean, physocean, marinebio, paleocean, acoustics])\n",
        "gender_ocean = ocean.groupby(['Gender']).count()['Name'] # look at their genders\n",
        "percent_ocean = gender_ocean[0]/(gender_ocean[0]+gender_ocean[1])*100 # compute the percentage\n",
        "\n",
        "# of all the atmospheric scientists, what percentage are women?\n",
        "# Atmosphere: Atmospheric Dynamics, Atmospheric Chemistry\n",
        "atmosphere = atmoschem\n",
        "atmosphere = atmosphere.append(atmosdyn)\n",
        "gender_atmosphere = atmosphere.groupby(['Gender']).count()['Name'] # look at their genders\n",
        "percent_atmosphere = gender_atmosphere[0]/(gender_atmosphere[0]+gender_atmosphere[1])*100 # compute the percentage\n",
        "\n",
        "# of all the earth scientists, what percentage are women?\n",
        "# Earth: Geology, Geophysics, Geochemistry, Geobiology, Geomorphology, Marine Geology, Glaciology, geochemistry, biogeochemistry\n",
        "earth = geology\n",
        "earth = earth.append([geophysics, geochem, geobio, geomorph, marinegeo, glaciology, geochem, biogeochemistry])\n",
        "gender_earth = earth.groupby(['Gender']).count()['Name'] # look at their genders\n",
        "percent_earth = gender_earth[0]/(gender_earth[0]+gender_earth[1])*100 # compute the percentage\n",
        "\n",
        "# of all the planetary scientists, what percentage are women?\n",
        "planets = planetary\n",
        "gender_planets = planets.groupby(['Gender']).count()['Name'] # look at their genders\n",
        "percent_planets = gender_planets[0]/(gender_planets[0]+gender_planets[1])*100 # compute the percentage\n"
      ],
      "execution_count": null,
      "outputs": []
    },
    {
      "cell_type": "code",
      "metadata": {
        "id": "aYLMzKwrwZWc"
      },
      "source": [
        "# Make a Pie Chart of Earth, Atmosphere, Ocean\n",
        "\n",
        "# pie chart\n",
        "fig, ax = plt.subplots()\n",
        "labels = 'Earth: F','Earth: M','Atmosphere: F','Atmosphere: M','Ocean: F','Ocean: M'\n",
        "size = 0.3\n",
        "vals = np.array([[percent_earth,100-percent_earth], [percent_atmosphere,100-percent_atmosphere], [percent_ocean,100-percent_ocean]]);\n",
        "explode = (0.1,0.1, 0.1,0.1,0.1,0.1)\n",
        "\n",
        "cmap = plt.get_cmap(\"tab20c\")\n",
        "outer_colors = cmap(np.arange(3)*4)\n",
        "inner_colors = cmap(np.array([1, 2, 5, 6, 9, 10]))\n",
        "\n",
        "ax.pie(vals.flatten(), explode=explode,labels=labels, autopct='%1.1f%%',shadow=True, radius=1.5, colors=inner_colors, \n",
        "       wedgeprops=dict(width=1, edgecolor='w'))\n",
        "\n",
        "ax.set(aspect=\"equal\")\n",
        "plt.show()\n"
      ],
      "execution_count": null,
      "outputs": []
    },
    {
      "cell_type": "code",
      "metadata": {
        "id": "OCO3Fgp500Mg"
      },
      "source": [
        "# Another possible pie chart\n",
        "import matplotlib.colors as mcolors\n",
        "\n",
        "# Make a Pie Chart of Earth, Atmosphere, Ocean\n",
        "\n",
        "# pie chart\n",
        "fig, ax = plt.subplots()\n",
        "labels = 'Earth','Atmosphere','Ocean'\n",
        "size = 0.5\n",
        "vals = np.array([[percent_earth,100-percent_earth], [percent_atmosphere,100-percent_atmosphere], [percent_ocean,100-percent_ocean]]);\n",
        "explode = [0,0,0,0,0,0]\n",
        "outer_colors = ['darkorange','seagreen','mediumblue']\n",
        "inner_colors = ['burlywood','bisque','forestgreen','palegreen','royalblue','lightblue']\n",
        "\n",
        "ax.pie(vals.sum(axis=1), labels=labels, radius=1.5, colors=outer_colors,\n",
        "       wedgeprops=dict(width=size, edgecolor='w'))\n",
        "\n",
        "ax.pie(vals.flatten(), explode=explode, autopct='%1.1f%%',shadow=True, radius=1.5-size, colors=inner_colors, \n",
        "       wedgeprops=dict(width=size, edgecolor='w'))\n",
        "\n",
        "ax.set(aspect=\"equal\")\n",
        "plt.show()\n"
      ],
      "execution_count": null,
      "outputs": []
    },
    {
      "cell_type": "code",
      "metadata": {
        "id": "GwQiZi0kxJYI"
      },
      "source": [
        "# Compute the percentage of women in chemistry, biology, physics\n",
        "\n",
        "# of all the biologists, what percentage are women?\n",
        "# Biology: Geobiology, Marine Biology, Paleobiology, Biological Oceanography, Ecology\n",
        "biology = geobio \n",
        "biology = biology.append([marinebio, paleobio, bioocean, ecology])\n",
        "gender_biology = biology.groupby(['Gender']).count()['Name'] # look at their genders\n",
        "percent_biology = gender_biology[0]/(gender_biology[0]+gender_biology[1])*100 # compute the percentage\n",
        "\n",
        "# of all the chemists, what percentage are women?\n",
        "# Chemistry: Geochemistry, Chemical Oceanography, Atmospheric Chemistry\n",
        "chem = geochem \n",
        "chem = chem.append([chemocean, atmoschem])\n",
        "gender_chem = chem.groupby(['Gender']).count()['Name'] # look at their genders\n",
        "percent_chem = gender_chem[0]/(gender_chem[0]+gender_chem[1])*100 # compute the percentage\n",
        "\n",
        "# of all the physicists, what percentage are women?\n",
        "# Physics: Geophysics, Atmospheric Dynamics, Physical Oceanography\n",
        "physics = geophysics \n",
        "physics = physics.append([atmosdyn, physocean])\n",
        "gender_physics = physics.groupby(['Gender']).count()['Name'] # look at their genders\n",
        "percent_physics = gender_physics[0]/(gender_physics[0]+gender_physics[1])*100 # compute the percentage\n"
      ],
      "execution_count": null,
      "outputs": []
    },
    {
      "cell_type": "code",
      "metadata": {
        "id": "Mn5ZIhdNyULV"
      },
      "source": [
        "# Make a Pie Chart of Chemistry, Physics, Biology\n",
        "# except this makes no sense as a pie chart because they don't add up to 100....\n",
        "\n",
        "# pie chart\n",
        "labels = 'Chemistry','Biology','Physics'\n",
        "sizes = [percent_chem, percent_biology, percent_physics];\n",
        "explode = (0.1,0.1, 0.1)\n",
        "fig, ax = plt.subplots()\n",
        "ax.pie(sizes,explode=explode,labels=labels, colors=['green','orange','yellow'],autopct='%1.1f%%',shadow=True,startangle=90);\n",
        "ax.axis('equal');"
      ],
      "execution_count": null,
      "outputs": []
    },
    {
      "cell_type": "code",
      "metadata": {
        "id": "RbEMI9kQL8TE"
      },
      "source": [
        "# Prepare for the following pie chart...\n",
        "\n",
        "# simplify ocean sciences\n",
        "ocean_simp = chemocean \n",
        "ocean_simp = ocean_simp.append([bioocean, physocean, marinebio, paleocean])\n",
        "\n",
        "# of oceanographers, what percentage are physical oceanographers?\n",
        "wrk = physocean.count()/ocean_simp.count()*100\n",
        "percent_physocean_ocean = wrk[1]\n",
        "\n",
        "# of oceanographers, what percentage are biological oceanographers?\n",
        "bioocean_tot = bioocean.append(marinebio)\n",
        "wrk = bioocean_tot.count()/ocean_simp.count()*100\n",
        "percent_bioocean_ocean = wrk[1]\n",
        "\n",
        "# of oceanographers, what percentage are chemical oceanographers?\n",
        "wrk = chemocean.count()/ocean_simp.count()*100\n",
        "percent_chemocean_ocean = wrk[1]\n",
        "\n",
        "# simplify earth sciences\n",
        "earth_simp = geophysics\n",
        "earth_simp = earth_simp.append([geochem, geobio, biogeochemistry, marinegeo, geomorph, glaciology, geology])\n",
        "\n",
        "# of earth scientists, what percentage are geophysicists?\n",
        "wrk = geophysics.count()/earth_simp.count()*100\n",
        "percent_geophysics_earth = wrk[1]\n",
        "\n",
        "# of earth scientists, what percentage are geobiologists?\n",
        "wrk = geobio.count()/earth_simp.count()*100\n",
        "percent_geobio_earth = wrk[1]\n",
        "\n",
        "# of earth scientists, what percentage are geochemists?\n",
        "wrk = geochem.count()/earth_simp.count()*100\n",
        "percent_geochem_earth = wrk[1]\n",
        "\n",
        "# of atmospheric scientists, what percentage are atmospheric chemists?\n",
        "wrk = atmoschem.count()/atmosphere.count()*100\n",
        "percent_atmoschem_atmos = wrk[1]\n",
        "\n",
        "# of atmospheric scientists, what percentage are atmospheric dynamicists?\n",
        "wrk = atmosdyn.count()/atmosphere.count()*100\n",
        "percent_atmosdyn_atmos = wrk[1]\n",
        "\n",
        "print(percent_geochem_earth)\n",
        "print(percent_geophysics_earth)\n",
        "print(percent_geobio_earth)\n",
        "\n",
        "print(ocean_simp)"
      ],
      "execution_count": null,
      "outputs": []
    },
    {
      "cell_type": "code",
      "metadata": {
        "id": "7sVFlywx3lGb"
      },
      "source": [
        "# Try to put chem/bio/physics with ocean/atmosphere/earth in the same pie chart!\n",
        "import matplotlib.colors as mcolors\n",
        "\n",
        "# Things to talk about: (1) Does it make it hard to compare given that the chemistry/biology/physics sections are proportional \n",
        "# to the percentage of chem/bio/physics in each subdiscipline?  Should they take up the same space in the pie chart?\n",
        "# (2) The inner pie chart includes ALL ocean/earth/atmos subdisciplines.  The outer pie chart cuts out some of the subdisciplines\n",
        "# that don't fit neatly into \"chem/bio/physics\" (i.e. marine geology, geology, geomorphology, paleoceanography,...).  But the way \n",
        "# the pie chart is structured, it makes it seem like the same dataset is used in the inner and outer pie chart.\n",
        "\n",
        "# pie chart\n",
        "fig, ax = plt.subplots()\n",
        "labels_outer = 'Chem-Earth','','Bio-Earth','','Physics-Earth','','Chem-Atmosphere','','','','Physics-Atmosphere','','Chem-Ocean','','Bio-Ocean','','Physics-Ocean',''\n",
        "labels_inner = 'Earth','Earth','Atmosphere','Atmosphere','Ocean','Ocean'\n",
        "size = 0.5\n",
        "\n",
        "# define the values of the percentages \n",
        "vals = np.array([[percent_earth, 100-percent_earth], [percent_atmosphere,100-percent_atmosphere], [percent_ocean,100-percent_ocean]]);\n",
        "vals2 = np.array([[percent_geochem_earth*percent_geochem,percent_geochem_earth*(100-percent_geochem)],[percent_geobio_earth*percent_geobio,percent_geobio_earth*(100-percent_geobio)],[percent_geophysics_earth*percent_geophysics,percent_geophysics_earth*(100-percent_geophysics)],[percent_atmoschem_atmos*percent_atmoschem,percent_atmoschem_atmos*(100-percent_atmoschem)],[0,0],[percent_atmosdyn_atmos*percent_atmosdyn,percent_atmosdyn_atmos*(100-percent_atmosdyn)],[percent_chemocean_ocean*percent_chemocean,percent_chemocean_ocean*(100-percent_chemocean)],[percent_bioocean_ocean*percent_bioocean,percent_bioocean_ocean*(100-percent_bioocean)],[percent_physocean_ocean*percent_physocean,percent_physocean_ocean*(100-percent_physocean)]]);\n",
        "\n",
        "# go here to find the list of named colors you can use: https://matplotlib.org/3.1.1/gallery/color/named_colors.html\n",
        "# I think I managed to make it look worse\n",
        "# why is the atmosphere purple??  I don't know!!\n",
        "outer_colors = ['chocolate','sandybrown','chocolate','sandybrown','chocolate','sandybrown','blueviolet','mediumpurple','blueviolet','mediumpurple','blueviolet','mediumpurple','cornflowerblue','lightsteelblue','cornflowerblue','lightsteelblue','cornflowerblue','lightsteelblue']\n",
        "inner_colors = ['darkorange','bisque','purple','thistle','royalblue','lightblue']\n",
        "\n",
        "# make the pie plots\n",
        "ax.pie(vals2.flatten(), labels=labels_outer, radius=1.9, colors=outer_colors,\n",
        "       wedgeprops=dict(width=size, edgecolor='w'),startangle=90)\n",
        "\n",
        "ax.pie(vals.flatten(), labels=labels_inner, shadow=True, radius=1.9-size, colors=inner_colors, \n",
        "       wedgeprops=dict(width=size, edgecolor='w'),startangle=90)\n",
        "\n",
        "ax.set(aspect=\"equal\")\n",
        "plt.show()\n"
      ],
      "execution_count": null,
      "outputs": []
    },
    {
      "cell_type": "code",
      "metadata": {
        "id": "ZsTakqBpBGWr"
      },
      "source": [
        "# Prepare for the following pie chart...\n",
        "\n",
        "# Oceanography: Chemical Oceanography, Biological Oceanography, Physical Oceanography, Marine Biology, Paleoceanography, Ocean Acoustics\n",
        "# Atmosphere: Atmospheric Dynamics, Atmospheric Chemistry\n",
        "# Earth: Geology, Geophysics, Geochemistry, Geobiology, Geomorphology, Marine Geology, Glaciology, biogeochemistry\n",
        "\n",
        "# of oceanographers, what percentage are physical oceanographers?\n",
        "wrk = physocean.count()/ocean.count()*100\n",
        "percent_physocean_ocean = wrk[1]\n",
        "\n",
        "# of oceanographers, what percentage are biological oceanographers?\n",
        "bioocean_tot = bioocean.append(marinebio)\n",
        "wrk = bioocean_tot.count()/ocean.count()*100\n",
        "percent_bioocean_ocean = wrk[1]\n",
        "\n",
        "# of oceanographers, what percentage are chemical oceanographers?\n",
        "wrk = chemocean.count()/ocean.count()*100\n",
        "percent_chemocean_ocean = wrk[1]\n",
        "\n",
        "# of oceanographers, what percentage are paleoceanographers?\n",
        "wrk = paleocean.count()/ocean.count()*100\n",
        "percent_paleocean_ocean = wrk[1]\n",
        "\n",
        "# of oceanographers, what percentage are marine biologists?\n",
        "wrk = marinebio.count()/ocean.count()*100\n",
        "percent_marinebio_ocean = wrk[1]\n",
        "\n",
        "# of oceanographers, what percentage are ocean acoustics?\n",
        "wrk = acoustics.count()/ocean.count()*100\n",
        "percent_acoustics_ocean = wrk[1]\n",
        "\n",
        "# of earth scientists, what percentage are geophysicists?\n",
        "wrk = geophysics.count()/earth.count()*100\n",
        "percent_geophysics_earth = wrk[1]\n",
        "\n",
        "# of earth scientists, what percentage are geobiologists?\n",
        "wrk = geobio.count()/earth.count()*100\n",
        "percent_geobio_earth = wrk[1]\n",
        "\n",
        "# of earth scientists, what percentage are geochemists?\n",
        "wrk = geochem.count()/earth.count()*100\n",
        "percent_geochem_earth = wrk[1]\n",
        "\n",
        "# of earth scientists, what percentage are glaciologists?\n",
        "wrk = glaciology.count()/earth.count()*100\n",
        "percent_glaciology_earth = wrk[1]\n",
        "\n",
        "# of earth scientists, what percentage are geomorphologists?\n",
        "wrk = geomorph.count()/earth.count()*100\n",
        "percent_geomorph_earth = wrk[1]\n",
        "\n",
        "# of earth scientists, what percentage are geologists?\n",
        "wrk = geology.count()/earth.count()*100\n",
        "percent_geology_earth = wrk[1]\n",
        "\n",
        "# of earth scientists, what percentage are marine geologists?\n",
        "wrk = marinegeo.count()/earth.count()*100\n",
        "percent_marinegeo_earth = wrk[1]\n",
        "\n",
        "# of earth scientists, what percentage are biogeochemists?\n",
        "wrk = biogeochemistry.count()/earth.count()*100\n",
        "percent_biogeochemistry_earth = wrk[1]\n",
        "\n",
        "\n",
        "# of atmospheric scientists, what percentage are atmospheric chemists?\n",
        "wrk = atmoschem.count()/atmosphere.count()*100\n",
        "percent_atmoschem_atmos = wrk[1]\n",
        "\n",
        "# of atmospheric scientists, what percentage are atmospheric dynamicists?\n",
        "wrk = atmosdyn.count()/atmosphere.count()*100\n",
        "percent_atmosdyn_atmos = wrk[1]\n",
        "\n",
        "print(planetary.count)"
      ],
      "execution_count": null,
      "outputs": []
    },
    {
      "cell_type": "code",
      "metadata": {
        "id": "2DhAfXHaZIw5"
      },
      "source": [
        "# Pie charts x bar charts\n",
        "\n",
        "import matplotlib.colors as mcolors\n",
        "\n",
        "# Make Pie Charts of Earth, Atmosphere, Ocean, Planetary\n",
        "\n",
        "# pie chart\n",
        "fig, axs = plt.subplots(2,2)\n",
        "fig.subplots_adjust(0.6,0,2,2,1)\n",
        "\n",
        "# Earth Pie Chart\n",
        "labels = 'Geophysics','Geobiology','Glaciology','Geomorphology','Marine Geology','Geology', 'Geochemisry', 'Biogeochemistry'\n",
        "size = 0.5\n",
        "vals_inner = np.array([[percent_earth,100-percent_earth]]);\n",
        "vals_outer = np.array([[percent_geophysics_earth, percent_geobio_earth, percent_glaciology_earth, percent_geomorph_earth, percent_marinegeo_earth, percent_geology_earth, percent_geochem_earth, percent_biogeochemistry_earth]]) # percent of geologists, geophysicists, glaciologists, etc.\n",
        "explode = [0,0,0,0,0,0]\n",
        "inner_colors = ['burlywood','bisque']\n",
        "outer_colors = ['chocolate','saddlebrown','peachpuff','peru','tan','linen', 'peru', 'peachpuff']\n",
        "axs[0,0].pie(vals_outer.flatten(), labels=labels, radius=1.5, colors=outer_colors,shadow=True, \n",
        "       wedgeprops=dict(width=size, edgecolor='w'))\n",
        "axs[0,0].pie(vals_inner.flatten(), shadow=True, radius=1.5-size, colors=inner_colors, autopct='%1.1f%%',\n",
        "       wedgeprops=dict(width=size, edgecolor='w'))\n",
        "axs[0,0].set(aspect=\"equal\")\n",
        "\n",
        "# Ocean Pie Chart\n",
        "labels = 'Chemical Oceanography','Biological Oceanography','Physical Oceanography','Marine Biology','Paleoceanography','Ocean Acoustics'\n",
        "size = 0.5\n",
        "vals_inner = np.array([[percent_ocean,100-percent_ocean]]);\n",
        "vals_outer = np.array([[percent_chemocean_ocean, percent_bioocean_ocean, percent_physocean_ocean, percent_marinebio_ocean, percent_paleocean_ocean, percent_acoustics_ocean]]) \n",
        "explode = [0,0,0,0,0,0]\n",
        "inner_colors = ['royalblue','lightblue']\n",
        "outer_colors = ['cadetblue','powderblue','deepskyblue','steelblue','cornflowerblue','lavender']\n",
        "axs[0,1].pie(vals_outer.flatten(), labels=labels, radius=1.5, colors=outer_colors,shadow=True, \n",
        "       wedgeprops=dict(width=size, edgecolor='w'))\n",
        "axs[0,1].pie(vals_inner.flatten(), shadow=True, radius=1.5-size, colors=inner_colors, autopct='%1.1f%%',\n",
        "       wedgeprops=dict(width=size, edgecolor='w'))\n",
        "axs[0,1].set(aspect=\"equal\")\n",
        "\n",
        "# Atmosphere Pie Chart\n",
        "labels = 'Atmospheric Dynamics','Atmospheric Chemistry'\n",
        "size = 0.5\n",
        "vals_inner = np.array([[percent_atmosphere,100-percent_atmosphere]]);\n",
        "vals_outer = np.array([[percent_atmoschem_atmos, percent_atmosdyn_atmos]]) \n",
        "explode = [0,0,0,0,0,0]\n",
        "inner_colors = ['forestgreen','palegreen',]\n",
        "outer_colors = ['turquoise','honeydew']\n",
        "axs[1,0].pie(vals_outer.flatten(), labels=labels, radius=1.5, colors=outer_colors,shadow=True, \n",
        "       wedgeprops=dict(width=size, edgecolor='w'))\n",
        "axs[1,0].pie(vals_inner.flatten(), shadow=True, radius=1.5-size, colors=inner_colors, autopct='%1.1f%%',\n",
        "       wedgeprops=dict(width=size, edgecolor='w'))\n",
        "axs[1,0].set(aspect=\"equal\")\n",
        "\n",
        "# Planets Pie Chart\n",
        "size = 0.5\n",
        "vals_inner = np.array([[percent_planets,100-percent_planets]]);\n",
        "explode = [0,0,0,0,0,0]\n",
        "inner_colors = ['darkorchid','thistle']\n",
        "axs[1,1].pie(vals_inner.flatten(), shadow=True, radius=1.5-size, colors=inner_colors, autopct='%1.1f%%',\n",
        "       wedgeprops=dict(width=size, edgecolor='w'))\n",
        "axs[1,1].set(aspect=\"equal\")\n",
        "\n",
        "#plt.show()\n",
        "#extent = axs.get_window_extent()\n",
        "fig.savefig('percent_subdisciplines2.png',bbox_inches=\"tight\")\n",
        "\n",
        "print(percent_earth)\n"
      ],
      "execution_count": null,
      "outputs": []
    },
    {
      "cell_type": "code",
      "metadata": {
        "id": "-Q48R41A8c5e"
      },
      "source": [
        "# bar graphs to go with above\n",
        "import matplotlib.colors as mcolors\n",
        "\n",
        "# Make bar Charts of Earth, Atmosphere, Ocean, Planetary\n",
        "\n",
        "# Earth bar Chart\n",
        "fig1, axs1 = plt.subplots(2,3)\n",
        "fig1.subplots_adjust(0.3,0,1.5,1.5,0.5)\n",
        "axs1[0,0].bar(('Male','Female'),[100-percent_geophysics,percent_geophysics],color=['chocolate','chocolate'])\n",
        "axs1[0,0].set_title('Geophysics')\n",
        "axs1[0,0].set_ylim([0, 100])\n",
        "axs1[0,1].bar(('Male','Female'),[100-percent_geobio,percent_geobio],color=['saddlebrown','saddlebrown'])\n",
        "axs1[0,1].set_title('Geobiology')\n",
        "axs1[0,1].set_ylim([0, 100])\n",
        "axs1[0,2].bar(('Male','Female'),[100-percent_glaciology,percent_glaciology],color=['peachpuff','peachpuff'])\n",
        "axs1[0,2].set_title('Glaciology')\n",
        "axs1[0,2].set_ylim([0, 100])\n",
        "axs1[1,0].bar(('Male','Female'),[100-percent_geomorph,percent_geomorph],color=['peru','peru'])\n",
        "axs1[1,0].set_title('Geomorphology')\n",
        "axs1[1,0].set_ylim([0, 100])\n",
        "#axs1[1,1].bar(('Male','Female'),[100-percent_marinegeo,percent_marinegeo],color=['tan','tan'])\n",
        "#axs1[1,1].set_title('Marine Geology')\n",
        "#axs1[1,1].set_ylim([0, 100])\n",
        "#axs1[1,2].bar(('Male','Female'),[100-percent_geology,percent_geology],color=['linen','linen'])\n",
        "#axs1[1,2].set_title('Geology')\n",
        "#axs1[1,2].set_ylim([0, 100])\n",
        "\n",
        "axs1[1,1].bar(('Male','Female'),[100-percent_geochem,percent_geochem],color=['tan','tan'])\n",
        "axs1[1,1].set_title('Geochemsitry')\n",
        "axs1[1,1].set_ylim([0, 100])\n",
        "axs1[1,2].bar(('Male','Female'),[100-percent_biogeochemistry,percent_biogeochemistry],color=['linen','linen'])\n",
        "axs1[1,2].set_title('biogeochemistry')\n",
        "axs1[1,2].set_ylim([0, 100])\n",
        "plt.show()\n",
        "\n",
        "# Ocean bar Chart\n",
        "fig2, axs2 = plt.subplots(2,3)\n",
        "fig2.subplots_adjust(0.3,0,1.5,1.5,0.5)\n",
        "axs2[0,0].bar(('Male','Female'),[100-percent_chemocean,percent_chemocean],color=['cadetblue','cadetblue'])\n",
        "axs2[0,0].set_title('Chemical Oceanography')\n",
        "axs2[0,0].set_ylim([0, 100])\n",
        "axs2[0,1].bar(('Male','Female'),[100-percent_bioocean,percent_bioocean],color=['powderblue','powderblue'])\n",
        "axs2[0,1].set_title('Biological Oceanography')\n",
        "axs2[0,2].set_ylim([0, 100])\n",
        "axs2[0,2].bar(('Male','Female'),[100-percent_physocean,percent_physocean],color=['deepskyblue','deepskyblue'])\n",
        "axs2[0,2].set_title('Physical Oceanography')\n",
        "axs2[0,2].set_ylim([0, 100])\n",
        "axs2[1,0].bar(('Male','Female'),[100-percent_marinebio,percent_marinebio],color=['steelblue','steelblue'])\n",
        "axs2[1,0].set_title('Marine Biology')\n",
        "axs2[1,0].set_ylim([0, 100])\n",
        "axs2[1,1].bar(('Male','Female'),[100-percent_paleocean,percent_paleocean],color=['cornflowerblue','cornflowerblue'])\n",
        "axs2[1,1].set_title('Paleoceanography')\n",
        "axs2[1,1].set_ylim([0, 100])\n",
        "axs2[1,2].bar(('Male','Female'),[100-percent_acoustics,percent_acoustics],color=['lavender','lavender'])\n",
        "axs2[1,2].set_title('Ocean Acoustics')\n",
        "axs2[1,2].set_ylim([0, 100])\n",
        "plt.show()\n",
        "\n",
        "# Atmosphere bar Chart\n",
        "fig3, axs3 = plt.subplots(1,2)\n",
        "fig3.subplots_adjust(0.1,0,1,1,0.5)\n",
        "labels = 'Atmospheric Dynamics','Atmospheric Chemistry'\n",
        "inner_colors = ['forestgreen','palegreen',]\n",
        "outer_colors = ['turquoise','honeydew']\n",
        "axs3[0].bar(('Male','Female'),[100-percent_atmosdyn,percent_atmosdyn],color=['turquoise','turquoise'])\n",
        "axs3[0].set_title('Atmospheric Dynamics')\n",
        "axs3[0].set_ylim([0, 100])\n",
        "axs3[1].bar(('Male','Female'),[100-percent_atmoschem,percent_atmoschem],color=['palegreen','palegreen'])\n",
        "axs3[1].set_title('Atmospheric Chemistry')\n",
        "axs3[1].set_ylim([0, 100])\n",
        "plt.show()\n",
        "\n",
        "\n"
      ],
      "execution_count": null,
      "outputs": []
    },
    {
      "cell_type": "markdown",
      "metadata": {
        "id": "jT6QFtjRrqg1"
      },
      "source": [
        "# Private Public University Split"
      ]
    },
    {
      "cell_type": "code",
      "metadata": {
        "id": "A--D3fRA9jzt"
      },
      "source": [
        "import statsmodels as sm\n",
        "\n",
        "public_stats = (df.loc[(df['private_public'] == 'public') & (df['Gender'] == 'f')].groupby(['University','Career Stage']).count()['Name'])/(\n",
        "    (df.loc[(df['private_public'] == 'public') & (df['Gender'] == 'f')].groupby(['University','Career Stage']).count()['Name']) +\n",
        "    (df.loc[(df['private_public'] == 'public') & (df['Gender'] == 'm')].groupby(['University','Career Stage']).count()['Name'])\n",
        ")\n",
        "private_stats = (df.loc[(df['private_public'] == 'private') & (df['Gender'] == 'f')].groupby(['University','Career Stage']).count()['Name'])/(\n",
        "    (df.loc[(df['private_public'] == 'private') & (df['Gender'] == 'f')].groupby(['University','Career Stage']).count()['Name']) +\n",
        "    (df.loc[(df['private_public'] == 'private') & (df['Gender'] == 'm')].groupby(['University','Career Stage']).count()['Name'])\n",
        ")"
      ],
      "execution_count": null,
      "outputs": []
    },
    {
      "cell_type": "code",
      "metadata": {
        "id": "5t82J536BdGv"
      },
      "source": [
        "sm.stats.weightstats.ztest(\n",
        "    (private_stats.iloc[private_stats.index.get_level_values('Career Stage') == 'assistant professor']).dropna(),\n",
        "    (public_stats.iloc[public_stats.index.get_level_values('Career Stage') == 'assistant professor']).dropna(), \n",
        "    value = 0, \n",
        "    alternative= 'two-sided'\n",
        "    )"
      ],
      "execution_count": null,
      "outputs": []
    },
    {
      "cell_type": "code",
      "metadata": {
        "id": "NmhOj73P_BoL"
      },
      "source": [
        "sm.stats.weightstats.ztest(\n",
        "    (private_stats.iloc[private_stats.index.get_level_values('Career Stage') == 'associate professor']).dropna(),\n",
        "    (public_stats.iloc[public_stats.index.get_level_values('Career Stage') == 'associate professor']).dropna(), \n",
        "    value = 0, \n",
        "    alternative= 'two-sided'\n",
        "    )"
      ],
      "execution_count": null,
      "outputs": []
    },
    {
      "cell_type": "code",
      "metadata": {
        "id": "pYlybFWBCBIk"
      },
      "source": [
        "sm.stats.weightstats.ztest(\n",
        "    (private_stats.iloc[private_stats.index.get_level_values('Career Stage') == 'professor']).dropna(),\n",
        "    (public_stats.iloc[public_stats.index.get_level_values('Career Stage') == 'professor']).dropna(), \n",
        "    value = 0, \n",
        "    alternative= 'two-sided'\n",
        "    )"
      ],
      "execution_count": null,
      "outputs": []
    },
    {
      "cell_type": "code",
      "metadata": {
        "id": "1lalC41AsSTV"
      },
      "source": [
        "fig, ax = plt.subplots(figsize =(5,5))\n",
        "for pp in ['private','public']:\n",
        "  # Data to plot\n",
        "  labels = list(df.loc[df['private_public'] == pp].groupby(['Career Stage']).count()['Name'].index)\n",
        "  sizes = list(df.loc[df['private_public'] == pp].groupby(['Career Stage']).count()['Name'].values)\n",
        "  labels_gender = df.loc[df['private_public'] == pp].groupby(['Career Stage','Gender']).count().index.get_level_values(1)\n",
        "  sizes_gender = df.loc[df['private_public'] == pp].groupby(['Career Stage','Gender']).count()['Name'].values\n",
        "  colors = prof_colors.values()\n",
        "  colors_gender = gender_colors.values()\n",
        "  #explode = (0.2,0.2,0.2) \n",
        "  explode_gender = np.empty(len(labels_gender))\n",
        "  explode_gender.fill(0.1)\n",
        "  #Plot\n",
        "\n",
        "  plt.pie(sizes, labels=labels, colors = colors, startangle=90,frame=True,radius=3.5)\n",
        "  plt.pie(sizes_gender, colors = colors_gender, explode = explode_gender, startangle=90,radius=2.5 )\n",
        "  #Draw circle\n",
        "  center_circle = plt.Circle((0,0),2,color='black', fc='white',linewidth=0)\n",
        "  fig = plt.gcf()\n",
        "  fig.gca().add_artist(center_circle)\n",
        "  \n",
        "  plt.axis('equal')\n",
        "  plt.title(pp)\n",
        "  plt.tight_layout()\n",
        "  plt.show()\n",
        "  print(labels_gender)\n",
        "  print(sizes_gender)\n",
        "  print(sizes_gender[0]/sizes[0], sizes_gender[2]/sizes[1], sizes_gender[4]/sizes[2])\n",
        "  print(labels)\n",
        "  print(sizes)"
      ],
      "execution_count": null,
      "outputs": []
    },
    {
      "cell_type": "code",
      "metadata": {
        "id": "_xLMDEo4tvD3"
      },
      "source": [
        "fig, ax = plt.subplots(figsize =(5,5))\n",
        "for pp in ['private','public']:\n",
        "  # Data to plot\n",
        "  labels = list(df.loc[df['private_public'] == pp].groupby(['EPAO']).count()['Name'].index)\n",
        "  sizes = list(df.loc[df['private_public'] == pp].groupby(['EPAO']).count()['Name'].values)\n",
        "  labels_gender = df.loc[df['private_public'] == pp].groupby(['EPAO','Gender']).count().index.get_level_values(1)\n",
        "  sizes_gender = df.loc[df['private_public'] == pp].groupby(['EPAO','Gender']).count()['Name'].values\n",
        "  colors = ['forestgreen', 'darkgoldenrod', 'lightblue', 'mediumslateblue']\n",
        "  colors_gender = gender_colors.values()\n",
        "  explode = np.empty(len(labels)) \n",
        "  explode.fill(0.2) \n",
        "  explode_gender = np.empty(len(labels_gender))\n",
        "  explode_gender.fill(0.1)\n",
        "\n",
        "  #Plot\n",
        "\n",
        "  plt.pie(sizes, labels=labels, colors = colors, explode = explode, startangle=90,frame=True,radius=3.5)\n",
        "  plt.pie(sizes_gender, colors = colors_gender, explode = explode_gender, startangle=90,radius=2.5 )\n",
        "  #Draw circle\n",
        "  center_circle = plt.Circle((0,0),2,color='black', fc='white',linewidth=0)\n",
        "  fig = plt.gcf()\n",
        "  fig.gca().add_artist(center_circle)\n",
        "  \n",
        "  plt.axis('equal')\n",
        "  plt.title(pp)\n",
        "  plt.tight_layout()\n",
        "  plt.show()\n",
        "  print(labels_gender)\n",
        "  print(sizes_gender)\n",
        "  print(sizes_gender[0]/sizes[0], sizes_gender[2]/sizes[1], sizes_gender[4]/sizes[2], sizes_gender[6]/sizes[3])\n",
        "  print(labels)\n",
        "  print(sizes)"
      ],
      "execution_count": null,
      "outputs": []
    },
    {
      "cell_type": "code",
      "metadata": {
        "id": "2RKNcnXmc_Bj"
      },
      "source": [
        ""
      ],
      "execution_count": null,
      "outputs": []
    },
    {
      "cell_type": "markdown",
      "metadata": {
        "id": "SR7Vyrgxyl8b"
      },
      "source": [
        "# Department Leadership"
      ]
    },
    {
      "cell_type": "code",
      "metadata": {
        "id": "xv4P3LGMYnFH"
      },
      "source": [
        "gender_chair = dfc.groupby(['Gender']).count()['Name']\n",
        "percent_chair = gender_chair[0]/(gender_chair[0]+gender_chair[1])*100\n",
        "\n",
        "\n",
        "# bar chart\n",
        "N = 2\n",
        "ind = np.arange(N)\n",
        "fig = plt.figure()\n",
        "ax = fig.add_axes([0,0,1,1])\n",
        "ax.grid(zorder=0)\n",
        "ax.bar(('Female','Male'),[percent_chair,100-percent_chair],color=['green','orange'],zorder=3);\n",
        "plt.ylabel('Percenatage of All Department Heads');\n",
        "\n",
        "\n",
        "\n",
        "# pie chart\n",
        "labels = 'Female','Male'\n",
        "sizes = [percent_chair,100-percent_chair];\n",
        "explode = (0.1,0.1)\n",
        "fig, ax = plt.subplots()\n",
        "ax.pie(sizes,explode=explode,labels=labels, colors=['green','orange'],autopct='%1.1f%%',shadow=True);\n",
        "ax.axis('equal');\n",
        "plt.savefig('percent_deptheads.png')\n",
        "\n",
        "\n",
        "\n",
        "\n"
      ],
      "execution_count": null,
      "outputs": []
    },
    {
      "cell_type": "code",
      "metadata": {
        "id": "vrFiSPHazdsx"
      },
      "source": [
        "percent_chair_F = len(df.loc[df['dept_head_gender'] == 'F'].groupby('University').count()['dept_head_gender'])/(\n",
        "                              len(df.loc[df['dept_head_gender'] == 'F'].groupby('University').count()['dept_head_gender']) + \n",
        "                              len(df.loc[df['dept_head_gender'] == 'M'].groupby('University').count()['dept_head_gender']))*100\n",
        "percent_chair_M = len(df.loc[df['dept_head_gender'] == 'M'].groupby('University').count()['dept_head_gender'])/(\n",
        "                              len(df.loc[df['dept_head_gender'] == 'F'].groupby('University').count()['dept_head_gender']) + \n",
        "                              len(df.loc[df['dept_head_gender'] == 'M'].groupby('University').count()['dept_head_gender']))*100"
      ],
      "execution_count": null,
      "outputs": []
    },
    {
      "cell_type": "code",
      "metadata": {
        "id": "qxatqY3A3b5W"
      },
      "source": [
        "# bar chart\n",
        "N = 2\n",
        "ind = np.arange(N)\n",
        "fig = plt.figure()\n",
        "ax = fig.add_axes([0,0,1,1])\n",
        "ax.grid(zorder=0)\n",
        "ax.bar(('Female','Male'),[percent_chair_F,percent_chair_M],color=[dict_colors['female'],dict_colors['male']],zorder=3);\n",
        "plt.ylabel('Percenatage of All Department Heads');\n"
      ],
      "execution_count": null,
      "outputs": []
    },
    {
      "cell_type": "code",
      "metadata": {
        "id": "_pw4SMOZ3dRW"
      },
      "source": [
        "# pie chart\n",
        "labels = 'Female','Male'\n",
        "sizes = [percent_chair_F,percent_chair_M];\n",
        "explode = (0.1,0.1)\n",
        "fig, ax = plt.subplots()\n",
        "ax.pie(sizes,explode=explode,labels=labels, colors=[dict_colors['female'],dict_colors['male']],autopct='%1.1f%%',shadow=True);\n",
        "ax.axis('equal');\n",
        "plt.savefig('percent_deptheads.png')"
      ],
      "execution_count": null,
      "outputs": []
    },
    {
      "cell_type": "code",
      "metadata": {
        "id": "mN-bow-VGWUE"
      },
      "source": [
        "df.loc[(df['dept_head_gender'] == 'F')].loc[(df['Gender'] == 'F')].groupby('Career Stage').count()['Name'].plot.bar()"
      ],
      "execution_count": null,
      "outputs": []
    },
    {
      "cell_type": "code",
      "metadata": {
        "id": "J6IvRrmXG63I"
      },
      "source": [
        "df.loc[(df['dept_head_gender'] == 'M')].loc[(df['Gender'] == 'F')].groupby('Career Stage').count()['Name'].plot.bar()"
      ],
      "execution_count": null,
      "outputs": []
    },
    {
      "cell_type": "code",
      "metadata": {
        "id": "broBlQZP4242"
      },
      "source": [
        "# Of all the departments with female department heads, what is the percentage of female faculty?  \n",
        "\n",
        "# first find the departments with female department heads\n",
        "female_heads = dfc.loc[dfc['Gender'] == 'F'] # find all entries with female department heads\n",
        "num_female_heads = female_heads.count()['Name']\n",
        "indexes = female_heads.index\n",
        "female_heads.loc[:,\"University\"] = female_heads[\"University\"].astype(str);\n",
        "female_heads.loc[:,\"Department\"] = female_heads[\"Department\"].astype(str);\n",
        "\n",
        "femalehead_asstprof = pd.DataFrame();\n",
        "femalehead_assocprof = pd.DataFrame();\n",
        "femalehead_prof = pd.DataFrame();\n",
        "\n",
        "\n",
        "percent_femalehead = []\n",
        "for i in range(num_female_heads):\n",
        "  # find the department and school in the big dataframe (df)\n",
        "  univ = female_heads.loc[indexes[i]]['University']\n",
        "  dept = female_heads.loc[indexes[i]]['Department']\n",
        "  # pull faculty from that department and university\n",
        "  faculty = df.loc[(df['University'] == univ) & (df['Department'] == dept)]\n",
        "  # find percentage of women from that department\n",
        "  gender = faculty.groupby(['Gender']).count()['Name']\n",
        "  print(gender)\n",
        "  if len(gender) == 1:\n",
        "    percent_femalehead.append(0)\n",
        "  elif len(gender) == 3:\n",
        "    percent_femalehead.append(gender[1]/(gender[1]+gender[2])*100)\n",
        "  else:\n",
        "    percent_femalehead.append(gender[0]/(gender[0]+gender[1])*100)\n",
        "  \n",
        "  # compute percent by rank\n",
        "  femalehead_asstprof = femalehead_asstprof.append(faculty.loc[faculty['Career Stage'] == 'assistant professor'])\n",
        "  femalehead_assocprof = femalehead_assocprof.append(faculty.loc[faculty['Career Stage'] == 'associate professor'])\n",
        "  femalehead_prof = femalehead_prof.append(faculty.loc[faculty['Career Stage'] == 'professor'])\n",
        "  break\n",
        "\n",
        "avg_percent_femalehead = np.average(percent_femalehead)\n",
        "std_percent_femalehead = np.std(percent_femalehead)\n",
        "\n"
      ],
      "execution_count": null,
      "outputs": []
    },
    {
      "cell_type": "code",
      "metadata": {
        "id": "j2xbOd0JBdLX"
      },
      "source": [
        "# Of the departments with male department heads, what is the percentage of female faculty?\n",
        "\n",
        "# first find the departments with male department heads\n",
        "male_heads = dfc.loc[dfc['Gender'] == 'M'] # find all entries with female department heads\n",
        "num_male_heads = male_heads.count()['Name']\n",
        "indexes = male_heads.index\n",
        "male_heads[\"University\"] = male_heads[\"University\"].astype(str);\n",
        "male_heads[\"Department\"] = male_heads[\"Department\"].astype(str);\n",
        "\n",
        "malehead_asstprof = pd.DataFrame();\n",
        "malehead_assocprof = pd.DataFrame();\n",
        "malehead_prof = pd.DataFrame();\n",
        "\n",
        "percent_malehead = []\n",
        "for i in range(num_male_heads):\n",
        "  # find the department and school in the big dataframe (df)\n",
        "  univ = male_heads.loc[indexes[i]]['University']\n",
        "  dept = male_heads.loc[indexes[i]]['Department']\n",
        "\n",
        "  # pull faculty from that department and university\n",
        "  faculty = df.loc[(df['University'] == univ) & (df['Department'] == dept)]\n",
        "\n",
        "  # find percentage of women from that department\n",
        "  gender = faculty.groupby(['Gender']).count()['Name']\n",
        "  if len(gender) == 1:\n",
        "    percent_malehead.append(0)\n",
        "  elif len(gender) == 3:\n",
        "    percent_malehead.append(gender[1]/(gender[1]+gender[2])*100)\n",
        "  else:\n",
        "    percent_malehead.append(gender[0]/(gender[0]+gender[1])*100)\n",
        "\n",
        "  # compute percent by rank\n",
        "  malehead_asstprof = malehead_asstprof.append(faculty.loc[faculty['Career Stage'] == 'assistant professor'])\n",
        "  malehead_assocprof = malehead_assocprof.append(faculty.loc[faculty['Career Stage'] == 'associate professor'])\n",
        "  malehead_prof = malehead_prof.append(faculty.loc[faculty['Career Stage'] == 'professor'])\n",
        "  \n",
        "avg_percent_malehead = np.average(percent_malehead)\n",
        "std_percent_malehead = np.std(percent_malehead)"
      ],
      "execution_count": null,
      "outputs": []
    },
    {
      "cell_type": "code",
      "metadata": {
        "id": "e3NatnbAFFbo"
      },
      "source": [
        "# Plot Percent Women in Departments with Female Department Heads\n",
        "fig = plt.figure()\n",
        "ax = fig.add_axes([0,0,1,1])\n",
        "ax.grid(zorder=0)\n",
        "#ax.hist(percent_femalehead, zorder=3);\n",
        "ax.hist(percent_femalehead,[0, 5, 10, 15, 20, 25, 30, 35, 40, 45, 50], zorder=3);\n",
        "plt.ylabel('Number of Departments');\n",
        "plt.xlabel('Percentage of Female Faculty');\n",
        "plt.xlim((0, 50));"
      ],
      "execution_count": null,
      "outputs": []
    },
    {
      "cell_type": "code",
      "metadata": {
        "id": "PoS02mU2nUKw"
      },
      "source": [
        "# Plot Percent Women in Departments with Female Department Heads\n",
        "\n",
        "N = num_female_heads\n",
        "ind = np.arange(N)\n",
        "fig = plt.figure()\n",
        "ax = fig.add_axes([0,0,1,1])\n",
        "ax.grid(zorder=0)\n",
        "#ax.hist(percent_femalehead, zorder=3);\n",
        "ax.hist(percent_femalehead,[0, 5, 10, 15, 20, 25, 30, 35, 40, 45, 50], zorder=3);\n",
        "plt.ylabel('Number of Departments');\n",
        "plt.xlabel('Percentage of Female Faculty');\n",
        "plt.xlim((0, 50));"
      ],
      "execution_count": null,
      "outputs": []
    },
    {
      "cell_type": "code",
      "metadata": {
        "id": "YLcuFYoBopEe"
      },
      "source": [
        "# Plot Percent Women in Departments with Male Department Heads\n",
        "\n",
        "N = num_male_heads\n",
        "ind = np.arange(N)\n",
        "fig = plt.figure()\n",
        "ax = fig.add_axes([0,0,1,1])\n",
        "ax.grid(zorder=0)\n",
        "#ax.hist(percent_malehead, zorder=3);\n",
        "ax.hist(percent_malehead,[0, 5, 10, 15, 20, 25, 30, 35, 40, 45, 50], zorder=3);\n",
        "plt.ylabel('Number of Departments');\n",
        "plt.xlabel('Percentage of Female Faculty');\n",
        "plt.xlim((0, 50));"
      ],
      "execution_count": null,
      "outputs": []
    },
    {
      "cell_type": "code",
      "metadata": {
        "id": "0zISXnE9t4v2"
      },
      "source": [
        "# Conduct a Z-test of the two distributions to determine if they are statistically different\n",
        "# Spoiler: they aren't.\n",
        "\n",
        "Z = (avg_percent_femalehead-avg_percent_malehead)/np.sqrt((std_percent_femalehead/np.sqrt(num_female_heads))**2+(std_percent_malehead/np.sqrt(num_male_heads))**2)\n",
        "Z"
      ],
      "execution_count": null,
      "outputs": []
    },
    {
      "cell_type": "code",
      "metadata": {
        "id": "nmrXvDEXZoae"
      },
      "source": [
        "# rank for female heads\n",
        "asstprof_gender = femalehead_asstprof.groupby('Gender').count()['Name']\n",
        "percent_asstprof_femalehead = asstprof_gender[0]/(asstprof_gender[0]+asstprof_gender[1])*100\n",
        "\n",
        "assocprof_gender = femalehead_assocprof.groupby('Gender').count()['Name']\n",
        "percent_assocprof_femalehead = assocprof_gender[0]/(assocprof_gender[0]+assocprof_gender[1])*100\n",
        "\n",
        "prof_gender = femalehead_prof.groupby('Gender').count()['Name']\n",
        "percent_prof_femalehead = prof_gender[0]/(prof_gender[0]+prof_gender[1])*100\n",
        "\n",
        "# rank for male heads\n",
        "asstprof_gender = malehead_asstprof.groupby('Gender').count()['Name']\n",
        "percent_asstprof_malehead = asstprof_gender[0]/(asstprof_gender[0]+asstprof_gender[1])*100\n",
        "percent_asstprof_malehead\n",
        "\n",
        "assocprof_gender = malehead_assocprof.groupby('Gender').count()['Name']\n",
        "percent_assocprof_malehead = assocprof_gender[1]/(assocprof_gender[1]+assocprof_gender[2])*100\n",
        "\n",
        "prof_gender = malehead_prof.groupby('Gender').count()['Name']\n",
        "percent_prof_malehead = prof_gender[0]/(prof_gender[0]+prof_gender[1])*100\n"
      ],
      "execution_count": null,
      "outputs": []
    },
    {
      "cell_type": "code",
      "metadata": {
        "id": "1IrRdu0fZ-pg"
      },
      "source": [
        "# plots for rank for female heads/male heads\n",
        "fig, axs = plt.subplots(3,2)\n",
        "fig.subplots_adjust(0.6,0,2,2)\n",
        "# pie chart\n",
        "labels = 'Female','Male'\n",
        "sizes = [percent_asstprof_femalehead,100-percent_asstprof_femalehead];\n",
        "explode = (0.1,0.1)\n",
        "axs[0,0].pie(sizes,explode=explode,labels=labels, colors=['green','orange'],autopct='%1.1f%%',shadow=True);\n",
        "axs[0,0].axis('equal');\n",
        "axs[0,0].set_title('Assistant Professors');\n",
        "\n",
        "labels = 'Female','Male'\n",
        "sizes = [percent_assocprof_femalehead,100-percent_assocprof_femalehead];\n",
        "explode = (0.1,0.1)\n",
        "axs[1,0].pie(sizes,explode=explode, colors=['green','orange'],autopct='%1.1f%%',shadow=True);\n",
        "axs[1,0].axis('equal');\n",
        "axs[1,0].set_title('Associate Professors');\n",
        "\n",
        "labels = 'Female','Male'\n",
        "sizes = [percent_prof_femalehead,100-percent_prof_femalehead];\n",
        "explode = (0.1,0.1)\n",
        "axs[2,0].pie(sizes,explode=explode, colors=['green','orange'],autopct='%1.1f%%',shadow=True);\n",
        "axs[2,0].axis('equal');\n",
        "axs[2,0].set_title('Professors');\n",
        "\n",
        "# pie chart\n",
        "labels = 'Female','Male'\n",
        "sizes = [percent_asstprof_malehead,100-percent_asstprof_malehead];\n",
        "explode = (0.1,0.1)\n",
        "axs[0,1].pie(sizes,explode=explode, colors=['green','orange'],autopct='%1.1f%%',shadow=True);\n",
        "axs[0,1].axis('equal');\n",
        "axs[0,1].set_title('Assistant Professors');\n",
        "\n",
        "labels = 'Female','Male'\n",
        "sizes = [percent_assocprof_malehead,100-percent_assocprof_malehead];\n",
        "explode = (0.1,0.1)\n",
        "axs[1,1].pie(sizes,explode=explode, colors=['green','orange'],autopct='%1.1f%%',shadow=True);\n",
        "axs[1,1].axis('equal');\n",
        "axs[1,1].set_title('Associate Professors');\n",
        "\n",
        "labels = 'Female','Male'\n",
        "sizes = [percent_prof_malehead,100-percent_prof_malehead];\n",
        "explode = (0.1,0.1)\n",
        "axs[2,1].pie(sizes,explode=explode, colors=['green','orange'],autopct='%1.1f%%',shadow=True);\n",
        "axs[2,1].axis('equal');\n",
        "axs[2,1].set_title('Professors');\n"
      ],
      "execution_count": null,
      "outputs": []
    },
    {
      "cell_type": "markdown",
      "metadata": {
        "id": "2hHhSgv6zOOO"
      },
      "source": [
        "Correlation between ranks"
      ]
    },
    {
      "cell_type": "code",
      "metadata": {
        "id": "RIn0V6oCzSZK"
      },
      "source": [
        "pd.read_excel('NSF_data/data/grad_institution_demographics.xlsx')"
      ],
      "execution_count": null,
      "outputs": []
    },
    {
      "cell_type": "code",
      "metadata": {
        "id": "ZFFcfjYezi1V"
      },
      "source": [
        "import os"
      ],
      "execution_count": null,
      "outputs": []
    },
    {
      "cell_type": "code",
      "metadata": {
        "id": "rt652CaJ0JME"
      },
      "source": [
        "os.listdir()"
      ],
      "execution_count": null,
      "outputs": []
    },
    {
      "cell_type": "code",
      "metadata": {
        "id": "yP8wKHf60M07"
      },
      "source": [
        ""
      ],
      "execution_count": null,
      "outputs": []
    },
    {
      "cell_type": "markdown",
      "metadata": {
        "id": "HJ87pc8xvbM4"
      },
      "source": [
        "# Hiring Model"
      ]
    },
    {
      "cell_type": "code",
      "metadata": {
        "id": "jR7lHJ-DozDF"
      },
      "source": [
        "# find the percent of hires that are women assuming the time to tenure is 7 years\n",
        "\n",
        "from scipy.interpolate import interp1d\n",
        "\n",
        "years_sparse = [1999, 2002, 2008, 2010, 2013, 2015, 2020];\n",
        "years = list(range(1999,2021))\n",
        "f1 = interp1d(years_sparse,percent_female_asstprof);\n",
        "percent_asst_interp = f1(years) \n",
        "\n",
        "for i in range(7):\n",
        "  percent_asst_interp = np.insert(percent_asst_interp,0,22)\n",
        "\n",
        "num_asst = 505\n",
        "yearly_hire = 70\n",
        "\n",
        "num_women = percent_asst_interp*num_asst/100\n",
        "num_men = (100-percent_asst_interp)*num_asst/100\n",
        "\n",
        "delta_women = []\n",
        "delta_men = []\n",
        "for i in range(len(num_women)-1):\n",
        "  delta_women.append(num_women[i+1]-num_women[i])\n",
        "  delta_men.append(num_men[i+1]-num_men[i])\n",
        "delta_women.insert(0,0)\n",
        "delta_men.insert(0,0)\n",
        "\n",
        "num_women_hired = [0]*len(delta_women)\n",
        "num_men_hired = [0]*len(delta_men)\n",
        "for i in range(8):\n",
        "  num_women_hired[i] = 15.4\n",
        "  num_men_hired[i] = 54.6\n",
        "\n",
        "num_women_hired = np.array(num_women_hired)\n",
        "num_men_hired = np.array(num_men_hired)\n",
        "for i in range(8,29):\n",
        "  num_women_hired[i] = delta_women[i]+num_women_hired[i-7]\n",
        "  num_men_hired[i] = delta_men[i]+num_men_hired[i-7]\n",
        "\n",
        "percent_women_hired_7 = num_women_hired/(num_women_hired+num_men_hired)\n"
      ],
      "execution_count": null,
      "outputs": []
    },
    {
      "cell_type": "code",
      "metadata": {
        "id": "ccJlpymXS_7v"
      },
      "source": [
        "# find the percent of hires that are women assuming the time to tenure is 5 years\n",
        "\n",
        "from scipy.interpolate import interp1d\n",
        "\n",
        "years_sparse = [1999, 2002, 2008, 2010, 2013, 2015, 2020];\n",
        "years = list(range(1999,2021))\n",
        "f1 = interp1d(years_sparse,percent_female_asstprof);\n",
        "percent_asst_interp = f1(years) \n",
        "\n",
        "for i in range(5):#6\n",
        "  percent_asst_interp = np.insert(percent_asst_interp,0,22)\n",
        "\n",
        "num_asst = 505\n",
        "yearly_hire = 70\n",
        "\n",
        "num_women = percent_asst_interp*num_asst/100\n",
        "num_men = (100-percent_asst_interp)*num_asst/100\n",
        "\n",
        "delta_women = []\n",
        "delta_men = []\n",
        "for i in range(len(num_women)-1):\n",
        "  delta_women.append(num_women[i+1]-num_women[i])\n",
        "  delta_men.append(num_men[i+1]-num_men[i])\n",
        "delta_women.insert(0,0)\n",
        "delta_men.insert(0,0)\n",
        "\n",
        "num_women_hired = [0]*len(delta_women)\n",
        "num_men_hired = [0]*len(delta_men)\n",
        "for i in range(6):#7\n",
        "  num_women_hired[i] = 15.4\n",
        "  num_men_hired[i] = 54.6\n",
        "\n",
        "num_women_hired = np.array(num_women_hired)\n",
        "num_men_hired = np.array(num_men_hired)\n",
        "for i in range(6,27):#7,28\n",
        "  num_women_hired[i] = delta_women[i]+num_women_hired[i-5]#6\n",
        "  num_men_hired[i] = delta_men[i]+num_men_hired[i-5]#6\n",
        "\n",
        "percent_women_hired_5 = num_women_hired/(num_women_hired+num_men_hired)\n",
        "\n",
        "# find the percent of hires that are women assuming the time to tenure is 6 years\n",
        "\n",
        "from scipy.interpolate import interp1d\n",
        "\n",
        "years_sparse = [1999, 2002, 2008, 2010, 2013, 2015, 2020];\n",
        "years = list(range(1999,2021))\n",
        "f1 = interp1d(years_sparse,percent_female_asstprof);\n",
        "percent_asst_interp = f1(years) \n",
        "\n",
        "for i in range(6):#6\n",
        "  percent_asst_interp = np.insert(percent_asst_interp,0,22)\n",
        "\n",
        "num_asst = 505\n",
        "yearly_hire = 70\n",
        "\n",
        "num_women = percent_asst_interp*num_asst/100\n",
        "num_men = (100-percent_asst_interp)*num_asst/100\n",
        "\n",
        "delta_women = []\n",
        "delta_men = []\n",
        "for i in range(len(num_women)-1):\n",
        "  delta_women.append(num_women[i+1]-num_women[i])\n",
        "  delta_men.append(num_men[i+1]-num_men[i])\n",
        "delta_women.insert(0,0)\n",
        "delta_men.insert(0,0)\n",
        "\n",
        "num_women_hired = [0]*len(delta_women)\n",
        "num_men_hired = [0]*len(delta_men)\n",
        "for i in range(7):#7\n",
        "  num_women_hired[i] = 15.4\n",
        "  num_men_hired[i] = 54.6\n",
        "\n",
        "num_women_hired = np.array(num_women_hired)\n",
        "num_men_hired = np.array(num_men_hired)\n",
        "for i in range(7,28):#7,28\n",
        "  num_women_hired[i] = delta_women[i]+num_women_hired[i-6]#6\n",
        "  num_men_hired[i] = delta_men[i]+num_men_hired[i-6]#6\n",
        "\n",
        "percent_women_hired_6 = num_women_hired/(num_women_hired+num_men_hired)\n"
      ],
      "execution_count": null,
      "outputs": []
    },
    {
      "cell_type": "code",
      "metadata": {
        "id": "LgvIOcGzTrMG"
      },
      "source": [
        "# find the percent of hires that are women assuming the time to tenure is 8 years\n",
        "\n",
        "from scipy.interpolate import interp1d\n",
        "\n",
        "years_sparse = [1999, 2002, 2008, 2010, 2013, 2015, 2020];\n",
        "years = list(range(1999,2021))\n",
        "f1 = interp1d(years_sparse,percent_female_asstprof);\n",
        "percent_asst_interp = f1(years) \n",
        "\n",
        "for i in range(8):#8\n",
        "  percent_asst_interp = np.insert(percent_asst_interp,0,22)\n",
        "\n",
        "num_asst = 505\n",
        "yearly_hire = 70\n",
        "\n",
        "num_women = percent_asst_interp*num_asst/100\n",
        "num_men = (100-percent_asst_interp)*num_asst/100\n",
        "\n",
        "delta_women = []\n",
        "delta_men = []\n",
        "for i in range(len(num_women)-1):\n",
        "  delta_women.append(num_women[i+1]-num_women[i])\n",
        "  delta_men.append(num_men[i+1]-num_men[i])\n",
        "delta_women.insert(0,0)\n",
        "delta_men.insert(0,0)\n",
        "\n",
        "num_women_hired = [0]*len(delta_women)\n",
        "num_men_hired = [0]*len(delta_men)\n",
        "for i in range(9):#9\n",
        "  num_women_hired[i] = 15.4\n",
        "  num_men_hired[i] = 54.6\n",
        "\n",
        "num_women_hired = np.array(num_women_hired)\n",
        "num_men_hired = np.array(num_men_hired)\n",
        "for i in range(9,30):#9,20\n",
        "  num_women_hired[i] = delta_women[i]+num_women_hired[i-8]#8\n",
        "  num_men_hired[i] = delta_men[i]+num_men_hired[i-8]#8\n",
        "\n",
        "percent_women_hired_8 = num_women_hired/(num_women_hired+num_men_hired)\n",
        "\n",
        "# find the percent of hires that are women assuming the time to tenure is 9 years\n",
        "\n",
        "from scipy.interpolate import interp1d\n",
        "\n",
        "years_sparse = [1999, 2002, 2008, 2010, 2013, 2015, 2020];\n",
        "years = list(range(1999,2021))\n",
        "f1 = interp1d(years_sparse,percent_female_asstprof);\n",
        "percent_asst_interp = f1(years) \n",
        "\n",
        "for i in range(9):#8\n",
        "  percent_asst_interp = np.insert(percent_asst_interp,0,22)\n",
        "\n",
        "num_asst = 505\n",
        "yearly_hire = 70\n",
        "\n",
        "num_women = percent_asst_interp*num_asst/100\n",
        "num_men = (100-percent_asst_interp)*num_asst/100\n",
        "\n",
        "delta_women = []\n",
        "delta_men = []\n",
        "for i in range(len(num_women)-1):\n",
        "  delta_women.append(num_women[i+1]-num_women[i])\n",
        "  delta_men.append(num_men[i+1]-num_men[i])\n",
        "delta_women.insert(0,0)\n",
        "delta_men.insert(0,0)\n",
        "\n",
        "num_women_hired = [0]*len(delta_women)\n",
        "num_men_hired = [0]*len(delta_men)\n",
        "for i in range(10):#9\n",
        "  num_women_hired[i] = 15.4\n",
        "  num_men_hired[i] = 54.6\n",
        "\n",
        "num_women_hired = np.array(num_women_hired)\n",
        "num_men_hired = np.array(num_men_hired)\n",
        "for i in range(10,31):#9,20\n",
        "  num_women_hired[i] = delta_women[i]+num_women_hired[i-9]#8\n",
        "  num_men_hired[i] = delta_men[i]+num_men_hired[i-9]#8\n",
        "\n",
        "percent_women_hired_9 = num_women_hired/(num_women_hired+num_men_hired)\n"
      ],
      "execution_count": null,
      "outputs": []
    },
    {
      "cell_type": "code",
      "metadata": {
        "id": "m4CXXd4MUueX"
      },
      "source": [
        "percent_women_hired_8\n"
      ],
      "execution_count": null,
      "outputs": []
    },
    {
      "cell_type": "code",
      "metadata": {
        "id": "FJkL0ghOUuN9"
      },
      "source": [
        "percent_women_hired_7"
      ],
      "execution_count": null,
      "outputs": []
    },
    {
      "cell_type": "code",
      "metadata": {
        "id": "gM7UW0fTVfnN"
      },
      "source": [
        "percent_women_hired_6"
      ],
      "execution_count": null,
      "outputs": []
    },
    {
      "cell_type": "code",
      "metadata": {
        "id": "VoTUGXqtvPoX"
      },
      "source": [
        "#plt.scatter(years,percent_women_hired_5[5:len(percent_women_hired_5)],marker='^',color='k')\n",
        "plt.scatter(years,percent_women_hired_6[6:len(percent_women_hired_6)],marker='o',color='r')\n",
        "plt.scatter(years,percent_women_hired_7[7:len(percent_women_hired_7)],marker='x',color='b')\n",
        "plt.scatter(years,(percent_women_hired_8[8:len(percent_women_hired_8)]),marker='d',color='g')\n",
        "#plt.scatter(years,percent_women_hired_9[9:len(percent_women_hired_9)],marker='>',color='y')\n",
        "#plt.grid()\n",
        "plt.xlim([2006, 2021])\n",
        "plt.ylim([0, 0.8])\n",
        "plt.xlabel('Year');\n",
        "plt.ylabel('Percent Women Hired');\n",
        "plt.savefig('percent_women_hired.png')"
      ],
      "execution_count": null,
      "outputs": []
    },
    {
      "cell_type": "code",
      "metadata": {
        "id": "0qd0E2DrwAeo"
      },
      "source": [
        "# plot results of Ellen's hiring model\n",
        "\n",
        "years = list(range(2020,2071))\n",
        "projected_full = [0.1931,0.2000,0.2070,0.2139,0.2209,0.2278,0.2347,0.2417,0.2547,0.2678,0.2808,0.2939,0.3070,0.3200,0.3331,0.3477,0.3623,0.3769,0.3915,0.4061,\n",
        "                   0.4207,0.4353,0.4430,0.4506,0.4583,0.4659,0.4736,0.4812,0.4889,0.4905,0.4920,0.4936,0.4951,0.4967,0.4982,0.4998,0.4998,0.4998,0.4998,0.4998,0.4998,\n",
        "                   0.4998,0.4998,0.4998,0.4998,0.4998,0.4998,0.4998,0.4998,0.4998,0.4998]\n",
        "projected_assoc = [0.3391,0.3583,0.3776,0.3969,0.4161,0.4354,0.4547,0.4739,0.4788,0.4837,0.4887,0.4936,0.4985,0.5034,0.5083,0.5083,0.5083,0.5083,0.5083,0.5083,\n",
        "                   0.5083,0.5083,0.5083,0.5083,0.5083,0.5083,0.5083,0.5083,0.5083,0.5083,0.5083,0.5083,0.5083,0.5083,0.5083,0.5083,0.5083,0.5083,0.5083,0.5083,\n",
        "                   0.5083,0.5083,0.5083,0.5083,0.5083,0.5083,0.5083,0.5083,0.5083,0.5083,0.5083]\n",
        "projected_asst = [0.4673,0.4719,0.4764,0.4809,0.4854,0.4900,0.4945,0.4990,0.4990,0.4990,0.4990,0.4990,0.4990,0.4990,0.4990,0.4990,0.4990,0.4990,0.4990,0.4990,\n",
        "                  0.4990,0.4990,0.4990,0.4990,0.4990,0.4990,0.4990,0.4990,0.4990,0.4990,0.4990,0.4990,0.4990,0.4990,0.4990,0.4990,0.4990,0.4990,0.4990,0.4990,\n",
        "                  0.4990,0.4990,0.4990,0.4990,0.4990,0.4990,0.4990,0.4990,0.4990,0.4990,0.4990]\n",
        "projected_total = [0.2776,0.2864,0.2952,0.3040,0.3128,0.3216,0.3304,0.3392,0.3480,0.3568,0.3656,0.3744,0.3832,0.3920,0.4008,0.4096,0.4184,0.4272,0.4360,0.4448,\n",
        "                   0.4536,0.4624,0.4670,0.4716,0.4762,0.4809,0.4855,0.4901,0.4947,0.4956,0.4966,0.4975,0.4984,0.4994,0.5003,0.5013,0.5013,0.5013,0.5013,0.5013,\n",
        "                   0.5013,0.5013,0.5013,0.5013,0.5013,0.5013,0.5013,0.5013,0.5013,0.5013,0.5013]\n",
        "\n",
        "plt.plot(years, projected_asst,'bD-', label='Assistant Professor')\n",
        "plt.plot(years, projected_assoc,'r^-', label='Associate Professor')\n",
        "plt.plot(years, projected_full,'gx-', label = 'Professor')\n",
        "plt.plot(years, projected_total,'ko-', label = 'Total')\n",
        "plt.legend();\n",
        "#plt.grid()\n",
        "plt.xlabel('Year');\n",
        "plt.ylabel('Percentage of Female Faculty');\n",
        "plt.savefig('percentfemalefaculty_hiringmodel.png')"
      ],
      "execution_count": null,
      "outputs": []
    },
    {
      "cell_type": "code",
      "metadata": {
        "id": "i3wAGRc6imPg"
      },
      "source": [
        ""
      ],
      "execution_count": null,
      "outputs": []
    }
  ]
}