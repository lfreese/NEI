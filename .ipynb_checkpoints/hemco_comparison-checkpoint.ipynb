{
 "cells": [
  {
   "cell_type": "code",
   "execution_count": 1,
   "metadata": {},
   "outputs": [],
   "source": [
    "import xarray as xr"
   ]
  },
  {
   "cell_type": "code",
   "execution_count": 2,
   "metadata": {},
   "outputs": [],
   "source": [
    "ds_orig = xr.open_dataset('/net/geoschem/data/gcgrid/data/ExtData/HEMCO/NEI2011/v2017-02-MM/01/NEI11_0.1x0.1_201101_monmean_egu.nc')"
   ]
  },
  {
   "cell_type": "code",
   "execution_count": 3,
   "metadata": {},
   "outputs": [],
   "source": [
    "ds_ref = xr.open_dataset('/net/geoschem/data/gcgrid/data/ExtData/HEMCO/STRAT/v2015-01/Bry/GEOSCCM_Bry.200701.day.nc')"
   ]
  },
  {
   "cell_type": "code",
   "execution_count": 4,
   "metadata": {},
   "outputs": [],
   "source": [
    "ds_new = xr.open_dataset('/net/geoschem/data/gcgrid/data/ExtData/HEMCO/NEI2016fh/output/2016fh_16j_emln_ptegu_0pt1degree_3D_month_01.ncf')"
   ]
  },
  {
   "cell_type": "code",
   "execution_count": 5,
   "metadata": {},
   "outputs": [
    {
     "data": {
      "text/html": [
       "<pre>&lt;xarray.DataArray &#x27;lev&#x27; (lev: 3)&gt;\n",
       "array([0., 1., 2.])\n",
       "Coordinates:\n",
       "  * lev      (lev) float64 0.0 1.0 2.0\n",
       "Attributes:\n",
       "    long_name:  GEOS-Chem levels\n",
       "    units:      model level\n",
       "    axis:       Z\n",
       "    positive:   up</pre>"
      ],
      "text/plain": [
       "<xarray.DataArray 'lev' (lev: 3)>\n",
       "array([0., 1., 2.])\n",
       "Coordinates:\n",
       "  * lev      (lev) float64 0.0 1.0 2.0\n",
       "Attributes:\n",
       "    long_name:  GEOS-Chem levels\n",
       "    units:      model level\n",
       "    axis:       Z\n",
       "    positive:   up"
      ]
     },
     "execution_count": 5,
     "metadata": {},
     "output_type": "execute_result"
    }
   ],
   "source": [
    "ds_orig.lev"
   ]
  },
  {
   "cell_type": "code",
   "execution_count": 6,
   "metadata": {},
   "outputs": [
    {
     "data": {
      "text/html": [
       "<pre>&lt;xarray.DataArray &#x27;lev&#x27; (lev: 11)&gt;\n",
       "array([ 1.,  2.,  3.,  4.,  5.,  6.,  7.,  8.,  9., 10., 11.])\n",
       "Coordinates:\n",
       "  * lev      (lev) float64 1.0 2.0 3.0 4.0 5.0 6.0 7.0 8.0 9.0 10.0 11.0\n",
       "Attributes:\n",
       "    standard_name:  hybrid_sigma_pressure\n",
       "    long_name:      hybrid level at layer midpoints\n",
       "    formula:        hyam hybm (mlev=hyam+hybm*aps)\n",
       "    formula_terms:  ap: hyam b: hybm ps: aps\n",
       "    units:          level\n",
       "    positive:       down\n",
       "    axis:           Z</pre>"
      ],
      "text/plain": [
       "<xarray.DataArray 'lev' (lev: 11)>\n",
       "array([ 1.,  2.,  3.,  4.,  5.,  6.,  7.,  8.,  9., 10., 11.])\n",
       "Coordinates:\n",
       "  * lev      (lev) float64 1.0 2.0 3.0 4.0 5.0 6.0 7.0 8.0 9.0 10.0 11.0\n",
       "Attributes:\n",
       "    standard_name:  hybrid_sigma_pressure\n",
       "    long_name:      hybrid level at layer midpoints\n",
       "    formula:        hyam hybm (mlev=hyam+hybm*aps)\n",
       "    formula_terms:  ap: hyam b: hybm ps: aps\n",
       "    units:          level\n",
       "    positive:       down\n",
       "    axis:           Z"
      ]
     },
     "execution_count": 6,
     "metadata": {},
     "output_type": "execute_result"
    }
   ],
   "source": [
    "ds_new.lev"
   ]
  },
  {
   "cell_type": "code",
   "execution_count": null,
   "metadata": {},
   "outputs": [],
   "source": []
  }
 ],
 "metadata": {
  "kernelspec": {
   "display_name": "Python 3",
   "language": "python",
   "name": "python3"
  },
  "language_info": {
   "codemirror_mode": {
    "name": "ipython",
    "version": 3
   },
   "file_extension": ".py",
   "mimetype": "text/x-python",
   "name": "python",
   "nbconvert_exporter": "python",
   "pygments_lexer": "ipython3",
   "version": "3.7.3"
  }
 },
 "nbformat": 4,
 "nbformat_minor": 4
}
