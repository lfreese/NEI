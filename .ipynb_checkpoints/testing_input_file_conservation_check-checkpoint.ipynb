{
 "cells": [
  {
   "cell_type": "code",
   "execution_count": 19,
   "metadata": {},
   "outputs": [],
   "source": [
    "import xarray as xr\n",
    "import pandas as pd\n"
   ]
  },
  {
   "cell_type": "markdown",
   "metadata": {},
   "source": [
    "## Open Datasets"
   ]
  },
  {
   "cell_type": "code",
   "execution_count": 5,
   "metadata": {},
   "outputs": [],
   "source": [
    "ds = xr.open_mfdataset('../output_monthly/2016fh_16j_airports_0pt1degree_month_*.ncf', concat_dim = 'time', combine = 'nested')"
   ]
  },
  {
   "cell_type": "code",
   "execution_count": 10,
   "metadata": {},
   "outputs": [],
   "source": [
    "ds['time'] = pd.date_range(start='1/1/2016', end='1/01/2017', freq = 'm')"
   ]
  },
  {
   "cell_type": "markdown",
   "metadata": {},
   "source": [
    "areaf = cdo.gridarea(llpath, input='-remapnn,%s -stdatm,0' % llpath, options='-f nc4', returnCdf=True)\n",
    "area = areaf.variables['cell_area'][:]"
   ]
  },
  {
   "cell_type": "code",
   "execution_count": 15,
   "metadata": {},
   "outputs": [],
   "source": [
    "def ton_day_to_kg_sec(val):\n",
    "    sec_hour = 3600\n",
    "    hour_day = 24\n",
    "    day_year_leap = 366\n",
    "    ton_kg = 0.00110231 #short tons per kg\n",
    "    conv_val = val * sec_hour * hour_day * day_year_leap * ton_kg\n",
    "    return(conv_val)"
   ]
  },
  {
   "cell_type": "code",
   "execution_count": 16,
   "metadata": {},
   "outputs": [
    {
     "data": {
      "text/html": [
       "<pre>&lt;xarray.DataArray &#x27;PNO3&#x27; (time: 12, lev: 1, lat: 400, lon: 850)&gt;\n",
       "dask.array&lt;mul, shape=(12, 1, 400, 850), dtype=float32, chunksize=(1, 1, 400, 850)&gt;\n",
       "Coordinates:\n",
       "  * lev      (lev) float64 1.0\n",
       "  * lon      (lon) float32 -135.0 -134.9 -134.8 -134.7 ... -50.3 -50.2 -50.1\n",
       "  * lat      (lat) float32 20.0 20.1 20.2 20.3 20.4 ... 59.5 59.6 59.7 59.8 59.9\n",
       "  * time     (time) datetime64[ns] 2016-01-31 2016-02-29 ... 2016-12-31</pre>"
      ],
      "text/plain": [
       "<xarray.DataArray 'PNO3' (time: 12, lev: 1, lat: 400, lon: 850)>\n",
       "dask.array<mul, shape=(12, 1, 400, 850), dtype=float32, chunksize=(1, 1, 400, 850)>\n",
       "Coordinates:\n",
       "  * lev      (lev) float64 1.0\n",
       "  * lon      (lon) float32 -135.0 -134.9 -134.8 -134.7 ... -50.3 -50.2 -50.1\n",
       "  * lat      (lat) float32 20.0 20.1 20.2 20.3 20.4 ... 59.5 59.6 59.7 59.8 59.9\n",
       "  * time     (time) datetime64[ns] 2016-01-31 2016-02-29 ... 2016-12-31"
      ]
     },
     "execution_count": 16,
     "metadata": {},
     "output_type": "execute_result"
    }
   ],
   "source": [
    "ton_day_to_kg_sec(ds['PNO3'])\n"
   ]
  },
  {
   "cell_type": "markdown",
   "metadata": {},
   "source": [
    "### Import reference data"
   ]
  },
  {
   "cell_type": "code",
   "execution_count": 17,
   "metadata": {},
   "outputs": [],
   "source": [
    "monthlycounty = pd.read_csv('2016fh_county_monthly_report_22jan2020_v0.csv', comment='#')"
   ]
  },
  {
   "cell_type": "code",
   "execution_count": 91,
   "metadata": {},
   "outputs": [],
   "source": [
    "month_abbrev = ['jan','feb','mar','apr','may','jun','jul','aug','sep','nov','dec']\n",
    "month_value = [f'{month}_value' for month in month_abbrev]\n",
    "month_value.append('ann_value')"
   ]
  },
  {
   "cell_type": "code",
   "execution_count": 94,
   "metadata": {},
   "outputs": [],
   "source": [
    "monthly_total_ref = monthlycounty.groupby(['country_cd', 'poll']).sum().droplevel('country_cd')[month_value]"
   ]
  },
  {
   "cell_type": "code",
   "execution_count": null,
   "metadata": {},
   "outputs": [],
   "source": []
  }
 ],
 "metadata": {
  "kernelspec": {
   "display_name": "Python 3",
   "language": "python",
   "name": "python3"
  },
  "language_info": {
   "codemirror_mode": {
    "name": "ipython",
    "version": 3
   },
   "file_extension": ".py",
   "mimetype": "text/x-python",
   "name": "python",
   "nbconvert_exporter": "python",
   "pygments_lexer": "ipython3",
   "version": "3.7.3"
  }
 },
 "nbformat": 4,
 "nbformat_minor": 4
}
