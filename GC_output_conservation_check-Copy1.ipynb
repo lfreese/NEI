{
 "cells": [
  {
   "cell_type": "code",
   "execution_count": 1,
   "metadata": {},
   "outputs": [
    {
     "name": "stderr",
     "output_type": "stream",
     "text": [
      "\n",
      "Bad key \"text.kerning_factor\" on line 4 in\n",
      "/home/emfreese/anaconda3/envs/conda_env/lib/python3.7/site-packages/matplotlib/mpl-data/stylelib/_classic_test_patch.mplstyle.\n",
      "You probably need to get an updated matplotlibrc file from\n",
      "http://github.com/matplotlib/matplotlib/blob/master/matplotlibrc.template\n",
      "or from the matplotlib source distribution\n"
     ]
    }
   ],
   "source": [
    "import xarray as xr\n",
    "import matplotlib.pyplot as plt\n",
    "import cartopy.crs as ccrs\n",
    "import numpy as np\n",
    "import regionmask\n",
    "import pandas as pd\n",
    "import xesmf as xe"
   ]
  },
  {
   "cell_type": "markdown",
   "metadata": {},
   "source": [
    "## Import our data"
   ]
  },
  {
   "cell_type": "markdown",
   "metadata": {},
   "source": [
    "#### Import GC output"
   ]
  },
  {
   "cell_type": "code",
   "execution_count": 2,
   "metadata": {},
   "outputs": [],
   "source": [
    "GC_new = xr.open_mfdataset('../../GCrundirs/benchmark_annual_EPA/geosfp_4x5_benchmark/OutputDir/GEOSChem.AerosolMass.2016*_0000z.nc4', combine = 'by_coords') #dataset with the kgC/m2/s and kgNO2/m2/s\n",
    "\n",
    "GC_new.attrs['name'] = 'EPA2016'\n"
   ]
  },
  {
   "cell_type": "code",
   "execution_count": 35,
   "metadata": {},
   "outputs": [],
   "source": [
    "GC_new = xr.open_mfdataset('../../GCrundirs/benchmark_annual_EPA/geosfp_4x5_benchmark/OutputDir/GEOSChem.LevelEdgeDiags.2016*_0000z.nc4', combine = 'by_coords') #dataset with the kgC/m2/s and kgNO2/m2/s\n"
   ]
  },
  {
   "cell_type": "markdown",
   "metadata": {},
   "source": [
    "## Plot the NOx for each GC run"
   ]
  },
  {
   "cell_type": "code",
   "execution_count": 3,
   "metadata": {},
   "outputs": [
    {
     "data": {
      "text/plain": [
       "<matplotlib.collections.QuadMesh at 0x7f135df86cf8>"
      ]
     },
     "execution_count": 3,
     "metadata": {},
     "output_type": "execute_result"
    },
    {
     "data": {
      "image/png": "[encoded data removed]",
      "text/plain": [
       "<Figure size 432x288 with 2 Axes>"
      ]
     },
     "metadata": {
      "needs_background": "light"
     },
     "output_type": "display_data"
    }
   ],
   "source": [
    "GC_new['AerMassBC'].isel(lev = 0, time = 0).plot()"
   ]
  },
  {
   "cell_type": "markdown",
   "metadata": {},
   "source": [
    "## Mask our datasets to just the contiguous US"
   ]
  },
  {
   "cell_type": "code",
   "execution_count": 4,
   "metadata": {},
   "outputs": [],
   "source": [
    "ds_out = xr.Dataset({'lat': (['lat'], GC_new['lat']),\n",
    "                     'lon': (['lon'], GC_new['lon']),\n",
    "                    }\n",
    "                   )"
   ]
  },
  {
   "cell_type": "code",
   "execution_count": 5,
   "metadata": {},
   "outputs": [
    {
     "name": "stdout",
     "output_type": "stream",
     "text": [
      "Reuse existing file: bilinear_181x360_46x72.nc\n",
      "using dimensions ('lat', 'lon') from data variable MASK as the horizontal dimensions for this dataset.\n"
     ]
    },
    {
     "data": {
      "text/plain": [
       "<matplotlib.collections.QuadMesh at 0x7f135dfd0470>"
      ]
     },
     "execution_count": 5,
     "metadata": {},
     "output_type": "execute_result"
    },
    {
     "data": {
      "image/png": "[encoded data removed]",
      "text/plain": [
       "<Figure size 432x288 with 2 Axes>"
      ]
     },
     "metadata": {
      "needs_background": "light"
     },
     "output_type": "display_data"
    }
   ],
   "source": [
    "mask = xr.open_dataset('../../masks/USA_mask.geos.1x1.nc')\n",
    "\n",
    "#### create regridder (reusing weights) to regrid our mask to 4x5 resolution ####\n",
    "regridder = xe.Regridder(mask, ds_out, 'bilinear', reuse_weights = True)\n",
    "regridder  # print basic regridder information.\n",
    "\n",
    "#### regrid ####\n",
    "regrid_mask = regridder(mask)\n",
    "regrid_mask = regrid_mask.squeeze()\n",
    "\n",
    "### plot our mask ####\n",
    "regrid_mask['MASK'].plot()"
   ]
  },
  {
   "cell_type": "code",
   "execution_count": 6,
   "metadata": {},
   "outputs": [],
   "source": [
    "GC_US_new = GC_new.where(regrid_mask['MASK'] ==1)\n"
   ]
  },
  {
   "cell_type": "code",
   "execution_count": 11,
   "metadata": {},
   "outputs": [
    {
     "name": "stdout",
     "output_type": "stream",
     "text": [
      "Original shape of AREA: (12, 46, 72)\n",
      "New shape of AREA: (1, 12, 46, 72)\n"
     ]
    }
   ],
   "source": [
    "# Extract the grid box surface area values f(in units of m^2) \n",
    "# from the xarray Dataset object into a numpy array.\n",
    "# This is done by using with the .values tag.\n",
    "area = GC_US_new['AREA'].values \n",
    "\n",
    "# Print the shape of the area array\n",
    "print( \"Original shape of AREA: {}\".format( area.shape ) )\n",
    "\n",
    "# Reshape area from (46,72) to (1,46,72) to be consistent with the \n",
    "# emissions data variables in the file.  If the array shapes are the same,\n",
    "# we can multiply each emissions data array directly by the area array.\n",
    "area = area[ np.newaxis, :, : ]\n",
    "\n",
    "# Print the new of the area array\n",
    "print( \"New shape of AREA: {}\".format( area.shape ) )\n",
    "\n",
    "sec_in_month = 31.0 * 86400.0 "
   ]
  },
  {
   "cell_type": "code",
   "execution_count": 32,
   "metadata": {},
   "outputs": [
    {
     "data": {
      "text/html": [
       "<pre>&lt;xarray.DataArray &#x27;AREA&#x27; (time: 12, lat: 46, lon: 72)&gt;\n",
       "dask.array&lt;where, shape=(12, 46, 72), dtype=float32, chunksize=(1, 46, 72)&gt;\n",
       "Coordinates:\n",
       "  * lon      (lon) float64 -180.0 -175.0 -170.0 -165.0 ... 165.0 170.0 175.0\n",
       "  * lat      (lat) float64 -89.0 -86.0 -82.0 -78.0 -74.0 ... 78.0 82.0 86.0 89.0\n",
       "  * time     (time) datetime64[ns] 2016-01-16T12:00:00 ... 2016-12-16T12:00:00\n",
       "Attributes:\n",
       "    long_name:  Surface area\n",
       "    units:      m2</pre>"
      ],
      "text/plain": [
       "<xarray.DataArray 'AREA' (time: 12, lat: 46, lon: 72)>\n",
       "dask.array<where, shape=(12, 46, 72), dtype=float32, chunksize=(1, 46, 72)>\n",
       "Coordinates:\n",
       "  * lon      (lon) float64 -180.0 -175.0 -170.0 -165.0 ... 165.0 170.0 175.0\n",
       "  * lat      (lat) float64 -89.0 -86.0 -82.0 -78.0 -74.0 ... 78.0 82.0 86.0 89.0\n",
       "  * time     (time) datetime64[ns] 2016-01-16T12:00:00 ... 2016-12-16T12:00:00\n",
       "Attributes:\n",
       "    long_name:  Surface area\n",
       "    units:      m2"
      ]
     },
     "execution_count": 32,
     "metadata": {},
     "output_type": "execute_result"
    }
   ],
   "source": [
    "GC_US_new['AREA']"
   ]
  },
  {
   "cell_type": "code",
   "execution_count": 31,
   "metadata": {},
   "outputs": [
    {
     "data": {
      "text/plain": [
       "<matplotlib.collections.QuadMesh at 0x7f12ac685d30>"
      ]
     },
     "execution_count": 31,
     "metadata": {},
     "output_type": "execute_result"
    },
    {
     "data": {
      "image/png": "[encoded data removed]",
      "text/plain": [
       "<Figure size 432x288 with 2 Axes>"
      ]
     },
     "metadata": {
      "needs_background": "light"
     },
     "output_type": "display_data"
    }
   ],
   "source": [
    "GC_US_new['AerMassBC'].isel(lev = -1, time = 0).plot()"
   ]
  },
  {
   "cell_type": "code",
   "execution_count": 22,
   "metadata": {},
   "outputs": [
    {
     "data": {
      "text/plain": [
       "0.00011475426208075931"
      ]
     },
     "execution_count": 22,
     "metadata": {},
     "output_type": "execute_result"
    }
   ],
   "source": [
    "(GC_US_new['AerMassBC']* GC_US_new['AREA']*GC_US_new['lev']).sum(dim = ['lev', 'time', 'lat', 'lon'], skipna = True).values*1E-18 "
   ]
  },
  {
   "cell_type": "markdown",
   "metadata": {},
   "source": [
    "#### NO2 concentrations in our HEMCO diagnostics output"
   ]
  },
  {
   "cell_type": "code",
   "execution_count": 21,
   "metadata": {},
   "outputs": [
    {
     "name": "stdout",
     "output_type": "stream",
     "text": [
      "2.1374995523570917e-11 kg NOx/m2/s from new NEI\n",
      "2.5476940002100434e-11 kg NOx/m2/s from old NEI\n"
     ]
    }
   ],
   "source": [
    "m2_s = HEMCO_US_ds['AREA'] * 60 * 60 * 24 * 31\n",
    "no_no2 = 30/46\n",
    "NOx_avgrate_orig = (HEMCO_US_ds['EmisNO_Anthro'].sel(name = 'orig').sum(dim = 'lev') +\n",
    "                HEMCO_US_ds['EmisNO_BioBurn'].sel(name = 'orig') +\n",
    "                HEMCO_US_ds['EmisNO2_Anthro'].sel(name = 'orig').sum(dim = 'lev') #+\n",
    "                ).mean().values.item()\n",
    "\n",
    "NOx_avgrate_new = (HEMCO_US_ds['EmisNO_Anthro'].sel(name = 'new').sum(dim = 'lev') +\n",
    "                HEMCO_US_ds['EmisNO_BioBurn'].sel(name = 'new') +\n",
    "                HEMCO_US_ds['EmisNO2_Anthro'].sel(name = 'new').sum(dim = 'lev') #+\n",
    "               ).mean().values.item()\n",
    "\n",
    "print(NOx_avgrate_new, 'kg NOx/m2/s from new NEI')\n",
    "print(NOx_avgrate_orig, 'kg NOx/m2/s from old NEI')"
   ]
  },
  {
   "cell_type": "code",
   "execution_count": 31,
   "metadata": {},
   "outputs": [
    {
     "name": "stdout",
     "output_type": "stream",
     "text": [
      "269140.4017951061 short tons N from new NEI\n",
      "320301.0639987929 short tons N from old NEI\n"
     ]
    }
   ],
   "source": [
    "\n",
    "m2_s = HEMCO_US_ds['AREA'].sel(name = 'new') * 60 * 60 * 24 * 31\n",
    "no2_no = 46.0055/30.01\n",
    "n_no2 = 14.0067 / 46.0055 \n",
    "\n",
    "#first mutliply by area and seconds/month, then sum across levels, convert from kg NO or kg NO2 to kg N, finally sum all and convert to short tons\n",
    "NOx_conc_orig = ((HEMCO_US_ds['EmisNO_Anthro'].sel(name = 'orig')*m2_s).sum(dim = 'lev') * no2_no * n_no2 +\n",
    "                (HEMCO_US_ds['EmisNO_BioBurn'].sel(name = 'orig')*m2_s) * no2_no * n_no2 +\n",
    "                (HEMCO_US_ds['EmisNO2_Anthro'].sel(name = 'orig')*m2_s).sum(dim = 'lev') * n_no2\n",
    "                ).sum().values.item() * 0.00110231\n",
    "\n",
    "NOx_conc_new = ((HEMCO_US_ds['EmisNO_Anthro'].sel(name = 'new')*m2_s).sum(dim = 'lev') * no2_no * n_no2 +\n",
    "                (HEMCO_US_ds['EmisNO_BioBurn'].sel(name = 'new')*m2_s) * no2_no * n_no2 +\n",
    "                (HEMCO_US_ds['EmisNO2_Anthro'].sel(name = 'new')*m2_s).sum(dim = 'lev') * n_no2\n",
    "               ).sum().values.item() * 0.00110231\n",
    "\n",
    "\n",
    "print(NOx_conc_new, 'short tons N from new NEI')\n",
    "print(NOx_conc_orig, 'short tons N from old NEI')"
   ]
  },
  {
   "cell_type": "code",
   "execution_count": 29,
   "metadata": {},
   "outputs": [
    {
     "data": {
      "text/html": [
       "<pre>&lt;xarray.DataArray (time: 1, lat: 46, lon: 72, name: 2)&gt;\n",
       "array([[[[0., 0.],\n",
       "         ...,\n",
       "         [0., 0.]],\n",
       "\n",
       "        ...,\n",
       "\n",
       "        [[0., 0.],\n",
       "         ...,\n",
       "         [0., 0.]]]])\n",
       "Coordinates:\n",
       "  * time     (time) datetime64[ns] 2016-01-01\n",
       "  * lon      (lon) float64 -180.0 -175.0 -170.0 -165.0 ... 165.0 170.0 175.0\n",
       "  * lat      (lat) float64 -89.0 -86.0 -82.0 -78.0 -74.0 ... 78.0 82.0 86.0 89.0\n",
       "  * name     (name) object &#x27;new&#x27; &#x27;orig&#x27;</pre>"
      ],
      "text/plain": [
       "<xarray.DataArray (time: 1, lat: 46, lon: 72, name: 2)>\n",
       "array([[[[0., 0.],\n",
       "         ...,\n",
       "         [0., 0.]],\n",
       "\n",
       "        ...,\n",
       "\n",
       "        [[0., 0.],\n",
       "         ...,\n",
       "         [0., 0.]]]])\n",
       "Coordinates:\n",
       "  * time     (time) datetime64[ns] 2016-01-01\n",
       "  * lon      (lon) float64 -180.0 -175.0 -170.0 -165.0 ... 165.0 170.0 175.0\n",
       "  * lat      (lat) float64 -89.0 -86.0 -82.0 -78.0 -74.0 ... 78.0 82.0 86.0 89.0\n",
       "  * name     (name) object 'new' 'orig'"
      ]
     },
     "execution_count": 29,
     "metadata": {},
     "output_type": "execute_result"
    }
   ],
   "source": [
    "(HEMCO_US_ds['EmisNO_Anthro'].sel(name = 'orig')*m2_s).sum(dim = 'lev')"
   ]
  },
  {
   "cell_type": "code",
   "execution_count": 26,
   "metadata": {},
   "outputs": [
    {
     "data": {
      "text/plain": [
       "<matplotlib.collections.QuadMesh at 0x7f4c38d39438>"
      ]
     },
     "execution_count": 26,
     "metadata": {},
     "output_type": "execute_result"
    },
    {
     "data": {
      "image/png": "[encoded data removed]",
      "text/plain": [
       "<Figure size 432x288 with 2 Axes>"
      ]
     },
     "metadata": {
      "needs_background": "light"
     },
     "output_type": "display_data"
    }
   ],
   "source": [
    "(HEMCO_US_ds['AREA'] * 60 * 60 * 24 * 31).sel(name = 'orig').plot()"
   ]
  },
  {
   "cell_type": "code",
   "execution_count": 18,
   "metadata": {},
   "outputs": [
    {
     "data": {
      "text/plain": [
       "0.4667344218593802"
      ]
     },
     "execution_count": 18,
     "metadata": {},
     "output_type": "execute_result"
    }
   ],
   "source": [
    "no2_no * n_no2"
   ]
  },
  {
   "cell_type": "code",
   "execution_count": 17,
   "metadata": {},
   "outputs": [
    {
     "data": {
      "text/plain": [
       "<matplotlib.collections.QuadMesh at 0x7f4c2da5c080>"
      ]
     },
     "execution_count": 17,
     "metadata": {},
     "output_type": "execute_result"
    },
    {
     "data": {
      "image/png": "[encoded data removed]",
      "text/plain": [
       "<Figure size 432x288 with 2 Axes>"
      ]
     },
     "metadata": {
      "needs_background": "light"
     },
     "output_type": "display_data"
    }
   ],
   "source": [
    "HEMCO_US_ds['AREA'].sel(name = 'orig').plot()"
   ]
  },
  {
   "cell_type": "code",
   "execution_count": 30,
   "metadata": {},
   "outputs": [
    {
     "name": "stdout",
     "output_type": "stream",
     "text": [
      "261884.08233649557 short tons N from new NEI\n",
      "320301.0639987929 short tons N from old NEI\n"
     ]
    }
   ],
   "source": [
    "m2_s_in_6hours =HEMCO_new_US['AREA'].isel(time = 0)* 60 * 60 * 6\n",
    "m2_s_in_month = HEMCO_orig_US['AREA'] * 60 * 60 * 24 * 31\n",
    "no2_no = 46.0055/30.01\n",
    "n_no2 = 14.0067 / 46.0055 \n",
    "\n",
    "#first mutliply by area and seconds/6 hours, then sum across levels, convert from kg NO or kg NO2 to kg N, finally sum all and convert to short tons\n",
    "NOx_conc_orig = ((HEMCO_orig_US['EmisNO_Anthro']*m2_s_in_month).sum(dim = 'lev') * no2_no * n_no2 +\n",
    "                (HEMCO_orig_US['EmisNO_BioBurn']*m2_s_in_month) * no2_no * n_no2 +\n",
    "                (HEMCO_orig_US['EmisNO2_Anthro']*m2_s_in_month).sum(dim = 'lev') * n_no2\n",
    "                ).sum().values.item() * 0.00110231\n",
    "\n",
    "NOx_conc_new = ((HEMCO_new_US['EmisNO_Anthro']*m2_s_in_6hours).sum(dim = 'lev') * no2_no * n_no2 +\n",
    "                (HEMCO_new_US['EmisNO_BioBurn']*m2_s_in_6hours) * no2_no * n_no2 +\n",
    "                (HEMCO_new_US['EmisNO2_Anthro']*m2_s_in_6hours).sum(dim = 'lev') * n_no2\n",
    "               ).sum().values.item() * 0.00110231\n",
    "\n",
    "\n",
    "print(NOx_conc_new, 'short tons N from new NEI')\n",
    "print(NOx_conc_orig, 'short tons N from old NEI')"
   ]
  },
  {
   "cell_type": "markdown",
   "metadata": {},
   "source": [
    "### Import reference data"
   ]
  },
  {
   "cell_type": "code",
   "execution_count": 195,
   "metadata": {},
   "outputs": [],
   "source": [
    "monthlycounty = pd.read_excel('2011ek_county_monthly_report.xlsx', sheet_name = 'data')"
   ]
  },
  {
   "cell_type": "code",
   "execution_count": 196,
   "metadata": {},
   "outputs": [
    {
     "data": {
      "text/plain": [
       "sector\n",
       "nonpt              100011.717201\n",
       "nonroad             80702.298394\n",
       "np_oilgas           55805.711117\n",
       "onroad             380361.625219\n",
       "onroad_catx_adj     62300.771291\n",
       "pt_oilgas           43292.677495\n",
       "ptegu              206625.771302\n",
       "ptnonipm           102524.124688\n",
       "rail                67213.131517\n",
       "rwc                  7599.175075\n",
       "Name: jan_value, dtype: float64"
      ]
     },
     "execution_count": 196,
     "metadata": {},
     "output_type": "execute_result"
    }
   ],
   "source": [
    "monthlycounty.loc[\n",
    "    monthlycounty['poll'] == 'NOX'].groupby(\n",
    "    'sector').sum()['jan_value'].drop(\n",
    "    ['beis','ptfire','agfire','cmv'])"
   ]
  },
  {
   "cell_type": "code",
   "execution_count": 189,
   "metadata": {},
   "outputs": [],
   "source": [
    "monthlycounty2016 = pd.read_csv('2016fh_county_monthly_report_22jan2020_v0.csv', comment='#')"
   ]
  },
  {
   "cell_type": "code",
   "execution_count": 190,
   "metadata": {},
   "outputs": [
    {
     "data": {
      "text/plain": [
       "array(['afdust_adj', 'ag', 'airports', 'beis', 'cmv_c1c2_12', 'cmv_c3_12',\n",
       "       'nonpt', 'nonroad', 'np_oilgas', 'onroad', 'onroad_ca_adj',\n",
       "       'pt_oilgas', 'ptagfire', 'ptegu', 'ptfire', 'ptnonipm', 'rail',\n",
       "       'rwc'], dtype=object)"
      ]
     },
     "execution_count": 190,
     "metadata": {},
     "output_type": "execute_result"
    }
   ],
   "source": [
    "np.unique(monthlycounty2016['census_tract_cd'])"
   ]
  },
  {
   "cell_type": "code",
   "execution_count": 191,
   "metadata": {},
   "outputs": [],
   "source": [
    "month_abbrev = ['jan','feb','mar','apr','may','jun','jul','aug','sep','nov','dec']\n",
    "month_value = [f'{month}_value' for month in month_abbrev]\n",
    "month_value.append('ann_value')"
   ]
  },
  {
   "cell_type": "code",
   "execution_count": 197,
   "metadata": {},
   "outputs": [],
   "source": [
    "NOx_ref2011 =  monthlycounty.loc[\n",
    "    monthlycounty['poll'] == 'NOX'].groupby(\n",
    "    'sector').sum()['jan_value'].drop(\n",
    "    ['beis','ptfire','agfire','cmv']).sum() #is this in tons N already? otherwise converting it gets unreasonable values"
   ]
  },
  {
   "cell_type": "code",
   "execution_count": 193,
   "metadata": {},
   "outputs": [],
   "source": [
    "NOx_ref = monthlycounty.loc[\n",
    "    monthlycounty['poll'] == 'NOX'].groupby(\n",
    "    'census_tract_cd').sum()['jan_value'].drop(\n",
    "    ['beis','ptfire','ptagfire', 'cmv_c1c2_12','cmv_c3_12']).sum() #is this in tons N already? otherwise converting it gets unreasonable values"
   ]
  },
  {
   "cell_type": "code",
   "execution_count": 203,
   "metadata": {},
   "outputs": [
    {
     "data": {
      "text/plain": [
       "261884.08233649557"
      ]
     },
     "execution_count": 203,
     "metadata": {},
     "output_type": "execute_result"
    }
   ],
   "source": [
    "NOx_conc_new"
   ]
  },
  {
   "cell_type": "code",
   "execution_count": 201,
   "metadata": {},
   "outputs": [
    {
     "name": "stdout",
     "output_type": "stream",
     "text": [
      "786548.2492405875 short tons N (no fire, beis, cmv)\n"
     ]
    }
   ],
   "source": [
    "print(NOx_ref, 'short tons N (no fire, beis, cmv)') "
   ]
  },
  {
   "cell_type": "code",
   "execution_count": 202,
   "metadata": {},
   "outputs": [
    {
     "name": "stdout",
     "output_type": "stream",
     "text": [
      "new NEI to reference 0.33295361421164527\n"
     ]
    }
   ],
   "source": [
    "print('new NEI to reference', NOx_conc_new/NOx_ref)"
   ]
  },
  {
   "cell_type": "code",
   "execution_count": null,
   "metadata": {},
   "outputs": [],
   "source": []
  }
 ],
 "metadata": {
  "kernelspec": {
   "display_name": "Python 3",
   "language": "python",
   "name": "python3"
  },
  "language_info": {
   "codemirror_mode": {
    "name": "ipython",
    "version": 3
   },
   "file_extension": ".py",
   "mimetype": "text/x-python",
   "name": "python",
   "nbconvert_exporter": "python",
   "pygments_lexer": "ipython3",
   "version": "3.7.3"
  }
 },
 "nbformat": 4,
 "nbformat_minor": 4
}
