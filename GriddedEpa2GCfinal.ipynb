{
 "cells": [
  {
   "cell_type": "markdown",
   "metadata": {
    "colab_type": "text",
    "id": "qzwWgO6ZziaV"
   },
   "source": [
    "# Preparation of GEOS-Chem Emissions from CMAQ\n",
    "\n",
    "    author: Barron H. Henderson\n",
    "    contributors: Lyssa Freese. Adding names pending approval...\n",
    "    date: 2020-06-04"
   ]
  },
  {
   "cell_type": "markdown",
   "metadata": {
    "colab_type": "text",
    "id": "VV247ZkdD8Bt"
   },
   "source": [
    "# Overview\n",
    "\n",
    "This notebook takes SMOKE outputs, which are CMAQ-ready emissions and converts them for use in GEOS-Chem. The tutorial uses \"gridded reports\", which contain annual data.  To make this operational, you instead repeat the process for each month.\n",
    "\n",
    "Steps:\n",
    "1. install libraries\n",
    "2. Download data from EPA\n",
    "3. Regrid and convert to fluxes in GEOS-Chem format\n"
   ]
  },
  {
   "cell_type": "markdown",
   "metadata": {
    "colab_type": "text",
    "id": "VDSlg8w_Ewdb"
   },
   "source": [
    "# Install Libraries\n",
    "\n",
    "System Package | Use                   | Python Package | Use\n",
    "---------------|-----------------------| ---------------|---------\n",
    "libgeos-dev    | Geospatial processing | basemap        | Mapping\n",
    "cdo            | Conservative regrid   | PseudoNetCDF   | IOAPI-like support\n",
    "\n",
    "\n",
    "* Run the next three cells"
   ]
  },
  {
   "cell_type": "code",
   "execution_count": 1,
   "metadata": {
    "colab": {
     "base_uri": "https://localhost:8080/",
     "height": 119
    },
    "colab_type": "code",
    "id": "ElmhzTgy-gkq",
    "outputId": "40e4a4df-cd40-4c7e-bad4-734c91e66ceb"
   },
   "outputs": [
    {
     "name": "stdout",
     "output_type": "stream",
     "text": [
      "/bin/bash: apt-get: command not found\n"
     ]
    }
   ],
   "source": [
    "!apt-get install -qq libgeos-dev"
   ]
  },
  {
   "cell_type": "code",
   "execution_count": 2,
   "metadata": {
    "colab": {},
    "colab_type": "code",
    "id": "LWquiKTbO__O"
   },
   "outputs": [],
   "source": [
    "%%capture\n",
    "!apt-get install -qq cdo"
   ]
  },
  {
   "cell_type": "markdown",
   "metadata": {
    "colab_type": "text",
    "id": "0chvO9-vPUHE"
   },
   "source": [
    "# Restart the Runtime\n",
    "\n",
    "  * choose the \"Runtime\" menu, and\n",
    "  * then \"Restart Runtime\"\n"
   ]
  },
  {
   "cell_type": "markdown",
   "metadata": {
    "colab_type": "text",
    "id": "0SmuRVgqFZcO"
   },
   "source": [
    "# Import Libraries and Set Earth Radius\n",
    "\n",
    "* Importing necessary libraries\n",
    "* Setting IOAPI earth radius to WRF radius"
   ]
  },
  {
   "cell_type": "code",
   "execution_count": 1,
   "metadata": {
    "colab": {},
    "colab_type": "code",
    "id": "kl-61F1W-377"
   },
   "outputs": [
    {
     "name": "stderr",
     "output_type": "stream",
     "text": [
      "\n",
      "Bad key \"text.kerning_factor\" on line 4 in\n",
      "/home/emfreese/anaconda3/envs/conda_env/lib/python3.7/site-packages/matplotlib/mpl-data/stylelib/_classic_test_patch.mplstyle.\n",
      "You probably need to get an updated matplotlibrc file from\n",
      "http://github.com/matplotlib/matplotlib/blob/master/matplotlibrc.template\n",
      "or from the matplotlib source distribution\n"
     ]
    }
   ],
   "source": [
    "import os\n",
    "import numpy as np\n",
    "import matplotlib.pyplot as plt\n",
    "import matplotlib.colors as mc\n",
    "import PseudoNetCDF as pnc\n",
    "from calendar import monthrange\n",
    "import pandas as pd\n",
    "os.environ['IOAPI_ISPH'] = '6370000.'"
   ]
  },
  {
   "cell_type": "markdown",
   "metadata": {
    "colab_type": "text",
    "id": "Dq6Qqn85qQw1"
   },
   "source": [
    "# Download Files from EPA's newftp\n",
    "\n",
    "* Downloading inline and gridded anthropogenic emissions\n",
    "* Downloading biogenic and non-US sectors separately\n",
    "\n",
    "Note: if failing, remove `-q` to see errros."
   ]
  },
  {
   "cell_type": "code",
   "execution_count": 2,
   "metadata": {
    "colab": {},
    "colab_type": "code",
    "id": "H0ZQZMm7nxK_"
   },
   "outputs": [],
   "source": [
    "areaonly_sectors = sectors = [\n",
    "  'afdust_adj', 'ag', 'airports',\n",
    "  'nonpt', 'nonroad', 'np_oilgas', 'onroad', 'onroad_ca_adj', 'rail', 'rwc', # domestic\n",
    "]\n",
    "intl_sectors = [\n",
    "  'onroad_can', 'onroad_mex', 'othafdust_adj', 'othar', 'othptdust_adj', 'emln_othpt', # other countries (Can/Mex)\n",
    "]\n",
    "\n",
    "natural_sectors = [\n",
    "  'ocean_cl2', 'beis',\n",
    "  'emln_ptagfire', 'emln_ptfire', 'emln_ptfire_othna' # fires include some anthro\n",
    "]\n",
    "merged_sectors = [\n",
    "  'mrggrid_nobeis_norwc', # sum of areaonly_sectors and allinln - partinln sectors\n",
    "]\n",
    "\n",
    "ptonly_sectors = ['emln_cmv_c1c2_12', 'emln_cmv_c3_12', 'emln_ptegu']\n",
    "\n",
    "allinln_sectors = [\n",
    "  'emln_pt_oilgas_allinln',\n",
    "  'emln_ptnonipm_allinln',\n",
    "]\n",
    "\n",
    "partinln_sectors = [\n",
    "  'emln_pt_oilgas',\n",
    "  'emln_ptnonipm',\n",
    "]\n",
    "\n",
    "download_sectors = areaonly_sectors + ptonly_sectors + allinln_sectors + partinln_sectors + merged_sectors + intl_sectors + natural_sectors\n",
    "\n",
    "# Not including natural because it would duplicate\n",
    "# GEOS-Chem MEGAN, ocean, and fires\n",
    "# Should cmv_c1_c2 be in? cmv_c3?\n",
    "# airports?\n",
    "include_sectors = areaonly_sectors + ptonly_sectors + allinln_sectors + intl_sectors\n"
   ]
  },
  {
   "cell_type": "code",
   "execution_count": 3,
   "metadata": {
    "colab": {},
    "colab_type": "code",
    "id": "z71HWNjazTFJ"
   },
   "outputs": [],
   "source": [
    "month = '01'\n",
    "mon3c = pd.to_datetime('2016-{}-01'.format(month)).strftime('%b').lower()\n",
    "filetmpl = \"{dir}/2016fh_16j_{{sector}}_{dom}_month_{{month}}.ncf\".format\n",
    "smoketmpl = filetmpl(dir='input', dom='12US1').format\n",
    "hemcotmpl = filetmpl(dir='output', dom='0pt1degree').format\n",
    "urltmpl = filetmpl(dir=\"ftp://newftp.epa.gov/Air/emismod/2016/v1/gridded/monthly_netCDF/\", dom='12US1').format"
   ]
  },
  {
   "cell_type": "code",
   "execution_count": null,
   "metadata": {
    "colab": {
     "base_uri": "https://localhost:8080/",
     "height": 510
    },
    "colab_type": "code",
    "id": "fn944Ew0-a2x",
    "outputId": "add58ba2-dc51-49de-a17b-99847e43976f"
   },
   "outputs": [
    {
     "name": "stdout",
     "output_type": "stream",
     "text": [
      "ftp://newftp.epa.gov/Air/emismod/2016/v1/gridded/monthly_netCDF//2016fh_16j_afdust_adj_12US1_month_07.ncf\n",
      "ftp://newftp.epa.gov/Air/emismod/2016/v1/gridded/monthly_netCDF//2016fh_16j_ag_12US1_month_07.ncf\n",
      "ftp://newftp.epa.gov/Air/emismod/2016/v1/gridded/monthly_netCDF//2016fh_16j_airports_12US1_month_07.ncf\n",
      "ftp://newftp.epa.gov/Air/emismod/2016/v1/gridded/monthly_netCDF//2016fh_16j_nonpt_12US1_month_07.ncf\n",
      "ftp://newftp.epa.gov/Air/emismod/2016/v1/gridded/monthly_netCDF//2016fh_16j_nonroad_12US1_month_07.ncf\n",
      "ftp://newftp.epa.gov/Air/emismod/2016/v1/gridded/monthly_netCDF//2016fh_16j_np_oilgas_12US1_month_07.ncf\n",
      "ftp://newftp.epa.gov/Air/emismod/2016/v1/gridded/monthly_netCDF//2016fh_16j_onroad_12US1_month_07.ncf\n",
      "ftp://newftp.epa.gov/Air/emismod/2016/v1/gridded/monthly_netCDF//2016fh_16j_onroad_ca_adj_12US1_month_07.ncf\n",
      "ftp://newftp.epa.gov/Air/emismod/2016/v1/gridded/monthly_netCDF//2016fh_16j_rail_12US1_month_07.ncf\n",
      "ftp://newftp.epa.gov/Air/emismod/2016/v1/gridded/monthly_netCDF//2016fh_16j_rwc_12US1_month_07.ncf\n",
      "ftp://newftp.epa.gov/Air/emismod/2016/v1/gridded/monthly_netCDF//2016fh_16j_emln_cmv_c1c2_12_12US1_month_07.ncf\n",
      "ftp://newftp.epa.gov/Air/emismod/2016/v1/gridded/monthly_netCDF//2016fh_16j_emln_cmv_c3_12_12US1_month_07.ncf\n",
      "ftp://newftp.epa.gov/Air/emismod/2016/v1/gridded/monthly_netCDF//2016fh_16j_emln_ptegu_12US1_month_07.ncf\n",
      "ftp://newftp.epa.gov/Air/emismod/2016/v1/gridded/monthly_netCDF//2016fh_16j_emln_pt_oilgas_allinln_12US1_month_07.ncf\n",
      "ftp://newftp.epa.gov/Air/emismod/2016/v1/gridded/monthly_netCDF//2016fh_16j_emln_ptnonipm_allinln_12US1_month_07.ncf\n",
      "ftp://newftp.epa.gov/Air/emismod/2016/v1/gridded/monthly_netCDF//2016fh_16j_emln_pt_oilgas_12US1_month_07.ncf\n",
      "ftp://newftp.epa.gov/Air/emismod/2016/v1/gridded/monthly_netCDF//2016fh_16j_emln_ptnonipm_12US1_month_07.ncf\n",
      "ftp://newftp.epa.gov/Air/emismod/2016/v1/gridded/monthly_netCDF//2016fh_16j_mrggrid_nobeis_norwc_12US1_month_07.ncf\n",
      "ftp://newftp.epa.gov/Air/emismod/2016/v1/gridded/monthly_netCDF//2016fh_16j_onroad_can_12US1_month_07.ncf\n",
      "ftp://newftp.epa.gov/Air/emismod/2016/v1/gridded/monthly_netCDF//2016fh_16j_onroad_mex_12US1_month_07.ncf\n",
      "ftp://newftp.epa.gov/Air/emismod/2016/v1/gridded/monthly_netCDF//2016fh_16j_othafdust_adj_12US1_month_07.ncf\n",
      "ftp://newftp.epa.gov/Air/emismod/2016/v1/gridded/monthly_netCDF//2016fh_16j_othar_12US1_month_07.ncf\n",
      "ftp://newftp.epa.gov/Air/emismod/2016/v1/gridded/monthly_netCDF//2016fh_16j_othptdust_adj_12US1_month_07.ncf\n",
      "ftp://newftp.epa.gov/Air/emismod/2016/v1/gridded/monthly_netCDF//2016fh_16j_emln_othpt_12US1_month_07.ncf\n",
      "ftp://newftp.epa.gov/Air/emismod/2016/v1/gridded/monthly_netCDF//2016fh_16j_ocean_cl2_12US1_month_07.ncf\n",
      "ftp://newftp.epa.gov/Air/emismod/2016/v1/gridded/monthly_netCDF//2016fh_16j_beis_12US1_month_07.ncf\n",
      "ftp://newftp.epa.gov/Air/emismod/2016/v1/gridded/monthly_netCDF//2016fh_16j_emln_ptagfire_12US1_month_07.ncf\n",
      "ftp://newftp.epa.gov/Air/emismod/2016/v1/gridded/monthly_netCDF//2016fh_16j_emln_ptfire_12US1_month_07.ncf\n",
      "ftp://newftp.epa.gov/Air/emismod/2016/v1/gridded/monthly_netCDF//2016fh_16j_emln_ptfire_othna_12US1_month_07.ncf\n"
     ]
    }
   ],
   "source": [
    "os.makedirs('input', exist_ok=True)\n",
    "for sector in download_sectors:\n",
    "  outpath = smoketmpl(sector=sector, month=month)\n",
    "  url = urltmpl(sector=sector, month=month)\n",
    "  print(url)\n",
    "  os.system(f\"wget -O {outpath}  --continue -q {url}\")\n",
    "\n",
    "os.system(f\"wget --continue -q ftp://newftp.epa.gov/aqmg/global/gadm/gadm36_12US1.IOAPI.nc\")"
   ]
  },
  {
   "cell_type": "markdown",
   "metadata": {
    "colab_type": "text",
    "id": "8NeI4GVOqkOf"
   },
   "source": [
    "# Opening Files For Reading And Plotting\n"
   ]
  },
  {
   "cell_type": "code",
   "execution_count": null,
   "metadata": {
    "colab": {},
    "colab_type": "code",
    "id": "7DcJLFVr-vSE"
   },
   "outputs": [],
   "source": [
    "smokepaths = {\n",
    "    sector: smoketmpl(sector=sector, month=month)\n",
    "    for sector in include_sectors + natural_sectors\n",
    "}\n",
    "smokefiles = {\n",
    "    sector: pnc.pncopen(path, format='ioapi', mode='r')\n",
    "    for sector, path in smokepaths.items()\n",
    "}\n",
    "\n",
    "reffile = smokefiles[include_sectors[0]]"
   ]
  },
  {
   "cell_type": "markdown",
   "metadata": {
    "colab_type": "text",
    "id": "fcexxSxJs14S"
   },
   "source": [
    "# Store Grid Parameters for Later Use\n",
    "\n",
    "* Regridding requires knowing about the grid structure\n",
    "* We are pulling all the metadata, so that we can use what we need.\n"
   ]
  },
  {
   "cell_type": "code",
   "execution_count": null,
   "metadata": {
    "colab": {},
    "colab_type": "code",
    "id": "vFfLw8KWsxuw"
   },
   "outputs": [],
   "source": [
    "gridproperties = reffile.getncatts()\n",
    "exec('nominalarea = XCELL * YCELL', None, gridproperties)\n",
    "exec('false_easting = -XORIG', None, gridproperties)\n",
    "exec('false_northing = -YORIG', None, gridproperties)\n",
    "exec('gridsize = NCOLS * NROWS', None, gridproperties)"
   ]
  },
  {
   "cell_type": "markdown",
   "metadata": {
    "colab_type": "text",
    "id": "0f1ZOMCrqqgC"
   },
   "source": [
    "# Creating Custom Merge files\n",
    "\n",
    "* Disabling warnings\n",
    "  * warns that  variables missing in the right hand file\n",
    "  * and are simply copied from the first file.\n",
    "* We don't need to see that."
   ]
  },
  {
   "cell_type": "code",
   "execution_count": null,
   "metadata": {
    "colab": {},
    "colab_type": "code",
    "id": "wpd_Rst6zLGG"
   },
   "outputs": [],
   "source": [
    "def combine(f1, f2):\n",
    "  \"\"\"\n",
    "  Arguments\n",
    "  ---------\n",
    "  f1 : netcdf-like object\n",
    "    left-hand side of combine\n",
    "  f2 : netcdf-like object\n",
    "    right-hand side of combine\n",
    "\n",
    "  Returns\n",
    "  -------\n",
    "  outf : netcdf-like object\n",
    "    has all variables from f2 added to f1. If a variable is in f2 but\n",
    "    not f1, it is added\n",
    "  \n",
    "  Notes\n",
    "  -----\n",
    "  Warnings are about variables in f1 that are not in f2, so they are ignored\n",
    "  \"\"\"\n",
    "  import warnings\n",
    "  warnings.filterwarnings('ignore')\n",
    "\n",
    "  outf = f1 + f2\n",
    "  for k, v in f2.variables.items():\n",
    "      if k not in outf.variables:\n",
    "          outf.copyVariable(v, key=k)\n",
    "  warnings.resetwarnings()\n",
    "  return outf\n",
    "\n",
    "def merge(files):\n",
    "  \"\"\"\n",
    "  Arguments\n",
    "  ---------\n",
    "  files : iterable of netcdf-like files\n",
    "    files to be combined\n",
    "\n",
    "  Returns\n",
    "  -------\n",
    "  outf : netcdf-like object\n",
    "    has all mass from all variables in all files\n",
    "  \"\"\"\n",
    "  outf = files[0].copy()\n",
    "  for othf in files[1:]:\n",
    "    outf = combine(outf, othf)\n",
    "    \n",
    "  return outf\n",
    "\n",
    "def merge_from_dict(source, keys, outpath):\n",
    "  \"\"\"\n",
    "  Arguments\n",
    "  ---------\n",
    "  source : dictionary\n",
    "    contains netcdf-like variables keyed by sector\n",
    "  keys : iterable\n",
    "    keys to use to get netcdf-like variables for merging\n",
    "  outpath : str\n",
    "    save the merged file to disk\n",
    "  \n",
    "  Returns\n",
    "  -------\n",
    "  None\n",
    "  \"\"\"\n",
    "  if os.path.exists(outpath):\n",
    "    os.remove(outpath)\n",
    "  outf = merge([source[k] for k in keys])\n",
    "  history = getattr(outf, 'HISTORY', '')\n",
    "  history += '; ' + ' + '.join(keys)\n",
    "  setattr(outf, 'HISTORY', history)\n",
    "  ondisk = outf.save(outpath, verbose=0);\n",
    "  ondisk.close()"
   ]
  },
  {
   "cell_type": "code",
   "execution_count": null,
   "metadata": {
    "colab": {},
    "colab_type": "code",
    "id": "I9mlJdyDtNsa"
   },
   "outputs": [],
   "source": [
    "outpath = smoketmpl(sector='merge_areaonly', month=month)\n",
    "merge_from_dict(smokefiles, areaonly_sectors, outpath)\n",
    "\n",
    "outpath = smoketmpl(sector='merge_point', month=month)\n",
    "merge_from_dict(smokefiles, allinln_sectors + ptonly_sectors, outpath)\n",
    "\n",
    "outpath = smoketmpl(sector='merge_intl', month=month)\n",
    "merge_from_dict(smokefiles, intl_sectors, outpath)\n",
    "\n",
    "outpath = smoketmpl(sector='merge_natural', month=month)\n",
    "merge_from_dict(smokefiles, natural_sectors, outpath)\n",
    "\n",
    "mergedfiles = {\n",
    "    sector: pnc.pncopen(smoketmpl(sector=sector, month=month), format='ioapi', mode='r')\n",
    "    for sector in ['merge_areaonly', 'merge_point', 'merge_intl', 'merge_natural']\n",
    "}\n",
    "outpath = smoketmpl(sector='merge', month=month)\n",
    "merge_from_dict(mergedfiles, ['merge_areaonly', 'merge_point', 'merge_intl'], outpath)\n",
    "mergedfiles['merge'] = pnc.pncopen(outpath, format='ioapi', mode='r')"
   ]
  },
  {
   "cell_type": "markdown",
   "metadata": {
    "colab_type": "text",
    "id": "BKywerEXq7P0"
   },
   "source": [
    "# Create a Database of Sums\n",
    "\n",
    "This will be used later for checking regridded data"
   ]
  },
  {
   "cell_type": "code",
   "execution_count": null,
   "metadata": {
    "colab": {},
    "colab_type": "code",
    "id": "bE_Jh5TA0Nta"
   },
   "outputs": [],
   "source": [
    "checkspc = 'NOX'\n",
    "originalrate = {\n",
    "  sector: smokefiles[sector].variables[checkspc][:].sum()\n",
    "  for sector in include_sectors if checkspc in smokefiles[sector].variables\n",
    "}\n",
    "mergedrate = {\n",
    "    k: v.variables[checkspc][:].sum() for k, v in mergedfiles.items()\n",
    "}"
   ]
  },
  {
   "cell_type": "code",
   "execution_count": null,
   "metadata": {
    "colab": {
     "base_uri": "https://localhost:8080/",
     "height": 306
    },
    "colab_type": "code",
    "id": "Ij9ZpPv21FsO",
    "outputId": "d96439d0-f390-4b94-baeb-57878a0fa473"
   },
   "outputs": [
    {
     "data": {
      "text/plain": [
       "{'airports': 16933.826,\n",
       " 'emln_cmv_c1c2_12': 20259.836,\n",
       " 'emln_cmv_c3_12': 61889.67,\n",
       " 'emln_othpt': 86882.695,\n",
       " 'emln_pt_oilgas_allinln': 32892.63,\n",
       " 'emln_ptegu': 140354.67,\n",
       " 'emln_ptnonipm_allinln': 79785.26,\n",
       " 'nonpt': 31997.521,\n",
       " 'nonroad': 120847.27,\n",
       " 'np_oilgas': 46690.477,\n",
       " 'onroad': 285975.6,\n",
       " 'onroad_ca_adj': 20364.799,\n",
       " 'onroad_can': 33942.17,\n",
       " 'onroad_mex': 37450.77,\n",
       " 'othar': 53923.207,\n",
       " 'rail': 47174.598,\n",
       " 'rwc': 433.76044}"
      ]
     },
     "execution_count": 45,
     "metadata": {
      "tags": []
     },
     "output_type": "execute_result"
    }
   ],
   "source": [
    "originalrate"
   ]
  },
  {
   "cell_type": "code",
   "execution_count": null,
   "metadata": {
    "colab": {
     "base_uri": "https://localhost:8080/",
     "height": 51
    },
    "colab_type": "code",
    "id": "1lFjQ2ga1R-a",
    "outputId": "96d3416e-4a28-441d-828a-803d7607e13b"
   },
   "outputs": [
    {
     "name": "stdout",
     "output_type": "stream",
     "text": [
      "1117798.7584838867\n",
      "{'merge_areaonly': 570417.9, 'merge_point': 335182.06, 'merge_intl': 212198.84, 'merge_natural': 273068.28, 'merge': 1117798.9}\n"
     ]
    }
   ],
   "source": [
    "print(sum(originalrate.values()))\n",
    "print(mergedrate)"
   ]
  },
  {
   "cell_type": "markdown",
   "metadata": {
    "colab_type": "text",
    "id": "9suM1m0XNmXR"
   },
   "source": [
    "# Comparing to US Report\n",
    "\n",
    "* Download reference report for comparison\n",
    "* This report contains US-only sectors\n",
    "  * for cmv and beis, the smoke files include areas outside the US\n",
    "  * The smoke files should always include more mass than the report.\n",
    "  * All other sectors in the monthly report should match.\n",
    "* Comparing US sectors excluding CMV, beis, and fire for total"
   ]
  },
  {
   "cell_type": "code",
   "execution_count": null,
   "metadata": {
    "colab": {
     "base_uri": "https://localhost:8080/",
     "height": 204
    },
    "colab_type": "code",
    "id": "dK1hKyZLLjQn",
    "outputId": "5880973e-2976-4025-c424-d9873a390002"
   },
   "outputs": [
    {
     "name": "stdout",
     "output_type": "stream",
     "text": [
      "--2020-08-18 15:35:21--  ftp://newftp.epa.gov/Air/emismod/2016/v1/reports/2016fh_county_monthly_report_22jan2020_v0.csv\n",
      "           => ‘2016fh_county_monthly_report_22jan2020_v0.csv’\n",
      "Resolving newftp.epa.gov (newftp.epa.gov)... 134.67.100.58, 2620:0:b12:49:134:67:100:58\n",
      "Connecting to newftp.epa.gov (newftp.epa.gov)|134.67.100.58|:21... connected.\n",
      "Logging in as anonymous ... Logged in!\n",
      "==> SYST ... done.    ==> PWD ... done.\n",
      "==> TYPE I ... done.  ==> CWD (1) /Air/emismod/2016/v1/reports ... done.\n",
      "==> SIZE 2016fh_county_monthly_report_22jan2020_v0.csv ... 98218688\n",
      "File has already been retrieved.\n",
      "2020-08-18 15:35:22 (0.00 B/s) - ‘2016fh_county_monthly_report_22jan2020_v0.csv’ saved [98218688]\n",
      "\n"
     ]
    }
   ],
   "source": [
    "os.system(\"wget --continue ftp://newftp.epa.gov/Air/emismod/2016/v1/reports/2016fh_county_monthly_report_22jan2020_v0.csv\")"
   ]
  },
  {
   "cell_type": "code",
   "execution_count": null,
   "metadata": {
    "colab": {},
    "colab_type": "code",
    "id": "FCX0izbINMn0"
   },
   "outputs": [],
   "source": [
    "monthlycounty = pd.read_csv('2016fh_county_monthly_report_22jan2020_v0.csv', comment='#')"
   ]
  },
  {
   "cell_type": "code",
   "execution_count": null,
   "metadata": {
    "colab": {
     "base_uri": "https://localhost:8080/",
     "height": 664
    },
    "colab_type": "code",
    "id": "zYhi5tmpNJQK",
    "outputId": "bbfe384b-8b91-46c9-e3a1-ca65fa1a7ee6"
   },
   "outputs": [
    {
     "name": "stdout",
     "output_type": "stream",
     "text": [
      "Skipping  ('US', 'onroad_can', 'NOX') not in report\n",
      "Skipping  ('US', 'onroad_mex', 'NOX') not in report\n",
      "Skipping  ('US', 'othar', 'NOX') not in report\n",
      "Skipping  ('US', 'othpt', 'NOX') not in report\n"
     ]
    },
    {
     "data": {
      "text/html": [
       "<div>\n",
       "<style scoped>\n",
       "    .dataframe tbody tr th:only-of-type {\n",
       "        vertical-align: middle;\n",
       "    }\n",
       "\n",
       "    .dataframe tbody tr th {\n",
       "        vertical-align: top;\n",
       "    }\n",
       "\n",
       "    .dataframe thead th {\n",
       "        text-align: right;\n",
       "    }\n",
       "</style>\n",
       "<table border=\"1\" class=\"dataframe\">\n",
       "  <thead>\n",
       "    <tr style=\"text-align: right;\">\n",
       "      <th></th>\n",
       "      <th></th>\n",
       "      <th></th>\n",
       "      <th>ann_value</th>\n",
       "      <th>jan_value</th>\n",
       "      <th>feb_value</th>\n",
       "      <th>mar_value</th>\n",
       "      <th>apr_value</th>\n",
       "      <th>may_value</th>\n",
       "      <th>jun_value</th>\n",
       "      <th>jul_value</th>\n",
       "      <th>aug_value</th>\n",
       "      <th>sep_value</th>\n",
       "      <th>oct_value</th>\n",
       "      <th>nov_value</th>\n",
       "      <th>dec_value</th>\n",
       "      <th>check</th>\n",
       "    </tr>\n",
       "    <tr>\n",
       "      <th>country_cd</th>\n",
       "      <th>census_tract_cd</th>\n",
       "      <th>poll</th>\n",
       "      <th></th>\n",
       "      <th></th>\n",
       "      <th></th>\n",
       "      <th></th>\n",
       "      <th></th>\n",
       "      <th></th>\n",
       "      <th></th>\n",
       "      <th></th>\n",
       "      <th></th>\n",
       "      <th></th>\n",
       "      <th></th>\n",
       "      <th></th>\n",
       "      <th></th>\n",
       "      <th></th>\n",
       "    </tr>\n",
       "  </thead>\n",
       "  <tbody>\n",
       "    <tr>\n",
       "      <th rowspan=\"16\" valign=\"top\">US</th>\n",
       "      <th>airports</th>\n",
       "      <th>NOX</th>\n",
       "      <td>185194.0</td>\n",
       "      <td>13451.0</td>\n",
       "      <td>13597.0</td>\n",
       "      <td>15762.0</td>\n",
       "      <td>15839.0</td>\n",
       "      <td>16382.0</td>\n",
       "      <td>16420.0</td>\n",
       "      <td>16934.0</td>\n",
       "      <td>16802.0</td>\n",
       "      <td>15862.0</td>\n",
       "      <td>16474.0</td>\n",
       "      <td>14033.0</td>\n",
       "      <td>13639.0</td>\n",
       "      <td>16934.0</td>\n",
       "    </tr>\n",
       "    <tr>\n",
       "      <th>beis</th>\n",
       "      <th>NOX</th>\n",
       "      <td>965761.0</td>\n",
       "      <td>28927.0</td>\n",
       "      <td>38928.0</td>\n",
       "      <td>56449.0</td>\n",
       "      <td>99569.0</td>\n",
       "      <td>114731.0</td>\n",
       "      <td>123526.0</td>\n",
       "      <td>132614.0</td>\n",
       "      <td>117511.0</td>\n",
       "      <td>93098.0</td>\n",
       "      <td>74753.0</td>\n",
       "      <td>55329.0</td>\n",
       "      <td>30327.0</td>\n",
       "      <td>NaN</td>\n",
       "    </tr>\n",
       "    <tr>\n",
       "      <th>cmv_c1c2_12</th>\n",
       "      <th>NOX</th>\n",
       "      <td>201072.0</td>\n",
       "      <td>12456.0</td>\n",
       "      <td>14152.0</td>\n",
       "      <td>15669.0</td>\n",
       "      <td>16248.0</td>\n",
       "      <td>17604.0</td>\n",
       "      <td>17955.0</td>\n",
       "      <td>18715.0</td>\n",
       "      <td>18512.0</td>\n",
       "      <td>17838.0</td>\n",
       "      <td>18395.0</td>\n",
       "      <td>16948.0</td>\n",
       "      <td>16581.0</td>\n",
       "      <td>20260.0</td>\n",
       "    </tr>\n",
       "    <tr>\n",
       "      <th>cmv_c3_12</th>\n",
       "      <th>NOX</th>\n",
       "      <td>622062.0</td>\n",
       "      <td>48633.0</td>\n",
       "      <td>47932.0</td>\n",
       "      <td>51287.0</td>\n",
       "      <td>50965.0</td>\n",
       "      <td>53089.0</td>\n",
       "      <td>50527.0</td>\n",
       "      <td>53994.0</td>\n",
       "      <td>53918.0</td>\n",
       "      <td>53287.0</td>\n",
       "      <td>56856.0</td>\n",
       "      <td>51315.0</td>\n",
       "      <td>50259.0</td>\n",
       "      <td>61890.0</td>\n",
       "    </tr>\n",
       "    <tr>\n",
       "      <th>nonpt</th>\n",
       "      <th>NOX</th>\n",
       "      <td>713202.0</td>\n",
       "      <td>97549.0</td>\n",
       "      <td>91792.0</td>\n",
       "      <td>59867.0</td>\n",
       "      <td>56249.0</td>\n",
       "      <td>57165.0</td>\n",
       "      <td>30553.0</td>\n",
       "      <td>31997.0</td>\n",
       "      <td>31843.0</td>\n",
       "      <td>52735.0</td>\n",
       "      <td>54339.0</td>\n",
       "      <td>52582.0</td>\n",
       "      <td>96531.0</td>\n",
       "      <td>31998.0</td>\n",
       "    </tr>\n",
       "    <tr>\n",
       "      <th>nonroad</th>\n",
       "      <th>NOX</th>\n",
       "      <td>1100139.0</td>\n",
       "      <td>51478.0</td>\n",
       "      <td>52693.0</td>\n",
       "      <td>81314.0</td>\n",
       "      <td>86321.0</td>\n",
       "      <td>102366.0</td>\n",
       "      <td>133425.0</td>\n",
       "      <td>120846.0</td>\n",
       "      <td>121248.0</td>\n",
       "      <td>88332.0</td>\n",
       "      <td>108262.0</td>\n",
       "      <td>95827.0</td>\n",
       "      <td>58027.0</td>\n",
       "      <td>120847.0</td>\n",
       "    </tr>\n",
       "    <tr>\n",
       "      <th>np_oilgas</th>\n",
       "      <th>NOX</th>\n",
       "      <td>573512.0</td>\n",
       "      <td>50171.0</td>\n",
       "      <td>42628.0</td>\n",
       "      <td>51402.0</td>\n",
       "      <td>44412.0</td>\n",
       "      <td>47602.0</td>\n",
       "      <td>45928.0</td>\n",
       "      <td>46690.0</td>\n",
       "      <td>47455.0</td>\n",
       "      <td>49679.0</td>\n",
       "      <td>47677.0</td>\n",
       "      <td>50688.0</td>\n",
       "      <td>49179.0</td>\n",
       "      <td>46690.0</td>\n",
       "    </tr>\n",
       "    <tr>\n",
       "      <th>onroad</th>\n",
       "      <th>NOX</th>\n",
       "      <td>3407410.0</td>\n",
       "      <td>270158.0</td>\n",
       "      <td>266572.0</td>\n",
       "      <td>291404.0</td>\n",
       "      <td>288538.0</td>\n",
       "      <td>290351.0</td>\n",
       "      <td>291337.0</td>\n",
       "      <td>285964.0</td>\n",
       "      <td>291623.0</td>\n",
       "      <td>276941.0</td>\n",
       "      <td>289889.0</td>\n",
       "      <td>278421.0</td>\n",
       "      <td>286212.0</td>\n",
       "      <td>285976.0</td>\n",
       "    </tr>\n",
       "    <tr>\n",
       "      <th>onroad_ca_adj</th>\n",
       "      <th>NOX</th>\n",
       "      <td>223138.0</td>\n",
       "      <td>15912.0</td>\n",
       "      <td>16461.0</td>\n",
       "      <td>18525.0</td>\n",
       "      <td>18511.0</td>\n",
       "      <td>18946.0</td>\n",
       "      <td>20370.0</td>\n",
       "      <td>20364.0</td>\n",
       "      <td>21302.0</td>\n",
       "      <td>19214.0</td>\n",
       "      <td>18986.0</td>\n",
       "      <td>17291.0</td>\n",
       "      <td>17255.0</td>\n",
       "      <td>20365.0</td>\n",
       "    </tr>\n",
       "    <tr>\n",
       "      <th>pt_oilgas</th>\n",
       "      <th>NOX</th>\n",
       "      <td>389019.0</td>\n",
       "      <td>32897.0</td>\n",
       "      <td>30776.0</td>\n",
       "      <td>32982.0</td>\n",
       "      <td>31918.0</td>\n",
       "      <td>32981.0</td>\n",
       "      <td>31834.0</td>\n",
       "      <td>32892.0</td>\n",
       "      <td>32895.0</td>\n",
       "      <td>31960.0</td>\n",
       "      <td>33025.0</td>\n",
       "      <td>31959.0</td>\n",
       "      <td>32898.0</td>\n",
       "      <td>32893.0</td>\n",
       "    </tr>\n",
       "    <tr>\n",
       "      <th>ptagfire</th>\n",
       "      <th>NOX</th>\n",
       "      <td>10238.0</td>\n",
       "      <td>432.0</td>\n",
       "      <td>1016.0</td>\n",
       "      <td>1098.0</td>\n",
       "      <td>1071.0</td>\n",
       "      <td>587.0</td>\n",
       "      <td>457.0</td>\n",
       "      <td>456.0</td>\n",
       "      <td>489.0</td>\n",
       "      <td>1205.0</td>\n",
       "      <td>1369.0</td>\n",
       "      <td>1522.0</td>\n",
       "      <td>537.0</td>\n",
       "      <td>NaN</td>\n",
       "    </tr>\n",
       "    <tr>\n",
       "      <th>ptegu</th>\n",
       "      <th>NOX</th>\n",
       "      <td>1290190.0</td>\n",
       "      <td>121331.0</td>\n",
       "      <td>102388.0</td>\n",
       "      <td>85839.0</td>\n",
       "      <td>80860.0</td>\n",
       "      <td>87328.0</td>\n",
       "      <td>115640.0</td>\n",
       "      <td>140355.0</td>\n",
       "      <td>136017.0</td>\n",
       "      <td>111261.0</td>\n",
       "      <td>101622.0</td>\n",
       "      <td>89703.0</td>\n",
       "      <td>117846.0</td>\n",
       "      <td>140355.0</td>\n",
       "    </tr>\n",
       "    <tr>\n",
       "      <th>ptfire</th>\n",
       "      <th>NOX</th>\n",
       "      <td>227369.0</td>\n",
       "      <td>10224.0</td>\n",
       "      <td>26589.0</td>\n",
       "      <td>42156.0</td>\n",
       "      <td>28153.0</td>\n",
       "      <td>9127.0</td>\n",
       "      <td>10834.0</td>\n",
       "      <td>16295.0</td>\n",
       "      <td>25544.0</td>\n",
       "      <td>14051.0</td>\n",
       "      <td>15378.0</td>\n",
       "      <td>21765.0</td>\n",
       "      <td>7253.0</td>\n",
       "      <td>NaN</td>\n",
       "    </tr>\n",
       "    <tr>\n",
       "      <th>ptnonipm</th>\n",
       "      <th>NOX</th>\n",
       "      <td>942437.0</td>\n",
       "      <td>79895.0</td>\n",
       "      <td>74770.0</td>\n",
       "      <td>79278.0</td>\n",
       "      <td>76732.0</td>\n",
       "      <td>79258.0</td>\n",
       "      <td>77251.0</td>\n",
       "      <td>79785.0</td>\n",
       "      <td>79827.0</td>\n",
       "      <td>77725.0</td>\n",
       "      <td>80313.0</td>\n",
       "      <td>77704.0</td>\n",
       "      <td>79900.0</td>\n",
       "      <td>79785.0</td>\n",
       "    </tr>\n",
       "    <tr>\n",
       "      <th>rail</th>\n",
       "      <th>NOX</th>\n",
       "      <td>560903.0</td>\n",
       "      <td>46735.0</td>\n",
       "      <td>44131.0</td>\n",
       "      <td>45400.0</td>\n",
       "      <td>44366.0</td>\n",
       "      <td>46735.0</td>\n",
       "      <td>45653.0</td>\n",
       "      <td>47175.0</td>\n",
       "      <td>49839.0</td>\n",
       "      <td>47370.0</td>\n",
       "      <td>49839.0</td>\n",
       "      <td>47370.0</td>\n",
       "      <td>46290.0</td>\n",
       "      <td>47175.0</td>\n",
       "    </tr>\n",
       "    <tr>\n",
       "      <th>rwc</th>\n",
       "      <th>NOX</th>\n",
       "      <td>31497.0</td>\n",
       "      <td>6970.0</td>\n",
       "      <td>5446.0</td>\n",
       "      <td>3363.0</td>\n",
       "      <td>2394.0</td>\n",
       "      <td>1007.0</td>\n",
       "      <td>412.0</td>\n",
       "      <td>434.0</td>\n",
       "      <td>350.0</td>\n",
       "      <td>502.0</td>\n",
       "      <td>1399.0</td>\n",
       "      <td>3024.0</td>\n",
       "      <td>6196.0</td>\n",
       "      <td>434.0</td>\n",
       "    </tr>\n",
       "  </tbody>\n",
       "</table>\n",
       "</div>"
      ],
      "text/plain": [
       "                                 ann_value  jan_value  ...  dec_value     check\n",
       "country_cd census_tract_cd poll                        ...                     \n",
       "US         airports        NOX    185194.0    13451.0  ...    13639.0   16934.0\n",
       "           beis            NOX    965761.0    28927.0  ...    30327.0       NaN\n",
       "           cmv_c1c2_12     NOX    201072.0    12456.0  ...    16581.0   20260.0\n",
       "           cmv_c3_12       NOX    622062.0    48633.0  ...    50259.0   61890.0\n",
       "           nonpt           NOX    713202.0    97549.0  ...    96531.0   31998.0\n",
       "           nonroad         NOX   1100139.0    51478.0  ...    58027.0  120847.0\n",
       "           np_oilgas       NOX    573512.0    50171.0  ...    49179.0   46690.0\n",
       "           onroad          NOX   3407410.0   270158.0  ...   286212.0  285976.0\n",
       "           onroad_ca_adj   NOX    223138.0    15912.0  ...    17255.0   20365.0\n",
       "           pt_oilgas       NOX    389019.0    32897.0  ...    32898.0   32893.0\n",
       "           ptagfire        NOX     10238.0      432.0  ...      537.0       NaN\n",
       "           ptegu           NOX   1290190.0   121331.0  ...   117846.0  140355.0\n",
       "           ptfire          NOX    227369.0    10224.0  ...     7253.0       NaN\n",
       "           ptnonipm        NOX    942437.0    79895.0  ...    79900.0   79785.0\n",
       "           rail            NOX    560903.0    46735.0  ...    46290.0   47175.0\n",
       "           rwc             NOX     31497.0     6970.0  ...     6196.0     434.0\n",
       "\n",
       "[16 rows x 14 columns]"
      ]
     },
     "execution_count": 49,
     "metadata": {
      "tags": []
     },
     "output_type": "execute_result"
    }
   ],
   "source": [
    "monthlytotal = monthlycounty.groupby(['country_cd', 'census_tract_cd', 'poll']).sum().filter(like='_value').round(0)\n",
    "spcmonthlytotal = monthlytotal.query('poll == \"{}\"'.format(checkspc)).copy()\n",
    "for sector, rate in originalrate.items():\n",
    "  sectork = sector.replace('emln_', '').replace('_allinln', '')\n",
    "  key = ('US', sectork, checkspc)\n",
    "  if key in spcmonthlytotal.index:\n",
    "    spcmonthlytotal.loc[key, 'check'] = rate\n",
    "  else:\n",
    "    print('Skipping ', key, 'not in report')\n",
    "spcmonthlytotal.round(0)"
   ]
  },
  {
   "cell_type": "code",
   "execution_count": null,
   "metadata": {
    "colab": {
     "base_uri": "https://localhost:8080/",
     "height": 340
    },
    "colab_type": "code",
    "id": "1Pbj6CUYNsI0",
    "outputId": "e8735298-64bd-487c-bf01-52e036213adc"
   },
   "outputs": [
    {
     "name": "stdout",
     "output_type": "stream",
     "text": [
      "Report without fire, beis, cmv\n",
      "ann_value    9416641.0\n",
      "jan_value     786547.0\n",
      "feb_value     741254.0\n",
      "mar_value     765136.0\n",
      "apr_value     746140.0\n",
      "may_value     780121.0\n",
      "jun_value     808823.0\n",
      "jul_value     823436.0\n",
      "aug_value     829201.0\n",
      "sep_value     771581.0\n",
      "oct_value     801825.0\n",
      "nov_value     758602.0\n",
      "dec_value     803973.0\n",
      "check         823450.0\n",
      "dtype: float64\n",
      "\n",
      "For comparing to report 823450.5\n",
      "Ratio 1.0000176091402369\n"
     ]
    }
   ],
   "source": [
    "reportmatch = (\n",
    "    mergedrate['merge']\n",
    "    - mergedrate['merge_intl'] - originalrate['emln_cmv_c1c2_12'] - originalrate['emln_cmv_c3_12']\n",
    ")\n",
    "reporttotal = spcmonthlytotal.query('census_tract_cd not in (\"beis\", \"ptfire\", \"ptagfire\", \"cmv_c1c2_12\", \"cmv_c3_12\")').sum()\n",
    "print('Report without fire, beis, cmv')\n",
    "print(reporttotal.round(0))\n",
    "print ('\\nFor comparing to report', reportmatch)\n",
    "print('Ratio', reportmatch / reporttotal[mon3c + '_value'])"
   ]
  },
  {
   "cell_type": "markdown",
   "metadata": {
    "colab_type": "text",
    "id": "K-oZWpzGrk4g"
   },
   "source": [
    "# Create Spatial Plots\n",
    "\n",
    "* Showing several aggregates on top\n",
    "* Components shown on bottom"
   ]
  },
  {
   "cell_type": "code",
   "execution_count": null,
   "metadata": {
    "colab": {
     "base_uri": "https://localhost:8080/",
     "height": 404
    },
    "colab_type": "code",
    "id": "XCGdWVTf-xAr",
    "outputId": "aa041426-d1d2-4603-f5bc-253e64543b3f"
   },
   "outputs": [
    {
     "data": {
      "image/png": "[encoded data removed]",
      "text/plain": [
       "<Figure size 720x432 with 7 Axes>"
      ]
     },
     "metadata": {
      "needs_background": "light",
      "tags": []
     },
     "output_type": "display_data"
    }
   ],
   "source": [
    "key = 'NOX'\n",
    "norm = mc.LogNorm(vmin=1e-1, vmax=1e3)\n",
    "fig, axx = plt.subplots(2, 3, gridspec_kw=dict(hspace=.05, wspace=0.025), figsize=(10, 6))\n",
    "cax = fig.add_axes([0.1, 0.05, .8, .025])\n",
    "plotopt = dict(norm=norm)\n",
    "cbaropt = dict(label='{} tons/year'.format(key), cax=cax, orientation='horizontal')\n",
    "plt.sca(axx[0, 0])\n",
    "mergedfiles['merge'].plot(key, plot_kw=plotopt, cbar_kw=cbaropt).set_xlabel('Total')\n",
    "plt.sca(axx[0, 1])\n",
    "mergedfiles['merge_point'].plot(key, plot_kw=plotopt, cbar_kw=cbaropt).set_xlabel('Point')\n",
    "plt.sca(axx[0, 2])\n",
    "mergedfiles['merge_areaonly'].plot(key, plot_kw=plotopt, cbar_kw=cbaropt).set_xlabel('Area')\n",
    "plt.sca(axx[1, 0])\n",
    "mergedfiles['merge_natural'].plot(key, plot_kw=plotopt, cbar_kw=cbaropt).set_xlabel('Natural')\n",
    "plt.sca(axx[1, 1])\n",
    "mergedfiles['merge_intl'].plot(key, plot_kw=plotopt, cbar_kw=cbaropt).set_xlabel('International')\n",
    "axx[1, 2].set_visible(False)"
   ]
  },
  {
   "cell_type": "markdown",
   "metadata": {
    "colab_type": "text",
    "id": "uZMwQ_gertnc"
   },
   "source": [
    "# Prepare for Regridding By Defining Grids\n",
    "\n",
    "* EPA12US1.grid defines a Lambert Conic Conformal grid\n",
    "* latlon.grid defines a regional latitude/longitude grid\n",
    "* z.grid defines the first layer of GEOS-Chem's hybrid coordinate\n"
   ]
  },
  {
   "cell_type": "code",
   "execution_count": null,
   "metadata": {
    "colab": {},
    "colab_type": "code",
    "id": "eEN_yLrq3HE_"
   },
   "outputs": [],
   "source": [
    "lccpath = 'EPA12US1.grid'\n",
    "llpath = 'latlon.grid'\n",
    "with open(lccpath, mode='w') as gf:\n",
    "  gf.write(\"\"\"gridtype = projection\n",
    "gridsize = {gridsize}\n",
    "xsize = {NCOLS}\n",
    "ysize = {NROWS}\n",
    "xinc = {XCELL}\n",
    "yinc = {YCELL}\n",
    "xname = x\n",
    "yname = y\n",
    "grid_mapping_name = lambert_conformal_conic\n",
    "latitude_of_projection_origin = {YCENT}\n",
    "longitude_of_projection_origin = {XCENT}\n",
    "longitude_of_central_meridian = {XCENT}\n",
    "standard_parallel = {P_ALP}, {P_BET}\n",
    "earth_radius = 6370000.\n",
    "semi_major_axis = 6370000.\n",
    "semi_minor_axis = 6370000.\n",
    "false_easting = {false_easting}\n",
    "false_northing = {false_northing}\n",
    "\"\"\".format(**gridproperties))\n",
    "  \n",
    "with open(llpath, mode='w') as gf:\n",
    "  gf.write(\"\"\"gridtype  = lonlat\n",
    "gridsize  = 360000\n",
    "xsize     = 900\n",
    "ysize     = 400\n",
    "xname     = lon\n",
    "xlongname = \"longitude\"\n",
    "xunits    = \"degrees_east\"\n",
    "yname     = lat\n",
    "ylongname = \"latitude\"\n",
    "yunits    = \"degrees_north\"\n",
    "xfirst    = -139.95\n",
    "xinc      = 0.1\n",
    "yfirst    = 20.05\n",
    "yinc      = 0.1\n",
    "\"\"\")\n",
    "  \n",
    "with open('z1.grid', mode='w') as gf:\n",
    "  gf.write(\"\"\"zaxistype = hybrid \n",
    "size = 1\n",
    "levels = 0\n",
    "positive = \"up\"\n",
    "long_name = \"GEOS-Chem levels\"\n",
    "axis = \"Z\"\n",
    "\"\"\")"
   ]
  },
  {
   "cell_type": "markdown",
   "metadata": {
    "colab_type": "text",
    "id": "g3F2s1bEsIlT"
   },
   "source": [
    "# Initialize the CDO Library and Prepare Command\n",
    "\n",
    "* Initialization is easy\n",
    "* You may get a warning  \n"
   ]
  },
  {
   "cell_type": "code",
   "execution_count": null,
   "metadata": {
    "colab": {},
    "colab_type": "code",
    "id": "39kAqvk62oxb"
   },
   "outputs": [],
   "source": [
    "from cdo import Cdo\n",
    "cdo = Cdo()\n",
    "# cdo.CDO = '/work/ROMO/anaconda3/envs/geo/bin/cdo"
   ]
  },
  {
   "cell_type": "markdown",
   "metadata": {
    "colab_type": "text",
    "id": "_QcDtGMCVjep"
   },
   "source": [
    "# Now Configure the CDO Command\n",
    "\n",
    "cmd has 5 parts (run and described in bottom-to-top order)\n",
    "\n",
    "* Set the vertical axis,\n",
    "* rename TSTEP axis to time, remove TFLAG, set the time\n",
    "* convert from tons/year to tons/s, tons/m2/s, then kg/m2/s\n",
    "* Set units to mass fluxes\n",
    "* Set grid to LCC and Regrid to the lon/lat grid\n"
   ]
  },
  {
   "cell_type": "code",
   "execution_count": null,
   "metadata": {
    "colab": {},
    "colab_type": "code",
    "id": "tWMuUfln4i4t"
   },
   "outputs": [],
   "source": [
    "cmdtmpl = (\n",
    "    '-remapycon,{llpath} -setgrid,{lccpath} ' + # assign LCC grid and regrid\n",
    "    '-setattribute,NOX@units=kgNO2/m2/s -setattribute,NO@units=kgNO2/m2/s -setattribute,*@units=kg/m2/s ' + # fix units\n",
    "    '-mulc,{unitconversion} -divc,{nominalarea} -divc,{seconds} ' + # convert tons/year to kg/m2/s\n",
    "    '-setreftime,1970-01-01,00:00:00,hours -settaxis,2016-{month}-01,00:00:00 -delname,TFLAG -chname,TSTEP,time ' + # fix time properties\n",
    "    '-setzaxis,z1.grid -chname,LAY,lev ' +\n",
    "    '{inpath}' # fix dimensions\n",
    ")"
   ]
  },
  {
   "cell_type": "markdown",
   "metadata": {
    "colab_type": "text",
    "id": "r-QvfeOr1_gb"
   },
   "source": [
    "# Regrid Each file\n",
    "\n",
    "* Using cmd described above and applying 0 to missing values\n",
    "* Output\n",
    "  * NetCDF4\n",
    "  * grid chunking\n",
    "  * level 1 compressions\n"
   ]
  },
  {
   "cell_type": "code",
   "execution_count": null,
   "metadata": {
    "colab": {
     "base_uri": "https://localhost:8080/",
     "height": 476
    },
    "colab_type": "code",
    "id": "YqP-0PnF-PuM",
    "outputId": "b59ea7e7-4b75-4440-b59d-0502145b1761"
   },
   "outputs": [
    {
     "name": "stdout",
     "output_type": "stream",
     "text": [
      "output/2016fh_16j_afdust_adj_0pt1degree_month_07.ncf.done\n",
      "output/2016fh_16j_ag_0pt1degree_month_07.ncf.done\n",
      "output/2016fh_16j_airports_0pt1degree_month_07.ncf.done\n",
      "output/2016fh_16j_nonpt_0pt1degree_month_07.ncf.done\n",
      "output/2016fh_16j_nonroad_0pt1degree_month_07.ncf.done\n",
      "output/2016fh_16j_np_oilgas_0pt1degree_month_07.ncf.done\n",
      "output/2016fh_16j_onroad_0pt1degree_month_07.ncf.done\n",
      "output/2016fh_16j_onroad_ca_adj_0pt1degree_month_07.ncf.done\n",
      "output/2016fh_16j_rail_0pt1degree_month_07.ncf.done\n",
      "output/2016fh_16j_rwc_0pt1degree_month_07.ncf.done\n",
      "output/2016fh_16j_emln_cmv_c1c2_12_0pt1degree_month_07.ncf.done\n",
      "output/2016fh_16j_emln_cmv_c3_12_0pt1degree_month_07.ncf.done\n",
      "output/2016fh_16j_emln_ptegu_0pt1degree_month_07.ncf.done\n",
      "output/2016fh_16j_emln_pt_oilgas_allinln_0pt1degree_month_07.ncf.done\n",
      "output/2016fh_16j_emln_ptnonipm_allinln_0pt1degree_month_07.ncf.done\n",
      "output/2016fh_16j_onroad_can_0pt1degree_month_07.ncf.done\n",
      "output/2016fh_16j_onroad_mex_0pt1degree_month_07.ncf.done\n",
      "output/2016fh_16j_othafdust_adj_0pt1degree_month_07.ncf.done\n",
      "output/2016fh_16j_othar_0pt1degree_month_07.ncf.done\n",
      "output/2016fh_16j_othptdust_adj_0pt1degree_month_07.ncf.done\n",
      "output/2016fh_16j_emln_othpt_0pt1degree_month_07.ncf.done\n",
      "output/2016fh_16j_merge_areaonly_0pt1degree_month_07.ncf.done\n",
      "output/2016fh_16j_merge_point_0pt1degree_month_07.ncf.done\n",
      "output/2016fh_16j_merge_intl_0pt1degree_month_07.ncf.done\n",
      "output/2016fh_16j_merge_natural_0pt1degree_month_07.ncf.done\n",
      "output/2016fh_16j_merge_0pt1degree_month_07.ncf.done\n",
      "Success: all complete\n"
     ]
    }
   ],
   "source": [
    "remakeall = False\n",
    "fileopts = '-O -f nc4 -k grid -z zip_1'\n",
    "os.makedirs('output', exist_ok=True)\n",
    "options = dict(\n",
    "  llpath=llpath, lccpath=lccpath, nominalarea=gridproperties['nominalarea'],\n",
    "  unitconversion=907.185, month=month\n",
    ")\n",
    "\n",
    "cdo_sectors = include_sectors + list(mergedfiles)\n",
    "\n",
    "for sector in cdo_sectors:\n",
    "  inpath = smoketmpl(sector=sector, month=month)\n",
    "  outpath = hemcotmpl(sector=sector, month=month)\n",
    "  if os.path.exists(outpath) and not remakeall:\n",
    "    print('Keeping cached:', outpath)\n",
    "    continue\n",
    "  else:\n",
    "    print(outpath, end='', flush=True)\n",
    "  f = pnc.pncopen(inpath, format='ioapi')\n",
    "  sdate = f.getTimes()[0]\n",
    "  ndays = monthrange(sdate.year, sdate.month)[1]\n",
    "  options['seconds'] = ndays * 24 * 3600\n",
    "  if os.path.exists(outpath):\n",
    "    os.remove(outpath)\n",
    "  cmd = cmdtmpl.format(inpath=inpath, **options)\n",
    "  print(cmd,end='.')\n",
    "  cdo.setmisstoc(0, input=cmd, output=outpath, options=fileopts)\n",
    "  print('.done', flush=True)\n",
    "print('Success: all complete')"
   ]
  },
  {
   "cell_type": "markdown",
   "metadata": {
    "colab_type": "text",
    "id": "zczbWkvL2kPk"
   },
   "source": [
    "# Check Mass Conservation\n",
    "\n",
    "* Calculate the Mass from Regridded Fluxes\n",
    "* Get the Area of the New Grid\n",
    "* Convert to mass comparable to CMAQ\n",
    "  * Multiply the area by the fluxes\n",
    "  * Convert per second rates to per year\n",
    "  * Convert kg to short tons\n",
    "\n"
   ]
  },
  {
   "cell_type": "code",
   "execution_count": null,
   "metadata": {
    "colab": {},
    "colab_type": "code",
    "id": "1DyOyhL8Mdgx"
   },
   "outputs": [],
   "source": [
    "areaf = cdo.gridarea(llpath, input='-remapnn,%s -stdatm,0' % llpath, options='-f nc4', returnCdf=True)\n",
    "area = areaf.variables['cell_area'][:]"
   ]
  },
  {
   "cell_type": "code",
   "execution_count": null,
   "metadata": {
    "colab": {},
    "colab_type": "code",
    "id": "rjUT-LNvNz2U"
   },
   "outputs": [],
   "source": [
    "hemco2dfiles = {\n",
    "  sector: pnc.pncopen(hemcotmpl(sector=sector, month=month), format='netcdf', mode='r')\n",
    "  for sector in include_sectors\n",
    "}\n",
    "\n",
    "hemco2dmergedfiles = {\n",
    "  sector: pnc.pncopen(hemcotmpl(sector=sector, month=month), format='netcdf', mode='r')\n",
    "  for sector in list(mergedfiles)\n",
    "}\n",
    "hemco2drate = {}\n",
    "for sector in include_sectors:\n",
    "  sfile = hemco2dfiles[sector]\n",
    "  if checkspc not in sfile.variables:\n",
    "    continue\n",
    "  sdate =  sfile.getTimes()[0]\n",
    "  ndays = monthrange(sdate.year, sdate.month)[1]\n",
    "  checkval = (sfile.variables[checkspc][:].sum((0, 1)) * area).sum() * ndays * 24 * 3600 * 0.00110231\n",
    "  hemco2drate[sector] = checkval\n",
    "\n",
    "hemco2dmergedrate = {}\n",
    "for sector in list(mergedfiles):\n",
    "  sfile = hemco2dmergedfiles[sector]\n",
    "  if checkspc not in sfile.variables:\n",
    "    continue\n",
    "  sdate =  sfile.getTimes()[0]\n",
    "  ndays = monthrange(sdate.year, sdate.month)[1]\n",
    "  checkval = (sfile.variables[checkspc][:].sum((0, 1)) * area).sum() * ndays * 24 * 3600 * 0.00110231\n",
    "  hemco2dmergedrate[sector] = checkval\n"
   ]
  },
  {
   "cell_type": "code",
   "execution_count": null,
   "metadata": {
    "colab": {
     "base_uri": "https://localhost:8080/",
     "height": 493
    },
    "colab_type": "code",
    "id": "sxXj7k0wCPVv",
    "outputId": "78fddb36-2bab-47ee-f6eb-d099c163be6b"
   },
   "outputs": [
    {
     "name": "stdout",
     "output_type": "stream",
     "text": [
      "Report without fire, beis, cmv\n",
      "ann_value    9416641.0\n",
      "jan_value     786547.0\n",
      "feb_value     741254.0\n",
      "mar_value     765136.0\n",
      "apr_value     746140.0\n",
      "may_value     780121.0\n",
      "jun_value     808823.0\n",
      "jul_value     823436.0\n",
      "aug_value     829201.0\n",
      "sep_value     771581.0\n",
      "oct_value     801825.0\n",
      "nov_value     758602.0\n",
      "dec_value     803973.0\n",
      "check         823450.0\n",
      "dtype: float64\n",
      "\n",
      "For comparing to report 825787.963322699\n",
      "Ratio 1.0028562794469746\n",
      "ORIG 1117798.9\n",
      "HEMCO2D merged ar/pt/intl 1113977.9632258108\n",
      "HEMCO2D single merged 1113977.9630413079\n",
      "ORIG/HEMCO2D 0.9965817537844729\n"
     ]
    },
    {
     "data": {
      "text/plain": [
       "{'merge': 1113977.9632325636,\n",
       " 'merge_areaonly': 572057.9756177802,\n",
       " 'merge_intl': 206837.70285843036,\n",
       " 'merge_natural': 272337.84243251145,\n",
       " 'merge_point': 335082.2845650973}"
      ]
     },
     "execution_count": 129,
     "metadata": {
      "tags": []
     },
     "output_type": "execute_result"
    }
   ],
   "source": [
    "hemco2dtotal = sum(hemco2drate.values())\n",
    "hemco2dmergedtotal = (hemco2dmergedrate['merge_areaonly'] + hemco2dmergedrate['merge_point'] + hemco2dmergedrate['merge_intl'])\n",
    "hemco2dreportmatch = (\n",
    "    hemco2dmergedrate['merge']\n",
    "    - hemco2dmergedrate['merge_intl'] - hemco2drate['emln_cmv_c1c2_12'] - hemco2drate['emln_cmv_c3_12']\n",
    ")\n",
    "print('Report without fire, beis, cmv')\n",
    "print(reporttotal.round(0))\n",
    "print ('\\nFor comparing to report', hemco2dreportmatch)\n",
    "print('Ratio', hemco2dreportmatch / reporttotal[mon3c + '_value'])\n",
    "\n",
    "hemco2dtotal = sum(hemco2drate.values())\n",
    "hemco2dmergedtotal = (hemco2dmergedrate['merge_areaonly'] + hemco2dmergedrate['merge_point'] + hemco2dmergedrate['merge_intl'])\n",
    "print('ORIG', mergedrate['merge'])\n",
    "print('HEMCO2D merged ar/pt/intl', hemco2dtotal)\n",
    "print('HEMCO2D single merged', hemco2dmergedtotal)\n",
    "print('ORIG/HEMCO2D', hemco2dtotal / mergedrate['merge'])\n",
    "hemco2dmergedrate"
   ]
  },
  {
   "cell_type": "code",
   "execution_count": null,
   "metadata": {
    "colab": {
     "base_uri": "https://localhost:8080/",
     "height": 918
    },
    "colab_type": "code",
    "id": "6ax525RlTDdS",
    "outputId": "1dd203b2-571e-4f72-9a6f-c913d9251bed"
   },
   "outputs": [
    {
     "name": "stdout",
     "output_type": "stream",
     "text": [
      "airports: NOX sum=200318.8\n",
      "nonpt: NOX sum=379273.3\n",
      "nonroad: NOX sum=1429976\n",
      "np_oilgas: NOX sum=552620.8\n",
      "onroad: NOX sum=3385179\n",
      "onroad_ca_adj: NOX sum=242040\n",
      "rail: NOX sum=559434.1\n",
      "rwc: NOX sum=5132.402\n",
      "emln_cmv_c1c2_12: NOX sum=237988.9\n",
      "emln_cmv_c3_12: NOX sum=722493.1\n",
      "emln_ptegu: NOX sum=1663489\n",
      "emln_pt_oilgas_allinln: NOX sum=388324.2\n",
      "emln_ptnonipm_allinln: NOX sum=943837.9\n",
      "onroad_can: NOX sum=393278\n",
      "onroad_mex: NOX sum=431812.5\n",
      "othar: NOX sum=622058.2\n",
      "emln_othpt: NOX sum=994870.7\n",
      "ag: ISOP sum=978.8007\n",
      "airports: ISOP sum=1.419369\n",
      "nonpt: ISOP sum=218.2248\n",
      "nonroad: ISOP sum=2338.588\n",
      "np_oilgas: ISOP sum=1.136888\n",
      "onroad: ISOP sum=1043.125\n",
      "onroad_ca_adj: ISOP sum=58.88899\n",
      "rail: ISOP sum=46.63326\n",
      "rwc: ISOP sum=142.9435\n",
      "emln_cmv_c1c2_12: ISOP sum=89.2311\n",
      "emln_cmv_c3_12: ISOP sum=379.4391\n",
      "emln_ptegu: ISOP sum=1.533661\n",
      "emln_pt_oilgas_allinln: ISOP sum=5.552134\n",
      "emln_ptnonipm_allinln: ISOP sum=713.696\n",
      "onroad_can: ISOP sum=32.10104\n",
      "onroad_mex: ISOP sum=82.68775\n",
      "othar: ISOP sum=270.3851\n",
      "emln_othpt: ISOP sum=171.8899\n",
      "ag: TERP sum=5936.196\n",
      "airports: TERP sum=0\n",
      "nonpt: TERP sum=43811.52\n",
      "nonroad: TERP sum=20.93135\n",
      "np_oilgas: TERP sum=0\n",
      "onroad: TERP sum=147.5267\n",
      "onroad_ca_adj: TERP sum=9.393343\n",
      "rail: TERP sum=36.2176\n",
      "rwc: TERP sum=0\n",
      "emln_cmv_c1c2_12: TERP sum=0\n",
      "emln_cmv_c3_12: TERP sum=0\n",
      "emln_ptegu: TERP sum=31.68796\n",
      "emln_pt_oilgas_allinln: TERP sum=11.19433\n",
      "emln_ptnonipm_allinln: TERP sum=36188.91\n",
      "onroad_can: TERP sum=23.37438\n",
      "onroad_mex: TERP sum=5.088632\n",
      "othar: TERP sum=17297.12\n",
      "emln_othpt: TERP sum=5431.729\n"
     ]
    }
   ],
   "source": [
    "for key in 'NOX APIN BPIN ISOP SESQ TERP'.split():\n",
    "  for sector in include_sectors:\n",
    "    sfile = hemco2dfiles[sector]\n",
    "    if key not in sfile.variables:\n",
    "        continue\n",
    "    vals = sfile.variables[key][:]\n",
    "    print('{}: {} sum={:.7g}'.format(sector, key, (vals * area).sum() * 3600 * 24 * 366 * 0.00110231))\n"
   ]
  },
  {
   "cell_type": "markdown",
   "metadata": {
    "colab_type": "text",
    "id": "KQXkU3m9EzUM"
   },
   "source": [
    "# Plot Results\n",
    "\n",
    "* Always good to take a look at NOX\n",
    "* Showing 2D results\n",
    "* cmv c1, c2, c3 has international emissions, which explains the small emission masses in Canada.\n"
   ]
  },
  {
   "cell_type": "code",
   "execution_count": null,
   "metadata": {
    "colab": {
     "base_uri": "https://localhost:8080/",
     "height": 360
    },
    "colab_type": "code",
    "id": "vAcfidVKEztQ",
    "outputId": "3f705345-1fbc-4c6e-a619-9421cd5b0bfa"
   },
   "outputs": [
    {
     "name": "stderr",
     "output_type": "stream",
     "text": [
      "**PNC:/usr/local/lib/python3.6/dist-packages/PseudoNetCDF/pncwarn.py:24:UserWarning:\n",
      "  Bounds is an approximation assuming lon variable is cell centers\n",
      "**PNC:/usr/local/lib/python3.6/dist-packages/PseudoNetCDF/pncwarn.py:24:UserWarning:\n",
      "  Bounds is an approximation assuming lat variable is cell centers\n"
     ]
    },
    {
     "data": {
      "image/png": "[encoded data removed]",
      "text/plain": [
       "<Figure size 432x288 with 5 Axes>"
      ]
     },
     "metadata": {
      "needs_background": "light",
      "tags": []
     },
     "output_type": "display_data"
    }
   ],
   "source": [
    "spc = 'NOX'\n",
    "fig, axx = plt.subplots(2, 2, gridspec_kw=dict(bottom=0.15))\n",
    "cax = fig.add_axes([.1, .05, .8, .025])\n",
    "plotopts=dict(norm=mc.LogNorm())\n",
    "cbaropts = dict(cax=cax, orientation='horizontal')\n",
    "plt.sca(axx[0, 0])\n",
    "hemco2dmergedfiles['merge'].plot(spc, plottype='lon-lat', plot_kw=plotopts, cbar_kw=cbaropts)\n",
    "axx[0, 0].set_ylabel(\"total\")\n",
    "plt.sca(axx[1, 0])\n",
    "hemco2dmergedfiles['merge_areaonly'].plot(spc, plottype='lon-lat', plot_kw=plotopts, cbar_kw=cbaropts)\n",
    "axx[1, 0].set_ylabel('Gridded')\n",
    "plt.sca(axx[1, 1])\n",
    "hemco2dmergedfiles['merge_point'].plot(spc, plottype='lon-lat', plot_kw=plotopts, cbar_kw=cbaropts)\n",
    "axx[1, 1].set_ylabel('emln')\n",
    "axx[1, 1].yaxis.set_label_position(\"right\")\n",
    "plt.sca(axx[0, 1])\n",
    "hemco2dmergedfiles['merge_intl'].plot(spc, plottype='lon-lat', plot_kw=plotopts, cbar_kw=cbaropts)\n",
    "axx[0, 1].set_ylabel('intl')\n",
    "axx[0, 1].yaxis.set_label_position(\"right\")\n",
    "from mpl_toolkits.basemap import Basemap\n",
    "bmap = Basemap(llcrnrlat=20, llcrnrlon=-137.5, urcrnrlat=60, urcrnrlon=-50, resolution='c')\n",
    "for ax in axx.ravel():\n",
    "  bmap.drawcoastlines(ax=ax)\n",
    "  bmap.drawcountries(ax=ax)"
   ]
  },
  {
   "cell_type": "markdown",
   "metadata": {
    "colab_type": "text",
    "id": "eN4HL49xwQAc"
   },
   "source": [
    "# Vertical Allocation Table\n",
    "\n",
    "* Oversimplifying vertical allocation\n",
    "  * Similar to Simpson et al. 2003 Table 4.1, we apply a single representative allocation to each sector.\n",
    "  * Simpson D., Fagerli, H., Jonson, J. E., Tsyro, S., Wind, P., and Tuovinen, J.: \"Transboundary Acidification, Eutrophication, and Ground Level Ozone in Europe - Part I: Unified EMEP Model Description”, EMEP Status Report 2003, The  Norwegian Meteorological Institute, Oslo, 25 Norway, 2003. https://www.emep.int/publ/reports/2003/emep_report_1_part1_2003.pdf"
   ]
  },
  {
   "cell_type": "code",
   "execution_count": null,
   "metadata": {
    "colab": {},
    "colab_type": "code",
    "id": "oHzI-Ba9wQX1"
   },
   "outputs": [],
   "source": [
    "import pandas as pd\n",
    "import io\n",
    "\n",
    "vertical_allocation = pd.read_csv(io.StringIO(\"\"\"L,bottom_m,top_m,othpt,ptegu,ptnonipm,pt_oilgas,ptfire,cmv_c3\n",
    "1,-6,123,0.806067059,0.027331187,0.751204553,0.918700528,0.11976381,0.537538889\n",
    "2,123,254,0.087955253,0.12260809,0.144224191,0.059678397,0.098297847,0.338982929\n",
    "3,254,387,0.053252808,0.192017292,0.052822078,0.013323237,0.08277491,0.123478182\n",
    "4,387,521,0.025605531,0.212736741,0.023840537,0.003978944,0.074659995,0\n",
    "5,521,657,0.011408677,0.167549199,0.011000364,0.001724366,0.077561337,0\n",
    "6,657,795,0.005787852,0.110491495,0.005661267,0.001038275,0.073349589,0\n",
    "7,795,934,0.003758579,0.063653198,0.003165207,0.000633395,0.066694526,0\n",
    "8,934,1075,0.002673887,0.036979211,0.00197344,0.000387233,0.061845442,0\n",
    "9,1075,1218,0.001675656,0.022844579,0.001300664,0.000243355,0.058324971,0\n",
    "10,1218,1363,0.000670159,0.013909341,0.000861865,0.000122994,0.053902287,0\n",
    "11,1363,1510,0.000357644,0.008781226,0.000621856,6.48583E-05,0.044774262,0\n",
    "12,1510,1659,0.00022693,0.006647819,0.00052355,4.04985E-05,0.041122289,0\n",
    "13,1659,1860,0.000159139,0.004305749,0.000466642,2.12041E-05,0.0306914,0\n",
    "14,1860,2118,0.000152154,0.003380562,0.000680222,1.75333E-05,0.031529605,0\n",
    "15,2118,2382,0.000113674,0.001827346,0.000612964,1.03278E-05,0.02551535,0\n",
    "16,2382,2654,8.79442E-05,0.000957313,0.000260885,5.76406E-06,0.020748307,0\n",
    "17,2654,2932,3.14778E-05,0.000523901,0.000311535,3.23215E-06,0.014366484,0\n",
    "18,2932,3219,1.29957E-05,0.000381747,0.000231719,2.27428E-06,0.010906613,0\n",
    "19,3219,3665,1.37334E-06,0.000409744,0.000115745,1.78044E-06,0.009224629,0\n",
    "20,3665,4132,3.15633E-07,0.000340645,4.19637E-05,6.00909E-07,0.003409241,0\n",
    "21,4132,4623,3.71912E-07,0.00026689,1.84353E-05,4.14262E-07,0.00014894,0\n",
    "22,4623,5142,4.01952E-07,0.000231509,1.03385E-05,3.73296E-07,0.000125351,0\n",
    "23,5142,5692,1.17457E-07,0.000225471,9.11318E-06,3.01765E-07,8.76892E-05,0\n",
    "24,5692,6277,0,0.000310076,9.82452E-06,1.13299E-07,3.24343E-05,0\n",
    "25,6277,6905,0,0.000327088,1.07925E-05,0,3.0049E-05,0\n",
    "26,6905,7582,0,0.000260516,1.2311E-05,0,2.85539E-05,0\n",
    "27,7582,8320,0,0.000130502,4.58591E-06,0,2.08973E-05,0\n",
    "28,8320,9409,0,0.000119402,2.72213E-06,0,3.26732E-05,0\n",
    "29,9409,10504,0,0.000106184,6.30588E-07,0,1.74394E-05,0\n",
    "30,10504,11578,0,9.07766E-05,0,0,1.30783E-05,0\n",
    "31,11578,12633,0,0.000117164,0,0,0,0\n",
    "32,12633,13674,0,0.000122616,0,0,0,0\n",
    "33,13674,14706,0,1.54213E-05,0,0,0,0\n",
    "34,14706,15731,0,0,0,0,0,0\n",
    "35,15731,16753,0,0,0,0,0,0\n",
    "36,16753,17773,0,0,0,0,0,0\n",
    "37,17773,19855,0,0,0,0,0,0\n",
    "38,19855,22004,0,0,0,0,0,0\n",
    "39,22004,24240,0,0,0,0,0,0\n",
    "40,24240,26596,0,0,0,0,0,0\n",
    "41,26596,31716,0,0,0,0,0,0\n",
    "42,31716,37574,0,0,0,0,0,0\n",
    "43,37574,44286,0,0,0,0,0,0\n",
    "44,44286,51788,0,0,0,0,0,0\n",
    "45,51788,59924,0,0,0,0,0,0\n",
    "46,59924,68392,0,0,0,0,0,0\n",
    "47,68392,80581,0,0,0,0,0,0\n",
    "\"\"\")).set_index(['L'])"
   ]
  },
  {
   "cell_type": "markdown",
   "metadata": {
    "colab_type": "text",
    "id": "X_80ZE-8Wo9m"
   },
   "source": [
    "# Set a Maximum Number of Layers\n",
    "\n",
    "* Some layers have non-zero values up to layer 33\n",
    "  * This seems unreasonable.\n",
    "  * Simpson et al. 2003 had up to layer 11 in this vertical coordinate\n",
    "* Setting a maximum top layer of 11\n",
    "  * renormalizing mass within those 11 layers."
   ]
  },
  {
   "cell_type": "code",
   "execution_count": null,
   "metadata": {
    "colab": {},
    "colab_type": "code",
    "id": "gq0iWh30WnKJ"
   },
   "outputs": [],
   "source": [
    "nl = 11\n",
    "vertical_allocation_layers = vertical_allocation.loc[1:nl]\n",
    "vertical_allocation_layer_fraction = vertical_allocation_layers / vertical_allocation_layers.sum()"
   ]
  },
  {
   "cell_type": "markdown",
   "metadata": {
    "colab_type": "text",
    "id": "dySKYzxyIt71"
   },
   "source": [
    "# Apply Vertical Allocation\n",
    "\n",
    "* Map each smoke sector to a vertical allocation\n",
    "* Manually fixing meta data\n",
    "  * (hyai, hybi, and lev)\n",
    "  * renaming dimensions to ilev"
   ]
  },
  {
   "cell_type": "code",
   "execution_count": null,
   "metadata": {
    "colab": {
     "base_uri": "https://localhost:8080/",
     "height": 493
    },
    "colab_type": "code",
    "id": "lntssEqM59Ee",
    "outputId": "0d1bf50d-90f9-4e1b-f07d-50a203479e37"
   },
   "outputs": [
    {
     "name": "stdout",
     "output_type": "stream",
     "text": [
      "emln_cmv_c1c2_12 [0.53753889 0.33898293 0.12347818 0.         0.         0.\n",
      " 0.         0.         0.         0.         0.        ]\n",
      "emln_cmv_c1c2_12 3 [0.53753889 0.33898293 0.12347818]\n",
      "Start. output/2016fh_16j_emln_cmv_c1c2_12_0pt1degree_3D_month_07.ncf"
     ]
    },
    {
     "name": "stderr",
     "output_type": "stream",
     "text": [
      "<string>:6: DeprecationWarning: `np.alen` is deprecated, use `len` instead\n"
     ]
    },
    {
     "name": "stdout",
     "output_type": "stream",
     "text": [
      ".Complete\n",
      "emln_cmv_c3_12 [0.53753889 0.33898293 0.12347818 0.         0.         0.\n",
      " 0.         0.         0.         0.         0.        ]\n",
      "emln_cmv_c3_12 3 [0.53753889 0.33898293 0.12347818]\n",
      "Start. output/2016fh_16j_emln_cmv_c3_12_0pt1degree_3D_month_07.ncf.Complete\n",
      "emln_ptegu [0.02792026 0.12525068 0.19615588 0.21732189 0.17116042 0.11287294\n",
      " 0.06502513 0.03777623 0.02333695 0.01420913 0.00897049]\n",
      "emln_ptegu 11 [0.02792026 0.12525068 0.19615588 0.21732189 0.17116042 0.11287294\n",
      " 0.06502513 0.03777623 0.02333695 0.01420913 0.00897049]\n",
      "Start. output/2016fh_16j_emln_ptegu_0pt1degree_3D_month_07.ncf.Complete\n",
      "emln_pt_oilgas_allinln [9.18796467e-01 5.96846291e-02 1.33246283e-02 3.97935952e-03\n",
      " 1.72454607e-03 1.03838343e-03 6.33461145e-04 3.87273438e-04\n",
      " 2.43380413e-04 1.23006844e-04 6.48650731e-05]\n",
      "emln_pt_oilgas_allinln 11 [9.18796467e-01 5.96846291e-02 1.33246283e-02 3.97935952e-03\n",
      " 1.72454607e-03 1.03838343e-03 6.33461145e-04 3.87273438e-04\n",
      " 2.43380413e-04 1.23006844e-04 6.48650731e-05]\n",
      "Start. output/2016fh_16j_emln_pt_oilgas_allinln_0pt1degree_3D_month_07.ncf.Complete\n",
      "emln_ptnonipm_allinln [7.53709868e-01 1.44705188e-01 5.29982430e-02 2.39200467e-02\n",
      " 1.10370509e-02 5.68014769e-03 3.17576317e-03 1.98002155e-03\n",
      " 1.30500180e-03 8.64739375e-04 6.23929929e-04]\n",
      "emln_ptnonipm_allinln 11 [7.53709868e-01 1.44705188e-01 5.29982430e-02 2.39200467e-02\n",
      " 1.10370509e-02 5.68014769e-03 3.17576317e-03 1.98002155e-03\n",
      " 1.30500180e-03 8.64739375e-04 6.23929929e-04]\n",
      "Start. output/2016fh_16j_emln_ptnonipm_allinln_0pt1degree_3D_month_07.ncf.Complete\n"
     ]
    }
   ],
   "source": [
    "import gc\n",
    "\n",
    "\n",
    "sector2verticalallocation = {\n",
    "  'emln_cmv_c1c2_12': 'cmv_c3',\n",
    "  'emln_cmv_c3_12': 'cmv_c3',\n",
    "  'emln_othpt': 'othpt',\n",
    "  'emln_pt_oilgas_allinln': 'pt_oilgas',\n",
    "  'emln_ptegu': 'ptegu',\n",
    "  'emln_ptnonipm_allinln': 'ptnonipm'\n",
    "}\n",
    "\n",
    "for sector in ptonly_sectors + allinln_sectors:\n",
    "  gc.collect()\n",
    "  inpath = hemcotmpl(sector=sector, month=month)\n",
    "  outpath = inpath.replace('0pt1degree', '0pt1degree_3D')\n",
    "  origlayerfractions = vertical_allocation_layer_fraction[sector2verticalallocation[sector]].values\n",
    "  nl = (origlayerfractions == 0).argmax()\n",
    "  if nl == 0:\n",
    "    nl = len(origlayerfractions)\n",
    "  layerfractions = origlayerfractions[:nl]\n",
    "  layerfractions /= layerfractions.sum()\n",
    "  print(sector, origlayerfractions)\n",
    "  print(sector, nl, layerfractions)\n",
    "  print('Start.', outpath, end='')\n",
    "  if os.path.exists(outpath):\n",
    "    os.remove(outpath)\n",
    "  emln2df = pnc.pncopen(inpath, format='netcdf')\n",
    "  emln3df = emln2df.sliceDimensions(lev=[0] * nl).sliceDimensions(lev=[0] * nl)#.sliceDimensions(nhyi=[0] * (nl + 1))\n",
    "  for key, var in emln3df.variables.items():\n",
    "    if 'lev' in var.dimensions:\n",
    "      newshape = tuple([(slice(None) if dk == 'lev' else None) for dk in var.dimensions])\n",
    "      var[:] = var[:] * layerfractions[newshape]\n",
    "  # hyai = emln3df.variables['hyai'][:] = [\n",
    "  #   0.000000e+00, 4.804826e-02, 6.593752e+00, 1.313480e+01, 1.961311e+01, 2.609201e+01,\n",
    "  #   3.257081e+01, 3.898201e+01, 4.533901e+01, 5.169611e+01, 5.805321e+01, 6.436264e+01\n",
    "  # ][:nl+1]\n",
    "  # hybi = emln3df.variables['hybi'][:] = [\n",
    "  #   1.000000e+00, 9.849520e-01, 9.634060e-01, 9.418650e-01, 9.203870e-01, 8.989080e-01,\n",
    "  #   8.774290e-01, 8.560180e-01, 8.346609e-01, 8.133039e-01, 7.919469e-01, 7.706375e-01\n",
    "  # ][:nl+1]\n",
    "  # emln3df.variables['hybm'][:] = np.convolve([.5, .5], hybi, mode='valid')\n",
    "  # emln3df.variables['hyam'][:] = np.convolve([.5, .5], hyai, mode='valid')\n",
    "  lev = emln3df.createVariable('lev', 'd', ('lev',))\n",
    "  lev.long_name = \"GEOS-Chem levels\" ;\n",
    "  lev.standard_name = \"GEOS-Chem levels\" ;\n",
    "  lev.units = \"model level\" ;\n",
    "  lev.positive = \"up\" ;\n",
    "  lev[:] = np.arange(nl, dtype='i')\n",
    "  # Requires special treatment in variable definition\n",
    "  # to match geos-chem optimized chunking.\n",
    "  outnc = emln3df.copy(variables=False).save(outpath, verbose=0)\n",
    "  dimlens = {k: len(v) for k, v in emln3df.dimensions.items()}\n",
    "  chunksizes = dimlens.copy()\n",
    "  chunksizes['lev'] = 1\n",
    "  chunksizes['time'] = 1\n",
    "  for vark in emln3df.dimensions:\n",
    "    if vark not in emln3df.variables:\n",
    "        continue\n",
    "    var = emln3df.variables[vark]\n",
    "    opts = dict(complevel=0, chunksizes=tuple([dimlens[dk] for dk in var.dimensions]))\n",
    "    ovar = outnc.createVariable(vark, var.dtype.char, var.dimensions, **opts)\n",
    "    ovar.setncatts(var.getncatts())\n",
    "    ovar[:] = var[:]\n",
    "    \n",
    "  for vark, var in emln3df.variables.items():\n",
    "    if vark in emln3df.dimensions:\n",
    "        continue\n",
    "    opts = dict(complevel=1, chunksizes=tuple([chunksizes[dk] for dk in var.dimensions]))\n",
    "    ovar = outnc.createVariable(vark, var.dtype.char, var.dimensions, **opts)\n",
    "    ovar.setncatts(var.getncatts())\n",
    "    ovar[:] = var[:]\n",
    "    \n",
    "  outnc.close()\n",
    "  print('.Complete')"
   ]
  },
  {
   "cell_type": "markdown",
   "metadata": {
    "colab_type": "text",
    "id": "smeOloTaWAmR"
   },
   "source": [
    "# Now Do a Mass Conservation Check\n",
    "\n",
    "* Open the 3d file\n",
    "* Open the reference file\n",
    "* Sum the values and compare"
   ]
  },
  {
   "cell_type": "code",
   "execution_count": null,
   "metadata": {
    "colab": {
     "base_uri": "https://localhost:8080/",
     "height": 357
    },
    "colab_type": "code",
    "id": "F7CE-N006BGr",
    "outputId": "18623047-8661-4029-f2d2-9c18135b7d42"
   },
   "outputs": [
    {
     "name": "stdout",
     "output_type": "stream",
     "text": [
      "output/2016fh_16j_emln_cmv_c1c2_12_0pt1degree_month_07.ncf\n",
      "emln    1 lev NOX 6.9505617e-08 sum kgNO2/m2/s\n",
      "emln3d  3 lev NOX 6.9505596e-08 sum kgNO2/m2/s\n",
      "Within numerical precision True\n",
      "output/2016fh_16j_emln_cmv_c3_12_0pt1degree_month_07.ncf\n",
      "emln    1 lev NOX 2.0444861e-07 sum kgNO2/m2/s\n",
      "emln3d  3 lev NOX 2.0444861e-07 sum kgNO2/m2/s\n",
      "Within numerical precision True\n",
      "output/2016fh_16j_emln_pt_oilgas_allinln_0pt1degree_month_07.ncf\n",
      "emln    1 lev NOX 1.1133898e-07 sum kgNO2/m2/s\n",
      "emln3d 11 lev NOX 1.1133898e-07 sum kgNO2/m2/s\n",
      "Within numerical precision True\n",
      "output/2016fh_16j_emln_ptegu_0pt1degree_month_07.ncf\n",
      "emln    1 lev NOX 4.9024851e-07 sum kgNO2/m2/s\n",
      "emln3d 11 lev NOX 4.9024834e-07 sum kgNO2/m2/s\n",
      "Within numerical precision True\n",
      "output/2016fh_16j_emln_ptnonipm_allinln_0pt1degree_month_07.ncf\n",
      "emln    1 lev NOX 2.7838232e-07 sum kgNO2/m2/s\n",
      "emln3d 11 lev NOX 2.7838223e-07 sum kgNO2/m2/s\n",
      "Within numerical precision True\n"
     ]
    }
   ],
   "source": [
    "from glob import glob\n",
    "\n",
    "emln3dpaths = sorted(glob('output/*_3D_*.ncf'))\n",
    "for inpath in emln3dpaths:\n",
    "  refpath = inpath.replace('_3D', '')\n",
    "  f3d = pnc.pncopen(inpath)\n",
    "  fref = pnc.pncopen(refpath)\n",
    "  print(refpath)\n",
    "  print('emln   {:2d} lev NOX {:.7e} sum kgNO2/m2/s'.format(len(fref.dimensions['lev']), fref.variables['NOX'][:].sum()))\n",
    "  print('emln3d {:2d} lev NOX {:.7e} sum kgNO2/m2/s'.format(len(f3d.dimensions['lev']), f3d.variables['NOX'][:].sum()))\n",
    "  print('Within numerical precision', np.allclose(fref.variables['NOX'][:, 0], f3d.variables['NOX'][:].sum(1)))"
   ]
  },
  {
   "cell_type": "markdown",
   "metadata": {
    "colab_type": "text",
    "id": "qE8oeR0KWKXm"
   },
   "source": [
    "# Configure Translation from CMAQ to GEOS-Chem\n",
    "\n",
    "* Translation is not always 1:1\n",
    "* Apply scaling factors\n",
    "  * Diurnal scale factors (25, 26)\n",
    "  * Day of week (210-222)\n",
    "  * Split OC/EC (70-73)\n",
    "  * Convert NO kgNO2/m2/s to kgNO/m2/s (115)"
   ]
  },
  {
   "cell_type": "code",
   "execution_count": null,
   "metadata": {
    "colab": {},
    "colab_type": "code",
    "id": "rdB02KnUwKbN"
   },
   "outputs": [],
   "source": [
    "cq2gc = {\n",
    "    'ACET': [['ACET', '26/213/1007']],\n",
    "    'ALD2': [['ALD2', '26/213/1007']],\n",
    "    'ALDX': [['RCHO', '26/213/1007']],\n",
    "    'ACROLEIN': [['MACR', '26/213/1007']],\n",
    "    'BENZ': [['BENZ', '26/213/1007']],\n",
    "    'ECH4': [['CH4', '1007']],\n",
    "    'CL': [['Cl', '1007']],\n",
    "    'CL2': [['Cl2', '1007']],\n",
    "    'CLO': [['ClO', '1007']],\n",
    "    'CLNO2': [['ClNO2', '1007']],\n",
    "    'CLNO3': [['ClNO3', '1007']],\n",
    "    'CO': [['CO', '26/211/1007']],\n",
    "    'ETOH': [['EOH', '26/213/1007']],\n",
    "    'ETHA': [['C2H6', '26/217/1007']],\n",
    "    'ETH': [['C2H4', '26/213/1007']],\n",
    "    'FACD': [['HCOOH', '26/213/1007']],\n",
    "    'FORM': [['CH2O', '26/213/1007']],\n",
    "    'GLY': [['GLYX', '26/214/1007']], # Following MEK\n",
    "    'GLYD': [['GLYC', '26/214/1007']], # Following MEK\n",
    "    'HCL': [['HCl', '1007']],\n",
    "    'HOCL': [['HOCl', '1007']],\n",
    "    'HONO': [['HNO2', '25/210/1007']],\n",
    "    'HPLD': [['HPALD', '26/214/1007']], # Following MEK\n",
    "    'IOLE': [['PRPE', '26/215/1007']],\n",
    "    'KET': [['MEK', '26/214/1007']],\n",
    "    'MEPX': [['MP', '26/213/1007']], # Following MEOH\n",
    "    'MEOH': [['MOH', '26/213/1007']],\n",
    "    'NH3': [['NH3', '26/213/1007']],\n",
    "    'NO': [['NO', '115/25/210/1007']],\n",
    "    'NO2': [['NO2', '25/210/1007']],\n",
    "    'OLE': [['PRPE', '26/215/1007']],\n",
    "    'PACD': [['MAP', '26/213/1007']], # Following MEOH\n",
    "    'PAR': [['ALK4', '26/212/1007']],\n",
    "    'PNA': [['HNO4', '26/213/1007']], # Following MEOH\n",
    "    'PRPA': [['C3H8', '26/216/1007']],\n",
    "    'SO2': [['SO2', '26/218/1007']],\n",
    "    'SULF': [['SO4', '26/218/1007']],\n",
    "    'TOL': [['TOLU', '26/213/1007']],\n",
    "    'PEC': [['BCPI', '26/221/1007/70'], ['BCPO', '26/221/256/1007/71']],\n",
    "    'PFE': [['pFe', '26/219/1007']],\n",
    "    'POC': [['OCPI', '26/222/1007/72'], ['OCPO', '26/222/257/1007/73']],\n",
    "    'PNH4': [['NH4', '26/218/1007']], # need to confirm this\n",
    "    'PNO3': [['NIT', '26/218/1007']], # need to confirm this\n",
    "    'PSO4': [['SO4', '26/219/1007']],\n",
    "    'XYLMN': [['XYLE', '26/213/1007']],\n",
    "}\n",
    "# Ignore special species\n",
    "exec('ALD2_PRIMARY = FORM_PRIMARY = NH3_FERT = []', None, cq2gc)\n",
    "# ignore inventory meta variables\n",
    "exec('HFLUX = VOC_INV = VOC_BEIS = CO2_INV = N2O_INV = CH4_INV = []', None, cq2gc)\n",
    "# Ignore duplicative species\n",
    "# TOLU in TOL\n",
    "# NOX = NO + NO2 + HONO\n",
    "# CH4 in ECH4\n",
    "exec('CH4 = TOLU = NOX = []', None, cq2gc)\n",
    "# Ignore coordinate variables\n",
    "exec('hybm = hyam = []', None, cq2gc)\n",
    "# Ignore APIN, BPIN, and SESQ - they were from BEIS\n",
    "# and were removed\n",
    "exec('APIN = BPIN = SESQ = []', None, cq2gc)\n",
    "# ISOP and TERP are mostly biogenic, so igoring remainder\n",
    "exec('ISOP = TERP = []', None, cq2gc)\n",
    "# Ignore species GC doesn't have\n",
    "exec('BUTADIENE13 = ETHY = NAPH = []', None, cq2gc)\n",
    "# unreactive and nonvolatile are not used\n",
    "exec('UNK = UNR = NVOL = NR = []', None, cq2gc)\n",
    "# Ignore unused particulate species\n",
    "exec('SOAALK = PAL = PCA = PCL = PFE = PH2O = PK = PSI = PTI = []', None, cq2gc)\n",
    "exec('PM2_5 = PMC = PMG = PMN = PMOTHR = PNCOM = P = PCA = PCL = PFE = PH2O = PK = []', None, cq2gc)"
   ]
  },
  {
   "cell_type": "markdown",
   "metadata": {
    "colab_type": "text",
    "id": "2UWdbBbK1b71"
   },
   "source": [
    "# Define HEMCO_Config.rc Writer\n",
    "\n",
    "* Create a HEMCO_Config.rc that reads all included files\n",
    "* Only needed to be made once and editted to use $MM instead of 01..12\n"
   ]
  },
  {
   "cell_type": "code",
   "execution_count": null,
   "metadata": {
    "colab": {},
    "colab_type": "code",
    "id": "DMKAuJGDkEy8"
   },
   "outputs": [],
   "source": [
    "def changepathtopattern(path):\n",
    "  return '$ROOT/NEI2016fh/' + path.replace('month_' + month, 'month_$MM')\n",
    "\n",
    "def getsector(hcpath):\n",
    "    sector = hcpath.split('16j_')[1].split('_0pt')[0]\n",
    "    sector = sector.replace('emln_', '').replace('_allinln', '').replace('_12', '').replace('_adj', '').replace('cmv_', '')\n",
    "    sector = sector.replace('_oilgas', 'og')\n",
    "    return sector\n",
    "\n",
    "def writeconfig(sectors, outpath):\n",
    "    hcpaths = []\n",
    "    for sector in sectors:\n",
    "      hemco2dpath = hemcotmpl(sector=sector, month=month)\n",
    "      hemco3dpath = hemco2dpath.replace('0pt1degree', '0pt1degree_3D')\n",
    "      if os.path.exists(hemco3dpath):\n",
    "          hcpaths.append(hemco3dpath)\n",
    "      elif os.path.exists(hemco2dpath):\n",
    "          hcpaths.append(hemco2dpath)\n",
    "      else:\n",
    "          raise KeyError('Could not find regridded: ' + hemco2dpath)\n",
    "\n",
    "    defaults = set()\n",
    "    ignores = set()\n",
    "    with open(outpath, 'w') as hcf:\n",
    "        hcf.write('(((EPA2016_MONMEAN\\n')\n",
    "        for hcpath in hcpaths:\n",
    "            hcpatt = changepathtopattern(hcpath)\n",
    "            sector = getsector(hcpath)\n",
    "            print(sector, hcpatt, end='', flush=True)\n",
    "            hcfile = pnc.pncopen(hcpath, format='netcdf')\n",
    "            for cqkey, v in hcfile.variables.items():\n",
    "                if cqkey in hcfile.dimensions or cqkey in ('hyai', 'hybi'):\n",
    "                  continue\n",
    "                elif cqkey in ('TOLU',):\n",
    "                  warn('TOLU mass is duplicated by TOL')\n",
    "                if cqkey in cq2gc:\n",
    "                  gctrans = cq2gc.get(cqkey)\n",
    "                  if len(gctrans) == 0:\n",
    "                    ignores.add(cqkey)\n",
    "                else:\n",
    "                  defaults.add(cqkey)\n",
    "                  gctrans = [[cqkey, '1007']]\n",
    "                for gckey, scale in gctrans:\n",
    "                  if gckey in ['ACET', 'MEK', 'ALD2', 'PRPE', 'PRPA', 'BENZ', 'TOLU', 'XYLE', 'EOH', 'ALK4', 'ISOP']:\n",
    "                    units = 'kgC/m2/s'\n",
    "                  else:\n",
    "                    units = v.units.strip()\n",
    "                  opts = dict(\n",
    "                    unit=units,\n",
    "                    gckey=gckey,\n",
    "                    cqkey=cqkey,\n",
    "                    sector=sector,\n",
    "                    path=hcpatt,\n",
    "                    scale=scale,\n",
    "                    cat='1/2',\n",
    "                    hier=50\n",
    "                  )\n",
    "                  hcf.write('0 EPA16_{gckey}__{sector}{cqkey} {path}  {cqkey}       2016-2016/1-12/1/0 C xyz  {unit}  {gckey}   {scale}     {cat} {hier}\\n'.format(**opts))\n",
    "                  # If I use - to repeat the file, the mass is from the previous cqkey too.\n",
    "                  # hcpatt = '-'\n",
    "            print()\n",
    "        hcf.write(')))EPA2016_MONMEAN\\n')\n",
    "    print('Ignored', sorted(ignores))\n",
    "    print('Defaults', sorted(defaults))"
   ]
  },
  {
   "cell_type": "markdown",
   "metadata": {
    "colab_type": "text",
    "id": "4h095y251TYm"
   },
   "source": [
    "# Choose paths to use in HEMCO\n",
    "\n",
    "* hemco3d files take precedence\n",
    "* hemco2d are the default\n",
    "* Must have one or the other"
   ]
  },
  {
   "cell_type": "code",
   "execution_count": null,
   "metadata": {
    "colab": {
     "base_uri": "https://localhost:8080/",
     "height": 581
    },
    "colab_type": "code",
    "id": "9qupO6ha09S_",
    "outputId": "133c885c-a0cc-4fcc-ae5a-f46f6cff8ad1"
   },
   "outputs": [
    {
     "name": "stdout",
     "output_type": "stream",
     "text": [
      "afdust $ROOT/NEI2016fh/output/2016fh_16j_afdust_adj_0pt1degree_month_$MM.ncf\n",
      "ag $ROOT/NEI2016fh/output/2016fh_16j_ag_0pt1degree_month_$MM.ncf\n",
      "airports $ROOT/NEI2016fh/output/2016fh_16j_airports_0pt1degree_month_$MM.ncf\n",
      "nonpt $ROOT/NEI2016fh/output/2016fh_16j_nonpt_0pt1degree_month_$MM.ncf\n",
      "nonroad $ROOT/NEI2016fh/output/2016fh_16j_nonroad_0pt1degree_month_$MM.ncf\n",
      "npog $ROOT/NEI2016fh/output/2016fh_16j_np_oilgas_0pt1degree_month_$MM.ncf\n",
      "onroad $ROOT/NEI2016fh/output/2016fh_16j_onroad_0pt1degree_month_$MM.ncf\n",
      "onroad_ca $ROOT/NEI2016fh/output/2016fh_16j_onroad_ca_adj_0pt1degree_month_$MM.ncf\n",
      "rail $ROOT/NEI2016fh/output/2016fh_16j_rail_0pt1degree_month_$MM.ncf\n",
      "rwc $ROOT/NEI2016fh/output/2016fh_16j_rwc_0pt1degree_month_$MM.ncf\n",
      "c1c2 $ROOT/NEI2016fh/output/2016fh_16j_emln_cmv_c1c2_12_0pt1degree_3D_month_$MM.ncf\n",
      "c3 $ROOT/NEI2016fh/output/2016fh_16j_emln_cmv_c3_12_0pt1degree_3D_month_$MM.ncf\n",
      "ptegu $ROOT/NEI2016fh/output/2016fh_16j_emln_ptegu_0pt1degree_3D_month_$MM.ncf\n",
      "ptog $ROOT/NEI2016fh/output/2016fh_16j_emln_pt_oilgas_allinln_0pt1degree_3D_month_$MM.ncf\n",
      "ptnonipm $ROOT/NEI2016fh/output/2016fh_16j_emln_ptnonipm_allinln_0pt1degree_3D_month_$MM.ncf\n",
      "onroad_can $ROOT/NEI2016fh/output/2016fh_16j_onroad_can_0pt1degree_month_$MM.ncf\n",
      "onroad_mex $ROOT/NEI2016fh/output/2016fh_16j_onroad_mex_0pt1degree_month_$MM.ncf\n",
      "othafdust $ROOT/NEI2016fh/output/2016fh_16j_othafdust_adj_0pt1degree_month_$MM.ncf\n",
      "othar $ROOT/NEI2016fh/output/2016fh_16j_othar_0pt1degree_month_$MM.ncf\n",
      "othptdust $ROOT/NEI2016fh/output/2016fh_16j_othptdust_adj_0pt1degree_month_$MM.ncf\n",
      "othpt $ROOT/NEI2016fh/output/2016fh_16j_emln_othpt_0pt1degree_month_$MM.ncf\n",
      "Ignored ['ALD2_PRIMARY', 'BUTADIENE13', 'CH4', 'CH4_INV', 'CO2_INV', 'ETHY', 'FORM_PRIMARY', 'ISOP', 'N2O_INV', 'NAPH', 'NH3_FERT', 'NOX', 'NVOL', 'PAL', 'PCA', 'PCL', 'PFE', 'PH2O', 'PK', 'PM2_5', 'PMC', 'PMG', 'PMN', 'PMOTHR', 'PNCOM', 'PSI', 'PTI', 'SOAALK', 'TERP', 'UNK', 'UNR', 'VOC_INV', 'hyam', 'hybm']\n",
      "Defaults []\n",
      "merge_areaonly $ROOT/NEI2016fh/output/2016fh_16j_merge_areaonly_0pt1degree_month_$MM.ncf\n",
      "merge_intl $ROOT/NEI2016fh/output/2016fh_16j_merge_intl_0pt1degree_month_$MM.ncf\n",
      "c1c2 $ROOT/NEI2016fh/output/2016fh_16j_emln_cmv_c1c2_12_0pt1degree_3D_month_$MM.ncf\n",
      "c3 $ROOT/NEI2016fh/output/2016fh_16j_emln_cmv_c3_12_0pt1degree_3D_month_$MM.ncf\n",
      "ptegu $ROOT/NEI2016fh/output/2016fh_16j_emln_ptegu_0pt1degree_3D_month_$MM.ncf\n",
      "ptog $ROOT/NEI2016fh/output/2016fh_16j_emln_pt_oilgas_allinln_0pt1degree_3D_month_$MM.ncf\n",
      "ptnonipm $ROOT/NEI2016fh/output/2016fh_16j_emln_ptnonipm_allinln_0pt1degree_3D_month_$MM.ncf\n",
      "Ignored ['ALD2_PRIMARY', 'BUTADIENE13', 'CH4', 'CH4_INV', 'CO2_INV', 'ETHY', 'FORM_PRIMARY', 'ISOP', 'N2O_INV', 'NAPH', 'NH3_FERT', 'NOX', 'NVOL', 'PAL', 'PCA', 'PCL', 'PFE', 'PH2O', 'PK', 'PM2_5', 'PMC', 'PMG', 'PMN', 'PMOTHR', 'PNCOM', 'PSI', 'PTI', 'SOAALK', 'TERP', 'UNK', 'UNR', 'VOC_INV', 'hyam', 'hybm']\n",
      "Defaults []\n"
     ]
    }
   ],
   "source": [
    "writeconfig(include_sectors, 'output/EPA_Config.rc')\n",
    "writeconfig(['merge_areaonly', 'merge_intl'] + ptonly_sectors + allinln_sectors, 'output/EPAMERGED_Config.rc')"
   ]
  },
  {
   "cell_type": "markdown",
   "metadata": {
    "colab_type": "text",
    "id": "LYpjXX9C1sGI"
   },
   "source": [
    "# Review the HEMCO file"
   ]
  },
  {
   "cell_type": "code",
   "execution_count": null,
   "metadata": {
    "colab": {
     "base_uri": "https://localhost:8080/",
     "height": 71
    },
    "colab_type": "code",
    "id": "MAbrOz9GRISo",
    "outputId": "c822e6b4-d207-4e8c-e0c4-c1f942064b05"
   },
   "outputs": [
    {
     "name": "stderr",
     "output_type": "stream",
     "text": [
      "/usr/local/lib/python3.6/dist-packages/ipykernel/zmqshell.py:342: ResourceWarning: unclosed file <_io.TextIOWrapper name='output/EPA_Config.rc' mode='r' encoding='UTF-8'>\n",
      "  cont = open(arg_s).read()\n"
     ]
    }
   ],
   "source": [
    "less output/EPA_Config.rc"
   ]
  },
  {
   "cell_type": "markdown",
   "metadata": {
    "colab_type": "text",
    "id": "LaTjFrubKSQJ"
   },
   "source": [
    "# Summary\n",
    "\n",
    "You've created 3 important in the output folder.\n",
    "1. A 3D emln file with no fires.\n",
    "2. A 2D gridded file with no beis\n",
    "3. A HEMCO_Config.rc file\n",
    "\n",
    "The are two additional files that are just references:\n",
    "1. tot_nobeis_nofire is a refernce fo the expected total\n",
    "2. emln_nofire (non-3D)\n",
    "\n",
    "Download the output directory"
   ]
  },
  {
   "cell_type": "code",
   "execution_count": null,
   "metadata": {
    "colab": {
     "base_uri": "https://localhost:8080/",
     "height": 34
    },
    "colab_type": "code",
    "id": "oGEuYWx52A8-",
    "outputId": "fb7c3409-3b04-4669-a4a2-6e35f5ff46b1"
   },
   "outputs": [
    {
     "data": {
      "text/plain": [
       "0"
      ]
     },
     "execution_count": 141,
     "metadata": {
      "tags": []
     },
     "output_type": "execute_result"
    }
   ],
   "source": [
    "os.system('zip output.zip output/*')"
   ]
  },
  {
   "cell_type": "code",
   "execution_count": null,
   "metadata": {
    "colab": {
     "base_uri": "https://localhost:8080/",
     "height": 34
    },
    "colab_type": "code",
    "id": "7zu6iZ_tL1ru",
    "outputId": "98cf4c1b-c611-4798-ca24-45383b9cd4f5"
   },
   "outputs": [
    {
     "name": "stdout",
     "output_type": "stream",
     "text": [
      "-rw-r--r-- 1 root root 425M Jun 25 15:11 output.zip\n"
     ]
    }
   ],
   "source": [
    "ls -lh output.zip"
   ]
  },
  {
   "cell_type": "code",
   "execution_count": null,
   "metadata": {
    "colab": {},
    "colab_type": "code",
    "id": "tckTehkNSTf5"
   },
   "outputs": [],
   "source": []
  }
 ],
 "metadata": {
  "colab": {
   "collapsed_sections": [],
   "name": "GriddedEpa2GC.ipynb",
   "provenance": [],
   "toc_visible": true
  },
  "kernelspec": {
   "display_name": "Python 3",
   "language": "python",
   "name": "python3"
  },
  "language_info": {
   "codemirror_mode": {
    "name": "ipython",
    "version": 3
   },
   "file_extension": ".py",
   "mimetype": "text/x-python",
   "name": "python",
   "nbconvert_exporter": "python",
   "pygments_lexer": "ipython3",
   "version": "3.7.3"
  }
 },
 "nbformat": 4,
 "nbformat_minor": 4
}
